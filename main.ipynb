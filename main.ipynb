{
 "cells": [
  {
   "cell_type": "markdown",
   "metadata": {},
   "source": [
    "# Projeto Data Mining II - Colorectal Cancer"
   ]
  },
  {
   "cell_type": "markdown",
   "metadata": {},
   "source": [
    "## 1: Import libraries and Data"
   ]
  },
  {
   "cell_type": "code",
   "execution_count": 76,
   "metadata": {},
   "outputs": [],
   "source": [
    "# Import necessary libraries\n",
    "import pandas as pd\n",
    "import numpy as np\n",
    "import seaborn as sns\n",
    "import matplotlib.pyplot as plt\n",
    "%matplotlib inline\n"
   ]
  },
  {
   "cell_type": "code",
   "execution_count": 77,
   "metadata": {},
   "outputs": [],
   "source": [
    "# This script downloads a CSV file from a given URL and loads it into a pandas DataFrame.\n",
    "url = \"https://raw.githubusercontent.com/rgerc8/dm2-class-cancer/9bc81e82c839d3a4b14415d5bbd448452adad0f8/DM2%20Project%20Datasets/patient_train_data.csv\"\n",
    "df_original = pd.read_csv(url)\n",
    "df = df_original.copy()"
   ]
  },
  {
   "cell_type": "markdown",
   "metadata": {},
   "source": [
    "## 2: Exploratpry Data Analysis (EDA)"
   ]
  },
  {
   "cell_type": "code",
   "execution_count": 80,
   "metadata": {},
   "outputs": [
    {
     "data": {
      "text/plain": [
       "(75035, 32)"
      ]
     },
     "execution_count": 80,
     "metadata": {},
     "output_type": "execute_result"
    }
   ],
   "source": [
    "df.shape #(75035, 32)"
   ]
  },
  {
   "cell_type": "code",
   "execution_count": 81,
   "metadata": {},
   "outputs": [
    {
     "data": {
      "text/html": [
       "<div>\n",
       "<style scoped>\n",
       "    .dataframe tbody tr th:only-of-type {\n",
       "        vertical-align: middle;\n",
       "    }\n",
       "\n",
       "    .dataframe tbody tr th {\n",
       "        vertical-align: top;\n",
       "    }\n",
       "\n",
       "    .dataframe thead th {\n",
       "        text-align: right;\n",
       "    }\n",
       "</style>\n",
       "<table border=\"1\" class=\"dataframe\">\n",
       "  <thead>\n",
       "    <tr style=\"text-align: right;\">\n",
       "      <th></th>\n",
       "      <th>ID</th>\n",
       "      <th>Alcohol Consumption</th>\n",
       "      <th>Cancer Stage</th>\n",
       "      <th>Country</th>\n",
       "      <th>Date of Birth</th>\n",
       "      <th>Diabetes</th>\n",
       "      <th>Diabetes History</th>\n",
       "      <th>Diet Risk</th>\n",
       "      <th>Early Detection</th>\n",
       "      <th>Family History</th>\n",
       "      <th>...</th>\n",
       "      <th>Non Smoker</th>\n",
       "      <th>Obesity BMI</th>\n",
       "      <th>Physical Activity</th>\n",
       "      <th>Screening History</th>\n",
       "      <th>Smoking History</th>\n",
       "      <th>Transfusion History</th>\n",
       "      <th>Treatment Type</th>\n",
       "      <th>Tumor Size (mm)</th>\n",
       "      <th>Urban or Rural</th>\n",
       "      <th>Survival Prediction</th>\n",
       "    </tr>\n",
       "  </thead>\n",
       "  <tbody>\n",
       "    <tr>\n",
       "      <th>0</th>\n",
       "      <td>1</td>\n",
       "      <td>No</td>\n",
       "      <td>Localized</td>\n",
       "      <td>UK</td>\n",
       "      <td>29-01-1966</td>\n",
       "      <td>No</td>\n",
       "      <td>No</td>\n",
       "      <td>Moderate</td>\n",
       "      <td>No</td>\n",
       "      <td>No</td>\n",
       "      <td>...</td>\n",
       "      <td>Yes</td>\n",
       "      <td>Overweight</td>\n",
       "      <td>Low</td>\n",
       "      <td>Regular</td>\n",
       "      <td>No</td>\n",
       "      <td>-</td>\n",
       "      <td>Chemotherapy</td>\n",
       "      <td>33.0</td>\n",
       "      <td>Urban</td>\n",
       "      <td>Yes</td>\n",
       "    </tr>\n",
       "    <tr>\n",
       "      <th>1</th>\n",
       "      <td>2</td>\n",
       "      <td>No</td>\n",
       "      <td>Regional</td>\n",
       "      <td>Japan</td>\n",
       "      <td>21-12-1958</td>\n",
       "      <td>No</td>\n",
       "      <td>No</td>\n",
       "      <td>Low</td>\n",
       "      <td>No</td>\n",
       "      <td>No</td>\n",
       "      <td>...</td>\n",
       "      <td>No</td>\n",
       "      <td>Normal</td>\n",
       "      <td>Low</td>\n",
       "      <td>Irregular</td>\n",
       "      <td>Yes</td>\n",
       "      <td>-</td>\n",
       "      <td>Chemotherapy</td>\n",
       "      <td>17.0</td>\n",
       "      <td>Urban</td>\n",
       "      <td>No</td>\n",
       "    </tr>\n",
       "    <tr>\n",
       "      <th>2</th>\n",
       "      <td>3</td>\n",
       "      <td>No</td>\n",
       "      <td>Localized</td>\n",
       "      <td>France</td>\n",
       "      <td>16-06-1959</td>\n",
       "      <td>No</td>\n",
       "      <td>No</td>\n",
       "      <td>Low</td>\n",
       "      <td>Yes</td>\n",
       "      <td>No</td>\n",
       "      <td>...</td>\n",
       "      <td>No</td>\n",
       "      <td>Normal</td>\n",
       "      <td>Moderate</td>\n",
       "      <td>Never</td>\n",
       "      <td>Yes</td>\n",
       "      <td>-</td>\n",
       "      <td>Surgery</td>\n",
       "      <td>34.0</td>\n",
       "      <td>Urban</td>\n",
       "      <td>Yes</td>\n",
       "    </tr>\n",
       "    <tr>\n",
       "      <th>3</th>\n",
       "      <td>4</td>\n",
       "      <td>Yes</td>\n",
       "      <td>Localized</td>\n",
       "      <td>Japan</td>\n",
       "      <td>18-01-1956</td>\n",
       "      <td>Yes</td>\n",
       "      <td>No</td>\n",
       "      <td>Moderate</td>\n",
       "      <td>No</td>\n",
       "      <td>No</td>\n",
       "      <td>...</td>\n",
       "      <td>Yes</td>\n",
       "      <td>Obese</td>\n",
       "      <td>Low</td>\n",
       "      <td>Regular</td>\n",
       "      <td>No</td>\n",
       "      <td>-</td>\n",
       "      <td>Radiotherapy</td>\n",
       "      <td>71.0</td>\n",
       "      <td>Urban</td>\n",
       "      <td>No</td>\n",
       "    </tr>\n",
       "    <tr>\n",
       "      <th>4</th>\n",
       "      <td>5</td>\n",
       "      <td>No</td>\n",
       "      <td>Regional</td>\n",
       "      <td>USA</td>\n",
       "      <td>04-05-1975</td>\n",
       "      <td>No</td>\n",
       "      <td>No</td>\n",
       "      <td>Moderate</td>\n",
       "      <td>Yes</td>\n",
       "      <td>Yes</td>\n",
       "      <td>...</td>\n",
       "      <td>Yes</td>\n",
       "      <td>Overweight</td>\n",
       "      <td>Low</td>\n",
       "      <td>Regular</td>\n",
       "      <td>No</td>\n",
       "      <td>-</td>\n",
       "      <td>Radiotherapy</td>\n",
       "      <td>48.0</td>\n",
       "      <td>Rural</td>\n",
       "      <td>Yes</td>\n",
       "    </tr>\n",
       "  </tbody>\n",
       "</table>\n",
       "<p>5 rows × 32 columns</p>\n",
       "</div>"
      ],
      "text/plain": [
       "   ID Alcohol Consumption Cancer Stage Country Date of Birth Diabetes  \\\n",
       "0   1                  No    Localized      UK    29-01-1966       No   \n",
       "1   2                  No     Regional   Japan    21-12-1958       No   \n",
       "2   3                  No    Localized  France    16-06-1959       No   \n",
       "3   4                 Yes    Localized   Japan    18-01-1956      Yes   \n",
       "4   5                  No     Regional     USA    04-05-1975       No   \n",
       "\n",
       "  Diabetes History Diet Risk Early Detection Family History  ... Non Smoker  \\\n",
       "0               No  Moderate              No             No  ...        Yes   \n",
       "1               No       Low              No             No  ...         No   \n",
       "2               No       Low             Yes             No  ...         No   \n",
       "3               No  Moderate              No             No  ...        Yes   \n",
       "4               No  Moderate             Yes            Yes  ...        Yes   \n",
       "\n",
       "  Obesity BMI Physical Activity  Screening History Smoking History  \\\n",
       "0  Overweight               Low            Regular              No   \n",
       "1      Normal               Low          Irregular             Yes   \n",
       "2      Normal          Moderate              Never             Yes   \n",
       "3       Obese               Low            Regular              No   \n",
       "4  Overweight               Low            Regular              No   \n",
       "\n",
       "  Transfusion History  Treatment Type Tumor Size (mm) Urban or Rural  \\\n",
       "0                   -    Chemotherapy            33.0          Urban   \n",
       "1                   -    Chemotherapy            17.0          Urban   \n",
       "2                   -         Surgery            34.0          Urban   \n",
       "3                   -    Radiotherapy            71.0          Urban   \n",
       "4                   -    Radiotherapy            48.0          Rural   \n",
       "\n",
       "  Survival Prediction  \n",
       "0                 Yes  \n",
       "1                  No  \n",
       "2                 Yes  \n",
       "3                  No  \n",
       "4                 Yes  \n",
       "\n",
       "[5 rows x 32 columns]"
      ]
     },
     "execution_count": 81,
     "metadata": {},
     "output_type": "execute_result"
    }
   ],
   "source": [
    "df.head(5)\n",
    "#df.tail(5)\n",
    "#df.describe().T\n",
    "#df.describe(include = ['O']).T\n",
    "#df.info()\n",
    "#df.columns\n",
    "#df.isna().sum()"
   ]
  },
  {
   "cell_type": "code",
   "execution_count": null,
   "metadata": {},
   "outputs": [],
   "source": [
    "'''\n",
    "df_numeric = df.select_dtypes(include='number')\n",
    "\n",
    "for column in df_numeric.columns:\n",
    "    plt.figure(figsize=(6, 4))\n",
    "    sns.boxplot(y=df_numeric[column])\n",
    "    plt.title(f'Boxplot of {column}')\n",
    "    plt.tight_layout()\n",
    "    plt.show()\n",
    "'''"
   ]
  },
  {
   "cell_type": "code",
   "execution_count": null,
   "metadata": {},
   "outputs": [
    {
     "data": {
      "text/plain": [
       "(75035, 31)"
      ]
     },
     "execution_count": 73,
     "metadata": {},
     "output_type": "execute_result"
    }
   ],
   "source": [
    "df.drop(columns=['Marital Status'], inplace=True)\n",
    "dfRows_no_missing = df.dropna()\n",
    "print(\"The number of rows in the original insurance dataset is\", df.shape[0])\n",
    "print(\"The number of rows in the insurance dataset with no missing values is\", dfRows_no_missing.shape[0])\n",
    "print(\"There were\", df.shape[0]-dfRows_no_missing.shape[0], \"rows containing missing values.\")\n"
   ]
  },
  {
   "cell_type": "code",
   "execution_count": 64,
   "metadata": {},
   "outputs": [
    {
     "name": "stdout",
     "output_type": "stream",
     "text": [
      "5\n",
      "['High' 'Moderate' 'Low' '?' nan]\n",
      "Healthcare Access\n",
      "Moderate    37197\n",
      "High        22639\n",
      "Low         15120\n",
      "?              16\n",
      "Name: count, dtype: int64\n",
      "63\n"
     ]
    }
   ],
   "source": [
    "variavel = 'Healthcare Access'\n",
    "\n",
    "print(len(df[variavel].unique()))\n",
    "print(df[variavel].unique())\n",
    "print(df[variavel].value_counts())\n",
    "print(df[variavel].isna().sum())"
   ]
  },
  {
   "cell_type": "code",
   "execution_count": 44,
   "metadata": {},
   "outputs": [
    {
     "name": "stdout",
     "output_type": "stream",
     "text": [
      "          ID Alcohol Consumption Cancer Stage       Country Date of Birth  \\\n",
      "0          1                  No    Localized            UK    29-01-1966   \n",
      "1          2                  No     Regional         Japan    21-12-1958   \n",
      "2          3                  No    Localized        France    16-06-1959   \n",
      "3          4                 Yes    Localized         Japan    18-01-1956   \n",
      "4          5                  No     Regional           USA    04-05-1975   \n",
      "...      ...                 ...          ...           ...           ...   \n",
      "75030  75031                 Yes    Localized         Italy    06-07-1972   \n",
      "75031  75032                 Yes    Localized           USA    28-11-1954   \n",
      "75032  75033                 Yes   Metastatic   South Korea    27-04-1963   \n",
      "75033  75034                  No    Localized  South Africa    22-12-1951   \n",
      "75034  75035                 Yes     Regional        France    23-07-1948   \n",
      "\n",
      "      Diabetes Diabetes History Diet Risk Early Detection Family History  \n",
      "0           No               No  Moderate              No             No  \n",
      "1           No               No       Low              No             No  \n",
      "2           No               No       Low             Yes             No  \n",
      "3          Yes               No  Moderate              No             No  \n",
      "4           No               No  Moderate             Yes            Yes  \n",
      "...        ...              ...       ...             ...            ...  \n",
      "75030       No               No      High              No             No  \n",
      "75031       No               No       Low             Yes             No  \n",
      "75032       No               No  Moderate             Yes            Yes  \n",
      "75033       No               No      High             Yes             No  \n",
      "75034       No               No  Moderate              No            Yes  \n",
      "\n",
      "[75035 rows x 10 columns]\n"
     ]
    }
   ],
   "source": [
    "print(df.iloc[:, :10])"
   ]
  },
  {
   "cell_type": "code",
   "execution_count": 47,
   "metadata": {},
   "outputs": [
    {
     "name": "stdout",
     "output_type": "stream",
     "text": [
      "      Gender Genetic Mutation Healthcare Access  Healthcare Costs  \\\n",
      "0          M               No              High           76553.0   \n",
      "1          M               No          Moderate           62805.0   \n",
      "2          M               No              High           66425.0   \n",
      "3          M               No          Moderate           82764.0   \n",
      "4          M               No               Low           47269.0   \n",
      "...      ...              ...               ...               ...   \n",
      "75030      M               No          Moderate           70574.0   \n",
      "75031      M               No          Moderate           77430.0   \n",
      "75032      M               No          Moderate          104820.0   \n",
      "75033      F               No          Moderate          108752.0   \n",
      "75034      M               No              High           68624.0   \n",
      "\n",
      "      Heart Disease History Hypertension  \n",
      "0                        No          Yes  \n",
      "1                        No           No  \n",
      "2                        No           No  \n",
      "3                        No           No  \n",
      "4                        No           No  \n",
      "...                     ...          ...  \n",
      "75030                   Yes           No  \n",
      "75031                    No           No  \n",
      "75032                    No          Yes  \n",
      "75033                    No          Yes  \n",
      "75034                    No           No  \n",
      "\n",
      "[75035 rows x 6 columns]\n"
     ]
    }
   ],
   "source": [
    "print(df.iloc[:, 10:16])"
   ]
  },
  {
   "cell_type": "code",
   "execution_count": 48,
   "metadata": {},
   "outputs": [
    {
     "name": "stdout",
     "output_type": "stream",
     "text": [
      "       Incidence Rate per 100K Inflammatory Bowel Disease Insurance Costs  \\\n",
      "0                         37.0                         No           Basic   \n",
      "1                         54.0                        Yes    No insurance   \n",
      "2                         15.0                        Yes        Extended   \n",
      "3                         41.0                        Yes           Basic   \n",
      "4                         23.0                         No           Basic   \n",
      "...                        ...                        ...             ...   \n",
      "75030                     58.0                         No    No insurance   \n",
      "75031                     52.0                         No    No insurance   \n",
      "75032                     44.0                         No           Basic   \n",
      "75033                     32.0                         No    No insurance   \n",
      "75034                     24.0                         No           Basic   \n",
      "\n",
      "      Insurance Status  Marital Status  Mortality Rate per 100K  \n",
      "0            Uninsured             NaN                     25.0  \n",
      "1            Uninsured             NaN                     27.0  \n",
      "2              Insured             NaN                     27.0  \n",
      "3            Uninsured             NaN                     19.0  \n",
      "4              Insured             NaN                     11.0  \n",
      "...                ...             ...                      ...  \n",
      "75030          Insured             NaN                     10.0  \n",
      "75031        Uninsured             NaN                     29.0  \n",
      "75032          Insured             NaN                     22.0  \n",
      "75033          Insured             NaN                     17.0  \n",
      "75034          Insured             NaN                     20.0  \n",
      "\n",
      "[75035 rows x 6 columns]\n"
     ]
    }
   ],
   "source": [
    "print(df.iloc[:, 16:22])"
   ]
  },
  {
   "cell_type": "code",
   "execution_count": 49,
   "metadata": {},
   "outputs": [
    {
     "name": "stdout",
     "output_type": "stream",
     "text": [
      "      Non Smoker Obesity BMI Physical Activity Screening History  \\\n",
      "0            Yes  Overweight               Low           Regular   \n",
      "1             No      Normal               Low         Irregular   \n",
      "2             No      Normal          Moderate             Never   \n",
      "3            Yes       Obese               Low           Regular   \n",
      "4            Yes  Overweight               Low           Regular   \n",
      "...          ...         ...               ...               ...   \n",
      "75030        Yes       Obese          Moderate           Regular   \n",
      "75031        Yes  Overweight          Moderate           Regular   \n",
      "75032        Yes       Obese               Low           Regular   \n",
      "75033        Yes       Obese               Low             Never   \n",
      "75034        Yes  Overweight              High         Irregular   \n",
      "\n",
      "      Smoking History Transfusion History  \n",
      "0                  No                   -  \n",
      "1                 Yes                   -  \n",
      "2                 Yes                   -  \n",
      "3                  No                   -  \n",
      "4                  No                   -  \n",
      "...               ...                 ...  \n",
      "75030              No                   -  \n",
      "75031              No                   -  \n",
      "75032              No                   -  \n",
      "75033              No                   -  \n",
      "75034              No                   -  \n",
      "\n",
      "[75035 rows x 6 columns]\n"
     ]
    }
   ],
   "source": [
    "print(df.iloc[:, 22:28])"
   ]
  },
  {
   "cell_type": "code",
   "execution_count": 50,
   "metadata": {},
   "outputs": [
    {
     "name": "stdout",
     "output_type": "stream",
     "text": [
      "      Treatment Type  Tumor Size (mm) Urban or Rural Survival Prediction\n",
      "0       Chemotherapy             33.0          Urban                 Yes\n",
      "1       Chemotherapy             17.0          Urban                  No\n",
      "2            Surgery             34.0          Urban                 Yes\n",
      "3       Radiotherapy             71.0          Urban                  No\n",
      "4       Radiotherapy             48.0          Rural                 Yes\n",
      "...              ...              ...            ...                 ...\n",
      "75030   Chemotherapy             42.0          Urban                  No\n",
      "75031   Chemotherapy             38.0          Urban                  No\n",
      "75032        Surgery             60.0            NaN                 Yes\n",
      "75033        Surgery             50.0          Rural                 Yes\n",
      "75034    Combination             41.0          Urban                  No\n",
      "\n",
      "[75035 rows x 4 columns]\n"
     ]
    }
   ],
   "source": [
    "print(df.iloc[:, 28:])"
   ]
  },
  {
   "cell_type": "code",
   "execution_count": null,
   "metadata": {},
   "outputs": [],
   "source": [
    "column_list = ['Alcohol Consumption', 'Cancer Stage', 'Country',\n",
    "       'Diabetes', 'Diabetes History', 'Diet Risk', 'Early Detection',\n",
    "       'Family History', 'Gender', 'Genetic Mutation', 'Healthcare Access',\n",
    "       'Healthcare Costs', 'Heart Disease History', 'Hypertension',\n",
    "       'Incidence Rate per 100K', 'Inflammatory Bowel Disease',\n",
    "       'Insurance Costs', 'Insurance Status', 'Marital Status',\n",
    "       'Mortality Rate per 100K', 'Non Smoker', 'Obesity BMI',\n",
    "       'Physical Activity', 'Screening History', 'Smoking History',\n",
    "       'Transfusion History', 'Treatment Type', 'Tumor Size (mm)',\n",
    "       'Urban or Rural', 'Survival Prediction']\n",
    "\n",
    "def inspect_columns_as_series(df, column_list):\n",
    "    data = {}\n",
    "    for column in column_list:\n",
    "        unique_vals = df[column].unique()\n",
    "        value_counts = df[column].value_counts(dropna=False).to_dict()\n",
    "        nan_count = df[column].isna().sum()\n",
    "\n",
    "        data[(column, 'Unique Values')] = unique_vals\n",
    "        data[(column, 'Value Counts')] = value_counts\n",
    "        data[(column, 'NaN Count')] = nan_count\n",
    "\n",
    "    return pd.Series(data)"
   ]
  },
  {
   "cell_type": "code",
   "execution_count": 16,
   "metadata": {},
   "outputs": [
    {
     "data": {
      "text/plain": [
       "ID                         0.000000\n",
       "Healthcare Costs          -0.001733\n",
       "Incidence Rate per 100K    0.027104\n",
       "Marital Status                  NaN\n",
       "Mortality Rate per 100K   -0.005866\n",
       "Tumor Size (mm)            0.021154\n",
       "dtype: float64"
      ]
     },
     "execution_count": 16,
     "metadata": {},
     "output_type": "execute_result"
    }
   ],
   "source": [
    "df.skew(numeric_only=True)"
   ]
  },
  {
   "cell_type": "code",
   "execution_count": 18,
   "metadata": {},
   "outputs": [
    {
     "data": {
      "text/plain": [
       "ID                        -1.200000\n",
       "Healthcare Costs          -1.086328\n",
       "Incidence Rate per 100K   -1.075704\n",
       "Marital Status                  NaN\n",
       "Mortality Rate per 100K   -1.158039\n",
       "Tumor Size (mm)           -1.093692\n",
       "dtype: float64"
      ]
     },
     "execution_count": 18,
     "metadata": {},
     "output_type": "execute_result"
    }
   ],
   "source": [
    "df.kurtosis(numeric_only=True)"
   ]
  },
  {
   "cell_type": "code",
   "execution_count": 19,
   "metadata": {},
   "outputs": [
    {
     "data": {
      "text/html": [
       "<div>\n",
       "<style scoped>\n",
       "    .dataframe tbody tr th:only-of-type {\n",
       "        vertical-align: middle;\n",
       "    }\n",
       "\n",
       "    .dataframe tbody tr th {\n",
       "        vertical-align: top;\n",
       "    }\n",
       "\n",
       "    .dataframe thead th {\n",
       "        text-align: right;\n",
       "    }\n",
       "</style>\n",
       "<table border=\"1\" class=\"dataframe\">\n",
       "  <thead>\n",
       "    <tr style=\"text-align: right;\">\n",
       "      <th></th>\n",
       "      <th>ID</th>\n",
       "      <th>Healthcare Costs</th>\n",
       "      <th>Incidence Rate per 100K</th>\n",
       "      <th>Marital Status</th>\n",
       "      <th>Mortality Rate per 100K</th>\n",
       "      <th>Tumor Size (mm)</th>\n",
       "    </tr>\n",
       "  </thead>\n",
       "  <tbody>\n",
       "    <tr>\n",
       "      <th>ID</th>\n",
       "      <td>1.000000</td>\n",
       "      <td>0.002549</td>\n",
       "      <td>0.003406</td>\n",
       "      <td>NaN</td>\n",
       "      <td>0.003539</td>\n",
       "      <td>-0.001101</td>\n",
       "    </tr>\n",
       "    <tr>\n",
       "      <th>Healthcare Costs</th>\n",
       "      <td>0.002549</td>\n",
       "      <td>1.000000</td>\n",
       "      <td>0.003471</td>\n",
       "      <td>NaN</td>\n",
       "      <td>-0.003858</td>\n",
       "      <td>0.000513</td>\n",
       "    </tr>\n",
       "    <tr>\n",
       "      <th>Incidence Rate per 100K</th>\n",
       "      <td>0.003406</td>\n",
       "      <td>0.003471</td>\n",
       "      <td>1.000000</td>\n",
       "      <td>NaN</td>\n",
       "      <td>0.003927</td>\n",
       "      <td>0.000228</td>\n",
       "    </tr>\n",
       "    <tr>\n",
       "      <th>Marital Status</th>\n",
       "      <td>NaN</td>\n",
       "      <td>NaN</td>\n",
       "      <td>NaN</td>\n",
       "      <td>NaN</td>\n",
       "      <td>NaN</td>\n",
       "      <td>NaN</td>\n",
       "    </tr>\n",
       "    <tr>\n",
       "      <th>Mortality Rate per 100K</th>\n",
       "      <td>0.003539</td>\n",
       "      <td>-0.003858</td>\n",
       "      <td>0.003927</td>\n",
       "      <td>NaN</td>\n",
       "      <td>1.000000</td>\n",
       "      <td>-0.000756</td>\n",
       "    </tr>\n",
       "    <tr>\n",
       "      <th>Tumor Size (mm)</th>\n",
       "      <td>-0.001101</td>\n",
       "      <td>0.000513</td>\n",
       "      <td>0.000228</td>\n",
       "      <td>NaN</td>\n",
       "      <td>-0.000756</td>\n",
       "      <td>1.000000</td>\n",
       "    </tr>\n",
       "  </tbody>\n",
       "</table>\n",
       "</div>"
      ],
      "text/plain": [
       "                               ID  Healthcare Costs  Incidence Rate per 100K  \\\n",
       "ID                       1.000000          0.002549                 0.003406   \n",
       "Healthcare Costs         0.002549          1.000000                 0.003471   \n",
       "Incidence Rate per 100K  0.003406          0.003471                 1.000000   \n",
       "Marital Status                NaN               NaN                      NaN   \n",
       "Mortality Rate per 100K  0.003539         -0.003858                 0.003927   \n",
       "Tumor Size (mm)         -0.001101          0.000513                 0.000228   \n",
       "\n",
       "                         Marital Status  Mortality Rate per 100K  \\\n",
       "ID                                  NaN                 0.003539   \n",
       "Healthcare Costs                    NaN                -0.003858   \n",
       "Incidence Rate per 100K             NaN                 0.003927   \n",
       "Marital Status                      NaN                      NaN   \n",
       "Mortality Rate per 100K             NaN                 1.000000   \n",
       "Tumor Size (mm)                     NaN                -0.000756   \n",
       "\n",
       "                         Tumor Size (mm)  \n",
       "ID                             -0.001101  \n",
       "Healthcare Costs                0.000513  \n",
       "Incidence Rate per 100K         0.000228  \n",
       "Marital Status                       NaN  \n",
       "Mortality Rate per 100K        -0.000756  \n",
       "Tumor Size (mm)                 1.000000  "
      ]
     },
     "execution_count": 19,
     "metadata": {},
     "output_type": "execute_result"
    }
   ],
   "source": [
    "df.corr(method='pearson', numeric_only=True)"
   ]
  },
  {
   "cell_type": "code",
   "execution_count": 21,
   "metadata": {},
   "outputs": [
    {
     "data": {
      "text/plain": [
       "<Axes: >"
      ]
     },
     "execution_count": 21,
     "metadata": {},
     "output_type": "execute_result"
    },
    {
     "data": {
      "image/png": "[encoded data removed]",
      "text/plain": [
       "<Figure size 640x480 with 2 Axes>"
      ]
     },
     "metadata": {},
     "output_type": "display_data"
    }
   ],
   "source": [
    "#sns.heatmap(df.corr(), annot=True, cmap='coolwarm', center=0)\n",
    "sns.heatmap(df.select_dtypes(include='number').corr(), annot=True, cmap='coolwarm', center=0)\n"
   ]
  },
  {
   "cell_type": "code",
   "execution_count": 33,
   "metadata": {},
   "outputs": [
    {
     "data": {
      "text/html": [
       "<div>\n",
       "<style scoped>\n",
       "    .dataframe tbody tr th:only-of-type {\n",
       "        vertical-align: middle;\n",
       "    }\n",
       "\n",
       "    .dataframe tbody tr th {\n",
       "        vertical-align: top;\n",
       "    }\n",
       "\n",
       "    .dataframe thead th {\n",
       "        text-align: right;\n",
       "    }\n",
       "</style>\n",
       "<table border=\"1\" class=\"dataframe\">\n",
       "  <thead>\n",
       "    <tr style=\"text-align: right;\">\n",
       "      <th>Diabetes History</th>\n",
       "      <th>No</th>\n",
       "      <th>Yes</th>\n",
       "      <th>All</th>\n",
       "    </tr>\n",
       "    <tr>\n",
       "      <th>Cancer Stage</th>\n",
       "      <th></th>\n",
       "      <th></th>\n",
       "      <th></th>\n",
       "    </tr>\n",
       "  </thead>\n",
       "  <tbody>\n",
       "    <tr>\n",
       "      <th>Localized</th>\n",
       "      <td>29817</td>\n",
       "      <td>3</td>\n",
       "      <td>29820</td>\n",
       "    </tr>\n",
       "    <tr>\n",
       "      <th>Metastatic</th>\n",
       "      <td>15319</td>\n",
       "      <td>1</td>\n",
       "      <td>15320</td>\n",
       "    </tr>\n",
       "    <tr>\n",
       "      <th>Regional</th>\n",
       "      <td>29876</td>\n",
       "      <td>6</td>\n",
       "      <td>29882</td>\n",
       "    </tr>\n",
       "    <tr>\n",
       "      <th>All</th>\n",
       "      <td>75012</td>\n",
       "      <td>10</td>\n",
       "      <td>75022</td>\n",
       "    </tr>\n",
       "  </tbody>\n",
       "</table>\n",
       "</div>"
      ],
      "text/plain": [
       "Diabetes History     No  Yes    All\n",
       "Cancer Stage                       \n",
       "Localized         29817    3  29820\n",
       "Metastatic        15319    1  15320\n",
       "Regional          29876    6  29882\n",
       "All               75012   10  75022"
      ]
     },
     "execution_count": 33,
     "metadata": {},
     "output_type": "execute_result"
    }
   ],
   "source": [
    "pd.crosstab(df[\"Cancer Stage\"], df[\"Diabetes History\"], margins=True)\n",
    "#df[\"Cancer Stage\"].value_counts()\n",
    "#df[\"Diabetes History\"].value_counts()"
   ]
  }
 ],
 "metadata": {
  "kernelspec": {
   "display_name": "Python 3",
   "language": "python",
   "name": "python3"
  },
  "language_info": {
   "codemirror_mode": {
    "name": "ipython",
    "version": 3
   },
   "file_extension": ".py",
   "mimetype": "text/x-python",
   "name": "python",
   "nbconvert_exporter": "python",
   "pygments_lexer": "ipython3",
   "version": "3.11.11"
  }
 },
 "nbformat": 4,
 "nbformat_minor": 2
}
