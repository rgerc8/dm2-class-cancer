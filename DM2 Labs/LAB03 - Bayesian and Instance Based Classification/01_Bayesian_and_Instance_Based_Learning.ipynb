{
  "cells": [
    {
      "cell_type": "markdown",
      "metadata": {
        "id": "GH_2-dMXCpcr"
      },
      "source": [
        "<b><font size=\"6\">Bayesian and Instance Based Learning</font></b><br>\n",
        "\n",
        "In this notebook, we are going to cover classification of data from 2 distinct paradigms:\n",
        "\n",
        "1. Probability-based learning (i.e. <b>Bayesian classification</b>)\n",
        "2. Instance-based learning (i.e. <b>K-Nearest Neighbors</b>)\n",
        "\n",
        "\n",
        "\n",
        "# <font color='#BFD72F'>Contents</font> <a class=\"anchor\" id=\"toc\"></a>\n",
        "\n",
        "* [1 - Initial Steps](#first-bullet)\n",
        "    * [1.1 - Connect to Google Colab](#first-bullet)\n",
        "    * [1.2 - Importing Libraries and Data](#import)\n",
        "    * [1.3 - Data Understanding](#understand)\n",
        "* [2 - Holdout Method Implementation: Split and preprocess the data](#holdout)\n",
        "    * [2.0 - Split](#split)\n",
        "    * [2.1 - Data Preprocessing](#preprocess)\n",
        "    * [2.2 - Feature Engineering](#engineer)\n",
        "    * [2.3 - Scaling](#scaling)\n",
        "    * [2.4 - Feature Selection](#select)\n",
        "* [3 - Bayesian Classifiers](#bayes)\n",
        "    * [3.1 - Gaussian NB](#gauss)\n",
        "    * [3.2 - Multinomial NB](#multi)\n",
        "    * [3.2 - Bernoulli NB](#bern)\n",
        "* [4 - Instance Based Classifiers](#instance)\n",
        "    * [4.1 - KNN Classifier](#knn)\n",
        "    * [4.2 - Ball Tree](#ball)\n",
        "    * [4.3 - KD Tree](#kdt)"
      ]
    },
    {
      "cell_type": "markdown",
      "metadata": {
        "id": "nGpsRXp8Cpcv"
      },
      "source": [
        "# <font color='#BFD72F'>1. Initial Steps</font> <a class=\"anchor\" id=\"first-bullet\"></a>"
      ]
    },
    {
      "cell_type": "markdown",
      "metadata": {
        "id": "1l6KsfmBKOmZ"
      },
      "source": [
        "## <font color='#BFD72F'>1.1. Connect to Google Colab</font> <a class=\"anchor\" id=\"first-bullet\"></a>\n",
        "[Back to Contents](#toc)\n",
        "\n",
        "**Step 1 -** Connect the google colab notebook with your google drive. Before running the code below, make sure you have this notebook in the folders mentioned in the variable `path`.<br>"
      ]
    },
    {
      "cell_type": "code",
      "execution_count": null,
      "metadata": {
        "colab": {
          "base_uri": "https://localhost:8080/"
        },
        "id": "7f6BePIVCpcv",
        "outputId": "3f2f96c3-0b01-415b-b074-cafb1cbe84a6"
      },
      "outputs": [
        {
          "name": "stdout",
          "output_type": "stream",
          "text": [
            "Mounted at /content/drive\n"
          ]
        }
      ],
      "source": [
        "# Connect Google Colab to Drive\n",
        "from google.colab import drive\n",
        "drive.mount('/content/drive', force_remount=True)\n",
        "path = '/content/drive/MyDrive/Colab Notebooks/DM2/LAB03 - Bayesian and Instance Based Classification/'"
      ]
    },
    {
      "cell_type": "markdown",
      "metadata": {
        "id": "9Yo-OzdkCpcx"
      },
      "source": [
        "## <font color='#BFD72F'>1.2. Importing Libraries and Data</font><a class=\"anchor\" id=\"import\"></a>\n",
        "[Back to Contents](#toc)\n",
        "\n",
        "**Step 2 -** Import the needed libraries."
      ]
    },
    {
      "cell_type": "code",
      "execution_count": null,
      "metadata": {
        "id": "b6EFNRoCCpcy"
      },
      "outputs": [],
      "source": [
        "import pandas as pd\n",
        "import numpy as np\n",
        "import matplotlib.pyplot as plt\n",
        "import seaborn as sns\n",
        "from sklearn.model_selection import train_test_split\n",
        "from sklearn.preprocessing import MinMaxScaler\n",
        "from sklearn.feature_selection import RFE\n",
        "from sklearn.linear_model import LogisticRegression\n",
        "from sklearn.metrics import f1_score\n",
        "from sklearn.naive_bayes import GaussianNB\n",
        "from sklearn.neighbors import KNeighborsClassifier, BallTree, NearestNeighbors\n",
        "\n",
        "import warnings\n",
        "warnings.filterwarnings(\"ignore\")"
      ]
    },
    {
      "cell_type": "markdown",
      "metadata": {
        "id": "rjpLksLQCpcz"
      },
      "source": [
        "**Step 3 -** Import the data that is going to be used into `pandas` dataframes.\n",
        "\n",
        "**Step 3.1 -** Import the Insurance dataset."
      ]
    },
    {
      "cell_type": "code",
      "execution_count": null,
      "metadata": {
        "colab": {
          "base_uri": "https://localhost:8080/",
          "height": 372
        },
        "id": "YdBPKDpACpc0",
        "outputId": "ed88177c-eb3c-422c-97db-dc2c5e8384a8",
        "scrolled": false
      },
      "outputs": [
        {
          "ename": "FileNotFoundError",
          "evalue": "[Errno 2] No such file or directory: '/content/drive/MyDrive/Colab Notebooks/DM2/3 - Bayesian and Instance Based Classification/data/insurance_prep.csv'",
          "output_type": "error",
          "traceback": [
            "\u001b[0;31m---------------------------------------------------------------------------\u001b[0m",
            "\u001b[0;31mFileNotFoundError\u001b[0m                         Traceback (most recent call last)",
            "\u001b[0;32m<ipython-input-3-bb2d42037e2f>\u001b[0m in \u001b[0;36m<cell line: 0>\u001b[0;34m()\u001b[0m\n\u001b[0;32m----> 1\u001b[0;31m insurance = pd.read_csv(path + 'data/insurance_prep.csv', #select file\n\u001b[0m\u001b[1;32m      2\u001b[0m                         \u001b[0mindex_col\u001b[0m\u001b[0;34m=\u001b[0m \u001b[0;34m'InsuredID'\u001b[0m\u001b[0;34m,\u001b[0m \u001b[0;31m#set index col\u001b[0m\u001b[0;34m\u001b[0m\u001b[0;34m\u001b[0m\u001b[0m\n\u001b[1;32m      3\u001b[0m                        ).drop('Unnamed: 0', axis = 1) #drop useless first columns\n\u001b[1;32m      4\u001b[0m \u001b[0;34m\u001b[0m\u001b[0m\n\u001b[1;32m      5\u001b[0m \u001b[0;31m#take a look at the data\u001b[0m\u001b[0;34m\u001b[0m\u001b[0;34m\u001b[0m\u001b[0m\n",
            "\u001b[0;32m/usr/local/lib/python3.11/dist-packages/pandas/io/parsers/readers.py\u001b[0m in \u001b[0;36mread_csv\u001b[0;34m(filepath_or_buffer, sep, delimiter, header, names, index_col, usecols, dtype, engine, converters, true_values, false_values, skipinitialspace, skiprows, skipfooter, nrows, na_values, keep_default_na, na_filter, verbose, skip_blank_lines, parse_dates, infer_datetime_format, keep_date_col, date_parser, date_format, dayfirst, cache_dates, iterator, chunksize, compression, thousands, decimal, lineterminator, quotechar, quoting, doublequote, escapechar, comment, encoding, encoding_errors, dialect, on_bad_lines, delim_whitespace, low_memory, memory_map, float_precision, storage_options, dtype_backend)\u001b[0m\n\u001b[1;32m   1024\u001b[0m     \u001b[0mkwds\u001b[0m\u001b[0;34m.\u001b[0m\u001b[0mupdate\u001b[0m\u001b[0;34m(\u001b[0m\u001b[0mkwds_defaults\u001b[0m\u001b[0;34m)\u001b[0m\u001b[0;34m\u001b[0m\u001b[0;34m\u001b[0m\u001b[0m\n\u001b[1;32m   1025\u001b[0m \u001b[0;34m\u001b[0m\u001b[0m\n\u001b[0;32m-> 1026\u001b[0;31m     \u001b[0;32mreturn\u001b[0m \u001b[0m_read\u001b[0m\u001b[0;34m(\u001b[0m\u001b[0mfilepath_or_buffer\u001b[0m\u001b[0;34m,\u001b[0m \u001b[0mkwds\u001b[0m\u001b[0;34m)\u001b[0m\u001b[0;34m\u001b[0m\u001b[0;34m\u001b[0m\u001b[0m\n\u001b[0m\u001b[1;32m   1027\u001b[0m \u001b[0;34m\u001b[0m\u001b[0m\n\u001b[1;32m   1028\u001b[0m \u001b[0;34m\u001b[0m\u001b[0m\n",
            "\u001b[0;32m/usr/local/lib/python3.11/dist-packages/pandas/io/parsers/readers.py\u001b[0m in \u001b[0;36m_read\u001b[0;34m(filepath_or_buffer, kwds)\u001b[0m\n\u001b[1;32m    618\u001b[0m \u001b[0;34m\u001b[0m\u001b[0m\n\u001b[1;32m    619\u001b[0m     \u001b[0;31m# Create the parser.\u001b[0m\u001b[0;34m\u001b[0m\u001b[0;34m\u001b[0m\u001b[0m\n\u001b[0;32m--> 620\u001b[0;31m     \u001b[0mparser\u001b[0m \u001b[0;34m=\u001b[0m \u001b[0mTextFileReader\u001b[0m\u001b[0;34m(\u001b[0m\u001b[0mfilepath_or_buffer\u001b[0m\u001b[0;34m,\u001b[0m \u001b[0;34m**\u001b[0m\u001b[0mkwds\u001b[0m\u001b[0;34m)\u001b[0m\u001b[0;34m\u001b[0m\u001b[0;34m\u001b[0m\u001b[0m\n\u001b[0m\u001b[1;32m    621\u001b[0m \u001b[0;34m\u001b[0m\u001b[0m\n\u001b[1;32m    622\u001b[0m     \u001b[0;32mif\u001b[0m \u001b[0mchunksize\u001b[0m \u001b[0;32mor\u001b[0m \u001b[0miterator\u001b[0m\u001b[0;34m:\u001b[0m\u001b[0;34m\u001b[0m\u001b[0;34m\u001b[0m\u001b[0m\n",
            "\u001b[0;32m/usr/local/lib/python3.11/dist-packages/pandas/io/parsers/readers.py\u001b[0m in \u001b[0;36m__init__\u001b[0;34m(self, f, engine, **kwds)\u001b[0m\n\u001b[1;32m   1618\u001b[0m \u001b[0;34m\u001b[0m\u001b[0m\n\u001b[1;32m   1619\u001b[0m         \u001b[0mself\u001b[0m\u001b[0;34m.\u001b[0m\u001b[0mhandles\u001b[0m\u001b[0;34m:\u001b[0m \u001b[0mIOHandles\u001b[0m \u001b[0;34m|\u001b[0m \u001b[0;32mNone\u001b[0m \u001b[0;34m=\u001b[0m \u001b[0;32mNone\u001b[0m\u001b[0;34m\u001b[0m\u001b[0;34m\u001b[0m\u001b[0m\n\u001b[0;32m-> 1620\u001b[0;31m         \u001b[0mself\u001b[0m\u001b[0;34m.\u001b[0m\u001b[0m_engine\u001b[0m \u001b[0;34m=\u001b[0m \u001b[0mself\u001b[0m\u001b[0;34m.\u001b[0m\u001b[0m_make_engine\u001b[0m\u001b[0;34m(\u001b[0m\u001b[0mf\u001b[0m\u001b[0;34m,\u001b[0m \u001b[0mself\u001b[0m\u001b[0;34m.\u001b[0m\u001b[0mengine\u001b[0m\u001b[0;34m)\u001b[0m\u001b[0;34m\u001b[0m\u001b[0;34m\u001b[0m\u001b[0m\n\u001b[0m\u001b[1;32m   1621\u001b[0m \u001b[0;34m\u001b[0m\u001b[0m\n\u001b[1;32m   1622\u001b[0m     \u001b[0;32mdef\u001b[0m \u001b[0mclose\u001b[0m\u001b[0;34m(\u001b[0m\u001b[0mself\u001b[0m\u001b[0;34m)\u001b[0m \u001b[0;34m->\u001b[0m \u001b[0;32mNone\u001b[0m\u001b[0;34m:\u001b[0m\u001b[0;34m\u001b[0m\u001b[0;34m\u001b[0m\u001b[0m\n",
            "\u001b[0;32m/usr/local/lib/python3.11/dist-packages/pandas/io/parsers/readers.py\u001b[0m in \u001b[0;36m_make_engine\u001b[0;34m(self, f, engine)\u001b[0m\n\u001b[1;32m   1878\u001b[0m                 \u001b[0;32mif\u001b[0m \u001b[0;34m\"b\"\u001b[0m \u001b[0;32mnot\u001b[0m \u001b[0;32min\u001b[0m \u001b[0mmode\u001b[0m\u001b[0;34m:\u001b[0m\u001b[0;34m\u001b[0m\u001b[0;34m\u001b[0m\u001b[0m\n\u001b[1;32m   1879\u001b[0m                     \u001b[0mmode\u001b[0m \u001b[0;34m+=\u001b[0m \u001b[0;34m\"b\"\u001b[0m\u001b[0;34m\u001b[0m\u001b[0;34m\u001b[0m\u001b[0m\n\u001b[0;32m-> 1880\u001b[0;31m             self.handles = get_handle(\n\u001b[0m\u001b[1;32m   1881\u001b[0m                 \u001b[0mf\u001b[0m\u001b[0;34m,\u001b[0m\u001b[0;34m\u001b[0m\u001b[0;34m\u001b[0m\u001b[0m\n\u001b[1;32m   1882\u001b[0m                 \u001b[0mmode\u001b[0m\u001b[0;34m,\u001b[0m\u001b[0;34m\u001b[0m\u001b[0;34m\u001b[0m\u001b[0m\n",
            "\u001b[0;32m/usr/local/lib/python3.11/dist-packages/pandas/io/common.py\u001b[0m in \u001b[0;36mget_handle\u001b[0;34m(path_or_buf, mode, encoding, compression, memory_map, is_text, errors, storage_options)\u001b[0m\n\u001b[1;32m    871\u001b[0m         \u001b[0;32mif\u001b[0m \u001b[0mioargs\u001b[0m\u001b[0;34m.\u001b[0m\u001b[0mencoding\u001b[0m \u001b[0;32mand\u001b[0m \u001b[0;34m\"b\"\u001b[0m \u001b[0;32mnot\u001b[0m \u001b[0;32min\u001b[0m \u001b[0mioargs\u001b[0m\u001b[0;34m.\u001b[0m\u001b[0mmode\u001b[0m\u001b[0;34m:\u001b[0m\u001b[0;34m\u001b[0m\u001b[0;34m\u001b[0m\u001b[0m\n\u001b[1;32m    872\u001b[0m             \u001b[0;31m# Encoding\u001b[0m\u001b[0;34m\u001b[0m\u001b[0;34m\u001b[0m\u001b[0m\n\u001b[0;32m--> 873\u001b[0;31m             handle = open(\n\u001b[0m\u001b[1;32m    874\u001b[0m                 \u001b[0mhandle\u001b[0m\u001b[0;34m,\u001b[0m\u001b[0;34m\u001b[0m\u001b[0;34m\u001b[0m\u001b[0m\n\u001b[1;32m    875\u001b[0m                 \u001b[0mioargs\u001b[0m\u001b[0;34m.\u001b[0m\u001b[0mmode\u001b[0m\u001b[0;34m,\u001b[0m\u001b[0;34m\u001b[0m\u001b[0;34m\u001b[0m\u001b[0m\n",
            "\u001b[0;31mFileNotFoundError\u001b[0m: [Errno 2] No such file or directory: '/content/drive/MyDrive/Colab Notebooks/DM2/3 - Bayesian and Instance Based Classification/data/insurance_prep.csv'"
          ]
        }
      ],
      "source": [
        "insurance = pd.read_csv(path + 'data/insurance_prep.csv', #select file\n",
        "                        index_col= 'InsuredID', #set index col\n",
        "                       ).drop('Unnamed: 0', axis = 1) #drop useless first columns\n",
        "\n",
        "#take a look at the data\n",
        "insurance"
      ]
    },
    {
      "cell_type": "markdown",
      "metadata": {
        "id": "RrnbSfSBKOmh"
      },
      "source": [
        "<font color='orange'>____GOAL____  : </font> Predict if the health plan will get an upgrade by the customer using the given features\n",
        "\n",
        "This dataset contains 2500 rows of hospitalization data that an insurance company is analysing, where the Insurance charges are given against the following attributes of the insured: Age, Sex, BMI, Number of Children, Smoker, Region, etc.\n",
        "\n",
        "\n",
        "`Insured ID`<br>\n",
        "`Year_Birth` -  Insurance contractor year of birth<br>\n",
        "`Gender` - (dummies)  Insurance contractor gender, female / male.<br>\n",
        "`Region` - (dummies)The beneficiary's residential area in the US, northeast, southeast, southwest, northwest.<br>\n",
        "`Marital Status` - (dummies) Insurance contractor marital status<br>\n",
        "`Smoker` - (dummies) Smoker / Non - smoker.<br>\n",
        "`Income` - Insurance contractor income.<br>\n",
        "`BMI` - Body mass index<br>\n",
        "`BSA` - body surface area.<br>\n",
        "`Insured_Satisfaction` - Insured satisfaction regarding insurance assistance/services covered during hospitalization.<br>\n",
        "`Expenses` - Individual medical costs billed by health insurance.<br>\n",
        "`Expenses in percentage (%)` by categories (Treatment / Medication / Medical_Assistance / Exams / Ambulance_Transport).<br>\n",
        "`Expenses coverage percentage (%)` (Insurance_Coverage / Patient_Coverage).<br>\n",
        "`Plan_Option` Type of plan insurance <br>\n",
        "`Upgrade Health Plan` The customer upgraded the health plan insurance<font color='orange'> <- **Dependent Variable / Target**</font>"
      ]
    },
    {
      "cell_type": "markdown",
      "metadata": {
        "id": "ZZWZ4suXCpc0"
      },
      "source": [
        "## <font color='#BFD72F'> 1.3. Data Understanding</font> <a class=\"anchor\" id=\"understand\"></a>\n",
        "[Back to Contents](#toc)\n",
        "\n",
        "In this section, you should take the time to understand your data and what it means. In this notebook we will run very simple commands to just look at the most important descriptive statistics. <br>\n",
        "However, recall that **a thorough understanding of the data you have will contribute to a much smoother work on the subsequent sections and, by the end, a better model**. It is not uncommon **for the Understanding** and **Preprocessing** stages to take more than **half** of the time you spend on a project."
      ]
    },
    {
      "cell_type": "markdown",
      "metadata": {
        "id": "NFuxux3WCpc0"
      },
      "source": [
        "**Step 4:** Use the method `info()` to look at datatypes and missing values."
      ]
    },
    {
      "cell_type": "code",
      "execution_count": null,
      "metadata": {
        "id": "yY4q4DpdCpc1"
      },
      "outputs": [],
      "source": [
        "insurance.info()"
      ]
    },
    {
      "cell_type": "markdown",
      "metadata": {
        "id": "o6VaWMjJCpc1"
      },
      "source": [
        "**Step 5:** Use the method `describe()` to look at the descriptive statistics of each one of your variables."
      ]
    },
    {
      "cell_type": "code",
      "execution_count": null,
      "metadata": {
        "id": "L53Zk7_qCpc1"
      },
      "outputs": [],
      "source": [
        "insurance.describe().T"
      ]
    },
    {
      "cell_type": "markdown",
      "metadata": {
        "id": "PbUgMRnBCpc1"
      },
      "source": [
        "**Step 6:** Use the method value_counts() to look at the class distribution of the dependent variable."
      ]
    },
    {
      "cell_type": "code",
      "execution_count": null,
      "metadata": {
        "id": "X5n_tx37Cpc2"
      },
      "outputs": [],
      "source": [
        "insurance['Upgrade_Health_Plan'].value_counts()"
      ]
    },
    {
      "cell_type": "markdown",
      "metadata": {
        "id": "SVN5SXJjCpc2"
      },
      "source": [
        "**Step 7:** Create the lists `metric_features` and `categorical_features` to store the variables that are meant to be numeric and categoric, respectively."
      ]
    },
    {
      "cell_type": "code",
      "execution_count": null,
      "metadata": {
        "id": "0rTlyYoNCpc2"
      },
      "outputs": [],
      "source": [
        "metric_features = ['Year_Birth', 'Smoker', 'Income', 'BMI', 'BSA', 'Expenses', 'Treatment',\n",
        "       'Medication', 'Medical_Assistance', 'Exams', 'Ambulance_Transport',\n",
        "       'Patient_Coverage', 'Insurance_Coverage', 'Insured_Satisfaction',\n",
        "       'Health_Plan_Option', 'Year_Hospitalization']\n",
        "\n",
        "categorical_features = ['Smoker', 'Region_northwest', 'Region_southeast', 'Region_southwest',\n",
        "       'Marital_Status_Divorced', 'Marital_Status_Married',\n",
        "       'Marital_Status_Single', 'Marital_Status_Together',\n",
        "       'Marital_Status_Widow', 'Gender_M']"
      ]
    },
    {
      "cell_type": "markdown",
      "metadata": {
        "id": "D1Z2w7xkCpc3"
      },
      "source": [
        "# <font color='#BFD72F'>2. Holdout Method Implementation: Split and preprocess the Data</font> <a class=\"anchor\" id=\"holdout\"></a>\n",
        "[Back to Contents](#toc)\n",
        "\n",
        "In this section, we will follow an implementation of the Holdout method where we are going to make a single split between training and test data.\n",
        "\n",
        "- The training data, more than just being the set that we use to train the model, will be the **only set of data that will inform every decision we make**: scaling, feature selection, etc.\n",
        "- The test data is the data that we will use to assess the performance on our model. This is the data that, allegedly, neither you nor your model should have access to before training - meaning that you should apply to it the transformations and rules derived from the training data, but **you should not use it to make any decision**."
      ]
    },
    {
      "cell_type": "markdown",
      "metadata": {
        "id": "l7ysf-TqCpc3"
      },
      "source": [
        "**Step 8:** Make a copy of the insurance dataset and assign it to variable `data`.<br>\n",
        "Then create variables `X` and `y`, with y being the `Upgrade_Health_Plan` and X being the remaining predictors.\n",
        "<a class=\"anchor\" id=\"split\"></a>"
      ]
    },
    {
      "cell_type": "code",
      "execution_count": null,
      "metadata": {
        "id": "Na6US1X0Cpc3"
      },
      "outputs": [],
      "source": [
        "#copy\n",
        "data = insurance.copy()"
      ]
    },
    {
      "cell_type": "code",
      "execution_count": null,
      "metadata": {
        "id": "rFB1LMlkCpc3"
      },
      "outputs": [],
      "source": [
        "#create X\n",
        "X = insurance.drop('Upgrade_Health_Plan', axis = 1)\n",
        "y = insurance['Upgrade_Health_Plan']"
      ]
    },
    {
      "cell_type": "markdown",
      "metadata": {
        "id": "cQELxHI7Cpc4"
      },
      "source": [
        "**Step 9:** Import `train_test_split` and use it to split the data into X_train, X_test, y_train and y_test, defining `test_size` as 0.25 , `random_state` equal to 5 and `stratify` by the target."
      ]
    },
    {
      "cell_type": "code",
      "execution_count": null,
      "metadata": {
        "id": "FC2eu5wsCpc4"
      },
      "outputs": [],
      "source": [
        "X_train, X_test, y_train, y_test = train_test_split(X,\n",
        "                                                    y,\n",
        "                                                    test_size=0.25,\n",
        "                                                    stratify = y,\n",
        "                                                    random_state=5)"
      ]
    },
    {
      "cell_type": "markdown",
      "metadata": {
        "id": "ZmgYzlNsCpc4"
      },
      "source": [
        "## <font color='#BFD72F'> 2.1. Preprocessing</font><a class=\"anchor\" id=\"preprocess\"></a>\n",
        "[Back to Contents](#toc)\n",
        "\n",
        "At this stage, we know that, at least, we have missing values in `BMI` to deal with. For the purposes of today's class we will fill them with the mean value.\n",
        "\n",
        "<b>Note:</b> It is very important to remember that whichever decisions you make at this stage should be exclusively informed by the training data. Thus, we will compute the mean value of BMI the training data and use it to fill `BMI` for both the training and the test sets.\n",
        "\n",
        "**Step 10:** Compute the average `BMI` of X_train and store it in variable `mean_bmi`"
      ]
    },
    {
      "cell_type": "code",
      "execution_count": null,
      "metadata": {
        "id": "qrrWq5hICpc4"
      },
      "outputs": [],
      "source": [
        "mean_bmi = X_train['BMI'].mean()"
      ]
    },
    {
      "cell_type": "markdown",
      "metadata": {
        "id": "353jtTBWCpc4"
      },
      "source": [
        "**Step 11:** Check the number of missing values in column `BMI` in both the `X_train` and `X_test`"
      ]
    },
    {
      "cell_type": "code",
      "execution_count": null,
      "metadata": {
        "id": "ITCHP0ZqCpc4"
      },
      "outputs": [],
      "source": [
        "print(f'Number of missing values in column BMI in X_train: {sum(X_train[\"BMI\"].isna())}\\n' +\n",
        "     f'Number of missing values in column BMI in X_test: {sum(X_test[\"BMI\"].isna())}')"
      ]
    },
    {
      "cell_type": "markdown",
      "metadata": {
        "id": "3RdAVJtGCpc5"
      },
      "source": [
        "**Step 12:** Fill the missing values in `X_train` with `mean_bmi`. Do the same to fill missing values of `BMI` in `X_test`"
      ]
    },
    {
      "cell_type": "code",
      "execution_count": null,
      "metadata": {
        "id": "LvHxA4sgCpc5"
      },
      "outputs": [],
      "source": [
        "#filling nans in X_train\n",
        "X_train['BMI'].fillna(mean_bmi, inplace = True)\n",
        "\n",
        "#filling nans in X_test\n",
        "X_test['BMI'].fillna(mean_bmi, inplace = True)"
      ]
    },
    {
      "cell_type": "markdown",
      "metadata": {
        "id": "dRcdh9I9Cpc5"
      },
      "source": [
        "**Step 13:** Check again the number of missing values in column `BMI` in both the `X_train` and `X_test`"
      ]
    },
    {
      "cell_type": "code",
      "execution_count": null,
      "metadata": {
        "id": "EN3lSclCCpc5"
      },
      "outputs": [],
      "source": [
        "print(f'Number of missing values in column BMI in X_train: {sum(X_train[\"BMI\"].isna())}\\n' +\n",
        "     f'Number of missing values in column BMI in X_test: {sum(X_test[\"BMI\"].isna())}')"
      ]
    },
    {
      "cell_type": "markdown",
      "metadata": {
        "id": "fUqqqGXoCpc5"
      },
      "source": [
        "As stated, most of the dataset has already been preprocessed in advance, which means that there is very little work to be done before this dataset is ready to be used in a predictive model. There are, however, additional preprocessing steps that you can follow. For instance, the dataset may still have outliers.\n",
        "\n",
        "<b>We will not do that on this notebook, but we will keep this is a gentle reminder of what can be done. Moreover, when reviewing this notebook, you can try to perform some additional pre-processing steps and see whether they affect (or not) the performance of your trained model.</b>"
      ]
    },
    {
      "cell_type": "code",
      "execution_count": null,
      "metadata": {
        "id": "S85q0is9Cpc5"
      },
      "outputs": [],
      "source": [
        "#Use this section to practice pre-processing and see how different choices affect the model you create (and its performance)"
      ]
    },
    {
      "cell_type": "markdown",
      "metadata": {
        "id": "9kjysZeQCpc6"
      },
      "source": [
        "## <font color='#BFD72F'> 2.2. Feature Engineering</font><a class=\"anchor\" id=\"engineer\"></a>\n",
        "[Back to Contents](#toc)\n",
        "\n",
        "Same as in the previous case, this block was kept as a reminder of what you need to do at this stage.<br>\n",
        "You can use the following cell to create new variables and see if you can create a better model than the one you trained in class."
      ]
    },
    {
      "cell_type": "code",
      "execution_count": null,
      "metadata": {
        "id": "ePCeyDU-Cpc6"
      },
      "outputs": [],
      "source": [
        "#Use this section to practice pre-processing and see how different choices affect the model you create (and its performance)"
      ]
    },
    {
      "cell_type": "markdown",
      "metadata": {
        "id": "zD7gRoZeCpc6"
      },
      "source": [
        "## <font color='#BFD72F'> 2.3. Scaling</font><a class=\"anchor\" id=\"scaling\"></a>\n",
        "[Back to Contents](#toc)\n",
        "\n",
        "During your ML journey **you will use some algorithms that require data to be on the same scale**. Such an example can be found in popular algorithms that use distances (e.g. `KNN` that will be covered later). Moreover, that will also be the case with other popular feature selection techniques such as the Embedded Method [Lasso Regression](https://scikit-learn.org/stable/modules/feature_selection.html#l1-feature-selection).\n",
        "\n",
        "For those reasons, you **should consider scaling your data unless you are certain that none of the techniques you use require scaled data**. As in previous classes, we will use MinMaxScaler, but keep in mind that this is not the only scaler that exists and is by no means the optimal scaling solution for all problems.\n",
        "\n",
        "[See more options here](https://scikit-learn.org/stable/auto_examples/preprocessing/plot_all_scaling.html#sphx-glr-auto-examples-preprocessing-plot-all-scaling-py)"
      ]
    },
    {
      "cell_type": "markdown",
      "metadata": {
        "id": "hvNWBoAnCpc6"
      },
      "source": [
        "**Step 14:** Create an instance of MinMaxScaler named `feature_scaler` and fit it to X_train. Then transform X_train and X_test."
      ]
    },
    {
      "cell_type": "code",
      "execution_count": null,
      "metadata": {
        "id": "uWIcncUyCpc6"
      },
      "outputs": [],
      "source": [
        "feature_scaler = MinMaxScaler().fit(X_train)"
      ]
    },
    {
      "cell_type": "code",
      "execution_count": null,
      "metadata": {
        "id": "5pU2zdy1Cpc7"
      },
      "outputs": [],
      "source": [
        "#scale X_train and X_test using feature_scaler\n",
        "X_train_scaled = pd.DataFrame(feature_scaler.transform(X_train), columns=X_train.columns, index=X_train.index)\n",
        "X_test_scaled = pd.DataFrame(feature_scaler.transform(X_test), columns= X_test.columns, index=X_test.index)"
      ]
    },
    {
      "cell_type": "markdown",
      "metadata": {
        "id": "OjTcOhVkCpc7"
      },
      "source": [
        "## <font color='#BFD72F'> 2.4. Feature Selection</font><a class=\"anchor\" id=\"select\"></a>\n",
        "[Back to Contents](#toc)\n",
        "\n",
        "We will use Recursive Feature Elimination (RFE), which is a Wrapper technique that selects the most important features to keep. Logistic Regression will be the base estimator to use with it.\n",
        "\n",
        "Remember, from previous practical class, that **the sklearn implementation of RFE** requires us to tell RFE the number of features we want to keep. Usually, that is knowledge that you do not have (or at least shouldn't) apriori.\n",
        "\n",
        "You can, however, create a loop to check the score of the estimator using a different possible numbers of features. <br>\n",
        "Below you have an example that will check the score of the estimator by chosing between 2 and 15 variables. Another option would be to use [RFECV](https://scikit-learn.org/stable/modules/generated/sklearn.feature_selection.RFECV.html) instead."
      ]
    },
    {
      "cell_type": "markdown",
      "metadata": {
        "id": "fiKVhp-TCpc7"
      },
      "source": [
        "**Step 15:** Run the following loop to determine the optimal number of numeric features to select according to a RFE on the base estimator `Logistic Regression` on `X_train_scaled`.\n",
        "\n",
        "Essencially, what the next cell will do is: create and train a model of a `LogisticRegression` for every possible value (between 2 and 15) of `n_features_to_select`. Then measures the performance on the test data and compare it to previous runs.\n",
        "In the end, returns what is the optimal number of features to keep.\n",
        "\n",
        "<b>Due to the imbalanced nature of the dataset, the chosen performance metric will be the *F1-score*, defined as:</b>\n",
        "\n",
        "$$F1score=2\\frac{Precision*Recall}{Precision+Recall}$$\n",
        "\n",
        "where $$Precision=\\frac{TP}{TP+FP}$$ and $$Recall=\\frac{TP}{TP+FN}$$"
      ]
    },
    {
      "cell_type": "code",
      "execution_count": null,
      "metadata": {
        "id": "c6S1xQAVaRoX"
      },
      "outputs": [],
      "source": [
        "# Number of features to keep\n",
        "nof_list=np.arange(2,16)\n",
        "high_score=0\n",
        "# Variable to store the optimum features\n",
        "nof=0\n",
        "\n",
        "#list of scores\n",
        "score_list =[]\n",
        "\n",
        "for n in range(len(nof_list)):\n",
        "    model = LogisticRegression()\n",
        "\n",
        "    #create instance of RFE\n",
        "    rfe = RFE(model,n_features_to_select = nof_list[n])\n",
        "\n",
        "    #fit RFE to training data\n",
        "    X_train_rfe = rfe.fit_transform(X_train_scaled[metric_features],y_train)\n",
        "\n",
        "    #apply the same RFE transformation to the test data\n",
        "    X_test_rfe = rfe.transform(X_test_scaled[metric_features])\n",
        "\n",
        "    #create and train instance of Logistic Regression\n",
        "    model.fit(X_train_rfe,y_train)\n",
        "\n",
        "    #predict\n",
        "    y_pred = model.predict(X_test_rfe)\n",
        "\n",
        "    #store f1score in variable\n",
        "    f_score = f1_score(y_test, y_pred)\n",
        "\n",
        "    score_list.append(f_score)\n",
        "\n",
        "    #compare against previous best performance\n",
        "    if(f_score > high_score):\n",
        "        high_score = f_score\n",
        "        nof = nof_list[n]\n",
        "print(\"Optimum number of features: %d\" %nof)\n",
        "print(\"Score with %d features: %f\" % (nof, high_score))"
      ]
    },
    {
      "cell_type": "markdown",
      "metadata": {
        "id": "EvmZ2DHzCpc7"
      },
      "source": [
        "**Step 16:** Run a new `RFE` with a `LogisticRegression` base estimator. Now, make the optimal number of numerical features to keep explicit."
      ]
    },
    {
      "cell_type": "code",
      "execution_count": null,
      "metadata": {
        "id": "Nh5-9OguCpc8"
      },
      "outputs": [],
      "source": [
        "rfe = RFE(estimator = LogisticRegression(), n_features_to_select = nof)"
      ]
    },
    {
      "cell_type": "markdown",
      "metadata": {
        "id": "_t67clLzCpc8"
      },
      "source": [
        "**Step 17:** Find the `metric_features` that RFE, trained on `X_train_scaled`, believes to be important for prediction.  "
      ]
    },
    {
      "cell_type": "code",
      "execution_count": null,
      "metadata": {
        "id": "k_pbWGh-Cpc8"
      },
      "outputs": [],
      "source": [
        "#fit RFE to your training data - metric features only\n",
        "X_rfe = rfe.fit_transform(X = X_train_scaled[metric_features], y = y_train)\n",
        "\n",
        "# Create an object `selected_features` that will shows which features to keep and which features to throw away\n",
        "selected_features = pd.Series(rfe.support_, index = X_train_scaled[metric_features].columns)\n",
        "selected_features"
      ]
    },
    {
      "cell_type": "markdown",
      "metadata": {
        "id": "uB-qbcB5Cpc8"
      },
      "source": [
        "We will not, in this section, worry about using other feature selection techniques. And due to the nature of the algorithms used in the next sections, we will limit our approach to numerical features.\n",
        "\n",
        "Remember, however, that there are other techniques available to you and you should aim for a feature selection strategy that is robust to the biases of each individual technique.\n",
        "\n",
        "You can use the following cell to perform different feature selection techniques and see if you can create a better model than the one you trained in class. Moreover, it is possible that different scaling techniques result in differences of features being selected, so you will need to pay close attention."
      ]
    },
    {
      "cell_type": "code",
      "execution_count": null,
      "metadata": {
        "id": "t2A1iG7SCpc8"
      },
      "outputs": [],
      "source": [
        "#Use this section to practice feature selection and see how that affects the model you create (and its performance)"
      ]
    },
    {
      "cell_type": "markdown",
      "metadata": {
        "id": "o-0IsnoKCpc8"
      },
      "source": [
        "**Step 18:** Create a variable `selected_columns`that stores the information about which columns were selected by your feature selection strategy."
      ]
    },
    {
      "cell_type": "code",
      "execution_count": null,
      "metadata": {
        "id": "NPPqiMnqCpc8"
      },
      "outputs": [],
      "source": [
        "selected_columns = selected_features[selected_features].index\n",
        "selected_columns"
      ]
    },
    {
      "cell_type": "markdown",
      "metadata": {
        "id": "OFwN8nmSCpc9"
      },
      "source": [
        "**Step 19:** Filter `X_train_scaled` and `X_test_scaled` in order to keep the features present in `selected_columns` (this will be useful later)."
      ]
    },
    {
      "cell_type": "code",
      "execution_count": null,
      "metadata": {
        "id": "nyQiQpI1Cpc9"
      },
      "outputs": [],
      "source": [
        "#filter train data\n",
        "X_train_scaled = X_train_scaled.loc[:,selected_columns]\n",
        "\n",
        "#filter test data\n",
        "X_test_scaled = X_test_scaled.loc[:,selected_columns]"
      ]
    },
    {
      "cell_type": "markdown",
      "metadata": {
        "id": "R0Cb_ZjTmVY5"
      },
      "source": [
        "**Step 20:** Filter `X_train` and `X_test` in order to only keep the `metric_features`."
      ]
    },
    {
      "cell_type": "code",
      "execution_count": null,
      "metadata": {
        "id": "C4dcTZQ9mOXk"
      },
      "outputs": [],
      "source": [
        "#filter train data\n",
        "X_train = X_train.loc[:,metric_features]\n",
        "\n",
        "#filter test data\n",
        "X_test = X_test.loc[:,metric_features]"
      ]
    },
    {
      "cell_type": "markdown",
      "metadata": {
        "id": "jcgcmRpjCpc9"
      },
      "source": [
        "# <font color='#BFD72F'>3. Bayesian Classifiers</font> <a class=\"anchor\" id=\"bayes\"></a>\n",
        "[Back to Contents](#toc)"
      ]
    },
    {
      "cell_type": "markdown",
      "source": [
        "![frequentists_vs_bayesians.png](data:image/png;base64,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)"
      ],
      "metadata": {
        "id": "uHWVvpfl_jzZ"
      }
    },
    {
      "cell_type": "markdown",
      "metadata": {
        "id": "5U_i-I3gCpc9"
      },
      "source": [
        "\n",
        "We can think of Bayes’ theorem as a way to update knowledge when presented with new evidence or data:</b>\n",
        "1. We hold a preconceived notion or belief as **prior**\n",
        "2. We calculate the likelihood of the data conditioned on our **prior**\n",
        "3. The prior uses the data to be updated into a **posterior**\n",
        "\n",
        "$$\n",
        "Posterior = \\frac{Likelihood \\cdot Prior}{Evidence}\n",
        "$$\n",
        "<br>\n",
        "\n",
        "Bayesian classification uses Bayes' theorem to predict class membership probabilities (i.e. the probability that a given sample belongs to a specific class). We can think of hypothesis **y** as the classification outcome or label and use the theorem to calculate the probability of **y** given the set of features $X = x_1,...,x_n$:\n",
        "\n",
        "$$\n",
        "P(y \\vert X) = \\frac{P(X \\vert y) P(y)}{P(X)}\n",
        "$$\n",
        "<br>\n",
        "\n",
        "To classify **y** given $X$, we would need to be able to compute different probabilities:\n",
        "1. The prior $P(y)$,\n",
        "2. The probability distribution of the data $P(X)$,\n",
        "3. The likelihood of the data conditioned on the prior $P( X \\vert y)$\n",
        "\n",
        "<br>\n",
        "\n",
        "In theory, calculating 1. and 2. should be relatively straightforward: <br>\n",
        "$P(y)$ **converges to the ground truth as more data is given** to the model.<br>\n",
        "$P(X)$ **has the same value for all possible classes**.<br>\n",
        "\n",
        "The only component we would really need to compute is the probability of the features conditioned on the outcome $y$: $P(X \\vert y)$.<br>\n",
        "\n",
        "If we could find THE statistical distribution that generated the data and use it to perfectly calculate the likehoods of each feature conditioned on the outcomes. <br>\n",
        "**However...**\n",
        "\n",
        "The hypothetical statistical distribution that could have generated this data is not known and, **spoiler, cannot be known**. Moreover, the training step of such a classifier is not trivial and computationally very expensive because of:\n",
        "\n",
        "     i. Different features are not independent\n",
        "    ii. The relative importance of each feature is not obvious"
      ]
    },
    {
      "cell_type": "markdown",
      "metadata": {
        "id": "3gz_cbn3Cpc9"
      },
      "source": [
        "## <font color='#BFD72F'> 3.0. Naive Bayes</font>\n",
        "[Back to TOC](#toc)\n",
        "</a>\n",
        "\n",
        "Naive Bayes simplifies the training procedure by making mathematically convenient, albeit very naive, assumptions about the data generating model:\n",
        "\n",
        "      i. All features are independent from one another\n",
        "     ii. All features are considered to be equally important towards the outcome label\n",
        "    iii. The previously unknown distribution that generated the data is assumed to follow a known statistical distribution\n",
        "    \n",
        "Sklearn offers multiple alternative versions of the Naive Bayes algorithm, with the main difference among them being the assumptions made concerning the distribution of $P(X|y)$ (https://scikit-learn.org/stable/modules/naive_bayes.html). In class, we will mainly focus on the Gaussian algorithm."
      ]
    },
    {
      "cell_type": "markdown",
      "metadata": {
        "id": "I8_V7xjrKOm7"
      },
      "source": [
        "## <font color='#BFD72F'> 3.1. Gaussian NB</font><a class=\"anchor\" id=\"gauss\"></a>\n",
        "[Back to TOC](#toc)\n",
        "\n",
        "The Gaussian Naive Bayes assumes that the data for each label is generated from a simple Gaussian distribution:\n",
        "\n",
        "$$\n",
        "\\begin{equation*}\n",
        "P(x_{i}\\mid y) = \\frac{1}{\\sqrt{2\\pi \\sigma_y^{2}}} \\exp \\left(-\\frac{(x_{i} -\\mu_{y})^2}{2\\sigma_y^{2}} \\right)\n",
        "\\end{equation*}\n",
        "$$\n",
        "\n",
        "Find the details on the implementation of this algorithm in sklearn <a href=\"https://scikit-learn.org/stable/modules/generated/sklearn.naive_bayes.GaussianNB.html#sklearn.naive_bayes.GaussianNB\">here</a>."
      ]
    },
    {
      "cell_type": "markdown",
      "metadata": {
        "id": "-pBk3N5fCpc-"
      },
      "source": [
        "**Step 21:** Using `GaussianNB`, create a Naive Bayes classifier instance called `modelNB`."
      ]
    },
    {
      "cell_type": "code",
      "execution_count": null,
      "metadata": {
        "id": "BOpuZZB4Cpc-"
      },
      "outputs": [],
      "source": [
        "modelNB = GaussianNB()"
      ]
    },
    {
      "cell_type": "markdown",
      "metadata": {
        "id": "akcyFzRzCpc-"
      },
      "source": [
        "### <font color='#BFD72F'> 3.1.1. Methods in GaussianNB </font>"
      ]
    },
    {
      "cell_type": "markdown",
      "metadata": {
        "id": "dd-rZ4iiCpc-"
      },
      "source": [
        "**Step 22:** Use the `.fit()` method to fit the model to the array of points `X_train_scaled` and `y_train`, i.e., associate the argument keyword `X` and `y`."
      ]
    },
    {
      "cell_type": "code",
      "execution_count": null,
      "metadata": {
        "id": "0-e2oe4yCpc-"
      },
      "outputs": [],
      "source": [
        "modelNB.fit(X = X_train_scaled, y = y_train)"
      ]
    },
    {
      "cell_type": "markdown",
      "metadata": {
        "id": "x8BtQrqnCpc-"
      },
      "source": [
        "**Step 23:** Use the `.predict()` method to perform classification in `X_train_scaled` and assign to the object `labels_train`. Do the same for `X_test_scaled` and assign to the object `labels_test`."
      ]
    },
    {
      "cell_type": "code",
      "execution_count": null,
      "metadata": {
        "id": "fnkiDAYjCpc-"
      },
      "outputs": [],
      "source": [
        "labels_train = modelNB.predict(X_train_scaled)\n",
        "labels_test = modelNB.predict(X_test_scaled)"
      ]
    },
    {
      "cell_type": "markdown",
      "metadata": {
        "id": "8KWrQZlxCpc_"
      },
      "source": [
        "**Step 24:** Use the `.score()` method to obtain the mean accuracy of the given train data `X_train_scaled` and the true labels, `y_train`."
      ]
    },
    {
      "cell_type": "code",
      "execution_count": null,
      "metadata": {
        "id": "7SWODTgiCpc_"
      },
      "outputs": [],
      "source": [
        "modelNB.score(X_train_scaled, y_train)"
      ]
    },
    {
      "cell_type": "markdown",
      "metadata": {
        "id": "77mMm-cCCpc_"
      },
      "source": [
        "**Step 25:** Use the `.score()` method to obtain the mean accuracy of the given test data `X_test_scaled` and the true labels, `y_test`."
      ]
    },
    {
      "cell_type": "code",
      "execution_count": null,
      "metadata": {
        "id": "BE0ZwaWwCpc_"
      },
      "outputs": [],
      "source": [
        "modelNB.score(X_test_scaled, y_test)"
      ]
    },
    {
      "cell_type": "markdown",
      "metadata": {
        "id": "Ud_ERu-4Cpc_"
      },
      "source": [
        "By comparing the results of Step 24 and Step 25 we can verify that the accuracy of the model is slightly higher in the train dataset. Still, as discussed, in an umbalanced problem, accuracy is a **misleading** model performance metric. <br>\n",
        "\n",
        "In these situations, you should consider other options, such as the F1_score that are not explicitly callable methods:"
      ]
    },
    {
      "cell_type": "code",
      "execution_count": null,
      "metadata": {
        "id": "d_VvNzRTCpc_"
      },
      "outputs": [],
      "source": [
        "print(f'F1 Score between the y_train and labels_train: {f1_score(y_train, labels_train):.3f}\\n' +\n",
        "     f'F1 Score between the y_test and labels_test: {f1_score(y_test, labels_test):.3f}')"
      ]
    },
    {
      "cell_type": "markdown",
      "metadata": {
        "id": "AQfJ4Yf9Cpc_"
      },
      "source": [
        "### <font color='#BFD72F'>3.1.2. Attributes in GaussianNB </font>"
      ]
    },
    {
      "cell_type": "markdown",
      "metadata": {
        "id": "y_gL5Ol9Cpc_"
      },
      "source": [
        "**Step 26:** Call the attribute `.class_prior_` to check the assumed $P(y)$ for both $y = 0$ and $y = 1$."
      ]
    },
    {
      "cell_type": "code",
      "execution_count": null,
      "metadata": {
        "id": "_T_0P6k8CpdA"
      },
      "outputs": [],
      "source": [
        "modelNB.class_prior_"
      ]
    },
    {
      "cell_type": "markdown",
      "metadata": {
        "id": "52gpR1iWCpdA"
      },
      "source": [
        "**Step 27:** Call the attribute `.class_count_` to verify the number of training samples observed in each class."
      ]
    },
    {
      "cell_type": "code",
      "execution_count": null,
      "metadata": {
        "id": "tu7RlEd3CpdA"
      },
      "outputs": [],
      "source": [
        "modelNB.class_count_"
      ]
    },
    {
      "cell_type": "markdown",
      "metadata": {
        "id": "np1Ws2XvCpdA"
      },
      "source": [
        "**Step 28:** Call the attribute `.theta_` to verify the mean value of each feature per class.<br>\n",
        "Remember that, each class here is scaled, so **be careful about how you interpret it**."
      ]
    },
    {
      "cell_type": "code",
      "execution_count": null,
      "metadata": {
        "id": "GQZssu9QCpdA"
      },
      "outputs": [],
      "source": [
        "modelNB.theta_"
      ]
    },
    {
      "cell_type": "markdown",
      "metadata": {
        "id": "fE4Kdl1ECpdA"
      },
      "source": [
        "Note: If you dont remember the order of the variables, you can always call `X_train_scaled.columns`."
      ]
    },
    {
      "cell_type": "code",
      "execution_count": null,
      "metadata": {
        "id": "BcdIx40fCpdA"
      },
      "outputs": [],
      "source": [
        "pd.DataFrame(data=modelNB.theta_, columns=X_train_scaled.columns).T"
      ]
    },
    {
      "cell_type": "markdown",
      "metadata": {
        "id": "wVgcza7zCpdB"
      },
      "source": [
        "**Step 29:** Call the attribute `.var_` to verify the variance of each feature per class."
      ]
    },
    {
      "cell_type": "code",
      "execution_count": null,
      "metadata": {
        "id": "OL7VigxUCpdB",
        "scrolled": true
      },
      "outputs": [],
      "source": [
        "pd.DataFrame(data=modelNB.var_, columns=X_train_scaled.columns).T"
      ]
    },
    {
      "cell_type": "markdown",
      "metadata": {
        "id": "wdfPiUBDCpdB"
      },
      "source": [
        "## <font color='#BFD72F'> 3.2. Multinomial NB</font><a class=\"anchor\" id=\"multi\"></a>\n",
        "[Back to TOC](#toc)\n",
        "\n",
        "The Multinomial Naive Bayes algorithm assumes that the data is multinomially distributed. A multinomial distribution describes the probability of observing counts among a number of different categories. Thus, it is more adequate for features that represent counts or count rates. Its properties make it a popular algorithm in Natural Language Processing (NLP) and text classification (e.g. spam detection). <br>\n",
        "\n",
        "\n",
        "The classification problem using Naive Bayes can be summarized by the equation below:\n",
        "\n",
        "$$\n",
        "H^{\\text{MAP}} = \\underset{i \\in \\{\\text{spam}, \\text{not-spam}\\}}{\\mathrm{argmax}} \\left[ \\prod_{j=1}^{m} P(F_j | H_i) \\right] P(H_i)\n",
        "$$\n",
        "\n",
        "**MultinomialNB implements the naive Bayes algorithm for discrete counts and is one of the two classic naive Bayes variants used in text classification** (where the data are typically represented as word vector counts).\n",
        "\n",
        "\n",
        "Find the implementation details of this algorithm in sklearn <a href=\"https://scikit-learn.org/stable/modules/generated/sklearn.naive_bayes.MultinomialNB.html#sklearn.naive_bayes.MultinomialNB\">here</a>."
      ]
    },
    {
      "cell_type": "markdown",
      "metadata": {
        "id": "9xWvPCJSCpdB"
      },
      "source": [
        "## <font color='#BFD72F'> 3.3. Bernoulli NB</font><a class=\"anchor\" id=\"bern\"></a>\n",
        "[Back to TOC](#toc)\n",
        "\n",
        "__Like MultinomialNB, this classifier is suitable for discrete data. The difference is that while MultinomialNB works with occurrence counts, BernoulliNB is designed for binary/boolean features.__\n",
        "\n",
        "\n",
        "Find the details on the implementation of this algorithm in sklearn <a href=\"https://scikit-learn.org/stable/modules/generated/sklearn.naive_bayes.BernoulliNB.html#sklearn.naive_bayes.BernoulliNB\">here</a>."
      ]
    },
    {
      "cell_type": "markdown",
      "metadata": {
        "id": "1Q1EtYArCpdB"
      },
      "source": [
        "# <font color='#BFD72F'>4. Instance Based Classifiers</font> <a class=\"anchor\" id=\"instance\"></a>"
      ]
    },
    {
      "cell_type": "markdown",
      "metadata": {
        "id": "kzpq9S2-CpdE"
      },
      "source": [
        "## <font color='#BFD72F'> 4.1. KNN Classifier</font> <a class=\"anchor\" id=\"knn\"></a>\n",
        "[Back to Contents](#toc)\n",
        "\n",
        "Now we are going to see the implementation of a KNN Classifier using sklearn. <br>\n",
        "Notice that the syntax is quite similar to the models used up to this point.\n",
        "\n",
        "We will continue with `insurance` scaled data (`X_train_scaled`, `X_test_scaled`, `y_train`, `y_test`)."
      ]
    },
    {
      "cell_type": "markdown",
      "metadata": {
        "id": "prCtbOymCpdE"
      },
      "source": [
        "**Step 1:** Using `KNeighborsClassifier`, create a Nearest Neighbor classifier instance called `modelKNN`. <br>\n",
        "\n",
        "Can check the default arguments <a href=\"https://scikit-learn.org/stable/modules/generated/sklearn.neighbors.KNeighborsClassifier.html\">here</a>."
      ]
    },
    {
      "cell_type": "code",
      "execution_count": null,
      "metadata": {
        "ExecuteTime": {
          "end_time": "2020-10-30T11:01:49.944823Z",
          "start_time": "2020-10-30T11:01:49.940832Z"
        },
        "id": "GngAxh0VCpdE"
      },
      "outputs": [],
      "source": [
        "modelKNN = KNeighborsClassifier()"
      ]
    },
    {
      "cell_type": "markdown",
      "metadata": {
        "id": "7c5flnFsCpdE"
      },
      "source": [
        "### <font color='#BFD72F'>4.1.1. Methods in KNeighborsClassifier </font>"
      ]
    },
    {
      "cell_type": "markdown",
      "metadata": {
        "id": "3koC2t3lCpdE"
      },
      "source": [
        "**Step 2:** Use the `.fit()` method to fit the model to the array of points `X_train_scaled` and `y_train`, i.e., associate the argument keyword `X` and `y`."
      ]
    },
    {
      "cell_type": "code",
      "execution_count": null,
      "metadata": {
        "ExecuteTime": {
          "end_time": "2020-10-30T11:01:49.966764Z",
          "start_time": "2020-10-30T11:01:49.946816Z"
        },
        "id": "IjgCovxYCpdF"
      },
      "outputs": [],
      "source": [
        "modelKNN.fit(X = X_train_scaled, y = y_train)"
      ]
    },
    {
      "cell_type": "markdown",
      "metadata": {
        "id": "KJ5-Bji9CpdF"
      },
      "source": [
        "**Step 3:** Use the `.predict()` method to perform classification in `X_train_scaled` and assign to the object `labels_train`. Do the same for `X_test_scaled` and assign to the object `labels_test`."
      ]
    },
    {
      "cell_type": "code",
      "execution_count": null,
      "metadata": {
        "ExecuteTime": {
          "end_time": "2020-10-30T11:01:49.991735Z",
          "start_time": "2020-10-30T11:01:49.968758Z"
        },
        "id": "dvLO-42XCpdF"
      },
      "outputs": [],
      "source": [
        "labels_train = modelKNN.predict(X_train_scaled)\n",
        "labels_test = modelKNN.predict(X_test_scaled)"
      ]
    },
    {
      "cell_type": "markdown",
      "metadata": {
        "id": "VHmnKVofCpdF"
      },
      "source": [
        "**Step 4:** Use the `.score()` method to obtain the mean accuracy of the given train data `X_train_scaled` and the true labels, `y_train`."
      ]
    },
    {
      "cell_type": "code",
      "execution_count": null,
      "metadata": {
        "ExecuteTime": {
          "end_time": "2020-10-30T11:01:50.035559Z",
          "start_time": "2020-10-30T11:01:50.008651Z"
        },
        "id": "QKwJ_4yZCpdF"
      },
      "outputs": [],
      "source": [
        "modelKNN.score(X_train_scaled, y_train)"
      ]
    },
    {
      "cell_type": "markdown",
      "metadata": {
        "id": "kMDtBl6QCpdF"
      },
      "source": [
        "**Step 5:** Use the `.score()` method to obtain the mean accuracy of the given train data `X_test_scaled` and the true labels, `y_test`."
      ]
    },
    {
      "cell_type": "code",
      "execution_count": null,
      "metadata": {
        "ExecuteTime": {
          "end_time": "2020-10-30T11:01:50.054016Z",
          "start_time": "2020-10-30T11:01:50.037706Z"
        },
        "id": "XInNhBppCpdF"
      },
      "outputs": [],
      "source": [
        "modelKNN.score(X_test_scaled, y_test)"
      ]
    },
    {
      "cell_type": "markdown",
      "metadata": {
        "id": "EbNO97ZhCpdF"
      },
      "source": [
        "Again, given the dataset we are using, these accuracy scores are **misleading** as a model performance metric. <br>\n",
        "\n",
        "Let us see what happens when we consider the F1_score, which again is not an explicitly callable methods:"
      ]
    },
    {
      "cell_type": "code",
      "execution_count": null,
      "metadata": {
        "id": "DkuU1c8YCpdG"
      },
      "outputs": [],
      "source": [
        "print(f'F1 Score between the y_train and labels_train: {f1_score(y_train, labels_train):.3f}\\n' +\n",
        "     f'F1 Score between the y_test and labels_test: {f1_score(y_test, labels_test):.3f}')"
      ]
    },
    {
      "cell_type": "markdown",
      "metadata": {
        "id": "V7uF2QohCpdG"
      },
      "source": [
        "### <font color='#BFD72F'> 4.1.2. Attributes in KNeighborsClassifier </font>"
      ]
    },
    {
      "cell_type": "markdown",
      "metadata": {
        "id": "D1BUpW24CpdG"
      },
      "source": [
        "**Step 6:** Call the attribute `.classes_` to check the class labels known to the classifier."
      ]
    },
    {
      "cell_type": "code",
      "execution_count": null,
      "metadata": {
        "ExecuteTime": {
          "end_time": "2020-10-30T11:01:50.086662Z",
          "start_time": "2020-10-30T11:01:50.072421Z"
        },
        "id": "e5HJ3GYaCpdG"
      },
      "outputs": [],
      "source": [
        "modelKNN.classes_"
      ]
    },
    {
      "cell_type": "markdown",
      "metadata": {
        "id": "zegONoCsCpdG"
      },
      "source": [
        "**Step 7:** Call the attribute `.effective_metric_` to verify the distance metric used."
      ]
    },
    {
      "cell_type": "code",
      "execution_count": null,
      "metadata": {
        "ExecuteTime": {
          "end_time": "2020-10-30T11:01:50.104060Z",
          "start_time": "2020-10-30T11:01:50.087661Z"
        },
        "id": "pCb3uAMpCpdG"
      },
      "outputs": [],
      "source": [
        "modelKNN.effective_metric_"
      ]
    },
    {
      "cell_type": "markdown",
      "metadata": {
        "id": "e2ILZhzjCpdG"
      },
      "source": [
        "### <font color='#BFD72F'> 4.1.3. Change the Number of Neighbors (k)</font>"
      ]
    },
    {
      "cell_type": "markdown",
      "metadata": {
        "id": "hyLuOreKCpdG"
      },
      "source": [
        "**Step 8:** We can change the number of neighbors to consider in order to classify new instances to 3 by creating a new KNN classifier where `n_neighbors=3`. Note that the default number of neighbors is 5."
      ]
    },
    {
      "cell_type": "code",
      "execution_count": null,
      "metadata": {
        "ExecuteTime": {
          "end_time": "2020-10-30T11:01:50.168556Z",
          "start_time": "2020-10-30T11:01:50.164597Z"
        },
        "id": "WHaJbtbwCpdH"
      },
      "outputs": [],
      "source": [
        "modelKNN3 = KNeighborsClassifier(n_neighbors=3)"
      ]
    },
    {
      "cell_type": "markdown",
      "metadata": {
        "id": "saxwLGe4CpdH"
      },
      "source": [
        "**Step 9:** Use the `.fit()` method to fit the model to the array of points `X_train_scaled` and `y_train`, i.e., associate the argument keyword `X` and `y`."
      ]
    },
    {
      "cell_type": "code",
      "execution_count": null,
      "metadata": {
        "ExecuteTime": {
          "end_time": "2020-10-30T11:01:50.188893Z",
          "start_time": "2020-10-30T11:01:50.175538Z"
        },
        "id": "3uXxL9oZCpdH"
      },
      "outputs": [],
      "source": [
        "modelKNN3.fit(X = X_train_scaled, y = y_train)"
      ]
    },
    {
      "cell_type": "markdown",
      "metadata": {
        "id": "e-qUz50JCpdH"
      },
      "source": [
        "**Step 10:** Use the `.score()` method to obtain the mean accuracy of the given train data `X_train_scaled` and the true labels, `y_train`."
      ]
    },
    {
      "cell_type": "code",
      "execution_count": null,
      "metadata": {
        "ExecuteTime": {
          "end_time": "2020-10-30T11:01:50.256035Z",
          "start_time": "2020-10-30T11:01:50.226982Z"
        },
        "id": "-M47udIkCpdH"
      },
      "outputs": [],
      "source": [
        "modelKNN3.score(X_train_scaled, y_train)"
      ]
    },
    {
      "cell_type": "markdown",
      "metadata": {
        "id": "OxVYijXmCpdH"
      },
      "source": [
        "**Step 11:** Use the `.score()` method to obtain the mean accuracy of the given train data `X_test_scaled` and the true labels, `y_test`."
      ]
    },
    {
      "cell_type": "code",
      "execution_count": null,
      "metadata": {
        "ExecuteTime": {
          "end_time": "2020-10-30T11:01:50.273002Z",
          "start_time": "2020-10-30T11:01:50.258044Z"
        },
        "id": "Je_ZfFNYCpdH"
      },
      "outputs": [],
      "source": [
        "modelKNN3.score(X_test_scaled, y_test)"
      ]
    },
    {
      "cell_type": "markdown",
      "metadata": {
        "id": "tToTRpLACpdI"
      },
      "source": [
        "**Step 11.1:** Obtain the F1 score for the output predictions."
      ]
    },
    {
      "cell_type": "code",
      "execution_count": null,
      "metadata": {
        "id": "SBLRS9EkCpdI"
      },
      "outputs": [],
      "source": [
        "labels_train = modelKNN3.predict(X_train_scaled)\n",
        "labels_test = modelKNN3.predict(X_test_scaled)"
      ]
    },
    {
      "cell_type": "code",
      "execution_count": null,
      "metadata": {
        "id": "ozy3o-9NCpdI"
      },
      "outputs": [],
      "source": [
        "print(f'F1 Score between the y_train and labels_train: {f1_score(y_train, labels_train):.3f}\\n' +\n",
        "     f'F1 Score between the y_test and labels_test: {f1_score(y_test, labels_test):.3f}')"
      ]
    },
    {
      "cell_type": "markdown",
      "metadata": {
        "id": "RyHzdKWkCpdI"
      },
      "source": [
        "#### 4.1.3.1. Choosing K\n",
        "\n",
        "Lets compare the results between a KNN model when the number of neighbors is small and when is large...\n",
        "\n",
        "__Note:__\n",
        "1) A small number of neighbors generally leads to overfitting; <br>\n",
        "2) A big number of neighbors generally leads to underfitting.<br>\n"
      ]
    },
    {
      "cell_type": "markdown",
      "source": [
        "![overfit.png](data:image/png;base64,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)"
      ],
      "metadata": {
        "id": "4RFmpLax_tSh"
      }
    },
    {
      "cell_type": "markdown",
      "metadata": {
        "id": "4guvnu_eCpdI"
      },
      "source": [
        "__Number of Neighbors = 1__"
      ]
    },
    {
      "cell_type": "code",
      "execution_count": null,
      "metadata": {
        "id": "OYR6WjYOCpdI"
      },
      "outputs": [],
      "source": [
        "modelKNN1 = KNeighborsClassifier(n_neighbors=1).fit(X = X_train_scaled, y = y_train)\n",
        "\n",
        "labels_train = modelKNN1.predict(X_train_scaled)\n",
        "labels_test = modelKNN1.predict(X_test_scaled)\n",
        "\n",
        "print(f'F1 Score between the y_train and labels_train: {f1_score(y_train, labels_train):.3f}\\n' +\n",
        "     f'F1 Score between the y_test and labels_test: {f1_score(y_test, labels_test):.3f}')"
      ]
    },
    {
      "cell_type": "markdown",
      "metadata": {
        "id": "bbq27utoCpdI"
      },
      "source": [
        "__Number of Neighbors = 5__"
      ]
    },
    {
      "cell_type": "code",
      "execution_count": null,
      "metadata": {
        "id": "fVDw6xpCCpdI"
      },
      "outputs": [],
      "source": [
        "modelKNN5 = KNeighborsClassifier().fit(X = X_train_scaled, y = y_train)\n",
        "\n",
        "labels_train = modelKNN5.predict(X_train_scaled)\n",
        "labels_test = modelKNN5.predict(X_test_scaled)\n",
        "\n",
        "print(f'F1 Score between the y_train and labels_train: {f1_score(y_train, labels_train):.3f}\\n' +\n",
        "     f'F1 Score between the y_test and labels_test: {f1_score(y_test, labels_test):.3f}')"
      ]
    },
    {
      "cell_type": "markdown",
      "metadata": {
        "id": "JujwOLzgCpdJ"
      },
      "source": [
        "__Number of Neighbors = 100__"
      ]
    },
    {
      "cell_type": "code",
      "execution_count": null,
      "metadata": {
        "id": "869XvzZ1CpdJ"
      },
      "outputs": [],
      "source": [
        "modelKNN100 = KNeighborsClassifier(n_neighbors=100).fit(X = X_train_scaled, y = y_train)\n",
        "\n",
        "labels_train = modelKNN100.predict(X_train_scaled)\n",
        "labels_test = modelKNN100.predict(X_test_scaled)\n",
        "\n",
        "print(f'F1 Score between the y_train and labels_train: {f1_score(y_train, labels_train):.3f}\\n' +\n",
        "     f'F1 Score between the y_test and labels_test: {f1_score(y_test, labels_test):.3f}')"
      ]
    },
    {
      "cell_type": "markdown",
      "metadata": {
        "id": "rfHY2zD5CpdJ"
      },
      "source": [
        "**Step 12:** To identify the optimal number of neighbors to select, we can use a loop to test the mean F1-score on unseen data for k ranging between 1 to 30.<br>\n",
        "Check the number of neighbors to keep and the F1 score in the train and test for that number of neighbors."
      ]
    },
    {
      "cell_type": "code",
      "execution_count": null,
      "metadata": {
        "id": "8EX2df4ICpdJ"
      },
      "outputs": [],
      "source": [
        "numberK_list=np.arange(1,31)\n",
        "high_score=0\n",
        "nof=0\n",
        "score_list_train =[]\n",
        "score_list_test =[]\n",
        "for n in numberK_list:\n",
        "    model = KNeighborsClassifier(n_neighbors = n).fit(X_train_scaled, y_train)\n",
        "\n",
        "    #obtain predictions\n",
        "    labels_train = model.predict(X_train_scaled)\n",
        "    labels_test = model.predict(X_test_scaled)\n",
        "\n",
        "    score_train = f1_score(y_train, labels_train)\n",
        "    score_test = f1_score(y_test, labels_test)\n",
        "    score_list_train.append(score_train)\n",
        "    score_list_test.append(score_test)\n",
        "\n",
        "    if(score_test>high_score):\n",
        "        high_score = score_test\n",
        "        nof = numberK_list[n]\n",
        "print(\"Best number of neighbors: %d\" %nof)\n",
        "print(\"Mean F1-score in train with %d neighbors: %f\" % (nof, score_list_train[nof-1]))\n",
        "print(\"Mean F1-score in validation with %d neighbors: %f\" % (nof, high_score))"
      ]
    },
    {
      "cell_type": "markdown",
      "metadata": {
        "id": "wsrwG7ObCpdJ"
      },
      "source": [
        "**Step 12.1:** Run the cell below to create a line plot with the train and validation scores, relative to the number of neighbors."
      ]
    },
    {
      "cell_type": "code",
      "execution_count": null,
      "metadata": {
        "id": "fdce-2CRCpdJ"
      },
      "outputs": [],
      "source": [
        "plt.plot(numberK_list, score_list_train, label='Train')\n",
        "plt.plot(numberK_list, score_list_test, label = 'Test')\n",
        "plt.vlines(x=nof,ymax=high_score,ymin=min(score_list_test),ls='--',colors='g')\n",
        "plt.xticks(numberK_list)\n",
        "plt.xlabel('k')\n",
        "plt.ylabel('score')\n",
        "plt.legend()\n",
        "plt.xticks(np.arange(0,31,2))\n",
        "plt.show()"
      ]
    },
    {
      "cell_type": "markdown",
      "metadata": {
        "id": "zy1kkkNTCpdK"
      },
      "source": [
        "### <font color='#BFD72F'> 4.1.4 Change the Distance Metric</font>"
      ]
    },
    {
      "cell_type": "markdown",
      "metadata": {
        "id": "-BqmX91dCpdK"
      },
      "source": [
        "**Step 13:** We can change the distance used from `Euclidean` to others such as the `Manhattan` distance by creating a new KNN classifier where `metric` = manhattan."
      ]
    },
    {
      "cell_type": "code",
      "execution_count": null,
      "metadata": {
        "ExecuteTime": {
          "end_time": "2020-10-30T11:01:50.389418Z",
          "start_time": "2020-10-30T11:01:50.385830Z"
        },
        "id": "5kin5kAuCpdK"
      },
      "outputs": [],
      "source": [
        "modelKNNM = KNeighborsClassifier(metric='manhattan')"
      ]
    },
    {
      "cell_type": "markdown",
      "metadata": {
        "id": "73xZJKuPCpdK"
      },
      "source": [
        "**Step 14:** Use the `.fit()` method to fit the model to the array of points `X_train_scaled` and `y_train`, i.e., associate the argument keyword `X` and `y`."
      ]
    },
    {
      "cell_type": "code",
      "execution_count": null,
      "metadata": {
        "ExecuteTime": {
          "end_time": "2020-10-30T11:01:50.402618Z",
          "start_time": "2020-10-30T11:01:50.391414Z"
        },
        "id": "ItWoTvatCpdK"
      },
      "outputs": [],
      "source": [
        "modelKNNM.fit(X = X_train_scaled, y = y_train)"
      ]
    },
    {
      "cell_type": "markdown",
      "metadata": {
        "id": "lV08QBnOCpdK"
      },
      "source": [
        "**Step 15:** Use the `.predict()` method to perform classification in `X_train_scaled` and assign to the object `labels_train`. Do the same for `X_test_scaled` and assign to the object `labels_test`."
      ]
    },
    {
      "cell_type": "code",
      "execution_count": null,
      "metadata": {
        "ExecuteTime": {
          "end_time": "2020-10-30T11:01:50.464029Z",
          "start_time": "2020-10-30T11:01:50.441990Z"
        },
        "id": "K7uuBHr2CpdK"
      },
      "outputs": [],
      "source": [
        "labels_train = modelKNNM.predict(X_train_scaled)\n",
        "labels_test = modelKNNM.predict(X_test_scaled)"
      ]
    },
    {
      "cell_type": "markdown",
      "metadata": {
        "id": "oJunomcrCpdK"
      },
      "source": [
        "**Step 15.1:** Obtain the F1 score for the output predictions."
      ]
    },
    {
      "cell_type": "code",
      "execution_count": null,
      "metadata": {
        "ExecuteTime": {
          "end_time": "2020-10-30T11:01:50.481891Z",
          "start_time": "2020-10-30T11:01:50.466832Z"
        },
        "id": "HWrkPGYUCpdL"
      },
      "outputs": [],
      "source": [
        "print(f'F1 Score between the y_train and labels_train: {f1_score(y_train, labels_train):.3f}\\n' +\n",
        "     f'F1 Score between the y_test and labels_test: {f1_score(y_test, labels_test):.3f}')"
      ]
    },
    {
      "cell_type": "markdown",
      "metadata": {
        "id": "86VQ4y4oCpdL"
      },
      "source": [
        "__What is the difference between using the Euclidean or Manhattan Distance?__\n",
        "\n",
        "In <a href=https://bib.dbvis.de/uploadedFiles/155.pdf> this paper</a>, the authors defend that Manhattan distance may be preferable to Euclidean distance for the case of high dimensional data."
      ]
    },
    {
      "cell_type": "markdown",
      "metadata": {
        "id": "J-dl-z_cCpdL"
      },
      "source": [
        "### <font color='#BFD72F'> 4.1.5. Distance Weighted KNN</font>"
      ]
    },
    {
      "cell_type": "markdown",
      "metadata": {
        "id": "p-5Ng-EqCpdL"
      },
      "source": [
        "**Step 16:** We can change the distance weighted in KNN by changing the weights from uniform (so all neighbors have the same weight), which is the default setting, to `weights='distance'`."
      ]
    },
    {
      "cell_type": "code",
      "execution_count": null,
      "metadata": {
        "ExecuteTime": {
          "end_time": "2020-10-30T11:01:50.489771Z",
          "start_time": "2020-10-30T11:01:50.484808Z"
        },
        "id": "ONIXc-P_CpdL"
      },
      "outputs": [],
      "source": [
        "modelKNNW= KNeighborsClassifier(weights='distance')"
      ]
    },
    {
      "cell_type": "markdown",
      "metadata": {
        "id": "gKgm6GhaCpdL"
      },
      "source": [
        "**Step 17:** Use the `.fit()` method to fit the model to the array of points `X_train_scaled` and `y_train`, i.e., associate the argument keyword `X` and `y`."
      ]
    },
    {
      "cell_type": "code",
      "execution_count": null,
      "metadata": {
        "ExecuteTime": {
          "end_time": "2020-10-30T11:01:50.508966Z",
          "start_time": "2020-10-30T11:01:50.493762Z"
        },
        "id": "5-assOmmCpdL"
      },
      "outputs": [],
      "source": [
        "modelKNNW.fit(X = X_train_scaled, y = y_train)"
      ]
    },
    {
      "cell_type": "markdown",
      "metadata": {
        "id": "qkHSO3BZCpdL"
      },
      "source": [
        "**Step 18:** Use the `.predict()` method to perform classification in `X_train_scaled` and assign to the object `labels_train`. Do the same for `X_test_scaled` and assign to the object `labels_test`."
      ]
    },
    {
      "cell_type": "code",
      "execution_count": null,
      "metadata": {
        "ExecuteTime": {
          "end_time": "2020-10-30T11:01:50.561200Z",
          "start_time": "2020-10-30T11:01:50.548231Z"
        },
        "id": "xx3dmIrgCpdL"
      },
      "outputs": [],
      "source": [
        "labels_train = modelKNNW.predict(X_train_scaled)\n",
        "labels_test = modelKNNW.predict(X_test_scaled)"
      ]
    },
    {
      "cell_type": "markdown",
      "metadata": {
        "id": "BlTNeHM8CpdL"
      },
      "source": [
        "**Step 18.1:** Obtain the F1 score for the output predictions."
      ]
    },
    {
      "cell_type": "code",
      "execution_count": null,
      "metadata": {
        "ExecuteTime": {
          "end_time": "2020-10-30T11:01:50.577744Z",
          "start_time": "2020-10-30T11:01:50.564190Z"
        },
        "id": "fmZAxPNYCpdM"
      },
      "outputs": [],
      "source": [
        "print(f'F1 Score between the y_train and labels_train: {f1_score(y_train, labels_train):.3f}\\n' +\n",
        "     f'F1 Score between the y_test and labels_test: {f1_score(y_test, labels_test):.3f}')"
      ]
    },
    {
      "cell_type": "markdown",
      "metadata": {
        "id": "17bpzgp-KOnZ"
      },
      "source": [
        "## <font color='#BFD72F'> 4.2. Ball Tree</font> <a class=\"anchor\" id=\"ball\"></a>\n",
        "[Back to Contents](#toc)\n",
        "\n",
        "Now lets briefly check the implementation of Ball Tree using sklearn to discover of neighborhood points."
      ]
    },
    {
      "cell_type": "markdown",
      "metadata": {
        "id": "fbkZqz-tKOnZ"
      },
      "source": [
        "**Step 19:** Using `BallTree`, create an instance called `btree`, using `X_train_scaled`. <br>\n",
        "\n",
        "More information <a href=\"https://scikit-learn.org/stable/modules/generated/sklearn.neighbors.BallTree.html#sklearn.neighbors.BallTree\">here</a>."
      ]
    },
    {
      "cell_type": "code",
      "execution_count": null,
      "metadata": {
        "id": "SedhP7XwKOnZ"
      },
      "outputs": [],
      "source": [
        "btree = BallTree(X_train_scaled)"
      ]
    },
    {
      "cell_type": "markdown",
      "metadata": {
        "id": "X99LLwkXKOna"
      },
      "source": [
        "**Step 20:** Query the tree for k=5 nearest neighbors."
      ]
    },
    {
      "cell_type": "code",
      "execution_count": null,
      "metadata": {
        "id": "lyXxSyG1KOna"
      },
      "outputs": [],
      "source": [
        "btree.query(X_train_scaled, k=5, return_distance=False)"
      ]
    },
    {
      "cell_type": "markdown",
      "metadata": {
        "id": "pRPVGy2CKOnb"
      },
      "source": [
        "**Step 20.1:** Check if the first datapoints are close."
      ]
    },
    {
      "cell_type": "code",
      "execution_count": null,
      "metadata": {
        "id": "8MIRJGYnKOnb"
      },
      "outputs": [],
      "source": [
        "X_train_scaled.iloc[[0, 553, 242, 479, 278]]"
      ]
    },
    {
      "cell_type": "markdown",
      "metadata": {
        "id": "4V3X7v2zKOnb"
      },
      "source": [
        "**Step 21:** Check the neighbors using `NearestNeighbors()`, an unsupervised learner for implementing neighbor searches.\n",
        "\n",
        "More information <a href=\"https://scikit-learn.org/stable/modules/generated/sklearn.neighbors.NearestNeighbors.html#sklearn.neighbors.NearestNeighbors\">here</a>."
      ]
    },
    {
      "cell_type": "code",
      "execution_count": null,
      "metadata": {
        "id": "vboXeyo4KOnb"
      },
      "outputs": [],
      "source": [
        "nbrs = NearestNeighbors(n_neighbors=5, algorithm='ball_tree').fit(X_train_scaled)\n",
        "nbrs.kneighbors(X_train_scaled)[1]"
      ]
    },
    {
      "cell_type": "markdown",
      "metadata": {
        "id": "71zz5buUKOnc"
      },
      "source": [
        "## <font color='#BFD72F'> 4.3. KD Tree</font> <a class=\"anchor\" id=\"kdt\"></a>\n",
        "[Back to Contents](#toc)"
      ]
    },
    {
      "cell_type": "markdown",
      "metadata": {
        "id": "8-aHVCIXKOnc"
      },
      "source": [
        "Sklearn also has an inplementation for KD Tree as described <a href=\"https://scikit-learn.org/stable/modules/generated/sklearn.neighbors.KDTree.html#sklearn.neighbors.KDTree\">here</a>, but can also use `NearestNeighbors()`."
      ]
    },
    {
      "cell_type": "markdown",
      "metadata": {
        "id": "n8a2Tey5KOnc"
      },
      "source": [
        "**Step 22:** Check the 5 nearest neighbors using `NearestNeighbors()`, with `algorithm`='kd_tree', and compare with the previous."
      ]
    },
    {
      "cell_type": "code",
      "execution_count": null,
      "metadata": {
        "id": "F2Hy51KkKOnc"
      },
      "outputs": [],
      "source": [
        "nbrs = NearestNeighbors(n_neighbors=5, algorithm='kd_tree').fit(X_train_scaled)\n",
        "dist, ind = nbrs.kneighbors(X_train_scaled)\n",
        "ind"
      ]
    },
    {
      "cell_type": "markdown",
      "metadata": {
        "id": "79L0bTJ7CpdM"
      },
      "source": [
        "## Don't forget to practice at home :)"
      ]
    }
  ],
  "metadata": {
    "colab": {
      "provenance": []
    },
    "kernelspec": {
      "display_name": "Python 3 (ipykernel)",
      "language": "python",
      "name": "python3"
    },
    "language_info": {
      "codemirror_mode": {
        "name": "ipython",
        "version": 3
      },
      "file_extension": ".py",
      "mimetype": "text/x-python",
      "name": "python",
      "nbconvert_exporter": "python",
      "pygments_lexer": "ipython3",
      "version": "3.11.3"
    },
    "toc": {
      "base_numbering": 1,
      "nav_menu": {},
      "number_sections": true,
      "sideBar": true,
      "skip_h1_title": false,
      "title_cell": "Table of Contents",
      "title_sidebar": "Contents",
      "toc_cell": false,
      "toc_position": {},
      "toc_section_display": true,
      "toc_window_display": false
    },
    "varInspector": {
      "cols": {
        "lenName": 16,
        "lenType": 16,
        "lenVar": 40
      },
      "kernels_config": {
        "python": {
          "delete_cmd_postfix": "",
          "delete_cmd_prefix": "del ",
          "library": "var_list.py",
          "varRefreshCmd": "print(var_dic_list())"
        },
        "r": {
          "delete_cmd_postfix": ") ",
          "delete_cmd_prefix": "rm(",
          "library": "var_list.r",
          "varRefreshCmd": "cat(var_dic_list()) "
        }
      },
      "types_to_exclude": [
        "module",
        "function",
        "builtin_function_or_method",
        "instance",
        "_Feature"
      ],
      "window_display": true
    }
  },
  "nbformat": 4,
  "nbformat_minor": 0
}