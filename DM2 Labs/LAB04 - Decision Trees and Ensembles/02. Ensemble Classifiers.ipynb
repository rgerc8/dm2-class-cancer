{
 "cells": [
  {
   "cell_type": "markdown",
   "id": "42fcce57",
   "metadata": {
    "id": "42fcce57"
   },
   "source": [
    "<b><font size=\"6\"><u>Ensemble Classifiers</u></font></b>\n",
    "\n",
    "In this notebook we are going to apply Ensemble Classifiers in Python.\n",
    "\n",
    "Ensemble Methods, specifically, **bagging, boosting and stacking** combine the results from a set of classification models (classifiers), in order to increase the accuracy and reduce the variability of the classification.\n",
    "\n",
    "# <font color='#BFD72F'>Contents</font> <a class=\"anchor\" id=\"toc\"></a>\n",
    "\n",
    "* [1 - Initial Steps](#first-bullet)\n",
    "    * [1.1 - Connect to Google Colab](#first-bullet)\n",
    "    * [1.2 - Importing Libraries and Data](#import)\n",
    "    * [1.3 - Split the Data](#split)\n",
    "* [2 - Bagging](#bagging)\n",
    "    * [2.1 - BaggingClassifier with Decision Tree](#bg)\n",
    "    * [2.2 - Attributes in BaggingClassifier](#attbg)\n",
    "    * [2.3 - Parameters in BaggingClassifier](#parbg)\n",
    "    * [2.4 - Visual comparison of models' accuracy](#comp1)\n",
    "* [3 - Random Forests](#forest)\n",
    "    * [3.1 - Visual comparison with previous models](#comp2)\n",
    "* [4 - Boosting](#boost)\n",
    "    * [4.1 - Visual comparison with previous models](#comp3)\n",
    "* [5 - Stacking](#stack)\n",
    "* [6 - GridSearch](#extra)"
   ]
  },
  {
   "cell_type": "markdown",
   "id": "8592352a",
   "metadata": {
    "id": "8592352a"
   },
   "source": [
    "# <font color='#BFD72F'>1. Initial Steps</font> <a class=\"anchor\" id=\"first-bullet\"></a>"
   ]
  },
  {
   "cell_type": "markdown",
   "id": "GKc5VDxi6iV-",
   "metadata": {
    "id": "GKc5VDxi6iV-"
   },
   "source": [
    "## <font color='#BFD72F'>1.1. Connect to Google Colab</font> <a class=\"anchor\" id=\"first-bullet\"></a>\n",
    "[Back to Contents](#toc)\n",
    "\n",
    "**Step 1 -** Connect the google colab notebook with your google drive. Before running the code below, make sure you have this notebook in the folders mentioned in the variable `path`.<br>"
   ]
  },
  {
   "cell_type": "code",
   "execution_count": 1,
   "id": "0b-WCUva6tg_",
   "metadata": {
    "colab": {
     "base_uri": "https://localhost:8080/"
    },
    "executionInfo": {
     "elapsed": 26109,
     "status": "ok",
     "timestamp": 1724246054005,
     "user": {
      "displayName": "Tiago Martins",
      "userId": "14571988070475468280"
     },
     "user_tz": -60
    },
    "id": "0b-WCUva6tg_",
    "outputId": "64615c8c-d650-42a9-d1b9-fa57af780a7b"
   },
   "outputs": [
    {
     "name": "stdout",
     "output_type": "stream",
     "text": [
      "Mounted at /content/drive\n"
     ]
    }
   ],
   "source": [
    "# Connect Google Colab to Drive\n",
    "from google.colab import drive\n",
    "drive.mount('/content/drive', force_remount=True)\n",
    "path = '/content/drive/MyDrive/Colab Notebooks/DM2/LAB04 - Decision Trees and Ensembles/'"
   ]
  },
  {
   "cell_type": "markdown",
   "id": "26ec773f",
   "metadata": {
    "id": "26ec773f"
   },
   "source": [
    "## <font color='#BFD72F'>1.2. Importing Libraries and Data</font><a class=\"anchor\" id=\"import\"></a>\n",
    "[Back to Contents](#toc)\n",
    "\n",
    "**Step 2 -** Import the needed libraries."
   ]
  },
  {
   "cell_type": "code",
   "execution_count": 2,
   "id": "44129a36",
   "metadata": {
    "executionInfo": {
     "elapsed": 4270,
     "status": "ok",
     "timestamp": 1724246058255,
     "user": {
      "displayName": "Tiago Martins",
      "userId": "14571988070475468280"
     },
     "user_tz": -60
    },
    "id": "44129a36"
   },
   "outputs": [],
   "source": [
    "import pandas as pd\n",
    "from sklearn.model_selection import train_test_split\n",
    "import numpy as np\n",
    "import matplotlib.pyplot as plt"
   ]
  },
  {
   "cell_type": "markdown",
   "id": "d562390b",
   "metadata": {
    "id": "d562390b"
   },
   "source": [
    "**Step 3 -** Import the data that is going to be used into `pandas` dataframes.\n",
    "\n",
    "**Step 3.1 -** Import and check the diabetes dataset."
   ]
  },
  {
   "cell_type": "code",
   "execution_count": 3,
   "id": "9cf6af49",
   "metadata": {
    "colab": {
     "base_uri": "https://localhost:8080/",
     "height": 163
    },
    "executionInfo": {
     "elapsed": 825,
     "status": "ok",
     "timestamp": 1724246059068,
     "user": {
      "displayName": "Tiago Martins",
      "userId": "14571988070475468280"
     },
     "user_tz": -60
    },
    "id": "9cf6af49",
    "outputId": "90577a40-38ff-41b9-927a-2f4bc389f0ca"
   },
   "outputs": [
    {
     "data": {
      "application/vnd.google.colaboratory.intrinsic+json": {
       "summary": "{\n  \"name\": \"diabetes\",\n  \"rows\": 768,\n  \"fields\": [\n    {\n      \"column\": \"Pregnancies\",\n      \"properties\": {\n        \"dtype\": \"number\",\n        \"std\": 3,\n        \"min\": 0,\n        \"max\": 17,\n        \"num_unique_values\": 17,\n        \"samples\": [\n          6,\n          1,\n          3\n        ],\n        \"semantic_type\": \"\",\n        \"description\": \"\"\n      }\n    },\n    {\n      \"column\": \"Glucose\",\n      \"properties\": {\n        \"dtype\": \"number\",\n        \"std\": 31,\n        \"min\": 0,\n        \"max\": 199,\n        \"num_unique_values\": 136,\n        \"samples\": [\n          151,\n          101,\n          112\n        ],\n        \"semantic_type\": \"\",\n        \"description\": \"\"\n      }\n    },\n    {\n      \"column\": \"BloodPressure\",\n      \"properties\": {\n        \"dtype\": \"number\",\n        \"std\": 19,\n        \"min\": 0,\n        \"max\": 122,\n        \"num_unique_values\": 47,\n        \"samples\": [\n          86,\n          46,\n          85\n        ],\n        \"semantic_type\": \"\",\n        \"description\": \"\"\n      }\n    },\n    {\n      \"column\": \"SkinThickness\",\n      \"properties\": {\n        \"dtype\": \"number\",\n        \"std\": 15,\n        \"min\": 0,\n        \"max\": 99,\n        \"num_unique_values\": 51,\n        \"samples\": [\n          7,\n          12,\n          48\n        ],\n        \"semantic_type\": \"\",\n        \"description\": \"\"\n      }\n    },\n    {\n      \"column\": \"Insulin\",\n      \"properties\": {\n        \"dtype\": \"number\",\n        \"std\": 115,\n        \"min\": 0,\n        \"max\": 846,\n        \"num_unique_values\": 186,\n        \"samples\": [\n          52,\n          41,\n          183\n        ],\n        \"semantic_type\": \"\",\n        \"description\": \"\"\n      }\n    },\n    {\n      \"column\": \"BMI\",\n      \"properties\": {\n        \"dtype\": \"number\",\n        \"std\": 7.884160320375446,\n        \"min\": 0.0,\n        \"max\": 67.1,\n        \"num_unique_values\": 248,\n        \"samples\": [\n          19.9,\n          31.0,\n          38.1\n        ],\n        \"semantic_type\": \"\",\n        \"description\": \"\"\n      }\n    },\n    {\n      \"column\": \"DiabetesPedigreeFunction\",\n      \"properties\": {\n        \"dtype\": \"number\",\n        \"std\": 0.3313285950127749,\n        \"min\": 0.078,\n        \"max\": 2.42,\n        \"num_unique_values\": 517,\n        \"samples\": [\n          1.731,\n          0.426,\n          0.138\n        ],\n        \"semantic_type\": \"\",\n        \"description\": \"\"\n      }\n    },\n    {\n      \"column\": \"Age\",\n      \"properties\": {\n        \"dtype\": \"number\",\n        \"std\": 11,\n        \"min\": 21,\n        \"max\": 81,\n        \"num_unique_values\": 52,\n        \"samples\": [\n          60,\n          47,\n          72\n        ],\n        \"semantic_type\": \"\",\n        \"description\": \"\"\n      }\n    },\n    {\n      \"column\": \"Outcome\",\n      \"properties\": {\n        \"dtype\": \"number\",\n        \"std\": 0,\n        \"min\": 0,\n        \"max\": 1,\n        \"num_unique_values\": 2,\n        \"samples\": [\n          0,\n          1\n        ],\n        \"semantic_type\": \"\",\n        \"description\": \"\"\n      }\n    }\n  ]\n}",
       "type": "dataframe",
       "variable_name": "diabetes"
      },
      "text/html": [
       "\n",
       "  <div id=\"df-72c2e4f4-5e55-4183-8275-59d54a8104e5\" class=\"colab-df-container\">\n",
       "    <div>\n",
       "<style scoped>\n",
       "    .dataframe tbody tr th:only-of-type {\n",
       "        vertical-align: middle;\n",
       "    }\n",
       "\n",
       "    .dataframe tbody tr th {\n",
       "        vertical-align: top;\n",
       "    }\n",
       "\n",
       "    .dataframe thead th {\n",
       "        text-align: right;\n",
       "    }\n",
       "</style>\n",
       "<table border=\"1\" class=\"dataframe\">\n",
       "  <thead>\n",
       "    <tr style=\"text-align: right;\">\n",
       "      <th></th>\n",
       "      <th>Pregnancies</th>\n",
       "      <th>Glucose</th>\n",
       "      <th>BloodPressure</th>\n",
       "      <th>SkinThickness</th>\n",
       "      <th>Insulin</th>\n",
       "      <th>BMI</th>\n",
       "      <th>DiabetesPedigreeFunction</th>\n",
       "      <th>Age</th>\n",
       "      <th>Outcome</th>\n",
       "    </tr>\n",
       "  </thead>\n",
       "  <tbody>\n",
       "    <tr>\n",
       "      <th>0</th>\n",
       "      <td>6</td>\n",
       "      <td>148</td>\n",
       "      <td>72</td>\n",
       "      <td>35</td>\n",
       "      <td>0</td>\n",
       "      <td>33.6</td>\n",
       "      <td>0.627</td>\n",
       "      <td>50</td>\n",
       "      <td>1</td>\n",
       "    </tr>\n",
       "    <tr>\n",
       "      <th>1</th>\n",
       "      <td>1</td>\n",
       "      <td>85</td>\n",
       "      <td>66</td>\n",
       "      <td>29</td>\n",
       "      <td>0</td>\n",
       "      <td>26.6</td>\n",
       "      <td>0.351</td>\n",
       "      <td>31</td>\n",
       "      <td>0</td>\n",
       "    </tr>\n",
       "    <tr>\n",
       "      <th>2</th>\n",
       "      <td>8</td>\n",
       "      <td>183</td>\n",
       "      <td>64</td>\n",
       "      <td>0</td>\n",
       "      <td>0</td>\n",
       "      <td>23.3</td>\n",
       "      <td>0.672</td>\n",
       "      <td>32</td>\n",
       "      <td>1</td>\n",
       "    </tr>\n",
       "  </tbody>\n",
       "</table>\n",
       "</div>\n",
       "    <div class=\"colab-df-buttons\">\n",
       "\n",
       "  <div class=\"colab-df-container\">\n",
       "    <button class=\"colab-df-convert\" onclick=\"convertToInteractive('df-72c2e4f4-5e55-4183-8275-59d54a8104e5')\"\n",
       "            title=\"Convert this dataframe to an interactive table.\"\n",
       "            style=\"display:none;\">\n",
       "\n",
       "  <svg xmlns=\"http://www.w3.org/2000/svg\" height=\"24px\" viewBox=\"0 -960 960 960\">\n",
       "    <path d=\"M120-120v-720h720v720H120Zm60-500h600v-160H180v160Zm220 220h160v-160H400v160Zm0 220h160v-160H400v160ZM180-400h160v-160H180v160Zm440 0h160v-160H620v160ZM180-180h160v-160H180v160Zm440 0h160v-160H620v160Z\"/>\n",
       "  </svg>\n",
       "    </button>\n",
       "\n",
       "  <style>\n",
       "    .colab-df-container {\n",
       "      display:flex;\n",
       "      gap: 12px;\n",
       "    }\n",
       "\n",
       "    .colab-df-convert {\n",
       "      background-color: #E8F0FE;\n",
       "      border: none;\n",
       "      border-radius: 50%;\n",
       "      cursor: pointer;\n",
       "      display: none;\n",
       "      fill: #1967D2;\n",
       "      height: 32px;\n",
       "      padding: 0 0 0 0;\n",
       "      width: 32px;\n",
       "    }\n",
       "\n",
       "    .colab-df-convert:hover {\n",
       "      background-color: #E2EBFA;\n",
       "      box-shadow: 0px 1px 2px rgba(60, 64, 67, 0.3), 0px 1px 3px 1px rgba(60, 64, 67, 0.15);\n",
       "      fill: #174EA6;\n",
       "    }\n",
       "\n",
       "    .colab-df-buttons div {\n",
       "      margin-bottom: 4px;\n",
       "    }\n",
       "\n",
       "    [theme=dark] .colab-df-convert {\n",
       "      background-color: #3B4455;\n",
       "      fill: #D2E3FC;\n",
       "    }\n",
       "\n",
       "    [theme=dark] .colab-df-convert:hover {\n",
       "      background-color: #434B5C;\n",
       "      box-shadow: 0px 1px 3px 1px rgba(0, 0, 0, 0.15);\n",
       "      filter: drop-shadow(0px 1px 2px rgba(0, 0, 0, 0.3));\n",
       "      fill: #FFFFFF;\n",
       "    }\n",
       "  </style>\n",
       "\n",
       "    <script>\n",
       "      const buttonEl =\n",
       "        document.querySelector('#df-72c2e4f4-5e55-4183-8275-59d54a8104e5 button.colab-df-convert');\n",
       "      buttonEl.style.display =\n",
       "        google.colab.kernel.accessAllowed ? 'block' : 'none';\n",
       "\n",
       "      async function convertToInteractive(key) {\n",
       "        const element = document.querySelector('#df-72c2e4f4-5e55-4183-8275-59d54a8104e5');\n",
       "        const dataTable =\n",
       "          await google.colab.kernel.invokeFunction('convertToInteractive',\n",
       "                                                    [key], {});\n",
       "        if (!dataTable) return;\n",
       "\n",
       "        const docLinkHtml = 'Like what you see? Visit the ' +\n",
       "          '<a target=\"_blank\" href=https://colab.research.google.com/notebooks/data_table.ipynb>data table notebook</a>'\n",
       "          + ' to learn more about interactive tables.';\n",
       "        element.innerHTML = '';\n",
       "        dataTable['output_type'] = 'display_data';\n",
       "        await google.colab.output.renderOutput(dataTable, element);\n",
       "        const docLink = document.createElement('div');\n",
       "        docLink.innerHTML = docLinkHtml;\n",
       "        element.appendChild(docLink);\n",
       "      }\n",
       "    </script>\n",
       "  </div>\n",
       "\n",
       "\n",
       "<div id=\"df-7bd1a16e-4982-4a56-bfa7-c604d3538c7a\">\n",
       "  <button class=\"colab-df-quickchart\" onclick=\"quickchart('df-7bd1a16e-4982-4a56-bfa7-c604d3538c7a')\"\n",
       "            title=\"Suggest charts\"\n",
       "            style=\"display:none;\">\n",
       "\n",
       "<svg xmlns=\"http://www.w3.org/2000/svg\" height=\"24px\"viewBox=\"0 0 24 24\"\n",
       "     width=\"24px\">\n",
       "    <g>\n",
       "        <path d=\"M19 3H5c-1.1 0-2 .9-2 2v14c0 1.1.9 2 2 2h14c1.1 0 2-.9 2-2V5c0-1.1-.9-2-2-2zM9 17H7v-7h2v7zm4 0h-2V7h2v10zm4 0h-2v-4h2v4z\"/>\n",
       "    </g>\n",
       "</svg>\n",
       "  </button>\n",
       "\n",
       "<style>\n",
       "  .colab-df-quickchart {\n",
       "      --bg-color: #E8F0FE;\n",
       "      --fill-color: #1967D2;\n",
       "      --hover-bg-color: #E2EBFA;\n",
       "      --hover-fill-color: #174EA6;\n",
       "      --disabled-fill-color: #AAA;\n",
       "      --disabled-bg-color: #DDD;\n",
       "  }\n",
       "\n",
       "  [theme=dark] .colab-df-quickchart {\n",
       "      --bg-color: #3B4455;\n",
       "      --fill-color: #D2E3FC;\n",
       "      --hover-bg-color: #434B5C;\n",
       "      --hover-fill-color: #FFFFFF;\n",
       "      --disabled-bg-color: #3B4455;\n",
       "      --disabled-fill-color: #666;\n",
       "  }\n",
       "\n",
       "  .colab-df-quickchart {\n",
       "    background-color: var(--bg-color);\n",
       "    border: none;\n",
       "    border-radius: 50%;\n",
       "    cursor: pointer;\n",
       "    display: none;\n",
       "    fill: var(--fill-color);\n",
       "    height: 32px;\n",
       "    padding: 0;\n",
       "    width: 32px;\n",
       "  }\n",
       "\n",
       "  .colab-df-quickchart:hover {\n",
       "    background-color: var(--hover-bg-color);\n",
       "    box-shadow: 0 1px 2px rgba(60, 64, 67, 0.3), 0 1px 3px 1px rgba(60, 64, 67, 0.15);\n",
       "    fill: var(--button-hover-fill-color);\n",
       "  }\n",
       "\n",
       "  .colab-df-quickchart-complete:disabled,\n",
       "  .colab-df-quickchart-complete:disabled:hover {\n",
       "    background-color: var(--disabled-bg-color);\n",
       "    fill: var(--disabled-fill-color);\n",
       "    box-shadow: none;\n",
       "  }\n",
       "\n",
       "  .colab-df-spinner {\n",
       "    border: 2px solid var(--fill-color);\n",
       "    border-color: transparent;\n",
       "    border-bottom-color: var(--fill-color);\n",
       "    animation:\n",
       "      spin 1s steps(1) infinite;\n",
       "  }\n",
       "\n",
       "  @keyframes spin {\n",
       "    0% {\n",
       "      border-color: transparent;\n",
       "      border-bottom-color: var(--fill-color);\n",
       "      border-left-color: var(--fill-color);\n",
       "    }\n",
       "    20% {\n",
       "      border-color: transparent;\n",
       "      border-left-color: var(--fill-color);\n",
       "      border-top-color: var(--fill-color);\n",
       "    }\n",
       "    30% {\n",
       "      border-color: transparent;\n",
       "      border-left-color: var(--fill-color);\n",
       "      border-top-color: var(--fill-color);\n",
       "      border-right-color: var(--fill-color);\n",
       "    }\n",
       "    40% {\n",
       "      border-color: transparent;\n",
       "      border-right-color: var(--fill-color);\n",
       "      border-top-color: var(--fill-color);\n",
       "    }\n",
       "    60% {\n",
       "      border-color: transparent;\n",
       "      border-right-color: var(--fill-color);\n",
       "    }\n",
       "    80% {\n",
       "      border-color: transparent;\n",
       "      border-right-color: var(--fill-color);\n",
       "      border-bottom-color: var(--fill-color);\n",
       "    }\n",
       "    90% {\n",
       "      border-color: transparent;\n",
       "      border-bottom-color: var(--fill-color);\n",
       "    }\n",
       "  }\n",
       "</style>\n",
       "\n",
       "  <script>\n",
       "    async function quickchart(key) {\n",
       "      const quickchartButtonEl =\n",
       "        document.querySelector('#' + key + ' button');\n",
       "      quickchartButtonEl.disabled = true;  // To prevent multiple clicks.\n",
       "      quickchartButtonEl.classList.add('colab-df-spinner');\n",
       "      try {\n",
       "        const charts = await google.colab.kernel.invokeFunction(\n",
       "            'suggestCharts', [key], {});\n",
       "      } catch (error) {\n",
       "        console.error('Error during call to suggestCharts:', error);\n",
       "      }\n",
       "      quickchartButtonEl.classList.remove('colab-df-spinner');\n",
       "      quickchartButtonEl.classList.add('colab-df-quickchart-complete');\n",
       "    }\n",
       "    (() => {\n",
       "      let quickchartButtonEl =\n",
       "        document.querySelector('#df-7bd1a16e-4982-4a56-bfa7-c604d3538c7a button');\n",
       "      quickchartButtonEl.style.display =\n",
       "        google.colab.kernel.accessAllowed ? 'block' : 'none';\n",
       "    })();\n",
       "  </script>\n",
       "</div>\n",
       "\n",
       "    </div>\n",
       "  </div>\n"
      ],
      "text/plain": [
       "   Pregnancies  Glucose  BloodPressure  SkinThickness  Insulin   BMI  \\\n",
       "0            6      148             72             35        0  33.6   \n",
       "1            1       85             66             29        0  26.6   \n",
       "2            8      183             64              0        0  23.3   \n",
       "\n",
       "   DiabetesPedigreeFunction  Age  Outcome  \n",
       "0                     0.627   50        1  \n",
       "1                     0.351   31        0  \n",
       "2                     0.672   32        1  "
      ]
     },
     "execution_count": 3,
     "metadata": {},
     "output_type": "execute_result"
    }
   ],
   "source": [
    "diabetes = pd.read_csv(path + 'data/diabetes.csv')\n",
    "diabetes.head(3)"
   ]
  },
  {
   "cell_type": "markdown",
   "id": "a5fe6493",
   "metadata": {
    "id": "a5fe6493"
   },
   "source": [
    "<font color='orange'>____GOAL____  : </font> Predict whether or not a patient has diabetes, based on certain diagnostic measurements included in the dataset.\n",
    "\n",
    "`Pregnancies` Number of times pregnant <br>\n",
    "`Glucose` Plasma glucose concentration a 2 hours in an oral glucose tolerance test<br>\n",
    "`BloodPressure`Diastolic blood pressure (mm Hg)<br>\n",
    "`SkinThickness`Triceps skin fold thickness (mm)<br>\n",
    "`Insulin`2-Hour serum insulin (mu U/ml)<br>\n",
    "`BMI` Body mass index (weight in kg/(height in m)^2)<br>\n",
    "`DiabetesPedigreeFunction` Diabetes pedigree function<br>\n",
    "`Age`Age (years)<br>\n",
    "`Outcome` Class variable (0 or 1)\n",
    "<- <font color='orange'> **Dependent Variable / Target** </font>"
   ]
  },
  {
   "cell_type": "markdown",
   "id": "55d15790",
   "metadata": {
    "id": "55d15790"
   },
   "source": [
    "## <font color='#BFD72F'> 1.3. Split the Data</font> <a class=\"anchor\" id=\"split\"></a>\n",
    "[Back to Contents](#toc)"
   ]
  },
  {
   "cell_type": "markdown",
   "id": "fc475b6c",
   "metadata": {
    "id": "fc475b6c"
   },
   "source": [
    "**Step 4 -** Perform data partition on the diabetes dataset.<br>\n",
    "- Assign to the name ***data*** the dataset, excluding the dependent variable;\n",
    "- Assign to the name ***target*** the dependent variable of the dataset;\n",
    "- Create the datasets X_train, X_test, y_train, y_test using the data and the target. Define the test size to 0.2 and don't forget to stratify the partition by the target."
   ]
  },
  {
   "cell_type": "code",
   "execution_count": 4,
   "id": "f7454ba3",
   "metadata": {
    "executionInfo": {
     "elapsed": 9,
     "status": "ok",
     "timestamp": 1724246059068,
     "user": {
      "displayName": "Tiago Martins",
      "userId": "14571988070475468280"
     },
     "user_tz": -60
    },
    "id": "f7454ba3"
   },
   "outputs": [],
   "source": [
    "data = diabetes.drop(['Outcome'], axis=1)\n",
    "target = diabetes['Outcome']\n",
    "X_train, X_test, y_train, y_test = train_test_split(data, target, test_size = 0.2, stratify=target, random_state=5)"
   ]
  },
  {
   "cell_type": "markdown",
   "id": "e59f7fd7",
   "metadata": {
    "id": "e59f7fd7"
   },
   "source": [
    "# <font color='#BFD72F'>2. Bagging</font> <a class=\"anchor\" id=\"bagging\"></a>\n",
    "[Back to Contents](#toc)\n",
    "\n",
    "Bagging, also known as bootstrap aggregation, is the ensemble learning method that is commonly used to reduce variance within a noisy dataset. In bagging, a random sample of data in a training set is selected with replacement - meaning that the individual data points can be chosen more than once. After several data samples are generated. Homogeneous weak models are then trained independently, and depending on the type of task (regression or classification) the results are voted or averaged.\n",
    "\n",
    "Check this <a href=\"https://www.ibm.com/topics/bagging\">link</a> for more information."
   ]
  },
  {
   "cell_type": "markdown",
   "id": "c1f88f84",
   "metadata": {
    "id": "c1f88f84"
   },
   "source": [
    "**Step 5 -** Import `DecisionTreeClassifier` from `sklearn` and create an instance with the default parameters."
   ]
  },
  {
   "cell_type": "code",
   "execution_count": 5,
   "id": "bcaa8879",
   "metadata": {
    "executionInfo": {
     "elapsed": 522,
     "status": "ok",
     "timestamp": 1724246059583,
     "user": {
      "displayName": "Tiago Martins",
      "userId": "14571988070475468280"
     },
     "user_tz": -60
    },
    "id": "bcaa8879"
   },
   "outputs": [],
   "source": [
    "from sklearn.tree import DecisionTreeClassifier\n",
    "modelDT = DecisionTreeClassifier()"
   ]
  },
  {
   "cell_type": "markdown",
   "id": "48acc2c1",
   "metadata": {
    "id": "48acc2c1"
   },
   "source": [
    "**Step 6 -** Use the `.fit()`method of the instance to fit the model to the array of points `X_train` and `y_train`. This will allow you to build a decision tree from the training set."
   ]
  },
  {
   "cell_type": "code",
   "execution_count": 6,
   "id": "8aabf4da",
   "metadata": {
    "colab": {
     "base_uri": "https://localhost:8080/",
     "height": 94
    },
    "executionInfo": {
     "elapsed": 26,
     "status": "ok",
     "timestamp": 1724246059583,
     "user": {
      "displayName": "Tiago Martins",
      "userId": "14571988070475468280"
     },
     "user_tz": -60
    },
    "id": "8aabf4da",
    "outputId": "bc75d986-e3c1-4cd1-f9fa-f9150cafe3e4"
   },
   "outputs": [
    {
     "data": {
      "text/html": [
       "<style>#sk-container-id-1 {color: black;}#sk-container-id-1 pre{padding: 0;}#sk-container-id-1 div.sk-toggleable {background-color: white;}#sk-container-id-1 label.sk-toggleable__label {cursor: pointer;display: block;width: 100%;margin-bottom: 0;padding: 0.3em;box-sizing: border-box;text-align: center;}#sk-container-id-1 label.sk-toggleable__label-arrow:before {content: \"▸\";float: left;margin-right: 0.25em;color: #696969;}#sk-container-id-1 label.sk-toggleable__label-arrow:hover:before {color: black;}#sk-container-id-1 div.sk-estimator:hover label.sk-toggleable__label-arrow:before {color: black;}#sk-container-id-1 div.sk-toggleable__content {max-height: 0;max-width: 0;overflow: hidden;text-align: left;background-color: #f0f8ff;}#sk-container-id-1 div.sk-toggleable__content pre {margin: 0.2em;color: black;border-radius: 0.25em;background-color: #f0f8ff;}#sk-container-id-1 input.sk-toggleable__control:checked~div.sk-toggleable__content {max-height: 200px;max-width: 100%;overflow: auto;}#sk-container-id-1 input.sk-toggleable__control:checked~label.sk-toggleable__label-arrow:before {content: \"▾\";}#sk-container-id-1 div.sk-estimator input.sk-toggleable__control:checked~label.sk-toggleable__label {background-color: #d4ebff;}#sk-container-id-1 div.sk-label input.sk-toggleable__control:checked~label.sk-toggleable__label {background-color: #d4ebff;}#sk-container-id-1 input.sk-hidden--visually {border: 0;clip: rect(1px 1px 1px 1px);clip: rect(1px, 1px, 1px, 1px);height: 1px;margin: -1px;overflow: hidden;padding: 0;position: absolute;width: 1px;}#sk-container-id-1 div.sk-estimator {font-family: monospace;background-color: #f0f8ff;border: 1px dotted black;border-radius: 0.25em;box-sizing: border-box;margin-bottom: 0.5em;}#sk-container-id-1 div.sk-estimator:hover {background-color: #d4ebff;}#sk-container-id-1 div.sk-parallel-item::after {content: \"\";width: 100%;border-bottom: 1px solid gray;flex-grow: 1;}#sk-container-id-1 div.sk-label:hover label.sk-toggleable__label {background-color: #d4ebff;}#sk-container-id-1 div.sk-serial::before {content: \"\";position: absolute;border-left: 1px solid gray;box-sizing: border-box;top: 0;bottom: 0;left: 50%;z-index: 0;}#sk-container-id-1 div.sk-serial {display: flex;flex-direction: column;align-items: center;background-color: white;padding-right: 0.2em;padding-left: 0.2em;position: relative;}#sk-container-id-1 div.sk-item {position: relative;z-index: 1;}#sk-container-id-1 div.sk-parallel {display: flex;align-items: stretch;justify-content: center;background-color: white;position: relative;}#sk-container-id-1 div.sk-item::before, #sk-container-id-1 div.sk-parallel-item::before {content: \"\";position: absolute;border-left: 1px solid gray;box-sizing: border-box;top: 0;bottom: 0;left: 50%;z-index: -1;}#sk-container-id-1 div.sk-parallel-item {display: flex;flex-direction: column;z-index: 1;position: relative;background-color: white;}#sk-container-id-1 div.sk-parallel-item:first-child::after {align-self: flex-end;width: 50%;}#sk-container-id-1 div.sk-parallel-item:last-child::after {align-self: flex-start;width: 50%;}#sk-container-id-1 div.sk-parallel-item:only-child::after {width: 0;}#sk-container-id-1 div.sk-dashed-wrapped {border: 1px dashed gray;margin: 0 0.4em 0.5em 0.4em;box-sizing: border-box;padding-bottom: 0.4em;background-color: white;}#sk-container-id-1 div.sk-label label {font-family: monospace;font-weight: bold;display: inline-block;line-height: 1.2em;}#sk-container-id-1 div.sk-label-container {text-align: center;}#sk-container-id-1 div.sk-container {/* jupyter's `normalize.less` sets `[hidden] { display: none; }` but bootstrap.min.css set `[hidden] { display: none !important; }` so we also need the `!important` here to be able to override the default hidden behavior on the sphinx rendered scikit-learn.org. See: https://github.com/scikit-learn/scikit-learn/issues/21755 */display: inline-block !important;position: relative;}#sk-container-id-1 div.sk-text-repr-fallback {display: none;}</style><div id=\"sk-container-id-1\" class=\"sk-top-container\"><div class=\"sk-text-repr-fallback\"><pre>DecisionTreeClassifier()</pre><b>In a Jupyter environment, please rerun this cell to show the HTML representation or trust the notebook. <br />On GitHub, the HTML representation is unable to render, please try loading this page with nbviewer.org.</b></div><div class=\"sk-container\" hidden><div class=\"sk-item\"><div class=\"sk-estimator sk-toggleable\"><input class=\"sk-toggleable__control sk-hidden--visually\" id=\"sk-estimator-id-1\" type=\"checkbox\" checked><label for=\"sk-estimator-id-1\" class=\"sk-toggleable__label sk-toggleable__label-arrow\">DecisionTreeClassifier</label><div class=\"sk-toggleable__content\"><pre>DecisionTreeClassifier()</pre></div></div></div></div></div>"
      ],
      "text/plain": [
       "DecisionTreeClassifier()"
      ]
     },
     "execution_count": 6,
     "metadata": {},
     "output_type": "execute_result"
    }
   ],
   "source": [
    "modelDT.fit(X = X_train, y = y_train)"
   ]
  },
  {
   "cell_type": "markdown",
   "id": "1152d392",
   "metadata": {
    "id": "1152d392"
   },
   "source": [
    "**Step 7 -** Use the `.score()` method to obtain the mean accuracy of the given train data `X_train` and the true labels for X, `y_train`."
   ]
  },
  {
   "cell_type": "code",
   "execution_count": 7,
   "id": "d1cba094",
   "metadata": {
    "colab": {
     "base_uri": "https://localhost:8080/"
    },
    "executionInfo": {
     "elapsed": 25,
     "status": "ok",
     "timestamp": 1724246059584,
     "user": {
      "displayName": "Tiago Martins",
      "userId": "14571988070475468280"
     },
     "user_tz": -60
    },
    "id": "d1cba094",
    "outputId": "88b8cab0-28b5-40fa-f981-24f76dc12527"
   },
   "outputs": [
    {
     "data": {
      "text/plain": [
       "1.0"
      ]
     },
     "execution_count": 7,
     "metadata": {},
     "output_type": "execute_result"
    }
   ],
   "source": [
    "modelDT.score(X_train, y_train)"
   ]
  },
  {
   "cell_type": "markdown",
   "id": "47a4248c",
   "metadata": {
    "id": "47a4248c"
   },
   "source": [
    "**Step 8 -** Use the `.score()` method to obtain the mean accuracy of the given test data `X_test` and the true labels for X, `y_test`."
   ]
  },
  {
   "cell_type": "code",
   "execution_count": 8,
   "id": "254a6388",
   "metadata": {
    "colab": {
     "base_uri": "https://localhost:8080/"
    },
    "executionInfo": {
     "elapsed": 17,
     "status": "ok",
     "timestamp": 1724246059584,
     "user": {
      "displayName": "Tiago Martins",
      "userId": "14571988070475468280"
     },
     "user_tz": -60
    },
    "id": "254a6388",
    "outputId": "d70626ba-8ade-48bd-e7b2-2c63ba48433d"
   },
   "outputs": [
    {
     "data": {
      "text/plain": [
       "0.6883116883116883"
      ]
     },
     "execution_count": 8,
     "metadata": {},
     "output_type": "execute_result"
    }
   ],
   "source": [
    "modelDT.score(X_test, y_test)"
   ]
  },
  {
   "cell_type": "markdown",
   "id": "bb5fe994",
   "metadata": {
    "id": "bb5fe994"
   },
   "source": [
    "**Step 9 -** Use the `.predict()` method to perform classification for `X_test` and assign the predictions to the object `y_pred_DT`."
   ]
  },
  {
   "cell_type": "code",
   "execution_count": 9,
   "id": "3fa89797",
   "metadata": {
    "executionInfo": {
     "elapsed": 13,
     "status": "ok",
     "timestamp": 1724246059584,
     "user": {
      "displayName": "Tiago Martins",
      "userId": "14571988070475468280"
     },
     "user_tz": -60
    },
    "id": "3fa89797"
   },
   "outputs": [],
   "source": [
    "y_pred_DT = modelDT.predict(X_test)"
   ]
  },
  {
   "cell_type": "markdown",
   "id": "d474aa39",
   "metadata": {
    "id": "d474aa39"
   },
   "source": [
    "## <font color='#BFD72F' id='bg'>2.1 BaggingClassifier with Decision Tree</font>\n",
    "[Back to Contents](#toc)"
   ]
  },
  {
   "cell_type": "markdown",
   "id": "09371928",
   "metadata": {
    "id": "09371928"
   },
   "source": [
    "**Step 10 -** Import `BaggingClassifier` from `sklearn` and create an instance using the previous model as `base_estimator`, `random_state = 5`and the remaining parameters as default."
   ]
  },
  {
   "cell_type": "code",
   "execution_count": 10,
   "id": "62aef442",
   "metadata": {
    "executionInfo": {
     "elapsed": 422,
     "status": "ok",
     "timestamp": 1724246059993,
     "user": {
      "displayName": "Tiago Martins",
      "userId": "14571988070475468280"
     },
     "user_tz": -60
    },
    "id": "62aef442"
   },
   "outputs": [],
   "source": [
    "from sklearn.ensemble import BaggingClassifier\n",
    "bagging_DT = BaggingClassifier(estimator = modelDT)"
   ]
  },
  {
   "cell_type": "markdown",
   "id": "49790784",
   "metadata": {
    "id": "49790784"
   },
   "source": [
    "**Step 11 -** Use the `.fit()`method to fit the model to the array of points `X_train` and `y_train`."
   ]
  },
  {
   "cell_type": "code",
   "execution_count": 11,
   "id": "fe89f5cf",
   "metadata": {
    "colab": {
     "base_uri": "https://localhost:8080/",
     "height": 137
    },
    "executionInfo": {
     "elapsed": 19,
     "status": "ok",
     "timestamp": 1724246059993,
     "user": {
      "displayName": "Tiago Martins",
      "userId": "14571988070475468280"
     },
     "user_tz": -60
    },
    "id": "fe89f5cf",
    "outputId": "c44254ef-03de-4480-d6c0-aacb8135daef"
   },
   "outputs": [
    {
     "data": {
      "text/html": [
       "<style>#sk-container-id-2 {color: black;}#sk-container-id-2 pre{padding: 0;}#sk-container-id-2 div.sk-toggleable {background-color: white;}#sk-container-id-2 label.sk-toggleable__label {cursor: pointer;display: block;width: 100%;margin-bottom: 0;padding: 0.3em;box-sizing: border-box;text-align: center;}#sk-container-id-2 label.sk-toggleable__label-arrow:before {content: \"▸\";float: left;margin-right: 0.25em;color: #696969;}#sk-container-id-2 label.sk-toggleable__label-arrow:hover:before {color: black;}#sk-container-id-2 div.sk-estimator:hover label.sk-toggleable__label-arrow:before {color: black;}#sk-container-id-2 div.sk-toggleable__content {max-height: 0;max-width: 0;overflow: hidden;text-align: left;background-color: #f0f8ff;}#sk-container-id-2 div.sk-toggleable__content pre {margin: 0.2em;color: black;border-radius: 0.25em;background-color: #f0f8ff;}#sk-container-id-2 input.sk-toggleable__control:checked~div.sk-toggleable__content {max-height: 200px;max-width: 100%;overflow: auto;}#sk-container-id-2 input.sk-toggleable__control:checked~label.sk-toggleable__label-arrow:before {content: \"▾\";}#sk-container-id-2 div.sk-estimator input.sk-toggleable__control:checked~label.sk-toggleable__label {background-color: #d4ebff;}#sk-container-id-2 div.sk-label input.sk-toggleable__control:checked~label.sk-toggleable__label {background-color: #d4ebff;}#sk-container-id-2 input.sk-hidden--visually {border: 0;clip: rect(1px 1px 1px 1px);clip: rect(1px, 1px, 1px, 1px);height: 1px;margin: -1px;overflow: hidden;padding: 0;position: absolute;width: 1px;}#sk-container-id-2 div.sk-estimator {font-family: monospace;background-color: #f0f8ff;border: 1px dotted black;border-radius: 0.25em;box-sizing: border-box;margin-bottom: 0.5em;}#sk-container-id-2 div.sk-estimator:hover {background-color: #d4ebff;}#sk-container-id-2 div.sk-parallel-item::after {content: \"\";width: 100%;border-bottom: 1px solid gray;flex-grow: 1;}#sk-container-id-2 div.sk-label:hover label.sk-toggleable__label {background-color: #d4ebff;}#sk-container-id-2 div.sk-serial::before {content: \"\";position: absolute;border-left: 1px solid gray;box-sizing: border-box;top: 0;bottom: 0;left: 50%;z-index: 0;}#sk-container-id-2 div.sk-serial {display: flex;flex-direction: column;align-items: center;background-color: white;padding-right: 0.2em;padding-left: 0.2em;position: relative;}#sk-container-id-2 div.sk-item {position: relative;z-index: 1;}#sk-container-id-2 div.sk-parallel {display: flex;align-items: stretch;justify-content: center;background-color: white;position: relative;}#sk-container-id-2 div.sk-item::before, #sk-container-id-2 div.sk-parallel-item::before {content: \"\";position: absolute;border-left: 1px solid gray;box-sizing: border-box;top: 0;bottom: 0;left: 50%;z-index: -1;}#sk-container-id-2 div.sk-parallel-item {display: flex;flex-direction: column;z-index: 1;position: relative;background-color: white;}#sk-container-id-2 div.sk-parallel-item:first-child::after {align-self: flex-end;width: 50%;}#sk-container-id-2 div.sk-parallel-item:last-child::after {align-self: flex-start;width: 50%;}#sk-container-id-2 div.sk-parallel-item:only-child::after {width: 0;}#sk-container-id-2 div.sk-dashed-wrapped {border: 1px dashed gray;margin: 0 0.4em 0.5em 0.4em;box-sizing: border-box;padding-bottom: 0.4em;background-color: white;}#sk-container-id-2 div.sk-label label {font-family: monospace;font-weight: bold;display: inline-block;line-height: 1.2em;}#sk-container-id-2 div.sk-label-container {text-align: center;}#sk-container-id-2 div.sk-container {/* jupyter's `normalize.less` sets `[hidden] { display: none; }` but bootstrap.min.css set `[hidden] { display: none !important; }` so we also need the `!important` here to be able to override the default hidden behavior on the sphinx rendered scikit-learn.org. See: https://github.com/scikit-learn/scikit-learn/issues/21755 */display: inline-block !important;position: relative;}#sk-container-id-2 div.sk-text-repr-fallback {display: none;}</style><div id=\"sk-container-id-2\" class=\"sk-top-container\"><div class=\"sk-text-repr-fallback\"><pre>BaggingClassifier(estimator=DecisionTreeClassifier())</pre><b>In a Jupyter environment, please rerun this cell to show the HTML representation or trust the notebook. <br />On GitHub, the HTML representation is unable to render, please try loading this page with nbviewer.org.</b></div><div class=\"sk-container\" hidden><div class=\"sk-item sk-dashed-wrapped\"><div class=\"sk-label-container\"><div class=\"sk-label sk-toggleable\"><input class=\"sk-toggleable__control sk-hidden--visually\" id=\"sk-estimator-id-2\" type=\"checkbox\" ><label for=\"sk-estimator-id-2\" class=\"sk-toggleable__label sk-toggleable__label-arrow\">BaggingClassifier</label><div class=\"sk-toggleable__content\"><pre>BaggingClassifier(estimator=DecisionTreeClassifier())</pre></div></div></div><div class=\"sk-parallel\"><div class=\"sk-parallel-item\"><div class=\"sk-item\"><div class=\"sk-label-container\"><div class=\"sk-label sk-toggleable\"><input class=\"sk-toggleable__control sk-hidden--visually\" id=\"sk-estimator-id-3\" type=\"checkbox\" ><label for=\"sk-estimator-id-3\" class=\"sk-toggleable__label sk-toggleable__label-arrow\">estimator: DecisionTreeClassifier</label><div class=\"sk-toggleable__content\"><pre>DecisionTreeClassifier()</pre></div></div></div><div class=\"sk-serial\"><div class=\"sk-item\"><div class=\"sk-estimator sk-toggleable\"><input class=\"sk-toggleable__control sk-hidden--visually\" id=\"sk-estimator-id-4\" type=\"checkbox\" ><label for=\"sk-estimator-id-4\" class=\"sk-toggleable__label sk-toggleable__label-arrow\">DecisionTreeClassifier</label><div class=\"sk-toggleable__content\"><pre>DecisionTreeClassifier()</pre></div></div></div></div></div></div></div></div></div></div>"
      ],
      "text/plain": [
       "BaggingClassifier(estimator=DecisionTreeClassifier())"
      ]
     },
     "execution_count": 11,
     "metadata": {},
     "output_type": "execute_result"
    }
   ],
   "source": [
    "bagging_DT.fit(X = X_train, y = y_train)"
   ]
  },
  {
   "cell_type": "markdown",
   "id": "j_GBWpE0G5wN",
   "metadata": {
    "id": "j_GBWpE0G5wN"
   },
   "source": [
    "**Step 12 -** Use the `.score()` method to obtain the mean accuracy of the given train data `X_train` and the true labels for X, `y_train`."
   ]
  },
  {
   "cell_type": "code",
   "execution_count": 12,
   "id": "4rAs-BaXG5gX",
   "metadata": {
    "colab": {
     "base_uri": "https://localhost:8080/"
    },
    "executionInfo": {
     "elapsed": 18,
     "status": "ok",
     "timestamp": 1724246059994,
     "user": {
      "displayName": "Tiago Martins",
      "userId": "14571988070475468280"
     },
     "user_tz": -60
    },
    "id": "4rAs-BaXG5gX",
    "outputId": "b11a247d-50af-4be1-981e-e05350db8589"
   },
   "outputs": [
    {
     "data": {
      "text/plain": [
       "0.9820846905537459"
      ]
     },
     "execution_count": 12,
     "metadata": {},
     "output_type": "execute_result"
    }
   ],
   "source": [
    "bagging_DT.score(X_train, y_train)"
   ]
  },
  {
   "cell_type": "markdown",
   "id": "7636189c",
   "metadata": {
    "id": "7636189c"
   },
   "source": [
    "**Step 13 -** Use the `.score()` method to obtain the mean accuracy of the given test data `X_test` and the true labels for X, `y_test`."
   ]
  },
  {
   "cell_type": "code",
   "execution_count": 13,
   "id": "8e812067",
   "metadata": {
    "colab": {
     "base_uri": "https://localhost:8080/"
    },
    "executionInfo": {
     "elapsed": 14,
     "status": "ok",
     "timestamp": 1724246059994,
     "user": {
      "displayName": "Tiago Martins",
      "userId": "14571988070475468280"
     },
     "user_tz": -60
    },
    "id": "8e812067",
    "outputId": "f6515ea5-2c1d-4e56-efe2-ddb8db825adc"
   },
   "outputs": [
    {
     "data": {
      "text/plain": [
       "0.7402597402597403"
      ]
     },
     "execution_count": 13,
     "metadata": {},
     "output_type": "execute_result"
    }
   ],
   "source": [
    "bagging_DT.score(X_test, y_test)"
   ]
  },
  {
   "cell_type": "markdown",
   "id": "904b553b",
   "metadata": {
    "id": "904b553b"
   },
   "source": [
    "**Step 14 -** Use the `.predict()` method to perform classification for `X_test` and assign the predictions to the object `y_pred_bagging`."
   ]
  },
  {
   "cell_type": "code",
   "execution_count": 14,
   "id": "e90e7d41",
   "metadata": {
    "executionInfo": {
     "elapsed": 12,
     "status": "ok",
     "timestamp": 1724246059995,
     "user": {
      "displayName": "Tiago Martins",
      "userId": "14571988070475468280"
     },
     "user_tz": -60
    },
    "id": "e90e7d41"
   },
   "outputs": [],
   "source": [
    "y_pred_bagging = bagging_DT.predict(X_test)"
   ]
  },
  {
   "cell_type": "markdown",
   "id": "26508b69",
   "metadata": {
    "id": "26508b69"
   },
   "source": [
    "**Step 15 -** To evaluate the results, we are going to use the classification report method that will return the main classification metrics. Import `classification_report` from sklearn.metrics."
   ]
  },
  {
   "cell_type": "code",
   "execution_count": 15,
   "id": "a5cb7331",
   "metadata": {
    "executionInfo": {
     "elapsed": 12,
     "status": "ok",
     "timestamp": 1724246059995,
     "user": {
      "displayName": "Tiago Martins",
      "userId": "14571988070475468280"
     },
     "user_tz": -60
    },
    "id": "a5cb7331"
   },
   "outputs": [],
   "source": [
    "from sklearn.metrics import classification_report"
   ]
  },
  {
   "cell_type": "markdown",
   "id": "3a82c855",
   "metadata": {
    "id": "3a82c855"
   },
   "source": [
    "**Step 16 -** Create  a function named metrics that will print the results of the classification report for both datasets approaches."
   ]
  },
  {
   "cell_type": "code",
   "execution_count": 16,
   "id": "99c5eb0d",
   "metadata": {
    "executionInfo": {
     "elapsed": 12,
     "status": "ok",
     "timestamp": 1724246059995,
     "user": {
      "displayName": "Tiago Martins",
      "userId": "14571988070475468280"
     },
     "user_tz": -60
    },
    "id": "99c5eb0d"
   },
   "outputs": [],
   "source": [
    "def metrics(y_model1, pred_model1, y_model2, pred_model2):\n",
    "    print('___________________________________________________________________________________________________________')\n",
    "    print('                                          Simple Model                                                     ')\n",
    "    print('-----------------------------------------------------------------------------------------------------------')\n",
    "    print(classification_report(y_model1, pred_model1))\n",
    "\n",
    "\n",
    "    print('___________________________________________________________________________________________________________')\n",
    "    print('                                              Bagging                                                      ')\n",
    "    print('-----------------------------------------------------------------------------------------------------------')\n",
    "    print(classification_report(y_model2, pred_model2))"
   ]
  },
  {
   "cell_type": "markdown",
   "id": "e6042de0",
   "metadata": {
    "id": "e6042de0"
   },
   "source": [
    "**Step 17 -** Call the function metrics() defined previously, and define the arguments: <br> (`y_model1 = y_train`, `pred_model1 = y_pred_DT` , `y_model2 = y_train`, `pred_model2 = y_pred_bagging`)"
   ]
  },
  {
   "cell_type": "code",
   "execution_count": 17,
   "id": "965ecd1c",
   "metadata": {
    "colab": {
     "base_uri": "https://localhost:8080/"
    },
    "executionInfo": {
     "elapsed": 598,
     "status": "ok",
     "timestamp": 1724246060582,
     "user": {
      "displayName": "Tiago Martins",
      "userId": "14571988070475468280"
     },
     "user_tz": -60
    },
    "id": "965ecd1c",
    "outputId": "37e797ae-f841-4e25-f3ce-3071acd76b15",
    "scrolled": true
   },
   "outputs": [
    {
     "name": "stdout",
     "output_type": "stream",
     "text": [
      "___________________________________________________________________________________________________________\n",
      "                                          Simple Model                                                     \n",
      "-----------------------------------------------------------------------------------------------------------\n",
      "              precision    recall  f1-score   support\n",
      "\n",
      "           0       0.76      0.76      0.76       100\n",
      "           1       0.56      0.56      0.56        54\n",
      "\n",
      "    accuracy                           0.69       154\n",
      "   macro avg       0.66      0.66      0.66       154\n",
      "weighted avg       0.69      0.69      0.69       154\n",
      "\n",
      "___________________________________________________________________________________________________________\n",
      "                                              Bagging                                                      \n",
      "-----------------------------------------------------------------------------------------------------------\n",
      "              precision    recall  f1-score   support\n",
      "\n",
      "           0       0.76      0.87      0.81       100\n",
      "           1       0.68      0.50      0.57        54\n",
      "\n",
      "    accuracy                           0.74       154\n",
      "   macro avg       0.72      0.69      0.69       154\n",
      "weighted avg       0.73      0.74      0.73       154\n",
      "\n"
     ]
    }
   ],
   "source": [
    "metrics(y_test, y_pred_DT, y_test, y_pred_bagging)"
   ]
  },
  {
   "cell_type": "markdown",
   "id": "95626424",
   "metadata": {
    "id": "95626424"
   },
   "source": [
    "## <font color='#BFD72F' id='attbg'>2.2. Attributes in BaggingClassifier</font>\n",
    "[Back to Contents](#toc)"
   ]
  },
  {
   "cell_type": "markdown",
   "id": "5e6268c4",
   "metadata": {
    "id": "5e6268c4"
   },
   "source": [
    "**Step 18 -** Use the `.estimators_` attribute to obtain a list of the fitted base estimators."
   ]
  },
  {
   "cell_type": "code",
   "execution_count": 18,
   "id": "a3201848",
   "metadata": {
    "colab": {
     "base_uri": "https://localhost:8080/"
    },
    "executionInfo": {
     "elapsed": 25,
     "status": "ok",
     "timestamp": 1724246060583,
     "user": {
      "displayName": "Tiago Martins",
      "userId": "14571988070475468280"
     },
     "user_tz": -60
    },
    "id": "a3201848",
    "outputId": "d14d9b8e-11b9-46d8-a55d-2ef897beca89"
   },
   "outputs": [
    {
     "data": {
      "text/plain": [
       "[DecisionTreeClassifier(random_state=694155809),\n",
       " DecisionTreeClassifier(random_state=774452796),\n",
       " DecisionTreeClassifier(random_state=858158465),\n",
       " DecisionTreeClassifier(random_state=85236275),\n",
       " DecisionTreeClassifier(random_state=1949256323),\n",
       " DecisionTreeClassifier(random_state=1196315052),\n",
       " DecisionTreeClassifier(random_state=1873498173),\n",
       " DecisionTreeClassifier(random_state=2083661131),\n",
       " DecisionTreeClassifier(random_state=1330720399),\n",
       " DecisionTreeClassifier(random_state=1209578773)]"
      ]
     },
     "execution_count": 18,
     "metadata": {},
     "output_type": "execute_result"
    }
   ],
   "source": [
    "bagging_DT.estimators_"
   ]
  },
  {
   "cell_type": "markdown",
   "id": "b5bbb58d",
   "metadata": {
    "id": "b5bbb58d"
   },
   "source": [
    "**Step 19 -** Use the `.estimators_samples_` attribute to obtain the subset of drawn samples for each base estimator."
   ]
  },
  {
   "cell_type": "code",
   "execution_count": 19,
   "id": "a7d83a08",
   "metadata": {
    "colab": {
     "base_uri": "https://localhost:8080/"
    },
    "executionInfo": {
     "elapsed": 15,
     "status": "ok",
     "timestamp": 1724246060583,
     "user": {
      "displayName": "Tiago Martins",
      "userId": "14571988070475468280"
     },
     "user_tz": -60
    },
    "id": "a7d83a08",
    "outputId": "d2d6fa24-5327-4308-b374-c29a48755601"
   },
   "outputs": [
    {
     "data": {
      "text/plain": [
       "[array([545, 553,  46, 277, 329, 167, 321, 162, 143, 272, 590, 160, 206,\n",
       "        504, 417, 251, 550, 493, 272, 191, 229, 146, 503, 223, 572, 586,\n",
       "        559, 182, 514, 345,  94, 491, 561, 157, 320, 269, 230, 555, 339,\n",
       "        592, 531,  59, 585, 219,   9, 198, 221,  70, 509, 248, 434, 430,\n",
       "        546, 386, 323, 236, 111, 173, 590, 570, 298,  60, 568, 573, 217,\n",
       "        105, 187, 248, 322, 525, 404,  49,  50, 444,   1, 296, 165,  98,\n",
       "        277, 101, 280, 233,  95, 447,  76,  10, 306, 140, 474, 495, 578,\n",
       "        354, 492, 488, 472, 218, 159,  74, 364, 173, 407, 261, 547, 540,\n",
       "        161, 238, 215,  46, 486, 292, 595,   7, 195, 164, 163, 260, 323,\n",
       "          6,   6, 216, 538, 453, 261, 139,  89, 215, 271, 468,  93, 243,\n",
       "         31, 210, 227, 553, 612, 575, 601, 227, 210, 186, 125, 207, 289,\n",
       "        238, 126, 150,  63, 447,  90, 335, 498, 539, 441, 392, 154, 245,\n",
       "        181, 107, 355, 313, 491, 331, 554, 382, 223, 276, 178, 305, 593,\n",
       "         45, 536, 390, 589, 213, 443, 426, 397,  20, 285, 383, 439,  29,\n",
       "        165,  83, 205, 264, 150,   7, 481, 160, 349, 507, 475, 347, 514,\n",
       "        405, 194,   2, 435, 121, 161, 198, 124, 203, 263, 418, 611, 450,\n",
       "        396, 183, 162, 113,  71, 526,  70, 277, 569, 248, 450, 100, 377,\n",
       "        326, 245,   4, 591, 575, 565, 252, 118, 531, 114, 337, 194, 293,\n",
       "        549, 502, 496,  97, 397, 458, 596, 566, 158, 421,  55, 132, 317,\n",
       "        191, 495, 193, 432, 345, 530, 480, 392, 184, 206,  62, 602, 139,\n",
       "        296,  73,  45, 392, 241, 583, 608, 575, 379, 221, 126, 510, 262,\n",
       "        530, 266, 147, 474, 561, 363,  78, 327, 162, 504, 462, 282, 471,\n",
       "        294,  25, 498, 391, 132, 575, 311, 178, 228, 609, 536, 413, 171,\n",
       "        300, 273, 180,  64,  58,  73, 423, 510, 313, 258, 599, 249, 576,\n",
       "        335, 370, 380, 554, 186, 338, 345, 118, 420, 595, 522, 235, 276,\n",
       "        373,  59, 332, 248, 335, 256, 315, 320, 337, 471, 492, 612, 399,\n",
       "        600, 598, 358, 527, 556, 450, 574, 517, 519, 279, 205, 314, 421,\n",
       "        268, 309, 373, 154, 425, 560, 244, 230, 283, 486, 406, 472, 484,\n",
       "        561, 104,   4, 575, 438, 465, 439, 458,  87,  57, 492, 580,  40,\n",
       "        513, 353,  13, 607, 144,  60, 416,  91, 475, 503, 265, 168, 151,\n",
       "         24,  85, 261, 257, 371, 281, 361, 319, 230, 549, 111, 179, 495,\n",
       "        570,  17, 201, 204, 248, 384, 403, 570, 270, 214,  11,  23, 355,\n",
       "         36, 402, 355, 574, 488,  19,  33, 107, 294, 592,  77, 319, 413,\n",
       "        229, 557,  57, 202,  15, 552,  45, 209, 448, 131,  61, 112, 237,\n",
       "        413,  83, 266, 373, 506, 500, 387, 602,  37, 462, 591, 583, 325,\n",
       "        229, 184, 504, 577, 242, 507, 410, 336, 595, 549, 560, 548, 611,\n",
       "        159, 541, 435, 559,  61, 506, 148, 185,  10, 193,  99, 592, 103,\n",
       "        499, 569, 196, 264, 450, 370, 246, 176, 217, 608,  44, 185, 123,\n",
       "         43,  41, 527, 172, 273, 195,  60, 353,  78, 132,  87, 586, 345,\n",
       "        251, 280, 435,  92, 213, 274, 286, 308, 326, 191, 563, 485,  36,\n",
       "          0, 397, 185, 531, 247, 263, 169,  44, 546, 249,  45, 560, 570,\n",
       "        221, 441, 374, 282, 548, 458, 307, 257, 569, 148, 273,  10, 194,\n",
       "         28, 170,  81, 274, 403, 147, 259, 329, 141, 382, 360, 529, 111,\n",
       "        286, 486, 358, 448, 226, 405, 324, 303, 207, 157, 547, 431, 373,\n",
       "         13, 487,  68, 532,  90, 414,  82, 521,   3, 150, 424, 224, 207,\n",
       "         26, 438,  35, 465, 297, 192, 322, 339,  80,   1, 417, 411, 578,\n",
       "        577, 327, 575,  17, 375, 146, 495, 216, 456, 263, 586, 582, 205,\n",
       "        490, 503, 262]),\n",
       " array([572, 213, 373, 187, 550,  78, 515, 591, 512, 287, 253, 467,  37,\n",
       "        574, 490,  53, 382, 556, 295, 407,  42, 579,  86, 206, 290,  13,\n",
       "        369, 398, 413, 276, 278, 547, 117, 359, 234, 102, 501, 308,  69,\n",
       "        393, 447, 431, 164,  54,  55, 350,  61, 604, 248, 186, 396, 350,\n",
       "        608, 369,   6, 135, 481, 550,  99, 126, 108, 311, 586, 119, 514,\n",
       "        124, 351, 486, 393,  42, 175, 387, 488,  80, 399, 608,  11,  91,\n",
       "        272, 371, 496, 220, 312, 233, 369, 371, 449, 240,  68, 395, 227,\n",
       "        113,  62, 594, 134, 131, 582, 140, 460, 534, 578,  72, 446, 391,\n",
       "        353,   9, 121, 134, 611, 121, 382, 216, 174, 208, 535, 559, 104,\n",
       "        586,  83, 268, 534, 379,  69, 113, 489, 412,  95, 382, 359, 396,\n",
       "        136, 221, 517, 162, 195, 199, 339, 104, 301, 292, 170, 231, 204,\n",
       "        547, 516, 447, 177, 146, 254,  89, 119, 450,  87, 158,  13, 398,\n",
       "        513, 567, 120,  88, 282, 501, 395, 435, 477, 535, 266, 448,   3,\n",
       "        242, 240, 176, 180, 416, 429, 531,  24, 561, 421, 112,  56, 610,\n",
       "        579, 371, 423, 444, 602,  50, 371, 346, 107, 435,  96, 359,  27,\n",
       "        587, 441, 613, 228, 374, 101, 255, 334,  89, 309,  92,  73, 510,\n",
       "        503, 325, 222, 140, 465, 552, 201,  35, 471, 100, 190, 309, 430,\n",
       "        303, 442,  78, 596,  73, 319, 432, 148, 392,  42, 519,  57,  49,\n",
       "        357, 481, 255, 562,  32,  31, 181, 368,  50, 161, 201, 233, 394,\n",
       "        158, 604,  42, 182, 178, 373, 500, 336, 487, 181, 218,  12, 378,\n",
       "        197, 414, 407, 185, 591, 579, 591, 418, 411, 209, 166, 257, 392,\n",
       "        559, 496, 165, 183, 434, 120, 409, 347, 495, 173, 347, 301, 589,\n",
       "        607, 263, 250, 512, 330, 164, 271,  81,  46,  51, 237, 369, 161,\n",
       "        363, 373, 294, 397, 460, 345,  48, 258, 487, 148, 138, 469, 569,\n",
       "        219, 475, 349,  90,  38,  68, 347, 550,  35, 311, 601, 378, 417,\n",
       "        533, 561, 571, 289, 376, 466,  36, 314,  14, 103, 273, 560, 164,\n",
       "        580, 434, 143, 377, 332, 377,  41, 577, 477,  50, 326, 342, 247,\n",
       "        496, 597, 444, 553,  95, 536, 378, 242, 294, 361, 423, 201, 258,\n",
       "        274, 491, 134, 407, 318, 557, 403, 158, 531,  26, 237, 275,  11,\n",
       "         81, 546, 151, 293, 403, 169, 172, 321, 279, 544, 255, 383, 494,\n",
       "        295,  70, 329, 423, 523, 473,   3, 361,  70,  94, 223, 570, 101,\n",
       "        412, 327,  91, 390, 371, 613, 458, 343, 405,  66,  70, 577, 149,\n",
       "         53, 107,  52, 545, 357, 315, 569, 580, 372, 276, 482, 133,  10,\n",
       "        579,  73, 469, 235, 456, 595, 313,  93, 195, 337, 112, 170, 138,\n",
       "        373, 171, 544, 352, 299, 213,  82,  35, 280,  34, 334,  73,  48,\n",
       "        459, 423, 156, 411, 128, 524, 273, 201, 277, 188, 408, 535, 596,\n",
       "        371, 175, 561, 576, 549, 419, 221,  47,   8, 423, 473, 301, 426,\n",
       "        364,  32, 543, 485, 263, 509, 567, 480,  22, 132, 147, 190, 310,\n",
       "        550, 142, 491, 188,  27, 155, 120, 570, 460,  87, 304, 532, 463,\n",
       "         93, 298, 263, 466, 457, 125, 268,  96, 132, 417, 152, 274, 561,\n",
       "        443, 280, 460,  28, 501,  63, 269, 207, 516, 170, 156, 346, 455,\n",
       "        389, 609, 476, 301,  60, 610, 287, 492,  55,  96, 322, 460, 116,\n",
       "        613, 204, 215, 421,   5,  19, 389,  86, 118,  42, 394, 576,  98,\n",
       "        270, 306,  39, 209, 324, 298, 512, 222, 457, 429, 533,  16, 452,\n",
       "         79, 302,  89, 387, 482, 561, 508, 251,  88, 417,  77,  32, 167,\n",
       "        575, 309, 568, 379, 390, 262, 391, 243,  35, 477, 406,  76, 370,\n",
       "         97, 296, 381, 318, 145, 571, 197, 315, 139,  42, 374,  35,  82,\n",
       "        468, 486,  43]),\n",
       " array([385, 147, 105, 151, 559, 152, 212, 382, 588, 422, 492, 503, 290,\n",
       "        168, 412, 229, 145,  81, 399, 489, 304, 246, 400, 282, 470, 596,\n",
       "        404, 126, 272,  87, 225, 124, 377, 553, 245, 258, 209, 337, 119,\n",
       "        114, 193,  56, 380,  92,  96, 226, 203,  87,  66, 351, 444, 382,\n",
       "        168, 587, 167, 432, 526, 298, 209, 114, 505, 608, 447, 160,  42,\n",
       "        218, 167, 199, 526, 555, 499, 134,   7,   8,  22, 501, 479, 532,\n",
       "        346, 188, 204, 103, 122, 574,  42, 371, 170,  59, 569, 579, 180,\n",
       "        577,  86, 297, 451, 100, 558, 129, 178, 481,  63,  10, 253, 257,\n",
       "        588, 176, 164, 503, 269, 241, 281, 295, 297, 377, 598,  98, 177,\n",
       "        408, 178,  85, 354, 469, 575,  74, 223, 553, 184, 382, 247, 370,\n",
       "        465, 148, 587, 611, 251, 196, 289, 450, 426, 513, 431, 437, 452,\n",
       "        437,  59, 362, 185, 306, 290, 107, 258, 318, 333, 458, 308,  75,\n",
       "        537,  52, 503, 450,  99, 154, 562, 273, 120, 343, 347, 509, 232,\n",
       "        208, 255, 247, 562, 193, 286, 359, 373, 158, 551, 275, 228, 133,\n",
       "        105, 245, 409, 356, 431, 367, 237, 545, 248,  86, 201,  97, 508,\n",
       "        289, 135, 384,  20, 392,  24, 591, 423,  76,  22, 270, 152, 415,\n",
       "        290, 563, 527, 435,  59, 335, 493, 212,  34, 284, 319, 346, 243,\n",
       "        205,  77, 402, 419, 401, 450, 252, 397, 142, 509, 601, 354, 547,\n",
       "        100, 477, 515, 484, 310, 597, 145, 190, 545, 196, 434, 321,  49,\n",
       "        556, 161, 176,  18, 572, 446, 386, 497, 415, 432,  56, 443, 317,\n",
       "        360, 391, 247,  12, 458, 486, 592, 488, 216, 232, 140, 202, 465,\n",
       "        141, 558, 122,  98, 280, 397, 347, 248, 585, 529, 484,  38, 258,\n",
       "        116, 279, 314,  76, 409, 179,  51, 451, 573, 576, 329, 506, 113,\n",
       "        138, 205, 243, 314, 207,  40, 355, 176, 425, 259, 155,  84, 608,\n",
       "        503, 243, 490, 356,  37, 216, 310, 357, 273, 112, 472, 299, 172,\n",
       "        274, 498, 456, 224, 374, 530, 223, 344, 271, 331, 307, 557, 227,\n",
       "         18, 224, 100, 418, 343, 103, 239, 564,  87,  76,  79, 274, 167,\n",
       "        292, 281, 273, 259, 445, 311,  69, 600, 402, 571, 397, 460, 575,\n",
       "         20, 330, 403, 404,  53, 514, 504, 295, 103, 451, 524, 334, 392,\n",
       "        347, 214,  96,  17,  60,  89, 394, 303,  50, 475,  70, 329, 375,\n",
       "        245, 374, 133, 393, 386, 239, 472,  42, 183, 457, 218, 237, 435,\n",
       "        349, 463, 514,  78, 348, 217, 560,  23, 393, 197, 113, 397,   4,\n",
       "        199, 588, 425, 586, 258,  85, 440, 320, 261, 381, 114, 456, 362,\n",
       "        180, 156, 224, 350, 383, 137, 336, 453, 486, 608, 523, 508, 497,\n",
       "        205, 165, 160, 301, 104, 470, 383, 350, 230, 379,  20, 333, 111,\n",
       "        124, 581,  58, 497, 399, 281, 146, 585, 430, 609, 528, 217,  12,\n",
       "        166, 260, 522, 436, 265, 138,  19,  51, 194, 226, 182, 241,  62,\n",
       "         72,  75, 399, 380, 497, 418, 604,   1,  81, 502, 218,  66, 229,\n",
       "        305, 385, 301, 151, 400, 297,  93, 225, 428, 358, 580, 224, 454,\n",
       "        189, 530, 337, 504, 489, 573, 315, 399, 483, 411, 417, 575, 349,\n",
       "        309,  57, 364, 373, 607, 115,  26, 383, 437, 135, 373, 592, 571,\n",
       "         86, 441,  71,  83, 127, 138, 510, 324, 426, 489, 174, 552, 398,\n",
       "        450, 238, 421, 332, 109, 218, 553, 428, 275, 402, 214, 116, 204,\n",
       "        574, 418, 163, 276,  35,  16, 301, 108, 512, 505,  31, 454, 568,\n",
       "        459, 325, 590, 122,  45, 350, 188, 372, 613,  89, 361, 273, 153,\n",
       "        194, 416, 105, 562, 509,  52, 468,  86,  70, 423, 342, 210, 271,\n",
       "        147, 287, 432,  67, 601, 143, 613,  90, 603, 168, 509, 322,  21,\n",
       "        503, 401,  77]),\n",
       " array([563, 371, 164,  60,  84, 189, 510, 275, 554, 430,  78, 148, 430,\n",
       "         32, 126,  53, 444, 379, 159, 351, 345, 331, 104, 235, 368, 332,\n",
       "        432, 394, 586, 231, 179, 333, 287, 242, 611, 233, 440, 477, 140,\n",
       "        235, 560, 146, 125, 208, 336, 584, 120, 204, 445, 430, 362,  93,\n",
       "        223,  52, 310, 322, 607,  91, 511, 338, 150, 325, 240, 258, 397,\n",
       "        430, 457, 448,  90,  60, 393,  41, 405, 194, 576, 153, 321, 579,\n",
       "        128, 316, 195, 578, 380, 215, 148, 139, 350,  93, 215, 207, 403,\n",
       "         67, 391, 443,  44, 103, 600, 550, 532,  95,  34, 285, 224,  96,\n",
       "        116,  38, 536, 100, 319, 243, 243,  25,  72, 407, 134, 306, 346,\n",
       "        398, 280, 200, 417, 166,  66,  72, 330,  86,  24, 230, 400, 391,\n",
       "        137,  95, 583, 408,  51, 480, 153, 165, 377, 414, 106, 446, 406,\n",
       "        184,   4, 364, 526,  83, 441, 239, 238, 286, 167, 105, 450, 424,\n",
       "        389, 191, 111, 194, 441, 509,  59, 114, 565, 385, 455, 129, 490,\n",
       "        126, 564, 309, 358, 189, 316, 218, 582, 189, 399, 122, 199,  63,\n",
       "         64, 295,  68, 515, 101, 299, 303, 287, 547, 322, 259,  84, 113,\n",
       "        601, 182, 125, 509, 484,  28, 561, 431, 570, 130, 423, 575, 125,\n",
       "        500, 549, 579, 481, 157, 106, 463, 369, 211, 527, 456, 277, 175,\n",
       "        182, 483, 529, 557, 483, 317, 574, 322, 353, 504, 334, 446,   1,\n",
       "        391, 308,  37, 193,  12,  71, 431, 231, 344,  78, 139, 208, 408,\n",
       "        109, 411,  42,  32, 585, 205, 149, 475, 554, 553, 155, 461, 517,\n",
       "         42, 362, 532, 386, 275,   1, 568, 317, 100, 512, 248, 385, 190,\n",
       "        200, 474, 501, 416, 362,  18, 229, 112, 486,  19, 182, 351, 518,\n",
       "          7, 235, 111, 235, 224,  79, 581, 597, 389, 510, 162, 254,  29,\n",
       "        224, 179, 254, 568, 186, 109, 436, 418, 481, 207,  59,  17,  36,\n",
       "        366, 588, 545, 304, 324, 176, 493, 222, 400,  33, 472, 542, 207,\n",
       "        361, 110, 384, 534, 290, 512,   0, 513, 488, 270, 232,  68, 297,\n",
       "        358, 268, 502, 302, 348, 462, 105, 519, 598, 475, 557, 150, 476,\n",
       "        487, 369, 172, 215, 592, 324, 395, 304, 358, 462, 211,  14, 595,\n",
       "        353, 290, 363, 388,  35, 202, 278,  50,  67,  23, 556, 204, 164,\n",
       "         27, 424, 565, 512, 172, 230, 301, 469, 366, 493,  12, 292,   7,\n",
       "        498, 106, 431, 463, 452, 549, 583,  22, 407, 406, 496, 321, 473,\n",
       "        597, 602, 501,  28, 591, 256, 467, 123,  82, 228, 233, 485, 301,\n",
       "        246, 409, 540, 207, 300, 144, 120, 305, 172, 437, 491,  92, 563,\n",
       "        292, 168, 218,   1, 544, 176, 113, 154, 555, 594, 101, 516, 398,\n",
       "         75, 416, 298, 573,  79,  34, 353, 331, 468, 397, 407, 272,  51,\n",
       "        358, 174, 481,  74, 270, 303, 571, 474, 565, 228, 498, 196, 251,\n",
       "        344, 208, 129, 146, 482, 237, 457,  33,  77, 173, 503, 289, 126,\n",
       "        576, 398, 118, 344,  57, 519, 477, 145, 279, 287,   6, 264, 309,\n",
       "        120, 547,  55, 590, 173, 327, 303, 587, 416, 544,  76, 260, 184,\n",
       "        325, 397, 503, 374, 395, 420, 598,  86, 355, 250,  14, 508,  62,\n",
       "         34, 499, 583, 116, 355, 237, 177, 196, 344, 603, 500, 489, 283,\n",
       "        539, 174, 179, 173, 280, 460,  17, 261,  29, 176, 292, 224, 549,\n",
       "        606, 482, 564, 282, 497,  98,  40, 117,  59, 561, 550, 511, 443,\n",
       "         73, 168, 476,  81, 368,  44,  13, 169, 168, 304, 238, 551, 295,\n",
       "        527, 203, 240,  52, 110, 591, 483, 328, 580, 137, 330, 532, 152,\n",
       "        289, 136,  84, 442, 596, 492, 506, 218, 217, 337, 392, 155, 181,\n",
       "        208, 539, 136, 134, 330, 388, 399, 236,  59, 450,  34, 153, 442,\n",
       "        352, 492, 190]),\n",
       " array([238, 611, 159, 560, 544, 435, 370, 532, 218, 564, 109, 108, 608,\n",
       "        351, 162, 405, 502, 375,  64, 133, 605, 417,  67,  78, 302, 436,\n",
       "         17,  18, 307, 142, 265, 132, 469, 131, 495, 122,   0, 356, 395,\n",
       "         16, 151, 528, 504, 426, 177,  51,  66,  91, 222, 430, 471, 475,\n",
       "        282,   7, 374,   4, 265, 565, 591, 476, 262, 244, 581,  16, 471,\n",
       "        187, 394, 118, 151, 381, 535, 365, 224, 149,  23, 356,  42, 160,\n",
       "        430, 393, 115, 536, 252,  64, 155,  36, 193, 527, 126, 561,  21,\n",
       "         78, 140, 287, 202, 589, 172, 315, 538, 181, 560, 110, 128, 570,\n",
       "        260, 303, 287,  31, 322, 108, 408, 143, 132, 206,   6, 471, 175,\n",
       "        133, 598, 569,  23, 447,  23, 403,  77,  53, 509, 214, 183,  74,\n",
       "        461,  47, 304,  15, 446, 167, 221,  73, 105, 332, 423, 493, 545,\n",
       "        447, 300, 282, 446, 148,  37, 326, 502, 117, 146, 224, 394, 460,\n",
       "        609, 418, 287, 320,  17, 292, 438, 166, 275, 343,  33, 421,   5,\n",
       "        255, 481, 546, 254, 207, 409, 540, 513,  98, 225,  25, 511,  47,\n",
       "        198, 469, 281, 140,   6, 604, 555, 570, 485, 314, 204, 135, 226,\n",
       "        532, 589, 256, 330, 486, 153, 592, 488, 291, 582, 217, 219,  17,\n",
       "        481, 575, 612, 330, 433, 437, 401,  42, 584, 404, 120, 553, 204,\n",
       "        127, 575, 169, 609, 525, 375, 329, 568,  68, 100,  44,   3, 604,\n",
       "        155, 436, 247, 301, 267, 561, 611, 547, 337, 105, 526, 300, 102,\n",
       "        203, 192, 222, 541, 526, 296, 467, 563, 497, 250, 571, 545, 237,\n",
       "        422, 261, 462,  55, 155, 158, 487, 341, 515, 312, 590,  21, 543,\n",
       "        505,  91, 427, 139, 134, 392, 457, 112, 474, 435,   2, 136, 596,\n",
       "        506, 116, 269, 437, 228,  61,  14,  90, 182,  96, 472, 260, 242,\n",
       "         74, 427, 173, 304,  29, 447, 425,  97, 312, 354, 203, 216, 405,\n",
       "        550,  71, 450, 606, 185, 315, 417, 610, 233, 604, 190, 368,  68,\n",
       "         45, 164, 354, 342, 277, 393,  72, 411, 360, 157, 582,  76, 604,\n",
       "        465, 296,  94, 106, 234, 612,   7, 390, 562, 197,   1, 155, 174,\n",
       "        229, 341, 186, 153, 171, 296, 190,  86, 429, 524, 411, 245,  41,\n",
       "        384,  45,  53, 262, 255, 610, 214, 361, 223, 408, 489,   6, 399,\n",
       "        313, 138, 177, 600, 474, 582,  55,  88, 600, 538, 572, 453,  64,\n",
       "          7, 331, 514, 417, 448, 289, 227, 206, 401,  28, 340,   8, 426,\n",
       "        504, 149, 430,  87, 602, 417, 214, 335, 410, 537, 345, 288,  32,\n",
       "         99, 421, 313, 257,  85, 429, 288, 487, 506,  39, 318, 132, 524,\n",
       "        325, 332,  18, 183, 486,  49,  20, 188, 214, 348, 290, 261, 612,\n",
       "         47, 202, 292, 560, 432, 345, 462, 127, 107, 177, 525, 519, 500,\n",
       "        315, 530, 405, 252, 235, 257, 215, 101, 350, 186,  56, 478, 284,\n",
       "        555, 577,  60, 389, 163, 489, 363, 368, 483, 271,  91, 141, 106,\n",
       "         85,  97, 573, 318,  86, 306, 142,   4, 249, 413, 560, 316,  26,\n",
       "        146,  50, 532, 300, 260, 118, 501, 545, 178, 437, 565, 232, 491,\n",
       "        226, 155, 346,  19, 496, 546,  28, 464, 442, 518, 293, 150, 180,\n",
       "         26, 505,  64, 561, 336,  43, 242, 130, 345, 109, 291,  47, 268,\n",
       "        340,  54,   9, 566, 390, 566,  93, 505, 196, 196, 316, 345, 363,\n",
       "        514,  73, 419, 489,  83, 605,  41, 594, 282, 407, 263, 579, 552,\n",
       "        382, 369, 421, 258, 226, 418, 245,  70, 404, 384,  83, 123, 125,\n",
       "        550, 220, 201, 137, 612, 469,  48, 445, 134, 159,  52, 454, 444,\n",
       "        578, 446, 532, 373, 533, 491, 336, 463, 370, 344, 365, 127, 609,\n",
       "        488, 464, 520, 564, 233, 321, 149, 273, 266, 265, 281, 470, 324,\n",
       "        169, 323,  58]),\n",
       " array([428,  11, 302, 262, 517, 405,   8, 386, 129, 222, 364, 395, 145,\n",
       "        357, 483, 120, 510, 370,  59, 465, 388,  20, 273, 254, 423,  25,\n",
       "        392, 317, 180, 569, 137, 476,  16, 132, 522, 274,   9, 272,  25,\n",
       "        353, 371, 332, 587, 491, 431, 431, 245, 114, 448, 278, 251, 426,\n",
       "        438, 573, 202, 407, 168, 173,  29, 518, 567, 315, 567, 141, 191,\n",
       "        360, 484, 393, 376, 587,  41, 244,  88, 562, 479, 332, 448, 368,\n",
       "        203, 509, 320, 107, 289, 148, 223, 504, 365, 185,  18, 223, 529,\n",
       "        332, 424, 197,  69, 498, 320,  91,  94, 416,  51, 118, 210, 596,\n",
       "        322,  17, 341, 160,  59, 576, 182, 407, 587, 198, 144, 158, 221,\n",
       "        301, 383, 224, 145, 112, 485, 176, 105, 268, 213, 163, 539, 116,\n",
       "        560, 482, 106, 409, 242, 465, 121, 508, 258, 329, 267, 204, 342,\n",
       "          2, 441, 610,  63, 459, 106, 479, 349,  17, 281,  12, 238,   6,\n",
       "        118, 535, 598, 535, 537, 382,  22, 445,  91, 334, 361, 612, 334,\n",
       "        315,  91, 257, 308, 178, 135, 247, 522, 383, 412, 229,  22, 233,\n",
       "        612, 442, 519, 609, 286, 368,  36, 531, 405, 235, 475, 262, 333,\n",
       "        150, 318, 222,  13, 399,  12, 528, 260, 125, 502, 429, 402, 186,\n",
       "        393, 437, 325, 160, 533, 597, 414, 257, 128, 608, 551, 380, 221,\n",
       "        163, 446, 236,  73, 488, 264, 527, 496, 495, 359,  98, 271,  48,\n",
       "        485, 332, 173, 451, 434, 455, 261, 515, 274, 601,  10, 292, 165,\n",
       "         70, 277, 195, 477, 386,  89,  34, 160, 227, 244, 146, 509, 535,\n",
       "        430, 382, 373,  85, 420,  23, 175,  32, 137, 410, 430, 267, 219,\n",
       "        201, 382, 155, 562, 585, 199, 206,  16,  78, 416, 325, 324, 575,\n",
       "        131, 211, 445, 455, 324,  23,   8, 322, 468, 399, 196, 486,  49,\n",
       "         76, 415, 267, 331, 534, 479, 303, 124, 171, 229, 305, 537, 144,\n",
       "          5, 205, 219, 168, 383, 427, 159, 406, 301, 105, 488, 179, 235,\n",
       "        259, 108, 366, 233, 339, 288, 168, 412, 431, 163, 523,  60, 176,\n",
       "         40, 550, 425, 335, 228, 185,  34,   3, 117, 515, 508, 491, 207,\n",
       "        362,  82, 424, 248, 470, 293, 272, 307, 569, 561, 147, 207, 171,\n",
       "        203, 259,  56, 188,  94,  31, 183, 431, 482, 604, 389, 370, 468,\n",
       "        370, 389, 335, 338, 172,  46, 286, 412, 586, 536, 253, 305, 611,\n",
       "        536,  48, 575,  82, 257, 610, 229, 339,  63, 587, 426,  19, 479,\n",
       "        215, 131, 158, 106, 243,  15, 309, 553, 570, 497, 269, 350, 447,\n",
       "        358, 391,  55, 316, 431, 330,  95,   1, 171, 475, 175, 587, 147,\n",
       "        410, 610,  61,  82, 427,  21, 593, 381, 521,  62, 445, 373, 209,\n",
       "        362,  79, 102, 459, 606, 268,  97,  27, 525,  79, 189, 357, 366,\n",
       "        336, 349, 385, 569,  12, 214, 111, 569, 416, 277, 487, 611, 213,\n",
       "        529, 293, 396, 222,  22, 497, 365, 132, 287, 169, 249, 558,   8,\n",
       "         56, 567, 345, 572, 216,  74, 466, 143, 257,  52, 118, 488, 183,\n",
       "        113, 486,  50, 222, 503,  42,   8, 573, 152, 208, 507, 302, 253,\n",
       "        121, 369, 458,  53, 301, 561, 231, 108, 307, 564, 516, 448, 226,\n",
       "        247, 476, 588, 433, 497, 372, 197, 466, 435, 377, 551,  84, 299,\n",
       "        241, 356, 377, 167, 520, 390, 162,  15, 404, 323, 282,  60, 235,\n",
       "         81, 410, 429, 444, 580, 549, 294, 567, 420, 419, 371, 453,  50,\n",
       "        261, 267,  89, 520, 126,   2,  17, 256, 150, 244, 553, 346, 200,\n",
       "        605,  25, 256, 442, 575,  31, 518, 538, 592, 145, 608, 263,  28,\n",
       "         36,  49, 506, 261, 554, 593, 165,  87, 576, 598, 538, 593, 613,\n",
       "        363, 117, 456, 487, 231, 432, 294, 476,  90, 156, 524,  28, 302,\n",
       "        598, 292, 133]),\n",
       " array([ 61, 399, 471, 102, 437, 317, 431, 207, 231, 498, 231, 201, 282,\n",
       "        226, 213, 478, 143, 537, 154, 576, 598,  67, 197, 283, 468, 191,\n",
       "        478, 365, 175, 126,  53, 586, 540, 339,  41, 411, 584, 581, 219,\n",
       "        495, 586, 611, 369, 416, 452, 512, 572, 519, 553, 432, 162,  84,\n",
       "        146, 130, 536, 486,  94,  72, 458, 539, 302, 502, 413, 363,  39,\n",
       "        315, 270, 157, 451,  41,  79, 215, 407, 384, 206, 331, 386,  86,\n",
       "        251, 384,  11, 329, 384, 286, 242, 341, 280, 384,   4, 355,  48,\n",
       "         77, 423, 337, 240, 411, 127, 425, 449, 413, 303, 504, 466, 191,\n",
       "        529, 211, 234, 188, 108, 602, 340,  88, 557, 352,  10, 203, 506,\n",
       "        239, 584, 494, 338, 276, 306,  36,  51, 494,  96, 462, 342, 610,\n",
       "        305,   2, 555,  47, 530, 214, 123, 302, 386, 384, 206, 208, 259,\n",
       "        220, 204, 391, 408, 189, 360, 481, 403,  31, 214, 214, 215, 584,\n",
       "        328, 523, 202, 534, 174,   2, 208, 108, 217, 488, 133, 566, 273,\n",
       "        421, 237, 587, 102, 158, 578, 508, 192,  26, 549,  10, 419, 243,\n",
       "        250, 192, 594, 189, 185, 161,   8, 296, 439, 326,  95, 132, 275,\n",
       "        468,  80, 155, 338, 563, 421, 460, 390, 502, 130, 468,  90, 547,\n",
       "        463, 203, 357, 409, 534,  17, 211,  92,   0, 352,  74, 543, 499,\n",
       "         87, 523, 121, 139, 458,  98,  43, 549, 471, 229,   2, 151, 350,\n",
       "         18,  88, 540, 103, 309, 495, 556, 564, 495,  26, 219, 163, 143,\n",
       "        539, 468, 248,  14, 236, 419,  94,  27,  32, 139, 555, 481, 393,\n",
       "        403, 537, 508, 293, 556, 466, 388, 410, 508, 496, 262, 144,  61,\n",
       "        377, 152, 604,  84, 293, 172, 555, 415, 293, 523, 593, 481, 306,\n",
       "        220, 138,   0, 144,  54, 327, 559, 189, 516,  66, 327, 430, 140,\n",
       "        314, 110,  20, 299, 418, 149, 593, 542, 188, 132, 286, 571, 528,\n",
       "        112, 125, 271,  73, 419,  65, 321, 149, 383,  24, 177, 106, 509,\n",
       "        179, 120, 100, 259, 611,  70, 526, 220, 225, 481, 387, 476, 441,\n",
       "        486,   7, 607, 240, 314, 118, 314, 104,  87, 292, 375, 521, 301,\n",
       "        463, 338, 168,  66, 366, 171, 335, 495, 255, 165, 535, 181, 473,\n",
       "        385, 538, 581, 124, 327, 144, 414, 379,  98, 513,   0, 307, 364,\n",
       "         44, 157,  68, 249, 376, 473, 569, 526, 294, 103, 274, 228, 262,\n",
       "        455, 583, 483, 199, 145, 571, 386, 559, 407, 133, 254, 382, 540,\n",
       "        601,  77, 210, 255,  37,  20, 190, 224, 460, 439, 295, 209,  49,\n",
       "        361,  80, 273, 468, 209, 322, 457, 516,  90,  86,  96,  86,  77,\n",
       "        455, 107, 453,  13, 336, 108, 586, 339, 106, 163,  17, 352, 300,\n",
       "        319, 289,  73, 598, 191, 589, 608, 447, 221, 264, 203, 219,  58,\n",
       "        563, 248, 584, 406,  89, 118, 100, 127, 125, 155,   9, 344, 492,\n",
       "        320,  97,  52, 232, 134, 489,  49, 115, 515, 562,  38,  73, 347,\n",
       "         48, 437,  43, 338, 238, 495, 517, 470, 433, 273,  21,  53, 171,\n",
       "          9, 563, 231, 374, 555,  21, 526, 250, 240, 297, 326, 197, 336,\n",
       "        596, 254, 318, 210, 229,  48, 372, 131, 373, 267, 425, 155, 356,\n",
       "        358, 329, 438, 546,  13, 580, 382,  13, 170, 275,  70, 421,  20,\n",
       "        407, 507, 456, 203,  19, 137, 598, 611, 556, 271,  18, 496, 139,\n",
       "        425, 516, 514, 114,  39, 114,  87, 236, 195,  30, 498, 493, 152,\n",
       "        541, 518, 525, 490, 165, 207, 172, 411,  36, 559,  40, 592, 455,\n",
       "        391,   6, 568, 175,  30, 484, 411, 329, 224, 530, 361, 339, 230,\n",
       "        307, 183, 143, 496, 278, 234, 576, 506, 366, 410, 199, 306, 274,\n",
       "        432, 137, 327, 240, 415,  49, 600, 533, 323, 137,   1, 234, 286,\n",
       "        113,  67, 104]),\n",
       " array([331, 245, 308, 595,  88, 230, 201, 530, 497, 380,  96, 593, 435,\n",
       "        167, 363, 267,  33, 175, 208, 202, 197, 219, 142, 593, 484, 228,\n",
       "         95, 215, 585, 287, 367, 442, 317, 612,  75,  14, 216, 512, 237,\n",
       "        112, 412, 231, 195, 255, 439, 292, 445, 403,  62, 373, 514, 565,\n",
       "        369, 452, 507, 332, 423,  84, 158, 229, 288, 535,  42, 513, 283,\n",
       "        609, 341,  12, 143, 610, 404, 377,  86, 278, 370,  81, 398, 471,\n",
       "        305,  32, 595, 359, 612, 224, 140, 550, 174,  46, 257, 302, 345,\n",
       "        424, 273, 510, 425, 410, 219,  56, 441, 238, 401, 560, 488, 330,\n",
       "        548, 434, 536, 313, 414, 385, 450, 349, 599, 531,  33, 150, 189,\n",
       "        252, 519, 363, 299, 594, 198, 205, 535, 244,  78, 589, 221, 149,\n",
       "        327, 371,  83,  19, 503, 227, 163, 178, 232, 307,  55, 325, 380,\n",
       "        392, 393, 167, 270, 239, 154, 398, 396, 286, 121,  56, 412, 515,\n",
       "         93, 532, 175, 593, 521, 329, 436, 451, 339, 376, 508, 289, 583,\n",
       "         49, 348, 335,  28, 343, 565, 525, 403, 437, 132,  99, 421, 205,\n",
       "        130, 495, 488, 222,  10, 366, 380, 328, 288, 426, 325, 431, 599,\n",
       "        612, 173, 370, 391, 127, 215,  85, 471, 308, 181, 456, 151, 437,\n",
       "        180,  39, 353, 229, 171, 602,  96,  77, 210,  99, 132, 359, 498,\n",
       "        133,  41, 127, 533,  14, 293, 342, 579, 141, 484, 161, 343, 186,\n",
       "        116, 600, 146, 543, 276, 413, 334, 230, 299, 327,  24, 212, 354,\n",
       "        392,  41,  77, 426, 517, 498, 564,   1,  36, 574,  92, 231, 524,\n",
       "        491, 225,  67, 448, 269, 545, 282,  43, 594, 146, 284, 140, 145,\n",
       "        220, 517, 155, 496, 382, 405, 305, 252, 485, 247,  20, 571, 546,\n",
       "        299, 525,  42, 400, 355, 398, 456,  39, 209, 264, 323, 210, 393,\n",
       "        536,  56, 145, 267,  19,  44, 341, 306, 364, 429, 349, 573, 574,\n",
       "        612, 186, 572, 565, 517, 226, 234, 423,  86, 356, 184, 563, 374,\n",
       "        257, 304, 518, 575, 361, 432,  89, 111,  61,  50, 346,  51, 391,\n",
       "        145, 238, 613, 357, 485,  43, 183, 536, 251,  66, 146, 213,  90,\n",
       "        531, 405,  79, 220, 286,  24, 389, 376, 316, 407,  35, 294, 206,\n",
       "        307, 505, 405, 494, 122, 174, 168,  15, 326, 164,  14, 477, 280,\n",
       "        466, 450, 183, 555, 150, 381, 150,  90, 256, 313, 348, 168, 572,\n",
       "        117, 402, 456, 116, 365, 154,  59, 604, 469, 566, 225, 460,   8,\n",
       "        549, 279,  19, 224, 222,  49, 411, 132, 553, 225,  57, 321, 519,\n",
       "        263, 413, 339,  90, 124,  69, 512, 192, 458, 465, 453, 435, 260,\n",
       "        469, 266, 424, 364, 509,  71, 602,   5,  63, 205,  54, 140, 445,\n",
       "        235, 531, 513, 135, 376, 319,  42, 486, 179, 602, 181, 538,  72,\n",
       "        162,  83, 174, 484, 528, 418, 347, 184, 453, 165, 579, 293, 119,\n",
       "        335, 286, 610, 122, 140, 142, 245,   6, 120,  61, 382, 411, 338,\n",
       "        511, 553, 153, 450, 400, 454, 459, 461, 524, 422, 293, 227,  21,\n",
       "        363, 209, 505, 317, 129,  14,  40, 266, 312, 342, 586, 333, 544,\n",
       "        246, 380, 313, 406,  17, 555, 590, 425,  49, 129, 104, 503, 517,\n",
       "        320,  51,  89, 401, 263, 472, 578,  35, 527, 510, 425, 611,  22,\n",
       "        173,  66, 396, 506,  15,  14, 437, 471, 192, 443, 541, 593,  96,\n",
       "        262,  95, 267, 245, 135,  59,  11,  85, 542, 372, 487, 121, 402,\n",
       "        107, 158, 378, 108, 142, 138, 242, 213, 441, 100, 178, 416, 112,\n",
       "        124, 443, 498,  44, 322, 335,  32, 386, 507, 535, 565,  37, 353,\n",
       "        470, 464, 315, 320, 109, 562, 557, 367, 532, 217,  29,  90,  94,\n",
       "        343, 193, 360, 584, 277, 268, 263, 526, 244, 325, 571, 526, 144,\n",
       "        233, 317, 178]),\n",
       " array([331, 164, 229, 190, 237,  97, 395, 212, 401,  65,  14, 458, 392,\n",
       "        244, 399, 516, 535, 168, 444, 594, 544, 268, 461, 592, 523, 286,\n",
       "        414, 405,  74, 360, 322,  83, 581, 340, 320, 419,  47, 585, 409,\n",
       "          5, 254, 545,  47, 203, 455,  41, 273, 498, 504, 127, 237, 318,\n",
       "        588, 496, 567, 238, 256,  43, 479, 434, 520, 592, 488, 530, 568,\n",
       "        161, 381, 313, 397, 281, 473,  48,  23, 370, 611, 474,  34, 386,\n",
       "        509, 229, 212, 373, 440, 168, 149, 156, 565, 495,  68, 363, 362,\n",
       "        254,  83, 105, 300,  98,  14, 316, 392,  54, 603, 578, 311, 289,\n",
       "        261, 105, 249, 195, 253,  66, 558,  27, 399,  74, 276, 123, 220,\n",
       "        415, 418, 152, 114, 602, 126, 476,  73, 176, 357, 325,  84, 207,\n",
       "        436,  13, 184, 490, 114, 112, 197, 278, 380, 564, 560,  77, 199,\n",
       "        264,  67, 102, 109, 554,  65,  24,  56, 173, 173, 174, 126, 262,\n",
       "         28, 596, 397,  56, 558, 497,  93,  38, 405, 472, 608, 493, 129,\n",
       "        585, 317, 443, 410, 272, 192, 396, 504, 148, 611, 157, 433, 578,\n",
       "        560, 579, 175, 116, 577, 320,  34,  40,  10,  19, 128,  38, 174,\n",
       "         38, 232, 306, 260, 502, 215, 597, 257,  94, 356, 543, 510, 535,\n",
       "        262, 370, 522, 131, 251, 537, 601, 200, 209, 597, 523,  22,  95,\n",
       "        611,  45,   3,  78, 187, 205, 394, 555,  38, 366,  78,  83, 133,\n",
       "         58,  24,  60, 140,  68, 283,  20, 354, 547, 168, 563, 307, 331,\n",
       "        346, 310, 240, 236, 448, 483, 270, 197, 168, 403, 227, 292, 536,\n",
       "         24, 453, 450, 217,  47, 191,  71, 562, 155,  32, 495, 310, 574,\n",
       "        352, 514, 420, 613,  24, 392, 500,  82, 142, 407, 246, 453, 293,\n",
       "        432, 240, 583, 167, 175,  22, 175, 331, 150, 328, 358, 318, 334,\n",
       "         50,  63,  28, 519, 143, 396, 142, 369, 485, 459, 159, 123,  78,\n",
       "        118, 389, 479,  75,  78,  49,  68, 137, 147, 409, 496, 179, 409,\n",
       "        536, 519, 184, 297,   0, 178,  71, 386,  76, 509, 188, 179, 160,\n",
       "        319, 197, 143, 612, 346, 496, 362, 352, 423,  62, 485, 478, 545,\n",
       "         87, 408, 457, 536, 413, 555, 309,  95,  97, 154,  84, 242, 112,\n",
       "        293, 536, 283, 512,  13, 411, 203, 426, 573, 323, 435, 606, 505,\n",
       "        436, 514, 417,  49,  26, 371,   5, 513, 510, 334, 424, 207,  80,\n",
       "        217, 121, 273, 399, 438, 127, 241, 297, 271, 584, 165, 209, 467,\n",
       "         44, 393, 218, 502, 260, 472, 229, 554, 409, 161, 439, 515, 304,\n",
       "        227, 399, 219, 543, 613, 122, 613, 415, 168, 597, 219,   6, 287,\n",
       "        312, 488,  48, 470, 168, 547, 383, 411, 192, 530, 135, 573,  34,\n",
       "        296,  94, 119, 270, 307, 143, 227, 154, 162, 424, 544, 603, 115,\n",
       "         77, 159,   7, 294, 505, 360, 147, 373, 289, 343, 466, 105, 236,\n",
       "         69, 573, 417, 257, 124, 550, 263,  43, 600, 280, 560, 323, 251,\n",
       "        604, 231, 504, 567, 331, 531, 443, 119, 166, 140, 504,  42, 541,\n",
       "        262, 418,  55, 180, 331, 181,  59, 463, 279, 171, 573, 522, 174,\n",
       "        527, 233, 288, 218,  75, 146, 510, 165, 121,   7, 179, 468, 610,\n",
       "        563,  16,  73, 283,  36, 498, 462, 558, 404, 337, 547, 417, 262,\n",
       "        413, 472, 200,  68, 547, 246, 172,  31, 537, 191, 181, 280, 537,\n",
       "        519, 539, 541, 436, 128, 204, 602,  44, 479, 298, 491, 512, 524,\n",
       "        105, 325, 397, 369, 594, 108, 171,   7, 304, 111, 153, 110, 138,\n",
       "        245, 144, 179,  71, 491, 382, 492, 271, 508, 428, 363, 222, 424,\n",
       "        315, 341,  74, 207, 238, 105, 348, 216,  10,  85,  49, 477,   9,\n",
       "        124, 514,  73, 271,  92, 419, 308,  46, 221, 159, 432, 149, 246,\n",
       "        230, 133, 570]),\n",
       " array([277,  70, 377, 207, 313, 158, 133, 116, 219,  38, 273, 385, 180,\n",
       "        331, 217, 175, 350,  73, 604, 303,  56, 512, 604, 439,  99, 453,\n",
       "        394, 577, 447, 450, 479, 348, 531, 413, 396, 463, 113, 113, 156,\n",
       "        290, 307, 583, 226, 295, 300, 162, 247,  28, 259,  95, 440, 370,\n",
       "        505, 166, 113, 280, 533, 585, 397, 308, 101, 418,   6, 611, 582,\n",
       "        102, 434,  19, 601, 370, 156, 360, 568,  32,  80, 514,  68, 461,\n",
       "         93, 537,  88, 236, 131, 612, 554, 122, 600, 270, 287, 588, 448,\n",
       "        529,  66, 158, 472, 336, 260,  19, 207, 551, 361, 396, 532, 230,\n",
       "        481, 144, 580,  22, 433, 354, 236, 438, 240, 145, 158, 587, 438,\n",
       "        399, 253, 170, 491,  31, 299, 316,  73, 182, 456, 251, 510, 326,\n",
       "         88, 352, 290,  95, 427,  33, 400, 250, 567, 154, 543, 320, 135,\n",
       "        319, 218, 480, 541, 259,  85, 108, 305, 296, 380, 530, 314, 554,\n",
       "        143, 174, 317, 379, 440, 205,  35, 166, 297, 412,  11, 136, 139,\n",
       "        517, 297, 230, 566, 554, 142, 597,  49, 498, 370,  57, 300, 282,\n",
       "        332, 389, 278, 302, 611, 490, 320, 331, 399, 267, 348, 258,   3,\n",
       "        196, 510, 213, 125,  16, 571, 463, 475, 279, 144, 593, 530, 517,\n",
       "        126, 192, 355, 248, 594, 303, 270,  41, 367, 438, 349,  54, 218,\n",
       "        125, 239, 357, 562, 586, 115, 246, 605, 131, 541, 257, 116, 229,\n",
       "        127, 410,  93, 576, 400, 175, 547, 482, 143, 156, 321, 264,  62,\n",
       "        589, 223,  47, 360, 195, 367, 386, 528, 202, 211, 342, 358, 349,\n",
       "        428,  54, 280, 508, 413, 274, 395,  91, 264, 248, 608, 583, 456,\n",
       "         98, 592, 359, 191, 573, 257, 529,  90,   7,  27, 262, 112, 419,\n",
       "        298, 516, 305,  44, 107,   2, 456, 362,  45, 532, 546, 276, 495,\n",
       "        163, 402, 235, 145, 247, 227, 522,  83, 296, 304, 373, 531,  90,\n",
       "        342, 311,  41, 606, 550,  26, 598, 206, 366, 470, 134, 334, 111,\n",
       "        330, 248, 130, 385, 417, 255, 510, 534, 463, 376, 313, 405, 574,\n",
       "        183,  11, 470, 526, 403, 197, 193,  94, 205, 218, 250, 364, 196,\n",
       "        503, 208, 273,  83, 303, 417, 192, 529, 554, 128, 280, 579,  24,\n",
       "        396, 514, 207, 591, 414, 213, 527, 173, 312, 305, 197,  93, 481,\n",
       "        538, 482, 405, 352, 549, 276, 383,   3, 194, 111, 257, 163, 578,\n",
       "        317, 468, 318, 510, 313, 260, 418, 511, 249, 324, 268, 283, 327,\n",
       "        228,  19, 191, 220, 377,  50, 242, 536, 513, 404, 104, 361, 229,\n",
       "         79,  17, 438, 610, 517, 376, 223, 109, 230, 144, 187,   8, 217,\n",
       "        109, 326,  99, 552, 328, 520, 549,  55, 382, 578, 209, 244, 164,\n",
       "        364, 212, 462, 569, 273, 129, 140, 315, 582, 212, 479, 255, 544,\n",
       "        269, 496, 557, 286, 409, 342, 551, 138, 516, 245, 308, 297, 245,\n",
       "        332, 545, 517, 587, 356, 572, 424, 159, 450, 466, 150, 565, 173,\n",
       "        500, 136, 140, 141, 368, 120, 564, 413, 324, 586, 265, 525, 377,\n",
       "        353, 232, 486, 389, 418, 610,  85, 208, 450, 137, 105, 221,  34,\n",
       "        533, 356,  31, 284, 105, 155, 489, 394, 604, 218, 312,  11, 217,\n",
       "        108, 129, 474, 498, 573, 390, 496, 303, 331, 300, 459, 447, 255,\n",
       "        520,  15, 382, 209, 359, 421, 123, 114, 257, 580, 458, 423, 421,\n",
       "        223,  10, 556, 538, 555, 305,  82, 563, 185, 524, 287,  40, 455,\n",
       "        573, 190, 584, 527, 384, 296, 321, 194, 286, 245,  34, 296, 247,\n",
       "         84, 530, 432, 543,  12, 457, 449, 424, 501,  19, 393, 438, 304,\n",
       "        516, 419,  46, 512, 492, 272, 100,  99, 238, 445,  38, 458, 326,\n",
       "         91, 272, 522, 351, 423,  96, 266, 118, 181, 179, 560, 253, 323,\n",
       "        463, 345, 341])]"
      ]
     },
     "execution_count": 19,
     "metadata": {},
     "output_type": "execute_result"
    }
   ],
   "source": [
    "bagging_DT.estimators_samples_"
   ]
  },
  {
   "cell_type": "markdown",
   "id": "277cc978",
   "metadata": {
    "id": "277cc978"
   },
   "source": [
    "## <font color='#BFD72F' id='parbg'>2.3. Parameters in BaggingClassifier</font>\n",
    "[Back to Contents](#toc)"
   ]
  },
  {
   "cell_type": "markdown",
   "id": "15587772",
   "metadata": {
    "id": "15587772"
   },
   "source": [
    "**Step 20 -** Change the number of estimators used in the ensemble to 40 by setting `n_estimators = 40`. The default parameter is 10."
   ]
  },
  {
   "cell_type": "code",
   "execution_count": 20,
   "id": "7722642f",
   "metadata": {
    "executionInfo": {
     "elapsed": 9,
     "status": "ok",
     "timestamp": 1724246060583,
     "user": {
      "displayName": "Tiago Martins",
      "userId": "14571988070475468280"
     },
     "user_tz": -60
    },
    "id": "7722642f"
   },
   "outputs": [],
   "source": [
    "bagging_DT_40 = BaggingClassifier(estimator = modelDT, n_estimators = 40, random_state = 5)"
   ]
  },
  {
   "cell_type": "markdown",
   "id": "f359d2fe",
   "metadata": {
    "id": "f359d2fe"
   },
   "source": [
    "**Step 21 -** Use the `.fit()`method to fit the model to the array of points `X_train` and `y_train`."
   ]
  },
  {
   "cell_type": "code",
   "execution_count": 21,
   "id": "b2f704e9",
   "metadata": {
    "colab": {
     "base_uri": "https://localhost:8080/",
     "height": 137
    },
    "executionInfo": {
     "elapsed": 507,
     "status": "ok",
     "timestamp": 1724246061082,
     "user": {
      "displayName": "Tiago Martins",
      "userId": "14571988070475468280"
     },
     "user_tz": -60
    },
    "id": "b2f704e9",
    "outputId": "3c4e4c6f-0ba0-4fa4-81b6-0d96fc160f44"
   },
   "outputs": [
    {
     "data": {
      "text/html": [
       "<style>#sk-container-id-3 {color: black;}#sk-container-id-3 pre{padding: 0;}#sk-container-id-3 div.sk-toggleable {background-color: white;}#sk-container-id-3 label.sk-toggleable__label {cursor: pointer;display: block;width: 100%;margin-bottom: 0;padding: 0.3em;box-sizing: border-box;text-align: center;}#sk-container-id-3 label.sk-toggleable__label-arrow:before {content: \"▸\";float: left;margin-right: 0.25em;color: #696969;}#sk-container-id-3 label.sk-toggleable__label-arrow:hover:before {color: black;}#sk-container-id-3 div.sk-estimator:hover label.sk-toggleable__label-arrow:before {color: black;}#sk-container-id-3 div.sk-toggleable__content {max-height: 0;max-width: 0;overflow: hidden;text-align: left;background-color: #f0f8ff;}#sk-container-id-3 div.sk-toggleable__content pre {margin: 0.2em;color: black;border-radius: 0.25em;background-color: #f0f8ff;}#sk-container-id-3 input.sk-toggleable__control:checked~div.sk-toggleable__content {max-height: 200px;max-width: 100%;overflow: auto;}#sk-container-id-3 input.sk-toggleable__control:checked~label.sk-toggleable__label-arrow:before {content: \"▾\";}#sk-container-id-3 div.sk-estimator input.sk-toggleable__control:checked~label.sk-toggleable__label {background-color: #d4ebff;}#sk-container-id-3 div.sk-label input.sk-toggleable__control:checked~label.sk-toggleable__label {background-color: #d4ebff;}#sk-container-id-3 input.sk-hidden--visually {border: 0;clip: rect(1px 1px 1px 1px);clip: rect(1px, 1px, 1px, 1px);height: 1px;margin: -1px;overflow: hidden;padding: 0;position: absolute;width: 1px;}#sk-container-id-3 div.sk-estimator {font-family: monospace;background-color: #f0f8ff;border: 1px dotted black;border-radius: 0.25em;box-sizing: border-box;margin-bottom: 0.5em;}#sk-container-id-3 div.sk-estimator:hover {background-color: #d4ebff;}#sk-container-id-3 div.sk-parallel-item::after {content: \"\";width: 100%;border-bottom: 1px solid gray;flex-grow: 1;}#sk-container-id-3 div.sk-label:hover label.sk-toggleable__label {background-color: #d4ebff;}#sk-container-id-3 div.sk-serial::before {content: \"\";position: absolute;border-left: 1px solid gray;box-sizing: border-box;top: 0;bottom: 0;left: 50%;z-index: 0;}#sk-container-id-3 div.sk-serial {display: flex;flex-direction: column;align-items: center;background-color: white;padding-right: 0.2em;padding-left: 0.2em;position: relative;}#sk-container-id-3 div.sk-item {position: relative;z-index: 1;}#sk-container-id-3 div.sk-parallel {display: flex;align-items: stretch;justify-content: center;background-color: white;position: relative;}#sk-container-id-3 div.sk-item::before, #sk-container-id-3 div.sk-parallel-item::before {content: \"\";position: absolute;border-left: 1px solid gray;box-sizing: border-box;top: 0;bottom: 0;left: 50%;z-index: -1;}#sk-container-id-3 div.sk-parallel-item {display: flex;flex-direction: column;z-index: 1;position: relative;background-color: white;}#sk-container-id-3 div.sk-parallel-item:first-child::after {align-self: flex-end;width: 50%;}#sk-container-id-3 div.sk-parallel-item:last-child::after {align-self: flex-start;width: 50%;}#sk-container-id-3 div.sk-parallel-item:only-child::after {width: 0;}#sk-container-id-3 div.sk-dashed-wrapped {border: 1px dashed gray;margin: 0 0.4em 0.5em 0.4em;box-sizing: border-box;padding-bottom: 0.4em;background-color: white;}#sk-container-id-3 div.sk-label label {font-family: monospace;font-weight: bold;display: inline-block;line-height: 1.2em;}#sk-container-id-3 div.sk-label-container {text-align: center;}#sk-container-id-3 div.sk-container {/* jupyter's `normalize.less` sets `[hidden] { display: none; }` but bootstrap.min.css set `[hidden] { display: none !important; }` so we also need the `!important` here to be able to override the default hidden behavior on the sphinx rendered scikit-learn.org. See: https://github.com/scikit-learn/scikit-learn/issues/21755 */display: inline-block !important;position: relative;}#sk-container-id-3 div.sk-text-repr-fallback {display: none;}</style><div id=\"sk-container-id-3\" class=\"sk-top-container\"><div class=\"sk-text-repr-fallback\"><pre>BaggingClassifier(estimator=DecisionTreeClassifier(), n_estimators=40,\n",
       "                  random_state=5)</pre><b>In a Jupyter environment, please rerun this cell to show the HTML representation or trust the notebook. <br />On GitHub, the HTML representation is unable to render, please try loading this page with nbviewer.org.</b></div><div class=\"sk-container\" hidden><div class=\"sk-item sk-dashed-wrapped\"><div class=\"sk-label-container\"><div class=\"sk-label sk-toggleable\"><input class=\"sk-toggleable__control sk-hidden--visually\" id=\"sk-estimator-id-5\" type=\"checkbox\" ><label for=\"sk-estimator-id-5\" class=\"sk-toggleable__label sk-toggleable__label-arrow\">BaggingClassifier</label><div class=\"sk-toggleable__content\"><pre>BaggingClassifier(estimator=DecisionTreeClassifier(), n_estimators=40,\n",
       "                  random_state=5)</pre></div></div></div><div class=\"sk-parallel\"><div class=\"sk-parallel-item\"><div class=\"sk-item\"><div class=\"sk-label-container\"><div class=\"sk-label sk-toggleable\"><input class=\"sk-toggleable__control sk-hidden--visually\" id=\"sk-estimator-id-6\" type=\"checkbox\" ><label for=\"sk-estimator-id-6\" class=\"sk-toggleable__label sk-toggleable__label-arrow\">estimator: DecisionTreeClassifier</label><div class=\"sk-toggleable__content\"><pre>DecisionTreeClassifier()</pre></div></div></div><div class=\"sk-serial\"><div class=\"sk-item\"><div class=\"sk-estimator sk-toggleable\"><input class=\"sk-toggleable__control sk-hidden--visually\" id=\"sk-estimator-id-7\" type=\"checkbox\" ><label for=\"sk-estimator-id-7\" class=\"sk-toggleable__label sk-toggleable__label-arrow\">DecisionTreeClassifier</label><div class=\"sk-toggleable__content\"><pre>DecisionTreeClassifier()</pre></div></div></div></div></div></div></div></div></div></div>"
      ],
      "text/plain": [
       "BaggingClassifier(estimator=DecisionTreeClassifier(), n_estimators=40,\n",
       "                  random_state=5)"
      ]
     },
     "execution_count": 21,
     "metadata": {},
     "output_type": "execute_result"
    }
   ],
   "source": [
    "bagging_DT_40.fit(X = X_train, y = y_train)"
   ]
  },
  {
   "cell_type": "markdown",
   "id": "a13e0131",
   "metadata": {
    "id": "a13e0131"
   },
   "source": [
    "**Step 22 -** Change the number of samples used for each base estimator to half of the dataset by setting `max_samples = 0.5`. The default parameter is 1.0, so by default you use samples that have the same size as your dataset."
   ]
  },
  {
   "cell_type": "code",
   "execution_count": 22,
   "id": "fa89d3fa",
   "metadata": {
    "executionInfo": {
     "elapsed": 33,
     "status": "ok",
     "timestamp": 1724246061083,
     "user": {
      "displayName": "Tiago Martins",
      "userId": "14571988070475468280"
     },
     "user_tz": -60
    },
    "id": "fa89d3fa"
   },
   "outputs": [],
   "source": [
    "bagging_DT_s = BaggingClassifier(estimator = modelDT, max_samples = 0.5, random_state = 5)"
   ]
  },
  {
   "cell_type": "markdown",
   "id": "8a985905",
   "metadata": {
    "id": "8a985905"
   },
   "source": [
    "**Step 23 -** Use the `.fit()`method to fit the model to the array of points `X_train` and `y_train`."
   ]
  },
  {
   "cell_type": "code",
   "execution_count": 23,
   "id": "1548877f",
   "metadata": {
    "colab": {
     "base_uri": "https://localhost:8080/",
     "height": 137
    },
    "executionInfo": {
     "elapsed": 32,
     "status": "ok",
     "timestamp": 1724246061083,
     "user": {
      "displayName": "Tiago Martins",
      "userId": "14571988070475468280"
     },
     "user_tz": -60
    },
    "id": "1548877f",
    "outputId": "a2a95328-4e35-4720-9f0a-0352ec9c2b80"
   },
   "outputs": [
    {
     "data": {
      "text/html": [
       "<style>#sk-container-id-4 {color: black;}#sk-container-id-4 pre{padding: 0;}#sk-container-id-4 div.sk-toggleable {background-color: white;}#sk-container-id-4 label.sk-toggleable__label {cursor: pointer;display: block;width: 100%;margin-bottom: 0;padding: 0.3em;box-sizing: border-box;text-align: center;}#sk-container-id-4 label.sk-toggleable__label-arrow:before {content: \"▸\";float: left;margin-right: 0.25em;color: #696969;}#sk-container-id-4 label.sk-toggleable__label-arrow:hover:before {color: black;}#sk-container-id-4 div.sk-estimator:hover label.sk-toggleable__label-arrow:before {color: black;}#sk-container-id-4 div.sk-toggleable__content {max-height: 0;max-width: 0;overflow: hidden;text-align: left;background-color: #f0f8ff;}#sk-container-id-4 div.sk-toggleable__content pre {margin: 0.2em;color: black;border-radius: 0.25em;background-color: #f0f8ff;}#sk-container-id-4 input.sk-toggleable__control:checked~div.sk-toggleable__content {max-height: 200px;max-width: 100%;overflow: auto;}#sk-container-id-4 input.sk-toggleable__control:checked~label.sk-toggleable__label-arrow:before {content: \"▾\";}#sk-container-id-4 div.sk-estimator input.sk-toggleable__control:checked~label.sk-toggleable__label {background-color: #d4ebff;}#sk-container-id-4 div.sk-label input.sk-toggleable__control:checked~label.sk-toggleable__label {background-color: #d4ebff;}#sk-container-id-4 input.sk-hidden--visually {border: 0;clip: rect(1px 1px 1px 1px);clip: rect(1px, 1px, 1px, 1px);height: 1px;margin: -1px;overflow: hidden;padding: 0;position: absolute;width: 1px;}#sk-container-id-4 div.sk-estimator {font-family: monospace;background-color: #f0f8ff;border: 1px dotted black;border-radius: 0.25em;box-sizing: border-box;margin-bottom: 0.5em;}#sk-container-id-4 div.sk-estimator:hover {background-color: #d4ebff;}#sk-container-id-4 div.sk-parallel-item::after {content: \"\";width: 100%;border-bottom: 1px solid gray;flex-grow: 1;}#sk-container-id-4 div.sk-label:hover label.sk-toggleable__label {background-color: #d4ebff;}#sk-container-id-4 div.sk-serial::before {content: \"\";position: absolute;border-left: 1px solid gray;box-sizing: border-box;top: 0;bottom: 0;left: 50%;z-index: 0;}#sk-container-id-4 div.sk-serial {display: flex;flex-direction: column;align-items: center;background-color: white;padding-right: 0.2em;padding-left: 0.2em;position: relative;}#sk-container-id-4 div.sk-item {position: relative;z-index: 1;}#sk-container-id-4 div.sk-parallel {display: flex;align-items: stretch;justify-content: center;background-color: white;position: relative;}#sk-container-id-4 div.sk-item::before, #sk-container-id-4 div.sk-parallel-item::before {content: \"\";position: absolute;border-left: 1px solid gray;box-sizing: border-box;top: 0;bottom: 0;left: 50%;z-index: -1;}#sk-container-id-4 div.sk-parallel-item {display: flex;flex-direction: column;z-index: 1;position: relative;background-color: white;}#sk-container-id-4 div.sk-parallel-item:first-child::after {align-self: flex-end;width: 50%;}#sk-container-id-4 div.sk-parallel-item:last-child::after {align-self: flex-start;width: 50%;}#sk-container-id-4 div.sk-parallel-item:only-child::after {width: 0;}#sk-container-id-4 div.sk-dashed-wrapped {border: 1px dashed gray;margin: 0 0.4em 0.5em 0.4em;box-sizing: border-box;padding-bottom: 0.4em;background-color: white;}#sk-container-id-4 div.sk-label label {font-family: monospace;font-weight: bold;display: inline-block;line-height: 1.2em;}#sk-container-id-4 div.sk-label-container {text-align: center;}#sk-container-id-4 div.sk-container {/* jupyter's `normalize.less` sets `[hidden] { display: none; }` but bootstrap.min.css set `[hidden] { display: none !important; }` so we also need the `!important` here to be able to override the default hidden behavior on the sphinx rendered scikit-learn.org. See: https://github.com/scikit-learn/scikit-learn/issues/21755 */display: inline-block !important;position: relative;}#sk-container-id-4 div.sk-text-repr-fallback {display: none;}</style><div id=\"sk-container-id-4\" class=\"sk-top-container\"><div class=\"sk-text-repr-fallback\"><pre>BaggingClassifier(estimator=DecisionTreeClassifier(), max_samples=0.5,\n",
       "                  random_state=5)</pre><b>In a Jupyter environment, please rerun this cell to show the HTML representation or trust the notebook. <br />On GitHub, the HTML representation is unable to render, please try loading this page with nbviewer.org.</b></div><div class=\"sk-container\" hidden><div class=\"sk-item sk-dashed-wrapped\"><div class=\"sk-label-container\"><div class=\"sk-label sk-toggleable\"><input class=\"sk-toggleable__control sk-hidden--visually\" id=\"sk-estimator-id-8\" type=\"checkbox\" ><label for=\"sk-estimator-id-8\" class=\"sk-toggleable__label sk-toggleable__label-arrow\">BaggingClassifier</label><div class=\"sk-toggleable__content\"><pre>BaggingClassifier(estimator=DecisionTreeClassifier(), max_samples=0.5,\n",
       "                  random_state=5)</pre></div></div></div><div class=\"sk-parallel\"><div class=\"sk-parallel-item\"><div class=\"sk-item\"><div class=\"sk-label-container\"><div class=\"sk-label sk-toggleable\"><input class=\"sk-toggleable__control sk-hidden--visually\" id=\"sk-estimator-id-9\" type=\"checkbox\" ><label for=\"sk-estimator-id-9\" class=\"sk-toggleable__label sk-toggleable__label-arrow\">estimator: DecisionTreeClassifier</label><div class=\"sk-toggleable__content\"><pre>DecisionTreeClassifier()</pre></div></div></div><div class=\"sk-serial\"><div class=\"sk-item\"><div class=\"sk-estimator sk-toggleable\"><input class=\"sk-toggleable__control sk-hidden--visually\" id=\"sk-estimator-id-10\" type=\"checkbox\" ><label for=\"sk-estimator-id-10\" class=\"sk-toggleable__label sk-toggleable__label-arrow\">DecisionTreeClassifier</label><div class=\"sk-toggleable__content\"><pre>DecisionTreeClassifier()</pre></div></div></div></div></div></div></div></div></div></div>"
      ],
      "text/plain": [
       "BaggingClassifier(estimator=DecisionTreeClassifier(), max_samples=0.5,\n",
       "                  random_state=5)"
      ]
     },
     "execution_count": 23,
     "metadata": {},
     "output_type": "execute_result"
    }
   ],
   "source": [
    "bagging_DT_s.fit(X = X_train, y = y_train)"
   ]
  },
  {
   "cell_type": "markdown",
   "id": "ec036b5d",
   "metadata": {
    "id": "ec036b5d"
   },
   "source": [
    "**Step 24 -** Change the way samples are drawn by setting `bootstrap = False`. The default parameter is True, so samples are drawn with replacement."
   ]
  },
  {
   "cell_type": "code",
   "execution_count": 24,
   "id": "fb214ec8",
   "metadata": {
    "executionInfo": {
     "elapsed": 31,
     "status": "ok",
     "timestamp": 1724246061083,
     "user": {
      "displayName": "Tiago Martins",
      "userId": "14571988070475468280"
     },
     "user_tz": -60
    },
    "id": "fb214ec8"
   },
   "outputs": [],
   "source": [
    "bagging_DT_b = BaggingClassifier(estimator = modelDT, bootstrap = False, random_state = 5)"
   ]
  },
  {
   "cell_type": "markdown",
   "id": "e15099a3",
   "metadata": {
    "id": "e15099a3"
   },
   "source": [
    "**Step 25 -** Use the `.fit()`method to fit the model to the array of points `X_train` and `y_train`."
   ]
  },
  {
   "cell_type": "code",
   "execution_count": 25,
   "id": "01001109",
   "metadata": {
    "colab": {
     "base_uri": "https://localhost:8080/",
     "height": 137
    },
    "executionInfo": {
     "elapsed": 30,
     "status": "ok",
     "timestamp": 1724246061083,
     "user": {
      "displayName": "Tiago Martins",
      "userId": "14571988070475468280"
     },
     "user_tz": -60
    },
    "id": "01001109",
    "outputId": "2b64fe08-91de-4c09-83b0-8fb7bc691e27"
   },
   "outputs": [
    {
     "data": {
      "text/html": [
       "<style>#sk-container-id-5 {color: black;}#sk-container-id-5 pre{padding: 0;}#sk-container-id-5 div.sk-toggleable {background-color: white;}#sk-container-id-5 label.sk-toggleable__label {cursor: pointer;display: block;width: 100%;margin-bottom: 0;padding: 0.3em;box-sizing: border-box;text-align: center;}#sk-container-id-5 label.sk-toggleable__label-arrow:before {content: \"▸\";float: left;margin-right: 0.25em;color: #696969;}#sk-container-id-5 label.sk-toggleable__label-arrow:hover:before {color: black;}#sk-container-id-5 div.sk-estimator:hover label.sk-toggleable__label-arrow:before {color: black;}#sk-container-id-5 div.sk-toggleable__content {max-height: 0;max-width: 0;overflow: hidden;text-align: left;background-color: #f0f8ff;}#sk-container-id-5 div.sk-toggleable__content pre {margin: 0.2em;color: black;border-radius: 0.25em;background-color: #f0f8ff;}#sk-container-id-5 input.sk-toggleable__control:checked~div.sk-toggleable__content {max-height: 200px;max-width: 100%;overflow: auto;}#sk-container-id-5 input.sk-toggleable__control:checked~label.sk-toggleable__label-arrow:before {content: \"▾\";}#sk-container-id-5 div.sk-estimator input.sk-toggleable__control:checked~label.sk-toggleable__label {background-color: #d4ebff;}#sk-container-id-5 div.sk-label input.sk-toggleable__control:checked~label.sk-toggleable__label {background-color: #d4ebff;}#sk-container-id-5 input.sk-hidden--visually {border: 0;clip: rect(1px 1px 1px 1px);clip: rect(1px, 1px, 1px, 1px);height: 1px;margin: -1px;overflow: hidden;padding: 0;position: absolute;width: 1px;}#sk-container-id-5 div.sk-estimator {font-family: monospace;background-color: #f0f8ff;border: 1px dotted black;border-radius: 0.25em;box-sizing: border-box;margin-bottom: 0.5em;}#sk-container-id-5 div.sk-estimator:hover {background-color: #d4ebff;}#sk-container-id-5 div.sk-parallel-item::after {content: \"\";width: 100%;border-bottom: 1px solid gray;flex-grow: 1;}#sk-container-id-5 div.sk-label:hover label.sk-toggleable__label {background-color: #d4ebff;}#sk-container-id-5 div.sk-serial::before {content: \"\";position: absolute;border-left: 1px solid gray;box-sizing: border-box;top: 0;bottom: 0;left: 50%;z-index: 0;}#sk-container-id-5 div.sk-serial {display: flex;flex-direction: column;align-items: center;background-color: white;padding-right: 0.2em;padding-left: 0.2em;position: relative;}#sk-container-id-5 div.sk-item {position: relative;z-index: 1;}#sk-container-id-5 div.sk-parallel {display: flex;align-items: stretch;justify-content: center;background-color: white;position: relative;}#sk-container-id-5 div.sk-item::before, #sk-container-id-5 div.sk-parallel-item::before {content: \"\";position: absolute;border-left: 1px solid gray;box-sizing: border-box;top: 0;bottom: 0;left: 50%;z-index: -1;}#sk-container-id-5 div.sk-parallel-item {display: flex;flex-direction: column;z-index: 1;position: relative;background-color: white;}#sk-container-id-5 div.sk-parallel-item:first-child::after {align-self: flex-end;width: 50%;}#sk-container-id-5 div.sk-parallel-item:last-child::after {align-self: flex-start;width: 50%;}#sk-container-id-5 div.sk-parallel-item:only-child::after {width: 0;}#sk-container-id-5 div.sk-dashed-wrapped {border: 1px dashed gray;margin: 0 0.4em 0.5em 0.4em;box-sizing: border-box;padding-bottom: 0.4em;background-color: white;}#sk-container-id-5 div.sk-label label {font-family: monospace;font-weight: bold;display: inline-block;line-height: 1.2em;}#sk-container-id-5 div.sk-label-container {text-align: center;}#sk-container-id-5 div.sk-container {/* jupyter's `normalize.less` sets `[hidden] { display: none; }` but bootstrap.min.css set `[hidden] { display: none !important; }` so we also need the `!important` here to be able to override the default hidden behavior on the sphinx rendered scikit-learn.org. See: https://github.com/scikit-learn/scikit-learn/issues/21755 */display: inline-block !important;position: relative;}#sk-container-id-5 div.sk-text-repr-fallback {display: none;}</style><div id=\"sk-container-id-5\" class=\"sk-top-container\"><div class=\"sk-text-repr-fallback\"><pre>BaggingClassifier(bootstrap=False, estimator=DecisionTreeClassifier(),\n",
       "                  random_state=5)</pre><b>In a Jupyter environment, please rerun this cell to show the HTML representation or trust the notebook. <br />On GitHub, the HTML representation is unable to render, please try loading this page with nbviewer.org.</b></div><div class=\"sk-container\" hidden><div class=\"sk-item sk-dashed-wrapped\"><div class=\"sk-label-container\"><div class=\"sk-label sk-toggleable\"><input class=\"sk-toggleable__control sk-hidden--visually\" id=\"sk-estimator-id-11\" type=\"checkbox\" ><label for=\"sk-estimator-id-11\" class=\"sk-toggleable__label sk-toggleable__label-arrow\">BaggingClassifier</label><div class=\"sk-toggleable__content\"><pre>BaggingClassifier(bootstrap=False, estimator=DecisionTreeClassifier(),\n",
       "                  random_state=5)</pre></div></div></div><div class=\"sk-parallel\"><div class=\"sk-parallel-item\"><div class=\"sk-item\"><div class=\"sk-label-container\"><div class=\"sk-label sk-toggleable\"><input class=\"sk-toggleable__control sk-hidden--visually\" id=\"sk-estimator-id-12\" type=\"checkbox\" ><label for=\"sk-estimator-id-12\" class=\"sk-toggleable__label sk-toggleable__label-arrow\">estimator: DecisionTreeClassifier</label><div class=\"sk-toggleable__content\"><pre>DecisionTreeClassifier()</pre></div></div></div><div class=\"sk-serial\"><div class=\"sk-item\"><div class=\"sk-estimator sk-toggleable\"><input class=\"sk-toggleable__control sk-hidden--visually\" id=\"sk-estimator-id-13\" type=\"checkbox\" ><label for=\"sk-estimator-id-13\" class=\"sk-toggleable__label sk-toggleable__label-arrow\">DecisionTreeClassifier</label><div class=\"sk-toggleable__content\"><pre>DecisionTreeClassifier()</pre></div></div></div></div></div></div></div></div></div></div>"
      ],
      "text/plain": [
       "BaggingClassifier(bootstrap=False, estimator=DecisionTreeClassifier(),\n",
       "                  random_state=5)"
      ]
     },
     "execution_count": 25,
     "metadata": {},
     "output_type": "execute_result"
    }
   ],
   "source": [
    "bagging_DT_b.fit(X = X_train, y = y_train)"
   ]
  },
  {
   "cell_type": "markdown",
   "id": "9ce70345",
   "metadata": {
    "id": "9ce70345"
   },
   "source": [
    "## <font color='#BFD72F' id='comp1'>2.4. Visual comparison of models' accuracy</font>\n",
    "[Back to Contents](#toc)\n",
    "\n",
    "**Step 26 -** Create a bar plot showing the accuracy obtained by the different models built on the test set."
   ]
  },
  {
   "cell_type": "code",
   "execution_count": 26,
   "id": "3b0bc0dc",
   "metadata": {
    "colab": {
     "base_uri": "https://localhost:8080/",
     "height": 455
    },
    "executionInfo": {
     "elapsed": 418,
     "status": "ok",
     "timestamp": 1724246061472,
     "user": {
      "displayName": "Tiago Martins",
      "userId": "14571988070475468280"
     },
     "user_tz": -60
    },
    "id": "3b0bc0dc",
    "outputId": "0d40c501-8421-485a-e3d2-9a956c4f8da9"
   },
   "outputs": [
    {
     "data": {
      "image/png": "[encoded data removed]",
      "text/plain": [
       "<Figure size 640x480 with 1 Axes>"
      ]
     },
     "metadata": {},
     "output_type": "display_data"
    }
   ],
   "source": [
    "accuracies = [modelDT.score(X_test, y_test), bagging_DT.score(X_test, y_test), bagging_DT_40.score(X_test, y_test),\n",
    "              bagging_DT_s.score(X_test, y_test), bagging_DT_b.score(X_test, y_test)]\n",
    "models = ['DT', 'B-DT', 'B-DT-40', 'B-DT-S', 'B-DT-B']\n",
    "data_tuples = list(zip(models,accuracies))\n",
    "data = pd.DataFrame(data_tuples)\n",
    "data = data.sort_values(1)\n",
    "plt.bar(data[0], data[1], color='yellowgreen')\n",
    "plt.xticks(color='dimgray')\n",
    "plt.yticks(color='dimgray')\n",
    "plt.ylim(0.7,0.77)\n",
    "plt.show()"
   ]
  },
  {
   "cell_type": "markdown",
   "id": "322887b4",
   "metadata": {
    "id": "322887b4"
   },
   "source": [
    "# <font color='#BFD72F'>3. Random Forests</font> <a class=\"anchor\" id=\"forest\"></a>\n",
    "[Back to Contents](#toc)\n",
    "\n",
    "\n",
    "We are going to apply the Random Forest Classifier to the same dataset as before `diabetes.csv`. <br>\n",
    "\n",
    "\n",
    "<img src=\"https://drive.google.com/uc?id=1fXyKyx8t01Gd-HdYqaibjLYz1gbe6aLP\" width=\"750px\"> <img name=\"random_forest.png\">"
   ]
  },
  {
   "cell_type": "markdown",
   "id": "Op44vEzKIAMq",
   "metadata": {
    "id": "Op44vEzKIAMq"
   },
   "source": [
    "**Step 27 -** Import `RandomForestClassifier` from `sklearn.ensemble` and create an instance."
   ]
  },
  {
   "cell_type": "code",
   "execution_count": 27,
   "id": "a9396b75",
   "metadata": {
    "executionInfo": {
     "elapsed": 18,
     "status": "ok",
     "timestamp": 1724246061473,
     "user": {
      "displayName": "Tiago Martins",
      "userId": "14571988070475468280"
     },
     "user_tz": -60
    },
    "id": "a9396b75"
   },
   "outputs": [],
   "source": [
    "from sklearn.ensemble import RandomForestClassifier\n",
    "modelRF = RandomForestClassifier()"
   ]
  },
  {
   "cell_type": "markdown",
   "id": "65fef540",
   "metadata": {
    "id": "65fef540"
   },
   "source": [
    "**Step 28 -** Use the `.fit()`method to fit the model to the array of points `X_train` and `y_train`."
   ]
  },
  {
   "cell_type": "code",
   "execution_count": 28,
   "id": "0563fb9d",
   "metadata": {
    "colab": {
     "base_uri": "https://localhost:8080/",
     "height": 94
    },
    "executionInfo": {
     "elapsed": 827,
     "status": "ok",
     "timestamp": 1724246062283,
     "user": {
      "displayName": "Tiago Martins",
      "userId": "14571988070475468280"
     },
     "user_tz": -60
    },
    "id": "0563fb9d",
    "outputId": "f2d1c4f8-ba29-4540-95f1-9684c0d13d77"
   },
   "outputs": [
    {
     "data": {
      "text/html": [
       "<style>#sk-container-id-6 {color: black;}#sk-container-id-6 pre{padding: 0;}#sk-container-id-6 div.sk-toggleable {background-color: white;}#sk-container-id-6 label.sk-toggleable__label {cursor: pointer;display: block;width: 100%;margin-bottom: 0;padding: 0.3em;box-sizing: border-box;text-align: center;}#sk-container-id-6 label.sk-toggleable__label-arrow:before {content: \"▸\";float: left;margin-right: 0.25em;color: #696969;}#sk-container-id-6 label.sk-toggleable__label-arrow:hover:before {color: black;}#sk-container-id-6 div.sk-estimator:hover label.sk-toggleable__label-arrow:before {color: black;}#sk-container-id-6 div.sk-toggleable__content {max-height: 0;max-width: 0;overflow: hidden;text-align: left;background-color: #f0f8ff;}#sk-container-id-6 div.sk-toggleable__content pre {margin: 0.2em;color: black;border-radius: 0.25em;background-color: #f0f8ff;}#sk-container-id-6 input.sk-toggleable__control:checked~div.sk-toggleable__content {max-height: 200px;max-width: 100%;overflow: auto;}#sk-container-id-6 input.sk-toggleable__control:checked~label.sk-toggleable__label-arrow:before {content: \"▾\";}#sk-container-id-6 div.sk-estimator input.sk-toggleable__control:checked~label.sk-toggleable__label {background-color: #d4ebff;}#sk-container-id-6 div.sk-label input.sk-toggleable__control:checked~label.sk-toggleable__label {background-color: #d4ebff;}#sk-container-id-6 input.sk-hidden--visually {border: 0;clip: rect(1px 1px 1px 1px);clip: rect(1px, 1px, 1px, 1px);height: 1px;margin: -1px;overflow: hidden;padding: 0;position: absolute;width: 1px;}#sk-container-id-6 div.sk-estimator {font-family: monospace;background-color: #f0f8ff;border: 1px dotted black;border-radius: 0.25em;box-sizing: border-box;margin-bottom: 0.5em;}#sk-container-id-6 div.sk-estimator:hover {background-color: #d4ebff;}#sk-container-id-6 div.sk-parallel-item::after {content: \"\";width: 100%;border-bottom: 1px solid gray;flex-grow: 1;}#sk-container-id-6 div.sk-label:hover label.sk-toggleable__label {background-color: #d4ebff;}#sk-container-id-6 div.sk-serial::before {content: \"\";position: absolute;border-left: 1px solid gray;box-sizing: border-box;top: 0;bottom: 0;left: 50%;z-index: 0;}#sk-container-id-6 div.sk-serial {display: flex;flex-direction: column;align-items: center;background-color: white;padding-right: 0.2em;padding-left: 0.2em;position: relative;}#sk-container-id-6 div.sk-item {position: relative;z-index: 1;}#sk-container-id-6 div.sk-parallel {display: flex;align-items: stretch;justify-content: center;background-color: white;position: relative;}#sk-container-id-6 div.sk-item::before, #sk-container-id-6 div.sk-parallel-item::before {content: \"\";position: absolute;border-left: 1px solid gray;box-sizing: border-box;top: 0;bottom: 0;left: 50%;z-index: -1;}#sk-container-id-6 div.sk-parallel-item {display: flex;flex-direction: column;z-index: 1;position: relative;background-color: white;}#sk-container-id-6 div.sk-parallel-item:first-child::after {align-self: flex-end;width: 50%;}#sk-container-id-6 div.sk-parallel-item:last-child::after {align-self: flex-start;width: 50%;}#sk-container-id-6 div.sk-parallel-item:only-child::after {width: 0;}#sk-container-id-6 div.sk-dashed-wrapped {border: 1px dashed gray;margin: 0 0.4em 0.5em 0.4em;box-sizing: border-box;padding-bottom: 0.4em;background-color: white;}#sk-container-id-6 div.sk-label label {font-family: monospace;font-weight: bold;display: inline-block;line-height: 1.2em;}#sk-container-id-6 div.sk-label-container {text-align: center;}#sk-container-id-6 div.sk-container {/* jupyter's `normalize.less` sets `[hidden] { display: none; }` but bootstrap.min.css set `[hidden] { display: none !important; }` so we also need the `!important` here to be able to override the default hidden behavior on the sphinx rendered scikit-learn.org. See: https://github.com/scikit-learn/scikit-learn/issues/21755 */display: inline-block !important;position: relative;}#sk-container-id-6 div.sk-text-repr-fallback {display: none;}</style><div id=\"sk-container-id-6\" class=\"sk-top-container\"><div class=\"sk-text-repr-fallback\"><pre>RandomForestClassifier()</pre><b>In a Jupyter environment, please rerun this cell to show the HTML representation or trust the notebook. <br />On GitHub, the HTML representation is unable to render, please try loading this page with nbviewer.org.</b></div><div class=\"sk-container\" hidden><div class=\"sk-item\"><div class=\"sk-estimator sk-toggleable\"><input class=\"sk-toggleable__control sk-hidden--visually\" id=\"sk-estimator-id-14\" type=\"checkbox\" checked><label for=\"sk-estimator-id-14\" class=\"sk-toggleable__label sk-toggleable__label-arrow\">RandomForestClassifier</label><div class=\"sk-toggleable__content\"><pre>RandomForestClassifier()</pre></div></div></div></div></div>"
      ],
      "text/plain": [
       "RandomForestClassifier()"
      ]
     },
     "execution_count": 28,
     "metadata": {},
     "output_type": "execute_result"
    }
   ],
   "source": [
    "modelRF.fit(X_train, y_train)"
   ]
  },
  {
   "cell_type": "markdown",
   "id": "3dfdedd1",
   "metadata": {
    "id": "3dfdedd1"
   },
   "source": [
    "**Step 29 -** Use the `.score()` method to obtain the mean accuracy of the given test data `X_test` and the true labels for X, `y_test`."
   ]
  },
  {
   "cell_type": "code",
   "execution_count": 29,
   "id": "784e902e",
   "metadata": {
    "colab": {
     "base_uri": "https://localhost:8080/"
    },
    "executionInfo": {
     "elapsed": 44,
     "status": "ok",
     "timestamp": 1724246062284,
     "user": {
      "displayName": "Tiago Martins",
      "userId": "14571988070475468280"
     },
     "user_tz": -60
    },
    "id": "784e902e",
    "outputId": "3b082a48-70d8-44d5-c236-38abd1b364bc"
   },
   "outputs": [
    {
     "data": {
      "text/plain": [
       "0.7467532467532467"
      ]
     },
     "execution_count": 29,
     "metadata": {},
     "output_type": "execute_result"
    }
   ],
   "source": [
    "modelRF.score(X_test, y_test)"
   ]
  },
  {
   "cell_type": "markdown",
   "id": "dec10d3f",
   "metadata": {
    "id": "dec10d3f"
   },
   "source": [
    "**Step 30 -** Use the `.estimators_` attribute to obtain a list of the fitted base estimators. Check the number of Decision Trees included in the Random Forest."
   ]
  },
  {
   "cell_type": "code",
   "execution_count": 30,
   "id": "1dfb2c16",
   "metadata": {
    "colab": {
     "base_uri": "https://localhost:8080/"
    },
    "executionInfo": {
     "elapsed": 33,
     "status": "ok",
     "timestamp": 1724246062284,
     "user": {
      "displayName": "Tiago Martins",
      "userId": "14571988070475468280"
     },
     "user_tz": -60
    },
    "id": "1dfb2c16",
    "outputId": "867766c6-6984-4111-bd65-e99615a0b429"
   },
   "outputs": [
    {
     "data": {
      "text/plain": [
       "100"
      ]
     },
     "execution_count": 30,
     "metadata": {},
     "output_type": "execute_result"
    }
   ],
   "source": [
    "len(modelRF.estimators_)"
   ]
  },
  {
   "cell_type": "markdown",
   "id": "4da44e72",
   "metadata": {
    "id": "4da44e72"
   },
   "source": [
    "**Step 31 -** Change the number of trees in the forest to 6 using the parameter `n_estimators`."
   ]
  },
  {
   "cell_type": "code",
   "execution_count": 31,
   "id": "61b049d5",
   "metadata": {
    "executionInfo": {
     "elapsed": 28,
     "status": "ok",
     "timestamp": 1724246062284,
     "user": {
      "displayName": "Tiago Martins",
      "userId": "14571988070475468280"
     },
     "user_tz": -60
    },
    "id": "61b049d5"
   },
   "outputs": [],
   "source": [
    "modelRF_6trees = RandomForestClassifier(n_estimators=6)"
   ]
  },
  {
   "cell_type": "markdown",
   "id": "545259fa",
   "metadata": {
    "id": "545259fa"
   },
   "source": [
    "**Step 32 -** Use the `.fit()`method to fit the model to the array of points `X_train` and `y_train`."
   ]
  },
  {
   "cell_type": "code",
   "execution_count": 32,
   "id": "76165451",
   "metadata": {
    "colab": {
     "base_uri": "https://localhost:8080/",
     "height": 94
    },
    "executionInfo": {
     "elapsed": 28,
     "status": "ok",
     "timestamp": 1724246062285,
     "user": {
      "displayName": "Tiago Martins",
      "userId": "14571988070475468280"
     },
     "user_tz": -60
    },
    "id": "76165451",
    "outputId": "94cb32c3-7f43-42f1-941f-ba1bb7b5ba78"
   },
   "outputs": [
    {
     "data": {
      "text/html": [
       "<style>#sk-container-id-7 {color: black;}#sk-container-id-7 pre{padding: 0;}#sk-container-id-7 div.sk-toggleable {background-color: white;}#sk-container-id-7 label.sk-toggleable__label {cursor: pointer;display: block;width: 100%;margin-bottom: 0;padding: 0.3em;box-sizing: border-box;text-align: center;}#sk-container-id-7 label.sk-toggleable__label-arrow:before {content: \"▸\";float: left;margin-right: 0.25em;color: #696969;}#sk-container-id-7 label.sk-toggleable__label-arrow:hover:before {color: black;}#sk-container-id-7 div.sk-estimator:hover label.sk-toggleable__label-arrow:before {color: black;}#sk-container-id-7 div.sk-toggleable__content {max-height: 0;max-width: 0;overflow: hidden;text-align: left;background-color: #f0f8ff;}#sk-container-id-7 div.sk-toggleable__content pre {margin: 0.2em;color: black;border-radius: 0.25em;background-color: #f0f8ff;}#sk-container-id-7 input.sk-toggleable__control:checked~div.sk-toggleable__content {max-height: 200px;max-width: 100%;overflow: auto;}#sk-container-id-7 input.sk-toggleable__control:checked~label.sk-toggleable__label-arrow:before {content: \"▾\";}#sk-container-id-7 div.sk-estimator input.sk-toggleable__control:checked~label.sk-toggleable__label {background-color: #d4ebff;}#sk-container-id-7 div.sk-label input.sk-toggleable__control:checked~label.sk-toggleable__label {background-color: #d4ebff;}#sk-container-id-7 input.sk-hidden--visually {border: 0;clip: rect(1px 1px 1px 1px);clip: rect(1px, 1px, 1px, 1px);height: 1px;margin: -1px;overflow: hidden;padding: 0;position: absolute;width: 1px;}#sk-container-id-7 div.sk-estimator {font-family: monospace;background-color: #f0f8ff;border: 1px dotted black;border-radius: 0.25em;box-sizing: border-box;margin-bottom: 0.5em;}#sk-container-id-7 div.sk-estimator:hover {background-color: #d4ebff;}#sk-container-id-7 div.sk-parallel-item::after {content: \"\";width: 100%;border-bottom: 1px solid gray;flex-grow: 1;}#sk-container-id-7 div.sk-label:hover label.sk-toggleable__label {background-color: #d4ebff;}#sk-container-id-7 div.sk-serial::before {content: \"\";position: absolute;border-left: 1px solid gray;box-sizing: border-box;top: 0;bottom: 0;left: 50%;z-index: 0;}#sk-container-id-7 div.sk-serial {display: flex;flex-direction: column;align-items: center;background-color: white;padding-right: 0.2em;padding-left: 0.2em;position: relative;}#sk-container-id-7 div.sk-item {position: relative;z-index: 1;}#sk-container-id-7 div.sk-parallel {display: flex;align-items: stretch;justify-content: center;background-color: white;position: relative;}#sk-container-id-7 div.sk-item::before, #sk-container-id-7 div.sk-parallel-item::before {content: \"\";position: absolute;border-left: 1px solid gray;box-sizing: border-box;top: 0;bottom: 0;left: 50%;z-index: -1;}#sk-container-id-7 div.sk-parallel-item {display: flex;flex-direction: column;z-index: 1;position: relative;background-color: white;}#sk-container-id-7 div.sk-parallel-item:first-child::after {align-self: flex-end;width: 50%;}#sk-container-id-7 div.sk-parallel-item:last-child::after {align-self: flex-start;width: 50%;}#sk-container-id-7 div.sk-parallel-item:only-child::after {width: 0;}#sk-container-id-7 div.sk-dashed-wrapped {border: 1px dashed gray;margin: 0 0.4em 0.5em 0.4em;box-sizing: border-box;padding-bottom: 0.4em;background-color: white;}#sk-container-id-7 div.sk-label label {font-family: monospace;font-weight: bold;display: inline-block;line-height: 1.2em;}#sk-container-id-7 div.sk-label-container {text-align: center;}#sk-container-id-7 div.sk-container {/* jupyter's `normalize.less` sets `[hidden] { display: none; }` but bootstrap.min.css set `[hidden] { display: none !important; }` so we also need the `!important` here to be able to override the default hidden behavior on the sphinx rendered scikit-learn.org. See: https://github.com/scikit-learn/scikit-learn/issues/21755 */display: inline-block !important;position: relative;}#sk-container-id-7 div.sk-text-repr-fallback {display: none;}</style><div id=\"sk-container-id-7\" class=\"sk-top-container\"><div class=\"sk-text-repr-fallback\"><pre>RandomForestClassifier(n_estimators=6)</pre><b>In a Jupyter environment, please rerun this cell to show the HTML representation or trust the notebook. <br />On GitHub, the HTML representation is unable to render, please try loading this page with nbviewer.org.</b></div><div class=\"sk-container\" hidden><div class=\"sk-item\"><div class=\"sk-estimator sk-toggleable\"><input class=\"sk-toggleable__control sk-hidden--visually\" id=\"sk-estimator-id-15\" type=\"checkbox\" checked><label for=\"sk-estimator-id-15\" class=\"sk-toggleable__label sk-toggleable__label-arrow\">RandomForestClassifier</label><div class=\"sk-toggleable__content\"><pre>RandomForestClassifier(n_estimators=6)</pre></div></div></div></div></div>"
      ],
      "text/plain": [
       "RandomForestClassifier(n_estimators=6)"
      ]
     },
     "execution_count": 32,
     "metadata": {},
     "output_type": "execute_result"
    }
   ],
   "source": [
    "modelRF_6trees.fit(X_train, y_train)"
   ]
  },
  {
   "cell_type": "markdown",
   "id": "690d4df3",
   "metadata": {
    "id": "690d4df3"
   },
   "source": [
    "**Step 33 -** Change the maximum depth of the trees to 10 by assigning the parameter `max_depth=10`."
   ]
  },
  {
   "cell_type": "code",
   "execution_count": 33,
   "id": "78cdb562",
   "metadata": {
    "executionInfo": {
     "elapsed": 24,
     "status": "ok",
     "timestamp": 1724246062285,
     "user": {
      "displayName": "Tiago Martins",
      "userId": "14571988070475468280"
     },
     "user_tz": -60
    },
    "id": "78cdb562"
   },
   "outputs": [],
   "source": [
    "modelRF_maxdepth10 = RandomForestClassifier(max_depth=10)"
   ]
  },
  {
   "cell_type": "markdown",
   "id": "14105258",
   "metadata": {
    "id": "14105258"
   },
   "source": [
    "**Step 34 -** Use the `.fit()`method to fit the model to the array of points `X_train` and `y_train`."
   ]
  },
  {
   "cell_type": "code",
   "execution_count": 34,
   "id": "e6a4ba00",
   "metadata": {
    "colab": {
     "base_uri": "https://localhost:8080/",
     "height": 94
    },
    "executionInfo": {
     "elapsed": 506,
     "status": "ok",
     "timestamp": 1724246062767,
     "user": {
      "displayName": "Tiago Martins",
      "userId": "14571988070475468280"
     },
     "user_tz": -60
    },
    "id": "e6a4ba00",
    "outputId": "838c404b-c271-4b23-d198-a52ab3839fa8"
   },
   "outputs": [
    {
     "data": {
      "text/html": [
       "<style>#sk-container-id-8 {color: black;}#sk-container-id-8 pre{padding: 0;}#sk-container-id-8 div.sk-toggleable {background-color: white;}#sk-container-id-8 label.sk-toggleable__label {cursor: pointer;display: block;width: 100%;margin-bottom: 0;padding: 0.3em;box-sizing: border-box;text-align: center;}#sk-container-id-8 label.sk-toggleable__label-arrow:before {content: \"▸\";float: left;margin-right: 0.25em;color: #696969;}#sk-container-id-8 label.sk-toggleable__label-arrow:hover:before {color: black;}#sk-container-id-8 div.sk-estimator:hover label.sk-toggleable__label-arrow:before {color: black;}#sk-container-id-8 div.sk-toggleable__content {max-height: 0;max-width: 0;overflow: hidden;text-align: left;background-color: #f0f8ff;}#sk-container-id-8 div.sk-toggleable__content pre {margin: 0.2em;color: black;border-radius: 0.25em;background-color: #f0f8ff;}#sk-container-id-8 input.sk-toggleable__control:checked~div.sk-toggleable__content {max-height: 200px;max-width: 100%;overflow: auto;}#sk-container-id-8 input.sk-toggleable__control:checked~label.sk-toggleable__label-arrow:before {content: \"▾\";}#sk-container-id-8 div.sk-estimator input.sk-toggleable__control:checked~label.sk-toggleable__label {background-color: #d4ebff;}#sk-container-id-8 div.sk-label input.sk-toggleable__control:checked~label.sk-toggleable__label {background-color: #d4ebff;}#sk-container-id-8 input.sk-hidden--visually {border: 0;clip: rect(1px 1px 1px 1px);clip: rect(1px, 1px, 1px, 1px);height: 1px;margin: -1px;overflow: hidden;padding: 0;position: absolute;width: 1px;}#sk-container-id-8 div.sk-estimator {font-family: monospace;background-color: #f0f8ff;border: 1px dotted black;border-radius: 0.25em;box-sizing: border-box;margin-bottom: 0.5em;}#sk-container-id-8 div.sk-estimator:hover {background-color: #d4ebff;}#sk-container-id-8 div.sk-parallel-item::after {content: \"\";width: 100%;border-bottom: 1px solid gray;flex-grow: 1;}#sk-container-id-8 div.sk-label:hover label.sk-toggleable__label {background-color: #d4ebff;}#sk-container-id-8 div.sk-serial::before {content: \"\";position: absolute;border-left: 1px solid gray;box-sizing: border-box;top: 0;bottom: 0;left: 50%;z-index: 0;}#sk-container-id-8 div.sk-serial {display: flex;flex-direction: column;align-items: center;background-color: white;padding-right: 0.2em;padding-left: 0.2em;position: relative;}#sk-container-id-8 div.sk-item {position: relative;z-index: 1;}#sk-container-id-8 div.sk-parallel {display: flex;align-items: stretch;justify-content: center;background-color: white;position: relative;}#sk-container-id-8 div.sk-item::before, #sk-container-id-8 div.sk-parallel-item::before {content: \"\";position: absolute;border-left: 1px solid gray;box-sizing: border-box;top: 0;bottom: 0;left: 50%;z-index: -1;}#sk-container-id-8 div.sk-parallel-item {display: flex;flex-direction: column;z-index: 1;position: relative;background-color: white;}#sk-container-id-8 div.sk-parallel-item:first-child::after {align-self: flex-end;width: 50%;}#sk-container-id-8 div.sk-parallel-item:last-child::after {align-self: flex-start;width: 50%;}#sk-container-id-8 div.sk-parallel-item:only-child::after {width: 0;}#sk-container-id-8 div.sk-dashed-wrapped {border: 1px dashed gray;margin: 0 0.4em 0.5em 0.4em;box-sizing: border-box;padding-bottom: 0.4em;background-color: white;}#sk-container-id-8 div.sk-label label {font-family: monospace;font-weight: bold;display: inline-block;line-height: 1.2em;}#sk-container-id-8 div.sk-label-container {text-align: center;}#sk-container-id-8 div.sk-container {/* jupyter's `normalize.less` sets `[hidden] { display: none; }` but bootstrap.min.css set `[hidden] { display: none !important; }` so we also need the `!important` here to be able to override the default hidden behavior on the sphinx rendered scikit-learn.org. See: https://github.com/scikit-learn/scikit-learn/issues/21755 */display: inline-block !important;position: relative;}#sk-container-id-8 div.sk-text-repr-fallback {display: none;}</style><div id=\"sk-container-id-8\" class=\"sk-top-container\"><div class=\"sk-text-repr-fallback\"><pre>RandomForestClassifier(max_depth=10)</pre><b>In a Jupyter environment, please rerun this cell to show the HTML representation or trust the notebook. <br />On GitHub, the HTML representation is unable to render, please try loading this page with nbviewer.org.</b></div><div class=\"sk-container\" hidden><div class=\"sk-item\"><div class=\"sk-estimator sk-toggleable\"><input class=\"sk-toggleable__control sk-hidden--visually\" id=\"sk-estimator-id-16\" type=\"checkbox\" checked><label for=\"sk-estimator-id-16\" class=\"sk-toggleable__label sk-toggleable__label-arrow\">RandomForestClassifier</label><div class=\"sk-toggleable__content\"><pre>RandomForestClassifier(max_depth=10)</pre></div></div></div></div></div>"
      ],
      "text/plain": [
       "RandomForestClassifier(max_depth=10)"
      ]
     },
     "execution_count": 34,
     "metadata": {},
     "output_type": "execute_result"
    }
   ],
   "source": [
    "modelRF_maxdepth10.fit(X_train, y_train)"
   ]
  },
  {
   "cell_type": "markdown",
   "id": "88e4738f",
   "metadata": {
    "id": "88e4738f"
   },
   "source": [
    "## <font color='#BFD72F' id='comp2'>3.1. Visual comparison with previous models</font>\n",
    "[Back to Contents](#toc)\n",
    "\n",
    "**Step 35 -** Create a bar plot showing the accuracy obtained by the different models built on  both the test and train sets."
   ]
  },
  {
   "cell_type": "code",
   "execution_count": 35,
   "id": "2f6608f2",
   "metadata": {
    "executionInfo": {
     "elapsed": 441,
     "status": "ok",
     "timestamp": 1724246063190,
     "user": {
      "displayName": "Tiago Martins",
      "userId": "14571988070475468280"
     },
     "user_tz": -60
    },
    "id": "2f6608f2"
   },
   "outputs": [],
   "source": [
    "accuracies_test = [modelDT.score(X_test, y_test),\n",
    "                   bagging_DT.score(X_test, y_test),\n",
    "                   bagging_DT_40.score(X_test, y_test),\n",
    "                   bagging_DT_s.score(X_test, y_test),\n",
    "                   bagging_DT_b.score(X_test, y_test),\n",
    "                   modelRF.score(X_test, y_test),\n",
    "                   modelRF_6trees.score(X_test, y_test),\n",
    "                   modelRF_maxdepth10.score(X_test, y_test)]\n",
    "accuracies_train = [modelDT.score(X_train, y_train),\n",
    "                    bagging_DT.score(X_train, y_train),\n",
    "                    bagging_DT_40.score(X_train, y_train),\n",
    "                    bagging_DT_s.score(X_train, y_train),\n",
    "                    bagging_DT_b.score(X_train, y_train),\n",
    "                    modelRF.score(X_train, y_train),\n",
    "                    modelRF_6trees.score(X_train, y_train),\n",
    "                    modelRF_maxdepth10.score(X_train, y_train)]\n",
    "models = ['DT', 'B', 'B-E', 'B-S', 'B-B', 'RF', 'RF-E', 'RF-D']\n",
    "data_tuples = list(zip(models,accuracies_test))\n",
    "data_test = pd.DataFrame(data_tuples)\n",
    "data_tuples_train = list(zip(models,accuracies_train))\n",
    "data_train = pd.DataFrame(data_tuples_train)"
   ]
  },
  {
   "cell_type": "code",
   "execution_count": 36,
   "id": "f8c526c8",
   "metadata": {
    "colab": {
     "base_uri": "https://localhost:8080/",
     "height": 488
    },
    "executionInfo": {
     "elapsed": 982,
     "status": "ok",
     "timestamp": 1724246064166,
     "user": {
      "displayName": "Tiago Martins",
      "userId": "14571988070475468280"
     },
     "user_tz": -60
    },
    "id": "f8c526c8",
    "outputId": "b8f93497-0419-4feb-f888-d702c75a83fb"
   },
   "outputs": [
    {
     "data": {
      "image/png": "[encoded data removed]",
      "text/plain": [
       "<Figure size 1000x500 with 1 Axes>"
      ]
     },
     "metadata": {},
     "output_type": "display_data"
    }
   ],
   "source": [
    "plt.figure(figsize=(10,5))\n",
    "ax = plt.subplot(111)\n",
    "ax.bar(data_test.index - 0.4/2, data_test[1], width=0.4, color='yellowgreen', label='Test Accuracy')\n",
    "ax.bar(data_train.index + 0.4/2, data_train[1],  width=0.4, color='dimgray', label='Train Accuracy')\n",
    "ax.spines['right'].set_visible(False)\n",
    "ax.spines['top'].set_visible(False)\n",
    "ax.set_title('Comparison of Accuracies for Test and Train Data', fontsize=12)\n",
    "plt.xticks(np.arange(len(models)), models)\n",
    "plt.show()"
   ]
  },
  {
   "cell_type": "markdown",
   "id": "71d1e3f5",
   "metadata": {
    "id": "71d1e3f5"
   },
   "source": [
    "# <font color='#BFD72F'>4. Boosting</font> <a class=\"anchor\" id=\"boost\"></a>\n",
    "[Back to Contents](#toc)\n",
    "\n",
    "We are now going to implement AdaBoost in Python.\n",
    "\n",
    "AdaBoost combines a lot of \"weak learners\" to make classifications. The weak learners are almost always **stumps** (Decision Trees with a maximum depth of 1). When it comes to making the classification, the \"vote\" of some stumps will influence the final prediction more than others. Also, each stump is made by taking the previous stump's mistakes into consideration.\n",
    "\n",
    "\n",
    "<img src=\"https://drive.google.com/uc?id=1kkk6SsLPVqSSMDyVRk_2low7bJ9zcjGh\" width=\"750px\"> <img name=\"ada_boost.png\">"
   ]
  },
  {
   "cell_type": "markdown",
   "id": "rRNS8ay6I_ME",
   "metadata": {
    "id": "rRNS8ay6I_ME"
   },
   "source": [
    "**Step 36 -** Import `AdaBoostClassifier` from `sklearn.ensemble` and create an instance."
   ]
  },
  {
   "cell_type": "code",
   "execution_count": 37,
   "id": "25c206ea",
   "metadata": {
    "executionInfo": {
     "elapsed": 46,
     "status": "ok",
     "timestamp": 1724246064167,
     "user": {
      "displayName": "Tiago Martins",
      "userId": "14571988070475468280"
     },
     "user_tz": -60
    },
    "id": "25c206ea"
   },
   "outputs": [],
   "source": [
    "from sklearn.ensemble import AdaBoostClassifier\n",
    "aboost = AdaBoostClassifier()"
   ]
  },
  {
   "cell_type": "markdown",
   "id": "861161b9",
   "metadata": {
    "id": "861161b9"
   },
   "source": [
    "**Step 37 -** Use the `.fit()`method to fit the model to the array of points `X_train` and `y_train`."
   ]
  },
  {
   "cell_type": "code",
   "execution_count": 38,
   "id": "f0d2bba8",
   "metadata": {
    "colab": {
     "base_uri": "https://localhost:8080/",
     "height": 94
    },
    "executionInfo": {
     "elapsed": 42,
     "status": "ok",
     "timestamp": 1724246064167,
     "user": {
      "displayName": "Tiago Martins",
      "userId": "14571988070475468280"
     },
     "user_tz": -60
    },
    "id": "f0d2bba8",
    "outputId": "a96d5b5b-76f2-4e7f-9234-668af7f72f4b"
   },
   "outputs": [
    {
     "data": {
      "text/html": [
       "<style>#sk-container-id-9 {color: black;}#sk-container-id-9 pre{padding: 0;}#sk-container-id-9 div.sk-toggleable {background-color: white;}#sk-container-id-9 label.sk-toggleable__label {cursor: pointer;display: block;width: 100%;margin-bottom: 0;padding: 0.3em;box-sizing: border-box;text-align: center;}#sk-container-id-9 label.sk-toggleable__label-arrow:before {content: \"▸\";float: left;margin-right: 0.25em;color: #696969;}#sk-container-id-9 label.sk-toggleable__label-arrow:hover:before {color: black;}#sk-container-id-9 div.sk-estimator:hover label.sk-toggleable__label-arrow:before {color: black;}#sk-container-id-9 div.sk-toggleable__content {max-height: 0;max-width: 0;overflow: hidden;text-align: left;background-color: #f0f8ff;}#sk-container-id-9 div.sk-toggleable__content pre {margin: 0.2em;color: black;border-radius: 0.25em;background-color: #f0f8ff;}#sk-container-id-9 input.sk-toggleable__control:checked~div.sk-toggleable__content {max-height: 200px;max-width: 100%;overflow: auto;}#sk-container-id-9 input.sk-toggleable__control:checked~label.sk-toggleable__label-arrow:before {content: \"▾\";}#sk-container-id-9 div.sk-estimator input.sk-toggleable__control:checked~label.sk-toggleable__label {background-color: #d4ebff;}#sk-container-id-9 div.sk-label input.sk-toggleable__control:checked~label.sk-toggleable__label {background-color: #d4ebff;}#sk-container-id-9 input.sk-hidden--visually {border: 0;clip: rect(1px 1px 1px 1px);clip: rect(1px, 1px, 1px, 1px);height: 1px;margin: -1px;overflow: hidden;padding: 0;position: absolute;width: 1px;}#sk-container-id-9 div.sk-estimator {font-family: monospace;background-color: #f0f8ff;border: 1px dotted black;border-radius: 0.25em;box-sizing: border-box;margin-bottom: 0.5em;}#sk-container-id-9 div.sk-estimator:hover {background-color: #d4ebff;}#sk-container-id-9 div.sk-parallel-item::after {content: \"\";width: 100%;border-bottom: 1px solid gray;flex-grow: 1;}#sk-container-id-9 div.sk-label:hover label.sk-toggleable__label {background-color: #d4ebff;}#sk-container-id-9 div.sk-serial::before {content: \"\";position: absolute;border-left: 1px solid gray;box-sizing: border-box;top: 0;bottom: 0;left: 50%;z-index: 0;}#sk-container-id-9 div.sk-serial {display: flex;flex-direction: column;align-items: center;background-color: white;padding-right: 0.2em;padding-left: 0.2em;position: relative;}#sk-container-id-9 div.sk-item {position: relative;z-index: 1;}#sk-container-id-9 div.sk-parallel {display: flex;align-items: stretch;justify-content: center;background-color: white;position: relative;}#sk-container-id-9 div.sk-item::before, #sk-container-id-9 div.sk-parallel-item::before {content: \"\";position: absolute;border-left: 1px solid gray;box-sizing: border-box;top: 0;bottom: 0;left: 50%;z-index: -1;}#sk-container-id-9 div.sk-parallel-item {display: flex;flex-direction: column;z-index: 1;position: relative;background-color: white;}#sk-container-id-9 div.sk-parallel-item:first-child::after {align-self: flex-end;width: 50%;}#sk-container-id-9 div.sk-parallel-item:last-child::after {align-self: flex-start;width: 50%;}#sk-container-id-9 div.sk-parallel-item:only-child::after {width: 0;}#sk-container-id-9 div.sk-dashed-wrapped {border: 1px dashed gray;margin: 0 0.4em 0.5em 0.4em;box-sizing: border-box;padding-bottom: 0.4em;background-color: white;}#sk-container-id-9 div.sk-label label {font-family: monospace;font-weight: bold;display: inline-block;line-height: 1.2em;}#sk-container-id-9 div.sk-label-container {text-align: center;}#sk-container-id-9 div.sk-container {/* jupyter's `normalize.less` sets `[hidden] { display: none; }` but bootstrap.min.css set `[hidden] { display: none !important; }` so we also need the `!important` here to be able to override the default hidden behavior on the sphinx rendered scikit-learn.org. See: https://github.com/scikit-learn/scikit-learn/issues/21755 */display: inline-block !important;position: relative;}#sk-container-id-9 div.sk-text-repr-fallback {display: none;}</style><div id=\"sk-container-id-9\" class=\"sk-top-container\"><div class=\"sk-text-repr-fallback\"><pre>AdaBoostClassifier()</pre><b>In a Jupyter environment, please rerun this cell to show the HTML representation or trust the notebook. <br />On GitHub, the HTML representation is unable to render, please try loading this page with nbviewer.org.</b></div><div class=\"sk-container\" hidden><div class=\"sk-item\"><div class=\"sk-estimator sk-toggleable\"><input class=\"sk-toggleable__control sk-hidden--visually\" id=\"sk-estimator-id-17\" type=\"checkbox\" checked><label for=\"sk-estimator-id-17\" class=\"sk-toggleable__label sk-toggleable__label-arrow\">AdaBoostClassifier</label><div class=\"sk-toggleable__content\"><pre>AdaBoostClassifier()</pre></div></div></div></div></div>"
      ],
      "text/plain": [
       "AdaBoostClassifier()"
      ]
     },
     "execution_count": 38,
     "metadata": {},
     "output_type": "execute_result"
    }
   ],
   "source": [
    "aboost.fit(X_train, y_train)"
   ]
  },
  {
   "cell_type": "markdown",
   "id": "6facadb5",
   "metadata": {
    "id": "6facadb5"
   },
   "source": [
    "**Step 38 -** Use the `.estimators_` attribute to obtain a list of the fitted base estimators."
   ]
  },
  {
   "cell_type": "code",
   "execution_count": 39,
   "id": "e764e138",
   "metadata": {
    "colab": {
     "base_uri": "https://localhost:8080/"
    },
    "executionInfo": {
     "elapsed": 36,
     "status": "ok",
     "timestamp": 1724246064167,
     "user": {
      "displayName": "Tiago Martins",
      "userId": "14571988070475468280"
     },
     "user_tz": -60
    },
    "id": "e764e138",
    "outputId": "d7c434ef-a972-45cc-b542-b88284da0860"
   },
   "outputs": [
    {
     "data": {
      "text/plain": [
       "[DecisionTreeClassifier(max_depth=1, random_state=1813496657),\n",
       " DecisionTreeClassifier(max_depth=1, random_state=57425068),\n",
       " DecisionTreeClassifier(max_depth=1, random_state=265751593),\n",
       " DecisionTreeClassifier(max_depth=1, random_state=2048671590),\n",
       " DecisionTreeClassifier(max_depth=1, random_state=2039980033),\n",
       " DecisionTreeClassifier(max_depth=1, random_state=1232835395),\n",
       " DecisionTreeClassifier(max_depth=1, random_state=1212516216),\n",
       " DecisionTreeClassifier(max_depth=1, random_state=234708071),\n",
       " DecisionTreeClassifier(max_depth=1, random_state=728342439),\n",
       " DecisionTreeClassifier(max_depth=1, random_state=1198096812),\n",
       " DecisionTreeClassifier(max_depth=1, random_state=1801522706),\n",
       " DecisionTreeClassifier(max_depth=1, random_state=1977012809),\n",
       " DecisionTreeClassifier(max_depth=1, random_state=1704557276),\n",
       " DecisionTreeClassifier(max_depth=1, random_state=2058225322),\n",
       " DecisionTreeClassifier(max_depth=1, random_state=796940886),\n",
       " DecisionTreeClassifier(max_depth=1, random_state=1307421742),\n",
       " DecisionTreeClassifier(max_depth=1, random_state=1766932228),\n",
       " DecisionTreeClassifier(max_depth=1, random_state=1324753793),\n",
       " DecisionTreeClassifier(max_depth=1, random_state=2081346769),\n",
       " DecisionTreeClassifier(max_depth=1, random_state=1299741646),\n",
       " DecisionTreeClassifier(max_depth=1, random_state=2130964622),\n",
       " DecisionTreeClassifier(max_depth=1, random_state=1967739440),\n",
       " DecisionTreeClassifier(max_depth=1, random_state=595129106),\n",
       " DecisionTreeClassifier(max_depth=1, random_state=1298199395),\n",
       " DecisionTreeClassifier(max_depth=1, random_state=2112360861),\n",
       " DecisionTreeClassifier(max_depth=1, random_state=1127948914),\n",
       " DecisionTreeClassifier(max_depth=1, random_state=996617824),\n",
       " DecisionTreeClassifier(max_depth=1, random_state=1520142943),\n",
       " DecisionTreeClassifier(max_depth=1, random_state=529204378),\n",
       " DecisionTreeClassifier(max_depth=1, random_state=780574104),\n",
       " DecisionTreeClassifier(max_depth=1, random_state=2045302308),\n",
       " DecisionTreeClassifier(max_depth=1, random_state=1880677496),\n",
       " DecisionTreeClassifier(max_depth=1, random_state=2074176665),\n",
       " DecisionTreeClassifier(max_depth=1, random_state=1372181701),\n",
       " DecisionTreeClassifier(max_depth=1, random_state=1712070149),\n",
       " DecisionTreeClassifier(max_depth=1, random_state=1654027786),\n",
       " DecisionTreeClassifier(max_depth=1, random_state=114590905),\n",
       " DecisionTreeClassifier(max_depth=1, random_state=1649677167),\n",
       " DecisionTreeClassifier(max_depth=1, random_state=1997365770),\n",
       " DecisionTreeClassifier(max_depth=1, random_state=1501336817),\n",
       " DecisionTreeClassifier(max_depth=1, random_state=94715908),\n",
       " DecisionTreeClassifier(max_depth=1, random_state=985709894),\n",
       " DecisionTreeClassifier(max_depth=1, random_state=1527155788),\n",
       " DecisionTreeClassifier(max_depth=1, random_state=40260434),\n",
       " DecisionTreeClassifier(max_depth=1, random_state=410644036),\n",
       " DecisionTreeClassifier(max_depth=1, random_state=1047097780),\n",
       " DecisionTreeClassifier(max_depth=1, random_state=87447976),\n",
       " DecisionTreeClassifier(max_depth=1, random_state=412709328),\n",
       " DecisionTreeClassifier(max_depth=1, random_state=2143068073),\n",
       " DecisionTreeClassifier(max_depth=1, random_state=2104354264)]"
      ]
     },
     "execution_count": 39,
     "metadata": {},
     "output_type": "execute_result"
    }
   ],
   "source": [
    "aboost.estimators_"
   ]
  },
  {
   "cell_type": "markdown",
   "id": "6f9ac687",
   "metadata": {
    "id": "6f9ac687"
   },
   "source": [
    "**Step 39 -** Use the `.score()` method to obtain the mean accuracy of the given test data `X_test` and the true labels for X, `y_test`."
   ]
  },
  {
   "cell_type": "code",
   "execution_count": 40,
   "id": "183283d6",
   "metadata": {
    "colab": {
     "base_uri": "https://localhost:8080/"
    },
    "executionInfo": {
     "elapsed": 26,
     "status": "ok",
     "timestamp": 1724246064168,
     "user": {
      "displayName": "Tiago Martins",
      "userId": "14571988070475468280"
     },
     "user_tz": -60
    },
    "id": "183283d6",
    "outputId": "d8424798-e281-4e6b-cea9-29b50e85bc54"
   },
   "outputs": [
    {
     "data": {
      "text/plain": [
       "0.7532467532467533"
      ]
     },
     "execution_count": 40,
     "metadata": {},
     "output_type": "execute_result"
    }
   ],
   "source": [
    "aboost.score(X_test, y_test)"
   ]
  },
  {
   "cell_type": "markdown",
   "id": "5871dc36",
   "metadata": {
    "id": "5871dc36"
   },
   "source": [
    "**Step 40 -** Import `GradientBoostingClassifier` from `sklearn.ensemble` and try this model.\n",
    "\n",
    "[Check Documentation](https://scikit-learn.org/stable/modules/generated/sklearn.ensemble.GradientBoostingClassifier.html)"
   ]
  },
  {
   "cell_type": "code",
   "execution_count": 41,
   "id": "4b78214b",
   "metadata": {
    "executionInfo": {
     "elapsed": 18,
     "status": "ok",
     "timestamp": 1724246064168,
     "user": {
      "displayName": "Tiago Martins",
      "userId": "14571988070475468280"
     },
     "user_tz": -60
    },
    "id": "4b78214b"
   },
   "outputs": [],
   "source": [
    "# Try at home"
   ]
  },
  {
   "cell_type": "markdown",
   "id": "56a13aa2",
   "metadata": {
    "id": "56a13aa2"
   },
   "source": [
    "## <font color='#BFD72F' id='comp3'>4.1. Visual comparison with previous models</font>\n",
    "[Back to Contents](#toc)\n",
    "\n",
    "**Step 41 -** Create a bar plot showing the accuracy obtained by the different models built during this notebook on the test set."
   ]
  },
  {
   "cell_type": "code",
   "execution_count": 42,
   "id": "31ee10d5",
   "metadata": {
    "colab": {
     "base_uri": "https://localhost:8080/",
     "height": 455
    },
    "executionInfo": {
     "elapsed": 489,
     "status": "ok",
     "timestamp": 1724246064641,
     "user": {
      "displayName": "Tiago Martins",
      "userId": "14571988070475468280"
     },
     "user_tz": -60
    },
    "id": "31ee10d5",
    "outputId": "d0e341f1-f699-435e-9bfe-be9b0e34680e"
   },
   "outputs": [
    {
     "data": {
      "image/png": "[encoded data removed]",
      "text/plain": [
       "<Figure size 640x480 with 1 Axes>"
      ]
     },
     "metadata": {},
     "output_type": "display_data"
    }
   ],
   "source": [
    "accuracies = [modelDT.score(X_test, y_test), bagging_DT.score(X_test, y_test), bagging_DT_40.score(X_test, y_test),\n",
    "              bagging_DT_s.score(X_test, y_test), bagging_DT_b.score(X_test, y_test), modelRF.score(X_test, y_test),\n",
    "              modelRF_6trees.score(X_test, y_test), modelRF_maxdepth10.score(X_test, y_test), aboost.score(X_test, y_test)]\n",
    "models = ['DT', 'B', 'B-E', 'B-S', 'B-B', 'RF', 'RF-E', 'RF-D', 'AB']\n",
    "data_tuples = list(zip(models,accuracies))\n",
    "data = pd.DataFrame(data_tuples)\n",
    "data = data.sort_values(1)\n",
    "plt.bar(data[0], data[1], color='yellowgreen')\n",
    "plt.xticks(color='dimgray')\n",
    "plt.yticks(color='dimgray')\n",
    "plt.ylim(0.69,0.8)\n",
    "plt.show()"
   ]
  },
  {
   "cell_type": "markdown",
   "id": "XwHRGnahxlSg",
   "metadata": {
    "id": "XwHRGnahxlSg"
   },
   "source": [
    "# <font color='#BFD72F'>5. Stacking </font> <a class=\"anchor\" id=\"stack\"></a>\n",
    "[Back to Contents](#toc)\n",
    "\n",
    "Stacking is a method for combining estimators to reduce their biases. More precisely, the predictions of each individual estimator are stacked together and used as input to a final estimator to compute the prediction.\n",
    "\n",
    "<img src=\"https://drive.google.com/uc?id=1GTcOsaggAqyvRWmmU-00NdSwGIZPd0M8\" width=\"900px\"> <img name=\"stacking_classifier.png\">\n"
   ]
  },
  {
   "cell_type": "markdown",
   "id": "INfVBg9YxxyR",
   "metadata": {
    "id": "INfVBg9YxxyR"
   },
   "source": [
    "**Step 42 -** Import `StackingClassifier` from `sklearn` and create an instance of it passing a set of estimators.\n",
    "\n",
    "For more information check <a href=\"https://scikit-learn.org/stable/modules/generated/sklearn.ensemble.StackingClassifier.html\">sklearn documentation</a>."
   ]
  },
  {
   "cell_type": "code",
   "execution_count": 43,
   "id": "St1flXSkFK7k",
   "metadata": {
    "executionInfo": {
     "elapsed": 18,
     "status": "ok",
     "timestamp": 1724246064642,
     "user": {
      "displayName": "Tiago Martins",
      "userId": "14571988070475468280"
     },
     "user_tz": -60
    },
    "id": "St1flXSkFK7k"
   },
   "outputs": [],
   "source": [
    "from sklearn.ensemble import StackingClassifier\n",
    "base_learners = [('adb',aboost), ('rdf',modelRF)]\n",
    "stacked = StackingClassifier(estimators=base_learners)"
   ]
  },
  {
   "cell_type": "markdown",
   "id": "BJqLXmblIv7L",
   "metadata": {
    "id": "BJqLXmblIv7L"
   },
   "source": [
    "**Step 43 -** Replicate previous step, using `DecisionTreeClassifier` as meta learner."
   ]
  },
  {
   "cell_type": "code",
   "execution_count": 44,
   "id": "EqVnUZ2DFKz5",
   "metadata": {
    "executionInfo": {
     "elapsed": 18,
     "status": "ok",
     "timestamp": 1724246064643,
     "user": {
      "displayName": "Tiago Martins",
      "userId": "14571988070475468280"
     },
     "user_tz": -60
    },
    "id": "EqVnUZ2DFKz5"
   },
   "outputs": [],
   "source": [
    "from sklearn.tree import DecisionTreeClassifier\n",
    "stacked_meta = StackingClassifier(estimators=base_learners, final_estimator=DecisionTreeClassifier())"
   ]
  },
  {
   "cell_type": "markdown",
   "id": "c1RJxYQFJ16p",
   "metadata": {
    "id": "c1RJxYQFJ16p"
   },
   "source": [
    "**Step 44 -** Compare the score between both stacking models."
   ]
  },
  {
   "cell_type": "code",
   "execution_count": 45,
   "id": "GDZagSnqFKq0",
   "metadata": {
    "colab": {
     "base_uri": "https://localhost:8080/"
    },
    "executionInfo": {
     "elapsed": 4956,
     "status": "ok",
     "timestamp": 1724246069582,
     "user": {
      "displayName": "Tiago Martins",
      "userId": "14571988070475468280"
     },
     "user_tz": -60
    },
    "id": "GDZagSnqFKq0",
    "outputId": "237b0591-a078-4261-8658-f7555f008d36"
   },
   "outputs": [
    {
     "data": {
      "text/plain": [
       "0.7792207792207793"
      ]
     },
     "execution_count": 45,
     "metadata": {},
     "output_type": "execute_result"
    }
   ],
   "source": [
    "stacked.fit(X_train, y_train).score(X_test, y_test)"
   ]
  },
  {
   "cell_type": "code",
   "execution_count": 46,
   "id": "2-Sk3eJvJXTH",
   "metadata": {
    "colab": {
     "base_uri": "https://localhost:8080/"
    },
    "executionInfo": {
     "elapsed": 3164,
     "status": "ok",
     "timestamp": 1724246072727,
     "user": {
      "displayName": "Tiago Martins",
      "userId": "14571988070475468280"
     },
     "user_tz": -60
    },
    "id": "2-Sk3eJvJXTH",
    "outputId": "1fe03e0a-e724-4e6b-a6bc-9d3761589583"
   },
   "outputs": [
    {
     "data": {
      "text/plain": [
       "0.7272727272727273"
      ]
     },
     "execution_count": 46,
     "metadata": {},
     "output_type": "execute_result"
    }
   ],
   "source": [
    "stacked_meta.fit(X_train, y_train).score(X_test, y_test)"
   ]
  },
  {
   "cell_type": "markdown",
   "id": "874494ab",
   "metadata": {
    "id": "874494ab"
   },
   "source": [
    "# <font color='#BFD72F'>6. GridSearch</font> <a class=\"anchor\" id=\"extra\"></a>\n",
    "[Back to Contents](#toc)\n",
    "\n",
    "Models have so many parameters that it can be hard to choose the best combination. We can use GridSearch to help us."
   ]
  },
  {
   "cell_type": "markdown",
   "id": "8WsYHxmKKEqQ",
   "metadata": {
    "id": "8WsYHxmKKEqQ"
   },
   "source": [
    "**Step 45 -** Import `GridSearchCV` from `sklearn.model_selection`, and `DecisionTreeClassifier`, which will be the model used to apply the grid search."
   ]
  },
  {
   "cell_type": "code",
   "execution_count": 47,
   "id": "KUWgF6ItKF5a",
   "metadata": {
    "executionInfo": {
     "elapsed": 16,
     "status": "ok",
     "timestamp": 1724246072728,
     "user": {
      "displayName": "Tiago Martins",
      "userId": "14571988070475468280"
     },
     "user_tz": -60
    },
    "id": "KUWgF6ItKF5a"
   },
   "outputs": [],
   "source": [
    "from sklearn.model_selection import GridSearchCV\n",
    "from sklearn.tree import DecisionTreeClassifier"
   ]
  },
  {
   "cell_type": "markdown",
   "id": "KPmJ4KwhKb4O",
   "metadata": {
    "id": "KPmJ4KwhKb4O"
   },
   "source": [
    "**Step 46 -** Create and an instance of the `DecisionTreeClassifier`. Then, define some parameters you would find useful to explore in a dictionary called `parameters`."
   ]
  },
  {
   "cell_type": "code",
   "execution_count": 48,
   "id": "a1802755",
   "metadata": {
    "executionInfo": {
     "elapsed": 13,
     "status": "ok",
     "timestamp": 1724246072728,
     "user": {
      "displayName": "Tiago Martins",
      "userId": "14571988070475468280"
     },
     "user_tz": -60
    },
    "id": "a1802755"
   },
   "outputs": [],
   "source": [
    "modelDT_grid = DecisionTreeClassifier()\n",
    "parameters = {'max_depth':list(range(1,10)),\n",
    "              'min_samples_split':list(range(20,30))}"
   ]
  },
  {
   "cell_type": "markdown",
   "id": "Ri_TlEvKK7fC",
   "metadata": {
    "id": "Ri_TlEvKK7fC"
   },
   "source": [
    " **Step 47 -** Create an instance of the `GridSearchCV` with the previously created model and parameters. Fit the Grid search to the training data."
   ]
  },
  {
   "cell_type": "code",
   "execution_count": null,
   "id": "oLZ7H7u-LI45",
   "metadata": {
    "id": "oLZ7H7u-LI45"
   },
   "outputs": [],
   "source": [
    "grid = GridSearchCV(modelDT_grid, parameters)\n",
    "grid.fit(X_train, y_train)"
   ]
  },
  {
   "cell_type": "markdown",
   "id": "gWXtUduSK9c5",
   "metadata": {
    "id": "gWXtUduSK9c5"
   },
   "source": [
    "**Step 48 -** Check the grid search results by using the method `cv_results_`."
   ]
  },
  {
   "cell_type": "code",
   "execution_count": null,
   "id": "2225374e",
   "metadata": {
    "id": "2225374e"
   },
   "outputs": [],
   "source": [
    "grid.cv_results_"
   ]
  },
  {
   "cell_type": "code",
   "execution_count": null,
   "id": "36b951b3",
   "metadata": {
    "id": "36b951b3"
   },
   "outputs": [],
   "source": [
    "grid.best_estimator_"
   ]
  },
  {
   "cell_type": "code",
   "execution_count": null,
   "id": "68b4c2a0",
   "metadata": {
    "id": "68b4c2a0"
   },
   "outputs": [],
   "source": [
    "grid.score(X_test, y_test)"
   ]
  },
  {
   "cell_type": "markdown",
   "id": "5faead20",
   "metadata": {
    "id": "5faead20"
   },
   "source": [
    "<b><font size=\"6\"> Don't forget to practice at home &#128521;</font>"
   ]
  }
 ],
 "metadata": {
  "colab": {
   "provenance": []
  },
  "kernelspec": {
   "display_name": "Python 3",
   "language": "python",
   "name": "python3"
  },
  "language_info": {
   "codemirror_mode": {
    "name": "ipython",
    "version": 3
   },
   "file_extension": ".py",
   "mimetype": "text/x-python",
   "name": "python",
   "nbconvert_exporter": "python",
   "pygments_lexer": "ipython3",
   "version": "3.11.7"
  }
 },
 "nbformat": 4,
 "nbformat_minor": 5
}
