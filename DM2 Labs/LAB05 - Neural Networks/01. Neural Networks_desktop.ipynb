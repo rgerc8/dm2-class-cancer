{
 "cells": [
  {
   "cell_type": "markdown",
   "metadata": {
    "id": "uKRxGFV-7p_g"
   },
   "source": [
    "<b><font size=\"6\"><u>Neural Networks</u></font></b>\n",
    "\n",
    "In this notebook we are going to check some of the most important parameters that can influence the performance of a neural network.\n",
    "\n",
    "# <font color='#BFD72F'>Contents</font> <a class=\"anchor\" id=\"toc\"></a>\n",
    "\n",
    "* [1 - Initial Steps](#first-bullet)\n",
    "    * [1.1 - Connect to Google Colab](#first-bullet)\n",
    "    * [1.2 - Importing Libraries and Data](#import)\n",
    "    * [1.3 - Data Understanding](#understand)\n",
    "    * [1.4 - Split the Data](#split)\n",
    "    * [1.5 - Preparing Functions](#func)\n",
    "* [2 - Neural Networks](#nn)\n",
    "    * [2.1 - The hidden layer size](#hidden)\n",
    "    * [2.2 - The activation function](#activation)\n",
    "    * [2.3 - The solver](#solver)\n",
    "    * [2.4 - The learning rate initialization](#lr_init)\n",
    "    * [2.5 - The learning rate](#lr)\n",
    "    * [2.6 - The maximum iterations](#max_iter)\n",
    "    * [2.7 - Other parameters](#other)\n",
    "* [3 - RandomizedSearch](#randsearch)\n",
    "* [4 - Extra: Pipeline](#pipe)"
   ]
  },
  {
   "cell_type": "markdown",
   "metadata": {},
   "source": [
    "# <font color='#BFD72F'>1. Initial Steps</font> <a class=\"anchor\" id=\"first-bullet\"></a>"
   ]
  },
  {
   "cell_type": "markdown",
   "metadata": {
    "id": "Rnetuq2D7p_l"
   },
   "source": [
    "## <font color='#BFD72F'>1.1. Connect to Google Colab</font> <a class=\"anchor\" id=\"first-bullet\"></a>\n",
    "[Back to Contents](#toc)\n",
    "\n",
    "**Step 1 -** Connect the google colab notebook with your google drive. Before running the code below, make sure you have this notebook in the folders mentioned in the variable `path`.<br>"
   ]
  },
  {
   "cell_type": "code",
   "execution_count": 1,
   "metadata": {
    "colab": {
     "base_uri": "https://localhost:8080/"
    },
    "executionInfo": {
     "elapsed": 6234,
     "status": "ok",
     "timestamp": 1684602614970,
     "user": {
      "displayName": "Joana Rafael",
      "userId": "05406048540139626792"
     },
     "user_tz": -60
    },
    "id": "KSHbQIli7p_m",
    "outputId": "fe6f74aa-4db2-4794-9071-59f0b3b29308"
   },
   "outputs": [],
   "source": [
    "# Connect Google Colab to Drive\n",
    "'''\n",
    "from google.colab import drive   \n",
    "drive.mount('/content/drive', force_remount=True)\n",
    "path = '/content/drive/MyDrive/Colab Notebooks/DM2/LAB05 - Neural Networks/'\n",
    "'''\n",
    "path = ''"
   ]
  },
  {
   "cell_type": "markdown",
   "metadata": {
    "id": "fNVV_-mn7p_o"
   },
   "source": [
    "## <font color='#BFD72F'>1.2. Importing Libraries and Data</font><a class=\"anchor\" id=\"import\"></a>\n",
    "[Back to Contents](#toc)\n",
    "\n",
    "**Step 2 -** Import the needed libraries."
   ]
  },
  {
   "cell_type": "code",
   "execution_count": 2,
   "metadata": {
    "executionInfo": {
     "elapsed": 135,
     "status": "ok",
     "timestamp": 1684602614970,
     "user": {
      "displayName": "Joana Rafael",
      "userId": "05406048540139626792"
     },
     "user_tz": -60
    },
    "id": "2fyCyORR7p_p"
   },
   "outputs": [],
   "source": [
    "import time\n",
    "from sklearn.neural_network import MLPClassifier\n",
    "import pandas as pd\n",
    "from sklearn.model_selection import train_test_split, KFold, RandomizedSearchCV\n",
    "import numpy as np\n",
    "\n",
    "import warnings\n",
    "warnings.filterwarnings('ignore')"
   ]
  },
  {
   "cell_type": "markdown",
   "metadata": {
    "id": "QonareZ-7p_q"
   },
   "source": [
    "**Step 3 -** Import the data that is going to be used into `pandas` dataframes.\n",
    "\n",
    "**Step 3.1 -** Import and check the Insurance dataset."
   ]
  },
  {
   "cell_type": "code",
   "execution_count": 3,
   "metadata": {
    "executionInfo": {
     "elapsed": 135,
     "status": "ok",
     "timestamp": 1684602614971,
     "user": {
      "displayName": "Joana Rafael",
      "userId": "05406048540139626792"
     },
     "user_tz": -60
    },
    "id": "qlwLUMy07p_q"
   },
   "outputs": [
    {
     "data": {
      "text/html": [
       "<div>\n",
       "<style scoped>\n",
       "    .dataframe tbody tr th:only-of-type {\n",
       "        vertical-align: middle;\n",
       "    }\n",
       "\n",
       "    .dataframe tbody tr th {\n",
       "        vertical-align: top;\n",
       "    }\n",
       "\n",
       "    .dataframe thead th {\n",
       "        text-align: right;\n",
       "    }\n",
       "</style>\n",
       "<table border=\"1\" class=\"dataframe\">\n",
       "  <thead>\n",
       "    <tr style=\"text-align: right;\">\n",
       "      <th></th>\n",
       "      <th>Year_Birth</th>\n",
       "      <th>Smoker</th>\n",
       "      <th>Income</th>\n",
       "      <th>BMI</th>\n",
       "      <th>BSA</th>\n",
       "      <th>Expenses</th>\n",
       "      <th>Treatment</th>\n",
       "      <th>Medication</th>\n",
       "      <th>Medical_Assistance</th>\n",
       "      <th>Exams</th>\n",
       "      <th>...</th>\n",
       "      <th>Year_Hospitalization</th>\n",
       "      <th>Region_northwest</th>\n",
       "      <th>Region_southeast</th>\n",
       "      <th>Region_southwest</th>\n",
       "      <th>Marital_Status_Divorced</th>\n",
       "      <th>Marital_Status_Married</th>\n",
       "      <th>Marital_Status_Single</th>\n",
       "      <th>Marital_Status_Together</th>\n",
       "      <th>Marital_Status_Widow</th>\n",
       "      <th>Gender_M</th>\n",
       "    </tr>\n",
       "  </thead>\n",
       "  <tbody>\n",
       "    <tr>\n",
       "      <th>0</th>\n",
       "      <td>1991.0</td>\n",
       "      <td>0</td>\n",
       "      <td>29761.20</td>\n",
       "      <td>69.000000</td>\n",
       "      <td>11</td>\n",
       "      <td>45.76</td>\n",
       "      <td>32</td>\n",
       "      <td>19</td>\n",
       "      <td>24</td>\n",
       "      <td>1</td>\n",
       "      <td>...</td>\n",
       "      <td>2014</td>\n",
       "      <td>0</td>\n",
       "      <td>1</td>\n",
       "      <td>0</td>\n",
       "      <td>0</td>\n",
       "      <td>0</td>\n",
       "      <td>0</td>\n",
       "      <td>0</td>\n",
       "      <td>0</td>\n",
       "      <td>1</td>\n",
       "    </tr>\n",
       "    <tr>\n",
       "      <th>1</th>\n",
       "      <td>1956.0</td>\n",
       "      <td>0</td>\n",
       "      <td>98249.55</td>\n",
       "      <td>10.000000</td>\n",
       "      <td>26</td>\n",
       "      <td>923.52</td>\n",
       "      <td>60</td>\n",
       "      <td>10</td>\n",
       "      <td>19</td>\n",
       "      <td>6</td>\n",
       "      <td>...</td>\n",
       "      <td>2013</td>\n",
       "      <td>0</td>\n",
       "      <td>0</td>\n",
       "      <td>0</td>\n",
       "      <td>0</td>\n",
       "      <td>1</td>\n",
       "      <td>0</td>\n",
       "      <td>0</td>\n",
       "      <td>0</td>\n",
       "      <td>1</td>\n",
       "    </tr>\n",
       "    <tr>\n",
       "      <th>2</th>\n",
       "      <td>1983.0</td>\n",
       "      <td>0</td>\n",
       "      <td>23505.30</td>\n",
       "      <td>65.000000</td>\n",
       "      <td>14</td>\n",
       "      <td>58.24</td>\n",
       "      <td>47</td>\n",
       "      <td>2</td>\n",
       "      <td>48</td>\n",
       "      <td>2</td>\n",
       "      <td>...</td>\n",
       "      <td>2013</td>\n",
       "      <td>0</td>\n",
       "      <td>0</td>\n",
       "      <td>1</td>\n",
       "      <td>0</td>\n",
       "      <td>0</td>\n",
       "      <td>0</td>\n",
       "      <td>1</td>\n",
       "      <td>0</td>\n",
       "      <td>0</td>\n",
       "    </tr>\n",
       "    <tr>\n",
       "      <th>3</th>\n",
       "      <td>1970.0</td>\n",
       "      <td>0</td>\n",
       "      <td>72959.25</td>\n",
       "      <td>73.000000</td>\n",
       "      <td>18</td>\n",
       "      <td>358.80</td>\n",
       "      <td>71</td>\n",
       "      <td>7</td>\n",
       "      <td>13</td>\n",
       "      <td>1</td>\n",
       "      <td>...</td>\n",
       "      <td>2012</td>\n",
       "      <td>0</td>\n",
       "      <td>1</td>\n",
       "      <td>0</td>\n",
       "      <td>0</td>\n",
       "      <td>0</td>\n",
       "      <td>1</td>\n",
       "      <td>0</td>\n",
       "      <td>0</td>\n",
       "      <td>0</td>\n",
       "    </tr>\n",
       "    <tr>\n",
       "      <th>4</th>\n",
       "      <td>1941.0</td>\n",
       "      <td>1</td>\n",
       "      <td>114973.95</td>\n",
       "      <td>75.000000</td>\n",
       "      <td>30</td>\n",
       "      <td>1457.04</td>\n",
       "      <td>38</td>\n",
       "      <td>9</td>\n",
       "      <td>35</td>\n",
       "      <td>9</td>\n",
       "      <td>...</td>\n",
       "      <td>2013</td>\n",
       "      <td>0</td>\n",
       "      <td>1</td>\n",
       "      <td>0</td>\n",
       "      <td>0</td>\n",
       "      <td>1</td>\n",
       "      <td>0</td>\n",
       "      <td>0</td>\n",
       "      <td>0</td>\n",
       "      <td>0</td>\n",
       "    </tr>\n",
       "    <tr>\n",
       "      <th>...</th>\n",
       "      <td>...</td>\n",
       "      <td>...</td>\n",
       "      <td>...</td>\n",
       "      <td>...</td>\n",
       "      <td>...</td>\n",
       "      <td>...</td>\n",
       "      <td>...</td>\n",
       "      <td>...</td>\n",
       "      <td>...</td>\n",
       "      <td>...</td>\n",
       "      <td>...</td>\n",
       "      <td>...</td>\n",
       "      <td>...</td>\n",
       "      <td>...</td>\n",
       "      <td>...</td>\n",
       "      <td>...</td>\n",
       "      <td>...</td>\n",
       "      <td>...</td>\n",
       "      <td>...</td>\n",
       "      <td>...</td>\n",
       "      <td>...</td>\n",
       "    </tr>\n",
       "    <tr>\n",
       "      <th>2495</th>\n",
       "      <td>1996.0</td>\n",
       "      <td>0</td>\n",
       "      <td>29551.20</td>\n",
       "      <td>62.648904</td>\n",
       "      <td>10</td>\n",
       "      <td>47.84</td>\n",
       "      <td>11</td>\n",
       "      <td>40</td>\n",
       "      <td>24</td>\n",
       "      <td>22</td>\n",
       "      <td>...</td>\n",
       "      <td>2013</td>\n",
       "      <td>0</td>\n",
       "      <td>0</td>\n",
       "      <td>0</td>\n",
       "      <td>0</td>\n",
       "      <td>0</td>\n",
       "      <td>1</td>\n",
       "      <td>0</td>\n",
       "      <td>0</td>\n",
       "      <td>0</td>\n",
       "    </tr>\n",
       "    <tr>\n",
       "      <th>2496</th>\n",
       "      <td>1940.0</td>\n",
       "      <td>1</td>\n",
       "      <td>132566.70</td>\n",
       "      <td>62.648904</td>\n",
       "      <td>46</td>\n",
       "      <td>2320.24</td>\n",
       "      <td>32</td>\n",
       "      <td>4</td>\n",
       "      <td>47</td>\n",
       "      <td>9</td>\n",
       "      <td>...</td>\n",
       "      <td>2013</td>\n",
       "      <td>0</td>\n",
       "      <td>1</td>\n",
       "      <td>0</td>\n",
       "      <td>0</td>\n",
       "      <td>1</td>\n",
       "      <td>0</td>\n",
       "      <td>0</td>\n",
       "      <td>0</td>\n",
       "      <td>0</td>\n",
       "    </tr>\n",
       "    <tr>\n",
       "      <th>2497</th>\n",
       "      <td>1955.0</td>\n",
       "      <td>1</td>\n",
       "      <td>91768.95</td>\n",
       "      <td>62.648904</td>\n",
       "      <td>25</td>\n",
       "      <td>870.48</td>\n",
       "      <td>56</td>\n",
       "      <td>8</td>\n",
       "      <td>27</td>\n",
       "      <td>8</td>\n",
       "      <td>...</td>\n",
       "      <td>2013</td>\n",
       "      <td>0</td>\n",
       "      <td>1</td>\n",
       "      <td>0</td>\n",
       "      <td>0</td>\n",
       "      <td>0</td>\n",
       "      <td>0</td>\n",
       "      <td>1</td>\n",
       "      <td>0</td>\n",
       "      <td>0</td>\n",
       "    </tr>\n",
       "    <tr>\n",
       "      <th>2498</th>\n",
       "      <td>1961.0</td>\n",
       "      <td>0</td>\n",
       "      <td>99085.35</td>\n",
       "      <td>62.648904</td>\n",
       "      <td>28</td>\n",
       "      <td>931.84</td>\n",
       "      <td>68</td>\n",
       "      <td>5</td>\n",
       "      <td>21</td>\n",
       "      <td>3</td>\n",
       "      <td>...</td>\n",
       "      <td>2012</td>\n",
       "      <td>0</td>\n",
       "      <td>0</td>\n",
       "      <td>0</td>\n",
       "      <td>0</td>\n",
       "      <td>1</td>\n",
       "      <td>0</td>\n",
       "      <td>0</td>\n",
       "      <td>0</td>\n",
       "      <td>0</td>\n",
       "    </tr>\n",
       "    <tr>\n",
       "      <th>2499</th>\n",
       "      <td>1939.0</td>\n",
       "      <td>0</td>\n",
       "      <td>132260.10</td>\n",
       "      <td>62.648904</td>\n",
       "      <td>38</td>\n",
       "      <td>1734.72</td>\n",
       "      <td>61</td>\n",
       "      <td>2</td>\n",
       "      <td>25</td>\n",
       "      <td>5</td>\n",
       "      <td>...</td>\n",
       "      <td>2014</td>\n",
       "      <td>1</td>\n",
       "      <td>0</td>\n",
       "      <td>0</td>\n",
       "      <td>0</td>\n",
       "      <td>0</td>\n",
       "      <td>0</td>\n",
       "      <td>1</td>\n",
       "      <td>0</td>\n",
       "      <td>0</td>\n",
       "    </tr>\n",
       "  </tbody>\n",
       "</table>\n",
       "<p>2500 rows × 26 columns</p>\n",
       "</div>"
      ],
      "text/plain": [
       "      Year_Birth  Smoker     Income        BMI  BSA  Expenses  Treatment  \\\n",
       "0         1991.0       0   29761.20  69.000000   11     45.76         32   \n",
       "1         1956.0       0   98249.55  10.000000   26    923.52         60   \n",
       "2         1983.0       0   23505.30  65.000000   14     58.24         47   \n",
       "3         1970.0       0   72959.25  73.000000   18    358.80         71   \n",
       "4         1941.0       1  114973.95  75.000000   30   1457.04         38   \n",
       "...          ...     ...        ...        ...  ...       ...        ...   \n",
       "2495      1996.0       0   29551.20  62.648904   10     47.84         11   \n",
       "2496      1940.0       1  132566.70  62.648904   46   2320.24         32   \n",
       "2497      1955.0       1   91768.95  62.648904   25    870.48         56   \n",
       "2498      1961.0       0   99085.35  62.648904   28    931.84         68   \n",
       "2499      1939.0       0  132260.10  62.648904   38   1734.72         61   \n",
       "\n",
       "      Medication  Medical_Assistance  Exams  ...  Year_Hospitalization  \\\n",
       "0             19                  24      1  ...                  2014   \n",
       "1             10                  19      6  ...                  2013   \n",
       "2              2                  48      2  ...                  2013   \n",
       "3              7                  13      1  ...                  2012   \n",
       "4              9                  35      9  ...                  2013   \n",
       "...          ...                 ...    ...  ...                   ...   \n",
       "2495          40                  24     22  ...                  2013   \n",
       "2496           4                  47      9  ...                  2013   \n",
       "2497           8                  27      8  ...                  2013   \n",
       "2498           5                  21      3  ...                  2012   \n",
       "2499           2                  25      5  ...                  2014   \n",
       "\n",
       "      Region_northwest  Region_southeast  Region_southwest  \\\n",
       "0                    0                 1                 0   \n",
       "1                    0                 0                 0   \n",
       "2                    0                 0                 1   \n",
       "3                    0                 1                 0   \n",
       "4                    0                 1                 0   \n",
       "...                ...               ...               ...   \n",
       "2495                 0                 0                 0   \n",
       "2496                 0                 1                 0   \n",
       "2497                 0                 1                 0   \n",
       "2498                 0                 0                 0   \n",
       "2499                 1                 0                 0   \n",
       "\n",
       "      Marital_Status_Divorced  Marital_Status_Married  Marital_Status_Single  \\\n",
       "0                           0                       0                      0   \n",
       "1                           0                       1                      0   \n",
       "2                           0                       0                      0   \n",
       "3                           0                       0                      1   \n",
       "4                           0                       1                      0   \n",
       "...                       ...                     ...                    ...   \n",
       "2495                        0                       0                      1   \n",
       "2496                        0                       1                      0   \n",
       "2497                        0                       0                      0   \n",
       "2498                        0                       1                      0   \n",
       "2499                        0                       0                      0   \n",
       "\n",
       "      Marital_Status_Together  Marital_Status_Widow  Gender_M  \n",
       "0                           0                     0         1  \n",
       "1                           0                     0         1  \n",
       "2                           1                     0         0  \n",
       "3                           0                     0         0  \n",
       "4                           0                     0         0  \n",
       "...                       ...                   ...       ...  \n",
       "2495                        0                     0         0  \n",
       "2496                        0                     0         0  \n",
       "2497                        1                     0         0  \n",
       "2498                        0                     0         0  \n",
       "2499                        1                     0         0  \n",
       "\n",
       "[2500 rows x 26 columns]"
      ]
     },
     "execution_count": 3,
     "metadata": {},
     "output_type": "execute_result"
    }
   ],
   "source": [
    "insurance = pd.read_csv(path + 'data/insurance.csv')\n",
    "\n",
    "#drop useless first columns\n",
    "insurance.drop(columns=\"Unnamed: 0\", inplace =True)\n",
    "\n",
    "#take a look at the data\n",
    "insurance"
   ]
  },
  {
   "cell_type": "markdown",
   "metadata": {
    "id": "Sj97YnCd7p_r"
   },
   "source": [
    "<font color='orange'>____GOAL____  : </font> Predict if the health plan will get an upgrade using the given features by the customer\n",
    "\n",
    "The original dataset contains 2500 rows of hospitalization data that an insurance company is analysing, where the Insurance charges are given against the following attributes of the insured: *Age*, *Sex*, *BMI*, *Number of Children*, *Smoker*, *Region*, etc. \n",
    "The categorical variables have already been encoded and converted into dummy variables for you. \n",
    "\n",
    "\n",
    "`Insured ID`<br>\n",
    "`Year_Birth` -  Insurance contractor year of birth<br>\n",
    "`Gender` - (dummies) Insurance contractor gender, female / male.<br>\n",
    "`Region` - (dummies) The beneficiary's residential area in the US, northeast, southeast, southwest, northwest.<br>\n",
    "`Marital Status` - (dummies) Insurance contractor marital status.<br>\n",
    "`Smoker` - (dummies) Smoker / No smoker.<br>\n",
    "`Income` - Insurance contractor income.<br>\n",
    "`BMI` - Body mass index<br>\n",
    "`BSA` - body surface area.<br>\n",
    "`Insured_Satisfaction` - Insured satisfaction regarding insurance assistance/services covered during hospitalization.<br>\n",
    "`Expenses` - Individual medical costs billed by health insurance.<br>\n",
    "`Expenses in percentage (%)` by categories (Treatment / Medication / Medical_Assistance / Exams / Ambulance_Transport).<br>\n",
    "`Expenses coverage percentage (%)` (Insurance_Coverage / Patient_Coverage).<br>\n",
    "`Plan_Option` Type of plan insurance <br>\n",
    "`Upgrade Health Plan` The customer upgraded the health plan insurance\n",
    "<- <font color='orange'> **Dependent Variable / Target** </font> "
   ]
  },
  {
   "cell_type": "markdown",
   "metadata": {},
   "source": [
    "## <font color='#BFD72F'> 1.3. Data Understanding</font> <a class=\"anchor\" id=\"understand\"></a>\n",
    "[Back to Contents](#toc)"
   ]
  },
  {
   "cell_type": "markdown",
   "metadata": {},
   "source": [
    "**Step 4 -** Use the method `info()` to look at datatypes and missing values."
   ]
  },
  {
   "cell_type": "code",
   "execution_count": 4,
   "metadata": {},
   "outputs": [
    {
     "name": "stdout",
     "output_type": "stream",
     "text": [
      "<class 'pandas.core.frame.DataFrame'>\n",
      "RangeIndex: 2500 entries, 0 to 2499\n",
      "Data columns (total 26 columns):\n",
      " #   Column                   Non-Null Count  Dtype  \n",
      "---  ------                   --------------  -----  \n",
      " 0   Year_Birth               2500 non-null   float64\n",
      " 1   Smoker                   2500 non-null   int64  \n",
      " 2   Income                   2500 non-null   float64\n",
      " 3   BMI                      2500 non-null   float64\n",
      " 4   BSA                      2500 non-null   int64  \n",
      " 5   Expenses                 2500 non-null   float64\n",
      " 6   Treatment                2500 non-null   int64  \n",
      " 7   Medication               2500 non-null   int64  \n",
      " 8   Medical_Assistance       2500 non-null   int64  \n",
      " 9   Exams                    2500 non-null   int64  \n",
      " 10  Ambulance_Transport      2500 non-null   int64  \n",
      " 11  Patient_Coverage         2500 non-null   int64  \n",
      " 12  Insurance_Coverage       2500 non-null   int64  \n",
      " 13  Insured_Satisfaction     2500 non-null   int64  \n",
      " 14  Health_Plan_Option       2500 non-null   int64  \n",
      " 15  Upgrade_Health_Plan      2500 non-null   int64  \n",
      " 16  Year_Hospitalization     2500 non-null   int64  \n",
      " 17  Region_northwest         2500 non-null   int64  \n",
      " 18  Region_southeast         2500 non-null   int64  \n",
      " 19  Region_southwest         2500 non-null   int64  \n",
      " 20  Marital_Status_Divorced  2500 non-null   int64  \n",
      " 21  Marital_Status_Married   2500 non-null   int64  \n",
      " 22  Marital_Status_Single    2500 non-null   int64  \n",
      " 23  Marital_Status_Together  2500 non-null   int64  \n",
      " 24  Marital_Status_Widow     2500 non-null   int64  \n",
      " 25  Gender_M                 2500 non-null   int64  \n",
      "dtypes: float64(4), int64(22)\n",
      "memory usage: 507.9 KB\n"
     ]
    }
   ],
   "source": [
    "insurance.info()"
   ]
  },
  {
   "cell_type": "markdown",
   "metadata": {},
   "source": [
    "**Step 5 -** Use the method `describe()` to look at the descriptive statistics of each one of your variables."
   ]
  },
  {
   "cell_type": "code",
   "execution_count": 5,
   "metadata": {},
   "outputs": [
    {
     "data": {
      "text/html": [
       "<div>\n",
       "<style scoped>\n",
       "    .dataframe tbody tr th:only-of-type {\n",
       "        vertical-align: middle;\n",
       "    }\n",
       "\n",
       "    .dataframe tbody tr th {\n",
       "        vertical-align: top;\n",
       "    }\n",
       "\n",
       "    .dataframe thead th {\n",
       "        text-align: right;\n",
       "    }\n",
       "</style>\n",
       "<table border=\"1\" class=\"dataframe\">\n",
       "  <thead>\n",
       "    <tr style=\"text-align: right;\">\n",
       "      <th></th>\n",
       "      <th>count</th>\n",
       "      <th>mean</th>\n",
       "      <th>std</th>\n",
       "      <th>min</th>\n",
       "      <th>25%</th>\n",
       "      <th>50%</th>\n",
       "      <th>75%</th>\n",
       "      <th>max</th>\n",
       "    </tr>\n",
       "  </thead>\n",
       "  <tbody>\n",
       "    <tr>\n",
       "      <th>Year_Birth</th>\n",
       "      <td>2500.0</td>\n",
       "      <td>1966.727336</td>\n",
       "      <td>17.039107</td>\n",
       "      <td>1937.00</td>\n",
       "      <td>1952.0000</td>\n",
       "      <td>1966.000</td>\n",
       "      <td>1981.000</td>\n",
       "      <td>1997.00</td>\n",
       "    </tr>\n",
       "    <tr>\n",
       "      <th>Smoker</th>\n",
       "      <td>2500.0</td>\n",
       "      <td>0.298800</td>\n",
       "      <td>0.457824</td>\n",
       "      <td>0.00</td>\n",
       "      <td>0.0000</td>\n",
       "      <td>0.000</td>\n",
       "      <td>1.000</td>\n",
       "      <td>1.00</td>\n",
       "    </tr>\n",
       "    <tr>\n",
       "      <th>Income</th>\n",
       "      <td>2500.0</td>\n",
       "      <td>72018.704520</td>\n",
       "      <td>30890.417285</td>\n",
       "      <td>0.00</td>\n",
       "      <td>49277.2875</td>\n",
       "      <td>73320.975</td>\n",
       "      <td>96566.925</td>\n",
       "      <td>144204.90</td>\n",
       "    </tr>\n",
       "    <tr>\n",
       "      <th>BMI</th>\n",
       "      <td>2500.0</td>\n",
       "      <td>62.648904</td>\n",
       "      <td>66.824084</td>\n",
       "      <td>0.00</td>\n",
       "      <td>28.0000</td>\n",
       "      <td>56.000</td>\n",
       "      <td>76.000</td>\n",
       "      <td>549.00</td>\n",
       "    </tr>\n",
       "    <tr>\n",
       "      <th>BSA</th>\n",
       "      <td>2500.0</td>\n",
       "      <td>19.989200</td>\n",
       "      <td>10.951249</td>\n",
       "      <td>3.00</td>\n",
       "      <td>11.0000</td>\n",
       "      <td>18.000</td>\n",
       "      <td>28.000</td>\n",
       "      <td>58.00</td>\n",
       "    </tr>\n",
       "    <tr>\n",
       "      <th>Expenses</th>\n",
       "      <td>2500.0</td>\n",
       "      <td>654.829760</td>\n",
       "      <td>676.453079</td>\n",
       "      <td>8.32</td>\n",
       "      <td>66.5600</td>\n",
       "      <td>401.960</td>\n",
       "      <td>1069.120</td>\n",
       "      <td>3055.52</td>\n",
       "    </tr>\n",
       "    <tr>\n",
       "      <th>Treatment</th>\n",
       "      <td>2500.0</td>\n",
       "      <td>50.982000</td>\n",
       "      <td>23.390283</td>\n",
       "      <td>2.00</td>\n",
       "      <td>33.0000</td>\n",
       "      <td>51.000</td>\n",
       "      <td>70.000</td>\n",
       "      <td>98.00</td>\n",
       "    </tr>\n",
       "    <tr>\n",
       "      <th>Medication</th>\n",
       "      <td>2500.0</td>\n",
       "      <td>6.958800</td>\n",
       "      <td>7.836738</td>\n",
       "      <td>0.00</td>\n",
       "      <td>2.0000</td>\n",
       "      <td>4.000</td>\n",
       "      <td>9.000</td>\n",
       "      <td>68.00</td>\n",
       "    </tr>\n",
       "    <tr>\n",
       "      <th>Medical_Assistance</th>\n",
       "      <td>2500.0</td>\n",
       "      <td>28.233200</td>\n",
       "      <td>12.617674</td>\n",
       "      <td>2.00</td>\n",
       "      <td>19.0000</td>\n",
       "      <td>27.000</td>\n",
       "      <td>37.000</td>\n",
       "      <td>69.00</td>\n",
       "    </tr>\n",
       "    <tr>\n",
       "      <th>Exams</th>\n",
       "      <td>2500.0</td>\n",
       "      <td>6.880800</td>\n",
       "      <td>7.633630</td>\n",
       "      <td>0.00</td>\n",
       "      <td>2.0000</td>\n",
       "      <td>4.000</td>\n",
       "      <td>9.000</td>\n",
       "      <td>54.00</td>\n",
       "    </tr>\n",
       "    <tr>\n",
       "      <th>Ambulance_Transport</th>\n",
       "      <td>2500.0</td>\n",
       "      <td>6.929200</td>\n",
       "      <td>7.920940</td>\n",
       "      <td>0.00</td>\n",
       "      <td>1.0000</td>\n",
       "      <td>4.000</td>\n",
       "      <td>10.000</td>\n",
       "      <td>77.00</td>\n",
       "    </tr>\n",
       "    <tr>\n",
       "      <th>Patient_Coverage</th>\n",
       "      <td>2500.0</td>\n",
       "      <td>42.077600</td>\n",
       "      <td>18.274582</td>\n",
       "      <td>5.00</td>\n",
       "      <td>27.0000</td>\n",
       "      <td>45.000</td>\n",
       "      <td>57.000</td>\n",
       "      <td>88.00</td>\n",
       "    </tr>\n",
       "    <tr>\n",
       "      <th>Insurance_Coverage</th>\n",
       "      <td>2500.0</td>\n",
       "      <td>57.922400</td>\n",
       "      <td>18.274582</td>\n",
       "      <td>12.00</td>\n",
       "      <td>43.0000</td>\n",
       "      <td>55.000</td>\n",
       "      <td>73.000</td>\n",
       "      <td>95.00</td>\n",
       "    </tr>\n",
       "    <tr>\n",
       "      <th>Insured_Satisfaction</th>\n",
       "      <td>2500.0</td>\n",
       "      <td>3.952800</td>\n",
       "      <td>1.141531</td>\n",
       "      <td>1.00</td>\n",
       "      <td>3.0000</td>\n",
       "      <td>4.000</td>\n",
       "      <td>5.000</td>\n",
       "      <td>6.00</td>\n",
       "    </tr>\n",
       "    <tr>\n",
       "      <th>Health_Plan_Option</th>\n",
       "      <td>2500.0</td>\n",
       "      <td>2.000000</td>\n",
       "      <td>0.000000</td>\n",
       "      <td>2.00</td>\n",
       "      <td>2.0000</td>\n",
       "      <td>2.000</td>\n",
       "      <td>2.000</td>\n",
       "      <td>2.00</td>\n",
       "    </tr>\n",
       "    <tr>\n",
       "      <th>Upgrade_Health_Plan</th>\n",
       "      <td>2500.0</td>\n",
       "      <td>0.070000</td>\n",
       "      <td>0.255198</td>\n",
       "      <td>0.00</td>\n",
       "      <td>0.0000</td>\n",
       "      <td>0.000</td>\n",
       "      <td>0.000</td>\n",
       "      <td>1.00</td>\n",
       "    </tr>\n",
       "    <tr>\n",
       "      <th>Year_Hospitalization</th>\n",
       "      <td>2500.0</td>\n",
       "      <td>2013.018000</td>\n",
       "      <td>0.680780</td>\n",
       "      <td>2012.00</td>\n",
       "      <td>2013.0000</td>\n",
       "      <td>2013.000</td>\n",
       "      <td>2013.000</td>\n",
       "      <td>2014.00</td>\n",
       "    </tr>\n",
       "    <tr>\n",
       "      <th>Region_northwest</th>\n",
       "      <td>2500.0</td>\n",
       "      <td>0.170000</td>\n",
       "      <td>0.375708</td>\n",
       "      <td>0.00</td>\n",
       "      <td>0.0000</td>\n",
       "      <td>0.000</td>\n",
       "      <td>0.000</td>\n",
       "      <td>1.00</td>\n",
       "    </tr>\n",
       "    <tr>\n",
       "      <th>Region_southeast</th>\n",
       "      <td>2500.0</td>\n",
       "      <td>0.489600</td>\n",
       "      <td>0.499992</td>\n",
       "      <td>0.00</td>\n",
       "      <td>0.0000</td>\n",
       "      <td>0.000</td>\n",
       "      <td>1.000</td>\n",
       "      <td>1.00</td>\n",
       "    </tr>\n",
       "    <tr>\n",
       "      <th>Region_southwest</th>\n",
       "      <td>2500.0</td>\n",
       "      <td>0.066800</td>\n",
       "      <td>0.249725</td>\n",
       "      <td>0.00</td>\n",
       "      <td>0.0000</td>\n",
       "      <td>0.000</td>\n",
       "      <td>0.000</td>\n",
       "      <td>1.00</td>\n",
       "    </tr>\n",
       "    <tr>\n",
       "      <th>Marital_Status_Divorced</th>\n",
       "      <td>2500.0</td>\n",
       "      <td>0.092400</td>\n",
       "      <td>0.289648</td>\n",
       "      <td>0.00</td>\n",
       "      <td>0.0000</td>\n",
       "      <td>0.000</td>\n",
       "      <td>0.000</td>\n",
       "      <td>1.00</td>\n",
       "    </tr>\n",
       "    <tr>\n",
       "      <th>Marital_Status_Married</th>\n",
       "      <td>2500.0</td>\n",
       "      <td>0.366400</td>\n",
       "      <td>0.481917</td>\n",
       "      <td>0.00</td>\n",
       "      <td>0.0000</td>\n",
       "      <td>0.000</td>\n",
       "      <td>1.000</td>\n",
       "      <td>1.00</td>\n",
       "    </tr>\n",
       "    <tr>\n",
       "      <th>Marital_Status_Single</th>\n",
       "      <td>2500.0</td>\n",
       "      <td>0.238400</td>\n",
       "      <td>0.426190</td>\n",
       "      <td>0.00</td>\n",
       "      <td>0.0000</td>\n",
       "      <td>0.000</td>\n",
       "      <td>0.000</td>\n",
       "      <td>1.00</td>\n",
       "    </tr>\n",
       "    <tr>\n",
       "      <th>Marital_Status_Together</th>\n",
       "      <td>2500.0</td>\n",
       "      <td>0.242400</td>\n",
       "      <td>0.428621</td>\n",
       "      <td>0.00</td>\n",
       "      <td>0.0000</td>\n",
       "      <td>0.000</td>\n",
       "      <td>0.000</td>\n",
       "      <td>1.00</td>\n",
       "    </tr>\n",
       "    <tr>\n",
       "      <th>Marital_Status_Widow</th>\n",
       "      <td>2500.0</td>\n",
       "      <td>0.046000</td>\n",
       "      <td>0.209527</td>\n",
       "      <td>0.00</td>\n",
       "      <td>0.0000</td>\n",
       "      <td>0.000</td>\n",
       "      <td>0.000</td>\n",
       "      <td>1.00</td>\n",
       "    </tr>\n",
       "    <tr>\n",
       "      <th>Gender_M</th>\n",
       "      <td>2500.0</td>\n",
       "      <td>0.234000</td>\n",
       "      <td>0.423457</td>\n",
       "      <td>0.00</td>\n",
       "      <td>0.0000</td>\n",
       "      <td>0.000</td>\n",
       "      <td>0.000</td>\n",
       "      <td>1.00</td>\n",
       "    </tr>\n",
       "  </tbody>\n",
       "</table>\n",
       "</div>"
      ],
      "text/plain": [
       "                          count          mean           std      min  \\\n",
       "Year_Birth               2500.0   1966.727336     17.039107  1937.00   \n",
       "Smoker                   2500.0      0.298800      0.457824     0.00   \n",
       "Income                   2500.0  72018.704520  30890.417285     0.00   \n",
       "BMI                      2500.0     62.648904     66.824084     0.00   \n",
       "BSA                      2500.0     19.989200     10.951249     3.00   \n",
       "Expenses                 2500.0    654.829760    676.453079     8.32   \n",
       "Treatment                2500.0     50.982000     23.390283     2.00   \n",
       "Medication               2500.0      6.958800      7.836738     0.00   \n",
       "Medical_Assistance       2500.0     28.233200     12.617674     2.00   \n",
       "Exams                    2500.0      6.880800      7.633630     0.00   \n",
       "Ambulance_Transport      2500.0      6.929200      7.920940     0.00   \n",
       "Patient_Coverage         2500.0     42.077600     18.274582     5.00   \n",
       "Insurance_Coverage       2500.0     57.922400     18.274582    12.00   \n",
       "Insured_Satisfaction     2500.0      3.952800      1.141531     1.00   \n",
       "Health_Plan_Option       2500.0      2.000000      0.000000     2.00   \n",
       "Upgrade_Health_Plan      2500.0      0.070000      0.255198     0.00   \n",
       "Year_Hospitalization     2500.0   2013.018000      0.680780  2012.00   \n",
       "Region_northwest         2500.0      0.170000      0.375708     0.00   \n",
       "Region_southeast         2500.0      0.489600      0.499992     0.00   \n",
       "Region_southwest         2500.0      0.066800      0.249725     0.00   \n",
       "Marital_Status_Divorced  2500.0      0.092400      0.289648     0.00   \n",
       "Marital_Status_Married   2500.0      0.366400      0.481917     0.00   \n",
       "Marital_Status_Single    2500.0      0.238400      0.426190     0.00   \n",
       "Marital_Status_Together  2500.0      0.242400      0.428621     0.00   \n",
       "Marital_Status_Widow     2500.0      0.046000      0.209527     0.00   \n",
       "Gender_M                 2500.0      0.234000      0.423457     0.00   \n",
       "\n",
       "                                25%        50%        75%        max  \n",
       "Year_Birth                1952.0000   1966.000   1981.000    1997.00  \n",
       "Smoker                       0.0000      0.000      1.000       1.00  \n",
       "Income                   49277.2875  73320.975  96566.925  144204.90  \n",
       "BMI                         28.0000     56.000     76.000     549.00  \n",
       "BSA                         11.0000     18.000     28.000      58.00  \n",
       "Expenses                    66.5600    401.960   1069.120    3055.52  \n",
       "Treatment                   33.0000     51.000     70.000      98.00  \n",
       "Medication                   2.0000      4.000      9.000      68.00  \n",
       "Medical_Assistance          19.0000     27.000     37.000      69.00  \n",
       "Exams                        2.0000      4.000      9.000      54.00  \n",
       "Ambulance_Transport          1.0000      4.000     10.000      77.00  \n",
       "Patient_Coverage            27.0000     45.000     57.000      88.00  \n",
       "Insurance_Coverage          43.0000     55.000     73.000      95.00  \n",
       "Insured_Satisfaction         3.0000      4.000      5.000       6.00  \n",
       "Health_Plan_Option           2.0000      2.000      2.000       2.00  \n",
       "Upgrade_Health_Plan          0.0000      0.000      0.000       1.00  \n",
       "Year_Hospitalization      2013.0000   2013.000   2013.000    2014.00  \n",
       "Region_northwest             0.0000      0.000      0.000       1.00  \n",
       "Region_southeast             0.0000      0.000      1.000       1.00  \n",
       "Region_southwest             0.0000      0.000      0.000       1.00  \n",
       "Marital_Status_Divorced      0.0000      0.000      0.000       1.00  \n",
       "Marital_Status_Married       0.0000      0.000      1.000       1.00  \n",
       "Marital_Status_Single        0.0000      0.000      0.000       1.00  \n",
       "Marital_Status_Together      0.0000      0.000      0.000       1.00  \n",
       "Marital_Status_Widow         0.0000      0.000      0.000       1.00  \n",
       "Gender_M                     0.0000      0.000      0.000       1.00  "
      ]
     },
     "execution_count": 5,
     "metadata": {},
     "output_type": "execute_result"
    }
   ],
   "source": [
    "insurance.describe().T"
   ]
  },
  {
   "cell_type": "markdown",
   "metadata": {},
   "source": [
    "**Step 6 -** Use the method value_counts() to look at the class distribution of the dependent variable."
   ]
  },
  {
   "cell_type": "code",
   "execution_count": 6,
   "metadata": {},
   "outputs": [
    {
     "data": {
      "text/plain": [
       "Upgrade_Health_Plan\n",
       "0    2325\n",
       "1     175\n",
       "Name: count, dtype: int64"
      ]
     },
     "execution_count": 6,
     "metadata": {},
     "output_type": "execute_result"
    }
   ],
   "source": [
    "insurance['Upgrade_Health_Plan'].value_counts()"
   ]
  },
  {
   "cell_type": "markdown",
   "metadata": {},
   "source": [
    "## <font color='#BFD72F'> 1.4. Split the Data</font> <a class=\"anchor\" id=\"split\"></a>\n",
    "[Back to Contents](#toc)"
   ]
  },
  {
   "cell_type": "markdown",
   "metadata": {
    "id": "wO0CKyFa7p_s"
   },
   "source": [
    "**Step 7** - Define the independent variables as __X__ and the dependent variable as __y__. "
   ]
  },
  {
   "cell_type": "code",
   "execution_count": 7,
   "metadata": {
    "executionInfo": {
     "elapsed": 133,
     "status": "ok",
     "timestamp": 1684602614972,
     "user": {
      "displayName": "Joana Rafael",
      "userId": "05406048540139626792"
     },
     "user_tz": -60
    },
    "id": "l4qhx91i7p_s"
   },
   "outputs": [],
   "source": [
    "X = insurance.loc[:, insurance.columns != 'Upgrade_Health_Plan']\n",
    "y = insurance['Upgrade_Health_Plan']"
   ]
  },
  {
   "cell_type": "markdown",
   "metadata": {
    "id": "lnzP_DJ47p_u"
   },
   "source": [
    "**Step 8** - By using the method `train_test_split`, split the data into X_train, X_test, y_train and y_test, defining `test_size` as 30%, `random_state` equal to 150 and `stratify` by the target."
   ]
  },
  {
   "cell_type": "code",
   "execution_count": 8,
   "metadata": {
    "executionInfo": {
     "elapsed": 123,
     "status": "ok",
     "timestamp": 1684602614972,
     "user": {
      "displayName": "Joana Rafael",
      "userId": "05406048540139626792"
     },
     "user_tz": -60
    },
    "id": "jpbSq6ps7p_u"
   },
   "outputs": [],
   "source": [
    "X_train, X_test, y_train, y_test = train_test_split(X,\n",
    "                                                    y,\n",
    "                                                    test_size = 0.3, \n",
    "                                                    random_state = 150, \n",
    "                                                    shuffle = True, \n",
    "                                                    stratify = y)"
   ]
  },
  {
   "cell_type": "markdown",
   "metadata": {
    "id": "iWo7AfUY7p_v"
   },
   "source": [
    "## <font color='#BFD72F'> 1.5. Preparing Functions</font> <a class=\"anchor\" id=\"func\"></a>\n",
    "[Back to Contents](#toc)"
   ]
  },
  {
   "cell_type": "markdown",
   "metadata": {
    "id": "t2TmELGP7p_v"
   },
   "source": [
    "**Step 9** - Create a function named __avg_score__ that will return the average score value for the train and the test set by applying a certain neural network, besides that it should also count the amount of time the model takes to fit, and the number of iterations needed by the chosen neural network . The model should be received by the function as a parameter."
   ]
  },
  {
   "cell_type": "code",
   "execution_count": 9,
   "metadata": {
    "executionInfo": {
     "elapsed": 122,
     "status": "ok",
     "timestamp": 1684602614972,
     "user": {
      "displayName": "Joana Rafael",
      "userId": "05406048540139626792"
     },
     "user_tz": -60
    },
    "id": "3mgPHZZy7p_v"
   },
   "outputs": [],
   "source": [
    "def avg_score(model, number_splits):\n",
    "    \n",
    "    # create lists to store the results from the different neural networks \n",
    "    score_train = []\n",
    "    score_test = []\n",
    "    timer = []\n",
    "    n_iter = []\n",
    "    \n",
    "    # apply kfold with the pre-defined number_splits\n",
    "    kf = KFold(n_splits=number_splits)\n",
    "    \n",
    "    for train_index, test_index in kf.split(X):\n",
    "        \n",
    "        # get the indexes of the observations assigned for each partition\n",
    "        X_train, X_test = X.iloc[train_index], X.iloc[test_index]\n",
    "        y_train, y_test = y.iloc[train_index], y.iloc[test_index]\n",
    "        \n",
    "        #---> start counting time\n",
    "        begin = time.perf_counter()\n",
    "        \n",
    "        # fit the model to the data\n",
    "        model.fit(X_train, y_train)\n",
    "        \n",
    "        #---> finish counting time\n",
    "        end = time.perf_counter()\n",
    "        \n",
    "        # check the mean accuracy for the train\n",
    "        value_train = model.score(X_train, y_train)\n",
    "        # check the mean accuracy for the test\n",
    "        value_test = model.score(X_test,y_test)\n",
    "        \n",
    "        # append the accuracies, the time and the number of iterations in the corresponding list\n",
    "        score_train.append(value_train)\n",
    "        score_test.append(value_test)\n",
    "        timer.append(end-begin)\n",
    "        n_iter.append(model.n_iter_)\n",
    "        \n",
    "    # calculate the average and the std for each measure (accuracy, time and number of iterations)\n",
    "    ### AVG\n",
    "    avg_time = round(np.mean(timer),3)\n",
    "    avg_train = round(np.mean(score_train),3)\n",
    "    avg_test = round(np.mean(score_test),3)\n",
    "    avg_iter = round(np.mean(n_iter),1)\n",
    "    ### STD\n",
    "    std_time = round(np.std(timer),2)\n",
    "    std_train = round(np.std(score_train),2)\n",
    "    std_test = round(np.std(score_test),2)\n",
    "    std_iter = round(np.std(n_iter),1)\n",
    "    \n",
    "    return str(avg_time) + '+/-' + str(std_time), str(avg_train) + '+/-' + str(std_train),\\\n",
    "str(avg_test) + '+/-' + str(std_test), str(avg_iter) + '+/-' + str(std_iter)"
   ]
  },
  {
   "cell_type": "markdown",
   "metadata": {
    "id": "JJ7WxieW7p_v"
   },
   "source": [
    "**Step 10** - Create a function named __show_results__ that will return the average score for the train and test dataset (returned from the function __avg_score__) for several given models."
   ]
  },
  {
   "cell_type": "code",
   "execution_count": 10,
   "metadata": {
    "executionInfo": {
     "elapsed": 122,
     "status": "ok",
     "timestamp": 1684602614973,
     "user": {
      "displayName": "Joana Rafael",
      "userId": "05406048540139626792"
     },
     "user_tz": -60
    },
    "id": "sCkmBXYD7p_w"
   },
   "outputs": [],
   "source": [
    "def show_results(df, *args, number_splits):\n",
    "    \"\"\"\n",
    "    Receive an empty dataframe and the different models and call the function avg_score\n",
    "    \"\"\"\n",
    "    count = 0\n",
    "    # for each model passed as argument\n",
    "    for arg in args:\n",
    "        # obtain the results provided by avg_score\n",
    "        time, avg_train, avg_test, avg_iter = avg_score(arg, number_splits)\n",
    "        # store the results in the right row\n",
    "        df.iloc[count] = time, avg_train, avg_test, avg_iter\n",
    "        count+=1\n",
    "    return df"
   ]
  },
  {
   "cell_type": "markdown",
   "metadata": {
    "id": "c3DbXe5I7p_w"
   },
   "source": [
    "# <font color='#BFD72F'>2. Neural Networks</font> <a class=\"anchor\" id=\"nn\"></a>\n",
    "[Back to Contents](#toc)\n",
    "\n",
    "Neural network is a type of machine learning model that's designed to mimic the way the human brain works.<br>\n",
    "It can be used for a wide range of tasks, such as recognizing images, understanding natural language, playing games, making medical diagnoses, etc.\n",
    "\n",
    "\n",
    "<font size=6>The Structure of Neural Network</font>\n",
    "\n",
    "Neural Networks are composed of layers of nodes, or \"neurons,\" each of which performs a simple computation and passes the results to the next layer.<br>\n",
    "\n",
    "__Input Layer__: This is the initial data for the network. Each node in this layer represents a feature of the input data.<br>\n",
    "\n",
    "__Hidden Layer__: These are the layers between the input and output layer. They are referred to as \"hidden\" because we don't see their input-output relationships directly from the data; they are internally computed. The nodes in these layers apply weights to the inputs and pass them through an `activation function`, which decides whether a neuron should be activated based on the weighted sum.<br>\n",
    "\n",
    "__Output Layer__ The output layer produces the final predictions or classifications made by the network. The structure of the output layer depends on the type of problem. For instance, for a __binary classification__ problem, the output layer would have one neuron with a `sigmoid activation function` to predict two classes.\n",
    "For a __multi-class problem__, the output layer would have as many neurons as the number of classes with a `softmax activation function` to predict probabilities of different classes.\n",
    "\n",
    "\n",
    "A neural network learns by adjusting the weights applied in the hidden layers. During the training process, the network is given a set of inputs and the desired outputs. It makes a prediction based on the current weights, and then adjusts the weights to minimize the difference between the predicted and actual outputs. This process is usually accomplished through a method called __backpropagation__ and an __optimization strategy__ like stochastic gradient descent."
   ]
  },
  {
   "cell_type": "markdown",
   "metadata": {
    "id": "T7DJWRc67p_w"
   },
   "source": [
    "<img src=\"images/neuralnetwork.gif\" width=\"400px\"> <img name=\"neuralnetwork.gif\">"
   ]
  },
  {
   "cell_type": "markdown",
   "metadata": {
    "id": "WM4LRA027p_w"
   },
   "source": [
    "**Step 11** - Create an instance of MLPClassifier with the default parameters and name it as __model__. Check the results using the above created functions."
   ]
  },
  {
   "cell_type": "code",
   "execution_count": 11,
   "metadata": {
    "colab": {
     "base_uri": "https://localhost:8080/",
     "height": 80
    },
    "executionInfo": {
     "elapsed": 3030,
     "status": "ok",
     "timestamp": 1684602617881,
     "user": {
      "displayName": "Joana Rafael",
      "userId": "05406048540139626792"
     },
     "user_tz": -60
    },
    "id": "jqs2KUki7p_x",
    "outputId": "f5f1dc9b-d778-4332-e31c-30959e1f0f17"
   },
   "outputs": [
    {
     "data": {
      "text/html": [
       "<div>\n",
       "<style scoped>\n",
       "    .dataframe tbody tr th:only-of-type {\n",
       "        vertical-align: middle;\n",
       "    }\n",
       "\n",
       "    .dataframe tbody tr th {\n",
       "        vertical-align: top;\n",
       "    }\n",
       "\n",
       "    .dataframe thead th {\n",
       "        text-align: right;\n",
       "    }\n",
       "</style>\n",
       "<table border=\"1\" class=\"dataframe\">\n",
       "  <thead>\n",
       "    <tr style=\"text-align: right;\">\n",
       "      <th></th>\n",
       "      <th>Time</th>\n",
       "      <th>Train</th>\n",
       "      <th>Test</th>\n",
       "      <th>Iterations</th>\n",
       "    </tr>\n",
       "  </thead>\n",
       "  <tbody>\n",
       "    <tr>\n",
       "      <th>Raw</th>\n",
       "      <td>0.635+/-0.27</td>\n",
       "      <td>0.86+/-0.07</td>\n",
       "      <td>0.855+/-0.07</td>\n",
       "      <td>26.0+/-8.3</td>\n",
       "    </tr>\n",
       "  </tbody>\n",
       "</table>\n",
       "</div>"
      ],
      "text/plain": [
       "             Time        Train          Test  Iterations\n",
       "Raw  0.635+/-0.27  0.86+/-0.07  0.855+/-0.07  26.0+/-8.3"
      ]
     },
     "execution_count": 11,
     "metadata": {},
     "output_type": "execute_result"
    }
   ],
   "source": [
    "model = MLPClassifier()\n",
    "df = pd.DataFrame(columns = ['Time','Train','Test', 'Iterations'], index = ['Raw'])\n",
    "show_results(df, model, number_splits=10)"
   ]
  },
  {
   "cell_type": "markdown",
   "metadata": {
    "id": "V8e3-0Mn7p_x"
   },
   "source": [
    "## <font color='#BFD72F' id=\"hidden\"> 2.1. The hidden layer size </font>\n",
    "[Back to Contents](#toc)\n",
    "\n",
    "__Number of hidden layers and neurons by default = (100,)__"
   ]
  },
  {
   "cell_type": "markdown",
   "metadata": {
    "id": "t6MSKmzm7p_x"
   },
   "source": [
    "__The number of hidden layers__: <br>\n",
    "-\tIncreasing the number of hidden layers might or might not improve the accuracy, it depends on the complexity of the problem\n",
    "-\tIncreasing the number of hidden layers more than needed will cause overfit on the training set and a decrease in the accuracy value for the test set\n",
    "\n",
    "__The number of hidden units__: <br>\n",
    "-\tUsing too few neurons in the hidden layers will result in underfitting\n",
    "-\tUsing too many neurons in the hidden layer may result in overfitting and increases the training time of the neural network\n",
    "\n",
    "The aim is to keep a good trade-off between the simplicity of the model and the performance accuracy! <br>\n",
    "<div class=\"alert alert-success\">Different rules of thumb exist (take them with a grain of salt): <br>\n",
    "\n",
    "-\tThe number of hidden neurons should be __between the size of the input layer and the size of the output layer__\n",
    "-\tThe number of hidden neurons should be __2/3 the size of the input layer, plus the size of the output layer__\n",
    "-\tThe number of hidden neurons should be __less than twice the size of the input layer__</div>\n",
    "\n",
    "\n"
   ]
  },
  {
   "cell_type": "markdown",
   "metadata": {
    "id": "Vbr1KQVX7p_y"
   },
   "source": [
    "**Step 12** - Create an `MLPClassifier` with one hidden layer and one neuron and name it __model_simple__."
   ]
  },
  {
   "cell_type": "code",
   "execution_count": 12,
   "metadata": {
    "executionInfo": {
     "elapsed": 131,
     "status": "ok",
     "timestamp": 1684602638308,
     "user": {
      "displayName": "Joana Rafael",
      "userId": "05406048540139626792"
     },
     "user_tz": -60
    },
    "id": "Tzc6lUI77p_y"
   },
   "outputs": [],
   "source": [
    "model_simple = MLPClassifier(hidden_layer_sizes=(1))"
   ]
  },
  {
   "cell_type": "markdown",
   "metadata": {
    "id": "N_RUtRV87p_y"
   },
   "source": [
    "**Step 13** - Create an `MLPClassifier` with one hidden layer and 10 neurons and name it __model_medium__."
   ]
  },
  {
   "cell_type": "code",
   "execution_count": 13,
   "metadata": {
    "executionInfo": {
     "elapsed": 127,
     "status": "ok",
     "timestamp": 1684602638309,
     "user": {
      "displayName": "Joana Rafael",
      "userId": "05406048540139626792"
     },
     "user_tz": -60
    },
    "id": "G2b-EGTs7p_z"
   },
   "outputs": [],
   "source": [
    "model_medium = MLPClassifier(hidden_layer_sizes=(10))"
   ]
  },
  {
   "cell_type": "markdown",
   "metadata": {
    "id": "y5MIDUBe7p_0"
   },
   "source": [
    "**Step 14** - Create an `MLPClassifier` with four hidden layers and 100 neurons each and name it __model_complex__."
   ]
  },
  {
   "cell_type": "code",
   "execution_count": 14,
   "metadata": {
    "executionInfo": {
     "elapsed": 126,
     "status": "ok",
     "timestamp": 1684602638309,
     "user": {
      "displayName": "Joana Rafael",
      "userId": "05406048540139626792"
     },
     "user_tz": -60
    },
    "id": "O193f8tX7p_0"
   },
   "outputs": [],
   "source": [
    "model_complex = MLPClassifier(hidden_layer_sizes = (100,100,100,100))"
   ]
  },
  {
   "cell_type": "markdown",
   "metadata": {
    "id": "0Z2XIjrq7p_1"
   },
   "source": [
    "**Step 15** - Check the mean accuracy of each model by calling the function _show_results_ and pass as arguments the dataset and the three models."
   ]
  },
  {
   "cell_type": "code",
   "execution_count": 15,
   "metadata": {
    "colab": {
     "base_uri": "https://localhost:8080/",
     "height": 142
    },
    "executionInfo": {
     "elapsed": 14932,
     "status": "ok",
     "timestamp": 1684602653115,
     "user": {
      "displayName": "Joana Rafael",
      "userId": "05406048540139626792"
     },
     "user_tz": -60
    },
    "id": "bF6P_6Gz7p_2",
    "outputId": "55184225-ea8f-4b33-c52b-a0f39252f6d2"
   },
   "outputs": [
    {
     "data": {
      "text/html": [
       "<div>\n",
       "<style scoped>\n",
       "    .dataframe tbody tr th:only-of-type {\n",
       "        vertical-align: middle;\n",
       "    }\n",
       "\n",
       "    .dataframe tbody tr th {\n",
       "        vertical-align: top;\n",
       "    }\n",
       "\n",
       "    .dataframe thead th {\n",
       "        text-align: right;\n",
       "    }\n",
       "</style>\n",
       "<table border=\"1\" class=\"dataframe\">\n",
       "  <thead>\n",
       "    <tr style=\"text-align: right;\">\n",
       "      <th></th>\n",
       "      <th>Time</th>\n",
       "      <th>Train</th>\n",
       "      <th>Test</th>\n",
       "      <th>Iterations</th>\n",
       "    </tr>\n",
       "  </thead>\n",
       "  <tbody>\n",
       "    <tr>\n",
       "      <th>Simple</th>\n",
       "      <td>0.596+/-0.36</td>\n",
       "      <td>0.677+/-0.39</td>\n",
       "      <td>0.668+/-0.39</td>\n",
       "      <td>138.2+/-78.8</td>\n",
       "    </tr>\n",
       "    <tr>\n",
       "      <th>Medium</th>\n",
       "      <td>0.139+/-0.08</td>\n",
       "      <td>0.873+/-0.04</td>\n",
       "      <td>0.87+/-0.05</td>\n",
       "      <td>33.1+/-26.2</td>\n",
       "    </tr>\n",
       "    <tr>\n",
       "      <th>Complex</th>\n",
       "      <td>2.157+/-0.82</td>\n",
       "      <td>0.857+/-0.14</td>\n",
       "      <td>0.847+/-0.15</td>\n",
       "      <td>30.3+/-13.0</td>\n",
       "    </tr>\n",
       "  </tbody>\n",
       "</table>\n",
       "</div>"
      ],
      "text/plain": [
       "                 Time         Train          Test    Iterations\n",
       "Simple   0.596+/-0.36  0.677+/-0.39  0.668+/-0.39  138.2+/-78.8\n",
       "Medium   0.139+/-0.08  0.873+/-0.04   0.87+/-0.05   33.1+/-26.2\n",
       "Complex  2.157+/-0.82  0.857+/-0.14  0.847+/-0.15   30.3+/-13.0"
      ]
     },
     "execution_count": 15,
     "metadata": {},
     "output_type": "execute_result"
    }
   ],
   "source": [
    "df = pd.DataFrame(columns = ['Time','Train','Test', 'Iterations'], index = ['Simple','Medium','Complex'])\n",
    "show_results(df, model_simple, model_medium, model_complex,number_splits= 10)"
   ]
  },
  {
   "cell_type": "markdown",
   "metadata": {
    "id": "D-C6WZYz7p_2"
   },
   "source": [
    "While the results may differ in different runs, at the end will arive at the following conclusions:\n",
    "- The more complex the model, the higher the running time;\n",
    "- We can boost the performance of our model by correctly adjusting the complexity of it - too simple and it will underfit, too complex and it might overfit."
   ]
  },
  {
   "cell_type": "markdown",
   "metadata": {
    "id": "Bi9-qNuo7p_2"
   },
   "source": [
    "## <font color='#BFD72F' id=\"activation\"> 2.2. The activation function</font>\n",
    "[Back to Contents](#toc)\n",
    "\n",
    "__(default = 'relu')__\n",
    "\n",
    "Check this <a href=\"https://www.analyticsvidhya.com/blog/2021/04/activation-functions-and-their-derivatives-a-quick-complete-guide/\">link</a> for more information regarding the advantages and disadvantages of different activation functions."
   ]
  },
  {
   "cell_type": "markdown",
   "metadata": {
    "id": "IwgzjXNe7p_3"
   },
   "source": [
    "<img src=\"images/activation.png\" width=\"400px\"> <img name=\"activation.png\">"
   ]
  },
  {
   "cell_type": "markdown",
   "metadata": {
    "id": "chr77uHn7p_3"
   },
   "source": [
    "**Step 16** - Create an instance of `MLPClassifier`, define the activation as _relu_ and name it as __model_relu__."
   ]
  },
  {
   "cell_type": "code",
   "execution_count": 16,
   "metadata": {
    "executionInfo": {
     "elapsed": 318,
     "status": "ok",
     "timestamp": 1684602653116,
     "user": {
      "displayName": "Joana Rafael",
      "userId": "05406048540139626792"
     },
     "user_tz": -60
    },
    "id": "EflS25le7p_4"
   },
   "outputs": [],
   "source": [
    "model_relu = MLPClassifier(activation = 'relu')"
   ]
  },
  {
   "cell_type": "markdown",
   "metadata": {
    "id": "bm4E_bxE7p_4"
   },
   "source": [
    " - __Advantages:__\n",
    "     - Computationally efficient - allows the network to converge very quickly.\n",
    " - __Disadvantages:__\n",
    "     - The dying ReLU problem - When inputs approach zero, or are negative, the gradient of the function becomes zero and the network cannot perform backpropagation and cannot learn."
   ]
  },
  {
   "cell_type": "markdown",
   "metadata": {
    "id": "U5boVyxd7p_5"
   },
   "source": [
    "**Step 16.1** - Use the `.activation` attribute to check the activation function used for hidden layer."
   ]
  },
  {
   "cell_type": "code",
   "execution_count": 17,
   "metadata": {
    "colab": {
     "base_uri": "https://localhost:8080/",
     "height": 35
    },
    "executionInfo": {
     "elapsed": 317,
     "status": "ok",
     "timestamp": 1684602653117,
     "user": {
      "displayName": "Joana Rafael",
      "userId": "05406048540139626792"
     },
     "user_tz": -60
    },
    "id": "k6rg2Neo7p_5",
    "outputId": "d7b29551-090f-4d2f-fcd7-5d941cfdd46b",
    "scrolled": false
   },
   "outputs": [
    {
     "data": {
      "text/plain": [
       "'relu'"
      ]
     },
     "execution_count": 17,
     "metadata": {},
     "output_type": "execute_result"
    }
   ],
   "source": [
    "model_relu.activation"
   ]
  },
  {
   "cell_type": "markdown",
   "metadata": {
    "id": "9ZwjEqVu7p_6"
   },
   "source": [
    "**Step 17** - Create an instance of `MLPClassifier`, define the activation as _logistic_ (sigmoid) and name it as __model_logistic__."
   ]
  },
  {
   "cell_type": "code",
   "execution_count": 18,
   "metadata": {
    "executionInfo": {
     "elapsed": 314,
     "status": "ok",
     "timestamp": 1684602653117,
     "user": {
      "displayName": "Joana Rafael",
      "userId": "05406048540139626792"
     },
     "user_tz": -60
    },
    "id": "Iw_jhXtx7p_6"
   },
   "outputs": [],
   "source": [
    "model_logistic = MLPClassifier(activation = 'logistic')"
   ]
  },
  {
   "cell_type": "markdown",
   "metadata": {
    "id": "FdAF77bX7p_6"
   },
   "source": [
    " - __Advantages:__\n",
    "     - Smooth gradient, preventing “jumps” in output values.\n",
    "     - Output values bound between 0 and 1, normalizing the output of each neuron.\n",
    " - __Disadvantages:__\n",
    "     - Vanishing gradient—for very high or very low values of X, there is almost no change to the prediction, causing a vanishing gradient problem. This can result in the network refusing to learn further, or have slow convergence.\n",
    "     - Computationally expensive."
   ]
  },
  {
   "cell_type": "markdown",
   "metadata": {
    "id": "oa37_mAl7p_7"
   },
   "source": [
    "**Step 18** - Create an instance of `MLPClassifier`, define the activation as _tanh_ and name it as __model_tanh__."
   ]
  },
  {
   "cell_type": "code",
   "execution_count": 19,
   "metadata": {
    "executionInfo": {
     "elapsed": 314,
     "status": "ok",
     "timestamp": 1684602653118,
     "user": {
      "displayName": "Joana Rafael",
      "userId": "05406048540139626792"
     },
     "user_tz": -60
    },
    "id": "pUEQmS4T7p_7"
   },
   "outputs": [],
   "source": [
    "model_tanh = MLPClassifier(activation = 'tanh')"
   ]
  },
  {
   "cell_type": "markdown",
   "metadata": {
    "id": "iBhbG9yf7p_7"
   },
   "source": [
    " - __Advantages:__\n",
    "     - Zero centered - making it easier to model inputs that have strongly negative, neutral and strongly positive values. Other than that it is similar to the sigmoid function. <br>\n",
    " - __Disadvantages:__\n",
    "     - Same as with the sigmoid function."
   ]
  },
  {
   "cell_type": "markdown",
   "metadata": {
    "id": "f_L5z5nT7p_7"
   },
   "source": [
    "**Step 19** - Check the mean accuracy of each model by calling the function _show_results_ and pass as arguments the dataset and the three models."
   ]
  },
  {
   "cell_type": "code",
   "execution_count": 20,
   "metadata": {
    "colab": {
     "base_uri": "https://localhost:8080/",
     "height": 142
    },
    "executionInfo": {
     "elapsed": 16200,
     "status": "ok",
     "timestamp": 1684602669005,
     "user": {
      "displayName": "Joana Rafael",
      "userId": "05406048540139626792"
     },
     "user_tz": -60
    },
    "id": "j0LVTiAh7p_8",
    "outputId": "ea9cbdba-75da-43bd-b81f-9b0ca15936ff"
   },
   "outputs": [
    {
     "data": {
      "text/html": [
       "<div>\n",
       "<style scoped>\n",
       "    .dataframe tbody tr th:only-of-type {\n",
       "        vertical-align: middle;\n",
       "    }\n",
       "\n",
       "    .dataframe tbody tr th {\n",
       "        vertical-align: top;\n",
       "    }\n",
       "\n",
       "    .dataframe thead th {\n",
       "        text-align: right;\n",
       "    }\n",
       "</style>\n",
       "<table border=\"1\" class=\"dataframe\">\n",
       "  <thead>\n",
       "    <tr style=\"text-align: right;\">\n",
       "      <th></th>\n",
       "      <th>Time</th>\n",
       "      <th>Train</th>\n",
       "      <th>Test</th>\n",
       "      <th>Iterations</th>\n",
       "    </tr>\n",
       "  </thead>\n",
       "  <tbody>\n",
       "    <tr>\n",
       "      <th>relu</th>\n",
       "      <td>0.418+/-0.18</td>\n",
       "      <td>0.925+/-0.01</td>\n",
       "      <td>0.916+/-0.02</td>\n",
       "      <td>27.6+/-11.5</td>\n",
       "    </tr>\n",
       "    <tr>\n",
       "      <th>logistic</th>\n",
       "      <td>0.738+/-0.15</td>\n",
       "      <td>0.93+/-0.0</td>\n",
       "      <td>0.93+/-0.02</td>\n",
       "      <td>28.4+/-7.7</td>\n",
       "    </tr>\n",
       "    <tr>\n",
       "      <th>tanh</th>\n",
       "      <td>0.41+/-0.12</td>\n",
       "      <td>0.93+/-0.0</td>\n",
       "      <td>0.93+/-0.02</td>\n",
       "      <td>26.2+/-9.3</td>\n",
       "    </tr>\n",
       "  </tbody>\n",
       "</table>\n",
       "</div>"
      ],
      "text/plain": [
       "                  Time         Train          Test   Iterations\n",
       "relu      0.418+/-0.18  0.925+/-0.01  0.916+/-0.02  27.6+/-11.5\n",
       "logistic  0.738+/-0.15    0.93+/-0.0   0.93+/-0.02   28.4+/-7.7\n",
       "tanh       0.41+/-0.12    0.93+/-0.0   0.93+/-0.02   26.2+/-9.3"
      ]
     },
     "execution_count": 20,
     "metadata": {},
     "output_type": "execute_result"
    }
   ],
   "source": [
    "df = pd.DataFrame(columns = ['Time','Train','Test', 'Iterations'], index = ['relu','logistic','tanh'])\n",
    "show_results(df, model_relu, model_logistic, model_tanh, number_splits= 10)"
   ]
  },
  {
   "cell_type": "markdown",
   "metadata": {
    "id": "giJD0mjB7p_8"
   },
   "source": [
    "Checking the results, we can identify some evidences:\n",
    "- Relu tends to be faster than logistic or tanh.\n",
    "- Sigmoid functions and their variations (such as tanh) generally work better in the case of classification problems."
   ]
  },
  {
   "cell_type": "markdown",
   "metadata": {
    "id": "jY3D2eamIrfg"
   },
   "source": [
    "**Step 19.1** - Use the `out_activation_` attribute to check the activation function used for the output layer. <br> \n",
    "Note: you can see this attribute after fitting the model to the data ex:  model.fit(X_train, y_train)."
   ]
  },
  {
   "cell_type": "code",
   "execution_count": 21,
   "metadata": {
    "colab": {
     "base_uri": "https://localhost:8080/",
     "height": 35
    },
    "executionInfo": {
     "elapsed": 235,
     "status": "ok",
     "timestamp": 1684602669007,
     "user": {
      "displayName": "Joana Rafael",
      "userId": "05406048540139626792"
     },
     "user_tz": -60
    },
    "id": "r0PTUErSIw_A",
    "outputId": "e97c703d-9c49-4ff7-ba3a-679ad855e479"
   },
   "outputs": [
    {
     "data": {
      "text/plain": [
       "'logistic'"
      ]
     },
     "execution_count": 21,
     "metadata": {},
     "output_type": "execute_result"
    }
   ],
   "source": [
    "model_relu.out_activation_"
   ]
  },
  {
   "cell_type": "markdown",
   "metadata": {
    "id": "1vecwRp67p_8"
   },
   "source": [
    "## <font color='#BFD72F' id=\"solver\"> 2.3. The solver </font>\n",
    "[Back to Contents](#toc)\n",
    "\n",
    "__default = 'adam'__\n",
    "\n",
    "For more information check this <a href=\"http://www.robotics.stanford.edu/~ang/papers/icml11-OptimizationForDeepLearning.pdf\">paper</a>."
   ]
  },
  {
   "cell_type": "markdown",
   "metadata": {
    "id": "wIMch4yO7p_8"
   },
   "source": [
    "**Step 20** - Create an instance of `MLPClassifier`, define the solver as _sgd_ and name ir as __model_sgd__."
   ]
  },
  {
   "cell_type": "code",
   "execution_count": 22,
   "metadata": {
    "executionInfo": {
     "elapsed": 227,
     "status": "ok",
     "timestamp": 1684602669007,
     "user": {
      "displayName": "Joana Rafael",
      "userId": "05406048540139626792"
     },
     "user_tz": -60
    },
    "id": "4Oe_2Y_O7p_8"
   },
   "outputs": [],
   "source": [
    "model_sgd = MLPClassifier(solver = 'sgd')"
   ]
  },
  {
   "cell_type": "markdown",
   "metadata": {
    "id": "5zlHxxk_7p_9"
   },
   "source": [
    "Notes:\n",
    "- While Gradient Descent use the whole training data to do a single update, in SGD a random data point of the training data to update the parameters - SGD is faster than GD.\n",
    "- It uses a common learning rate for all parameters, contrarialy to what happens in Adam."
   ]
  },
  {
   "cell_type": "markdown",
   "metadata": {
    "id": "hw-jK8967p_9"
   },
   "source": [
    "**Step 21** - Create an instance of `MLPClassifier`, define the solver as _adam_ and name it as __model_adam__. \n",
    "<br>\n",
    "\n",
    "When to use: It achieves good results fast, therefore is a good option for complex models, if processing time is an issue."
   ]
  },
  {
   "cell_type": "code",
   "execution_count": 23,
   "metadata": {
    "executionInfo": {
     "elapsed": 227,
     "status": "ok",
     "timestamp": 1684602669008,
     "user": {
      "displayName": "Joana Rafael",
      "userId": "05406048540139626792"
     },
     "user_tz": -60
    },
    "id": "-Xah6NaQ7p_9"
   },
   "outputs": [],
   "source": [
    "model_adam = MLPClassifier(solver = 'adam')"
   ]
  },
  {
   "cell_type": "markdown",
   "metadata": {
    "id": "kxj2fyAy7p_9"
   },
   "source": [
    "Notes:\n",
    "- It computes individual adaptive learning rates for different parameters.\n",
    "- Adam combines the advantages of RMSProp and AdaGrad."
   ]
  },
  {
   "cell_type": "markdown",
   "metadata": {
    "id": "872BfluV7p_9"
   },
   "source": [
    "**Step 22** - Check the mean accuracy of each model by calling the function _show_results_ and pass as arguments the dataset and the three models."
   ]
  },
  {
   "cell_type": "code",
   "execution_count": 24,
   "metadata": {
    "colab": {
     "base_uri": "https://localhost:8080/",
     "height": 111
    },
    "executionInfo": {
     "elapsed": 6137,
     "status": "ok",
     "timestamp": 1684602674919,
     "user": {
      "displayName": "Joana Rafael",
      "userId": "05406048540139626792"
     },
     "user_tz": -60
    },
    "id": "Uo4nh-p-7p_-",
    "outputId": "293de099-3c3a-4994-c5b9-c96ab85c3d9d"
   },
   "outputs": [
    {
     "data": {
      "text/html": [
       "<div>\n",
       "<style scoped>\n",
       "    .dataframe tbody tr th:only-of-type {\n",
       "        vertical-align: middle;\n",
       "    }\n",
       "\n",
       "    .dataframe tbody tr th {\n",
       "        vertical-align: top;\n",
       "    }\n",
       "\n",
       "    .dataframe thead th {\n",
       "        text-align: right;\n",
       "    }\n",
       "</style>\n",
       "<table border=\"1\" class=\"dataframe\">\n",
       "  <thead>\n",
       "    <tr style=\"text-align: right;\">\n",
       "      <th></th>\n",
       "      <th>Time</th>\n",
       "      <th>Train</th>\n",
       "      <th>Test</th>\n",
       "      <th>Iterations</th>\n",
       "    </tr>\n",
       "  </thead>\n",
       "  <tbody>\n",
       "    <tr>\n",
       "      <th>sgd</th>\n",
       "      <td>0.228+/-0.05</td>\n",
       "      <td>0.93+/-0.0</td>\n",
       "      <td>0.93+/-0.02</td>\n",
       "      <td>12.1+/-0.3</td>\n",
       "    </tr>\n",
       "    <tr>\n",
       "      <th>adam</th>\n",
       "      <td>0.905+/-0.27</td>\n",
       "      <td>0.895+/-0.08</td>\n",
       "      <td>0.898+/-0.07</td>\n",
       "      <td>26.1+/-9.4</td>\n",
       "    </tr>\n",
       "  </tbody>\n",
       "</table>\n",
       "</div>"
      ],
      "text/plain": [
       "              Time         Train          Test  Iterations\n",
       "sgd   0.228+/-0.05    0.93+/-0.0   0.93+/-0.02  12.1+/-0.3\n",
       "adam  0.905+/-0.27  0.895+/-0.08  0.898+/-0.07  26.1+/-9.4"
      ]
     },
     "execution_count": 24,
     "metadata": {},
     "output_type": "execute_result"
    }
   ],
   "source": [
    "df = pd.DataFrame(columns = ['Time','Train','Test', 'Iterations'], index = ['sgd','adam'])\n",
    "show_results(df, model_sgd, model_adam,number_splits= 10)"
   ]
  },
  {
   "cell_type": "markdown",
   "metadata": {
    "id": "psR6Ikhc7p_-"
   },
   "source": [
    "In sklearn, the number of iterations for __sgd__ and __adam__ correspond to the number of epochs (an epoch consists of one full cycle through the training data)."
   ]
  },
  {
   "cell_type": "markdown",
   "metadata": {},
   "source": [
    "<img src=\"images/optimizers.gif\" width=\"500px\"> <img name=\"optimizers.gif\">\n",
    "\n",
    "For more information check this <a href=\"https://www.analyticsvidhya.com/blog/2021/10/a-comprehensive-guide-on-deep-learning-optimizers/\">webpage</a>.\n"
   ]
  },
  {
   "cell_type": "markdown",
   "metadata": {
    "id": "T4uOXQ1P7p_-"
   },
   "source": [
    "## <font color='#BFD72F' id=\"lr_init\"> 2.4. The learning rate initialization </font>\n",
    "[Back to Contents](#toc)\n",
    "\n",
    "__Only for sgd and adam (default = 0.001)__\n",
    "\n",
    "The learning rate is one of the most important hyper-parameters to tune for training deep neural networks:\n",
    "\n",
    "__Small LR__:\n",
    "- If the learning rate is small, then training is more reliable, but optimization will take a lot of time because steps towards the minimum of the loss function are tiny - a smaller learning rate may allow the model to learn a more optimal or even globally optimal set of weights but may take significantly longer to train.\n",
    "- A learning rate that is too small may never converge or may get stuck on a suboptimal solution.\n",
    "\n",
    "__Big LR__:\n",
    "- If the learning rate is high, then training may not converge or even diverge. Weight changes can be so big that the optimizer overshoots the minimum and makes the loss worse - a large learning rate allows the model to learn faster, at the cost of arriving on a sub-optimal final set of weights.\n",
    "\n",
    "The training should start with a relatively large learning rate because, in the beginning, random weights are far from optimal, and then the learning rate should decrease during training to allow for more fine-grained weight updates.\n",
    "\n",
    "\n",
    "<img src=\"images/lr.png\" width=\"800px\"> <img name=\"lr.png\">"
   ]
  },
  {
   "cell_type": "markdown",
   "metadata": {
    "id": "qZm0ccwd7p__"
   },
   "source": [
    "**Step 23** - Create an instance of `MLPClassifier`, define the solver as _sgd_, the learning_rate_init as _0.5_ and name it as __model_lr_big__."
   ]
  },
  {
   "cell_type": "code",
   "execution_count": 25,
   "metadata": {
    "executionInfo": {
     "elapsed": 122,
     "status": "ok",
     "timestamp": 1684602678253,
     "user": {
      "displayName": "Joana Rafael",
      "userId": "05406048540139626792"
     },
     "user_tz": -60
    },
    "id": "7Fpsq9wh7p__"
   },
   "outputs": [],
   "source": [
    "model_lr_big = MLPClassifier(solver = 'sgd', learning_rate_init = 0.5)"
   ]
  },
  {
   "cell_type": "markdown",
   "metadata": {
    "id": "17BDvEDr7p__"
   },
   "source": [
    "**Step 24** - Create an instance of `MLPClassifier`, define the solver as _sgd_, the learning_rate_init as _0.001_ and name it as __model_lr_medium__."
   ]
  },
  {
   "cell_type": "code",
   "execution_count": 26,
   "metadata": {
    "executionInfo": {
     "elapsed": 120,
     "status": "ok",
     "timestamp": 1684602678254,
     "user": {
      "displayName": "Joana Rafael",
      "userId": "05406048540139626792"
     },
     "user_tz": -60
    },
    "id": "2uyi6gEg7p__"
   },
   "outputs": [],
   "source": [
    "model_lr_medium = MLPClassifier(solver = 'sgd', learning_rate_init = 0.001)"
   ]
  },
  {
   "cell_type": "markdown",
   "metadata": {
    "id": "P4stV57o7qAA"
   },
   "source": [
    "**Step 25** - Create an instance of `MLPClassifier`, define the solver as _sgd_, the learning_rate_init as _0.000001_ and name it as __model_lr_small__."
   ]
  },
  {
   "cell_type": "code",
   "execution_count": 27,
   "metadata": {
    "executionInfo": {
     "elapsed": 119,
     "status": "ok",
     "timestamp": 1684602678255,
     "user": {
      "displayName": "Joana Rafael",
      "userId": "05406048540139626792"
     },
     "user_tz": -60
    },
    "id": "4U8H8Acc7qAA"
   },
   "outputs": [],
   "source": [
    "model_lr_small = MLPClassifier(solver = 'sgd', learning_rate_init = 0.000001)"
   ]
  },
  {
   "cell_type": "markdown",
   "metadata": {
    "id": "EipMeQoV7qAA"
   },
   "source": [
    "**Step 26** - Check the mean accuracy of each model by calling the function _show_results_ and pass as arguments the dataset and the three models."
   ]
  },
  {
   "cell_type": "code",
   "execution_count": 28,
   "metadata": {
    "colab": {
     "base_uri": "https://localhost:8080/",
     "height": 142
    },
    "executionInfo": {
     "elapsed": 14811,
     "status": "ok",
     "timestamp": 1684602692948,
     "user": {
      "displayName": "Joana Rafael",
      "userId": "05406048540139626792"
     },
     "user_tz": -60
    },
    "id": "rWtQkaN37qAA",
    "outputId": "f7f9112d-1178-4f7d-f850-f898f406f3b0"
   },
   "outputs": [
    {
     "data": {
      "text/html": [
       "<div>\n",
       "<style scoped>\n",
       "    .dataframe tbody tr th:only-of-type {\n",
       "        vertical-align: middle;\n",
       "    }\n",
       "\n",
       "    .dataframe tbody tr th {\n",
       "        vertical-align: top;\n",
       "    }\n",
       "\n",
       "    .dataframe thead th {\n",
       "        text-align: right;\n",
       "    }\n",
       "</style>\n",
       "<table border=\"1\" class=\"dataframe\">\n",
       "  <thead>\n",
       "    <tr style=\"text-align: right;\">\n",
       "      <th></th>\n",
       "      <th>Time</th>\n",
       "      <th>Train</th>\n",
       "      <th>Test</th>\n",
       "      <th>Iterations</th>\n",
       "    </tr>\n",
       "  </thead>\n",
       "  <tbody>\n",
       "    <tr>\n",
       "      <th>big</th>\n",
       "      <td>0.319+/-0.05</td>\n",
       "      <td>0.93+/-0.0</td>\n",
       "      <td>0.93+/-0.02</td>\n",
       "      <td>12.0+/-0.0</td>\n",
       "    </tr>\n",
       "    <tr>\n",
       "      <th>medium</th>\n",
       "      <td>0.232+/-0.04</td>\n",
       "      <td>0.93+/-0.0</td>\n",
       "      <td>0.929+/-0.02</td>\n",
       "      <td>12.0+/-0.0</td>\n",
       "    </tr>\n",
       "    <tr>\n",
       "      <th>small</th>\n",
       "      <td>0.843+/-0.66</td>\n",
       "      <td>0.917+/-0.03</td>\n",
       "      <td>0.923+/-0.02</td>\n",
       "      <td>49.9+/-42.1</td>\n",
       "    </tr>\n",
       "  </tbody>\n",
       "</table>\n",
       "</div>"
      ],
      "text/plain": [
       "                Time         Train          Test   Iterations\n",
       "big     0.319+/-0.05    0.93+/-0.0   0.93+/-0.02   12.0+/-0.0\n",
       "medium  0.232+/-0.04    0.93+/-0.0  0.929+/-0.02   12.0+/-0.0\n",
       "small   0.843+/-0.66  0.917+/-0.03  0.923+/-0.02  49.9+/-42.1"
      ]
     },
     "execution_count": 28,
     "metadata": {},
     "output_type": "execute_result"
    }
   ],
   "source": [
    "df = pd.DataFrame(columns = ['Time','Train','Test', 'Iterations'], index = ['big','medium','small'])\n",
    "show_results(df, model_lr_big, model_lr_medium, model_lr_small,number_splits= 10)"
   ]
  },
  {
   "cell_type": "markdown",
   "metadata": {
    "id": "RTxbZTvc7qAB"
   },
   "source": [
    "## <font color='#BFD72F' id=\"lr\"> 2.5. The learning rate</font>\n",
    "[Back to Contents](#toc)\n",
    "\n",
    "__Only for sgd (default = 'constant')__"
   ]
  },
  {
   "cell_type": "markdown",
   "metadata": {
    "id": "69-RDSs77qAB"
   },
   "source": [
    "**Step 27** - Create an instance of `MLPClassifier`, define the solver as _sgd_, the learning_rate as _constant_ and name it as __model_constant__.\n",
    "\n",
    "Definition: If the learning rate is constant, as the name says, the learning rate will always remain equal to the initial learning rate."
   ]
  },
  {
   "cell_type": "code",
   "execution_count": 29,
   "metadata": {
    "executionInfo": {
     "elapsed": 182,
     "status": "ok",
     "timestamp": 1684602692950,
     "user": {
      "displayName": "Joana Rafael",
      "userId": "05406048540139626792"
     },
     "user_tz": -60
    },
    "id": "B_oltZJi7qAB"
   },
   "outputs": [],
   "source": [
    "model_constant = MLPClassifier(solver = 'sgd', learning_rate = 'constant')"
   ]
  },
  {
   "cell_type": "markdown",
   "metadata": {
    "id": "O11zFWdu7qAB"
   },
   "source": [
    "**Step 28** - Create an instance of `MLPClassifier`, define the solver as _sgd_, the learning_rate as _invscaling_ and name it as __model_invscaling__.\n",
    "\n",
    "Definition: If the learning rate is invscaling, it gradually decreases the learning rate at each time step ‘t’ using an inverse scaling exponent of ‘power_t’.\n",
    "\n",
    "$$\n",
    "effective\\,learning\\,rate = \\frac{learning\\_rate\\_init}{t^{\\,power\\_t}}\n",
    "$$\n",
    "\n",
    "Note: The __power_t__ (default = 0.5) is another parameter that you can change."
   ]
  },
  {
   "cell_type": "code",
   "execution_count": 30,
   "metadata": {
    "executionInfo": {
     "elapsed": 174,
     "status": "ok",
     "timestamp": 1684602692951,
     "user": {
      "displayName": "Joana Rafael",
      "userId": "05406048540139626792"
     },
     "user_tz": -60
    },
    "id": "KKkFviBC7qAB"
   },
   "outputs": [],
   "source": [
    "model_invscaling = MLPClassifier(solver = 'sgd', learning_rate = 'invscaling')"
   ]
  },
  {
   "cell_type": "markdown",
   "metadata": {
    "id": "-g4bcVSl7qAC"
   },
   "source": [
    "**Step 29** - Create an instance of `MLPClassifier`, define the solver as _sgd_, the learning_rate as _adaptive_ and name it as __model_adaptive__.\n",
    "\n",
    "Definition: <br>\n",
    "If the learning rate is adaptive, then it keeps the learning rate constant to ‘learning_rate_init’ as long as training loss keeps decreasing. <br>\n",
    "Each time two consecutive epochs fail to decrease training loss by at least __tol__ (tolerance for the optimization - another parameter that you can change), or fail to increase validation score by at least __tol__ if __early_stopping__ (meaning to terminate training when the validation score is not improving - another parameter that you can change) is on, the current learning rate is divided by 5."
   ]
  },
  {
   "cell_type": "code",
   "execution_count": 31,
   "metadata": {
    "executionInfo": {
     "elapsed": 173,
     "status": "ok",
     "timestamp": 1684602692952,
     "user": {
      "displayName": "Joana Rafael",
      "userId": "05406048540139626792"
     },
     "user_tz": -60
    },
    "id": "eekrfCit7qAC"
   },
   "outputs": [],
   "source": [
    "model_adaptive = MLPClassifier(solver = 'sgd', learning_rate = 'adaptive')"
   ]
  },
  {
   "cell_type": "markdown",
   "metadata": {
    "id": "Ud6NHgvy7qAC"
   },
   "source": [
    "**Step 30** - Check the mean accuracy of each model by calling the function _show_results_ and pass as arguments the dataset and the three models."
   ]
  },
  {
   "cell_type": "code",
   "execution_count": 32,
   "metadata": {
    "colab": {
     "base_uri": "https://localhost:8080/",
     "height": 142
    },
    "executionInfo": {
     "elapsed": 13819,
     "status": "ok",
     "timestamp": 1684602706599,
     "user": {
      "displayName": "Joana Rafael",
      "userId": "05406048540139626792"
     },
     "user_tz": -60
    },
    "id": "47Or9AsV7qAC",
    "outputId": "cc5ae43a-6163-4960-c19a-f7108ba9ad14"
   },
   "outputs": [
    {
     "data": {
      "text/html": [
       "<div>\n",
       "<style scoped>\n",
       "    .dataframe tbody tr th:only-of-type {\n",
       "        vertical-align: middle;\n",
       "    }\n",
       "\n",
       "    .dataframe tbody tr th {\n",
       "        vertical-align: top;\n",
       "    }\n",
       "\n",
       "    .dataframe thead th {\n",
       "        text-align: right;\n",
       "    }\n",
       "</style>\n",
       "<table border=\"1\" class=\"dataframe\">\n",
       "  <thead>\n",
       "    <tr style=\"text-align: right;\">\n",
       "      <th></th>\n",
       "      <th>Time</th>\n",
       "      <th>Train</th>\n",
       "      <th>Test</th>\n",
       "      <th>Iterations</th>\n",
       "    </tr>\n",
       "  </thead>\n",
       "  <tbody>\n",
       "    <tr>\n",
       "      <th>constant</th>\n",
       "      <td>0.217+/-0.04</td>\n",
       "      <td>0.93+/-0.0</td>\n",
       "      <td>0.93+/-0.02</td>\n",
       "      <td>12.1+/-0.3</td>\n",
       "    </tr>\n",
       "    <tr>\n",
       "      <th>invscaling</th>\n",
       "      <td>0.218+/-0.05</td>\n",
       "      <td>0.598+/-0.4</td>\n",
       "      <td>0.61+/-0.4</td>\n",
       "      <td>12.0+/-0.0</td>\n",
       "    </tr>\n",
       "    <tr>\n",
       "      <th>adaptive</th>\n",
       "      <td>1.899+/-0.8</td>\n",
       "      <td>0.93+/-0.0</td>\n",
       "      <td>0.929+/-0.02</td>\n",
       "      <td>67.0+/-0.0</td>\n",
       "    </tr>\n",
       "  </tbody>\n",
       "</table>\n",
       "</div>"
      ],
      "text/plain": [
       "                    Time        Train          Test  Iterations\n",
       "constant    0.217+/-0.04   0.93+/-0.0   0.93+/-0.02  12.1+/-0.3\n",
       "invscaling  0.218+/-0.05  0.598+/-0.4    0.61+/-0.4  12.0+/-0.0\n",
       "adaptive     1.899+/-0.8   0.93+/-0.0  0.929+/-0.02  67.0+/-0.0"
      ]
     },
     "execution_count": 32,
     "metadata": {},
     "output_type": "execute_result"
    }
   ],
   "source": [
    "df = pd.DataFrame(columns = ['Time','Train','Test', 'Iterations'], index = ['constant','invscaling','adaptive'])\n",
    "show_results(df, model_constant, model_invscaling, model_adaptive,number_splits= 10)"
   ]
  },
  {
   "cell_type": "markdown",
   "metadata": {
    "id": "drcoYMXX7qAF"
   },
   "source": [
    "## <font color='#BFD72F' id=\"max_iter\"> 2.6. The maximum iterations </font>\n",
    "[Back to Contents](#toc)"
   ]
  },
  {
   "cell_type": "markdown",
   "metadata": {
    "id": "OHQBwDyg7qAG"
   },
   "source": [
    "By default, sklearn defines the maximum number of iterations as 200. While this could be enough for simple datasets, in complex problems you should try values higher that allow the model to converge."
   ]
  },
  {
   "cell_type": "markdown",
   "metadata": {
    "id": "SWJsB2jf7qAG"
   },
   "source": [
    "**Step 31** - Create an instance of `MLPClassifier`, define the max_iter as _20_ and name it as __model_maxiter_20__."
   ]
  },
  {
   "cell_type": "code",
   "execution_count": 33,
   "metadata": {
    "executionInfo": {
     "elapsed": 17,
     "status": "ok",
     "timestamp": 1684602726880,
     "user": {
      "displayName": "Joana Rafael",
      "userId": "05406048540139626792"
     },
     "user_tz": -60
    },
    "id": "nPeMxndk7qAG"
   },
   "outputs": [],
   "source": [
    "model_maxiter_20 = MLPClassifier(max_iter = 20)"
   ]
  },
  {
   "cell_type": "markdown",
   "metadata": {
    "id": "grScf1ZI7qAH"
   },
   "source": [
    "**Step 32** - Create an instance of `MLPClassifier`, define the max_iter as _100_ and name it as __model_maxiter_100__."
   ]
  },
  {
   "cell_type": "code",
   "execution_count": 34,
   "metadata": {
    "executionInfo": {
     "elapsed": 11,
     "status": "ok",
     "timestamp": 1684602726881,
     "user": {
      "displayName": "Joana Rafael",
      "userId": "05406048540139626792"
     },
     "user_tz": -60
    },
    "id": "nltntmTO7qAH"
   },
   "outputs": [],
   "source": [
    "model_maxiter_100 = MLPClassifier(max_iter = 100)"
   ]
  },
  {
   "cell_type": "markdown",
   "metadata": {
    "id": "0KgcU0Rn7qAH"
   },
   "source": [
    "**Step 33** - Create an instance of `MLPClassifier`, define the max_iter as _500_ and name it as __model_maxiter_500__."
   ]
  },
  {
   "cell_type": "code",
   "execution_count": 35,
   "metadata": {
    "executionInfo": {
     "elapsed": 9,
     "status": "ok",
     "timestamp": 1684602726881,
     "user": {
      "displayName": "Joana Rafael",
      "userId": "05406048540139626792"
     },
     "user_tz": -60
    },
    "id": "6vSdfi667qAI"
   },
   "outputs": [],
   "source": [
    "model_maxiter_500 = MLPClassifier(max_iter = 500)"
   ]
  },
  {
   "cell_type": "markdown",
   "metadata": {
    "id": "XaO2FFiu7qAI"
   },
   "source": [
    "**Step 34** - Check the mean accuracy of each model by calling the function _show_results_ and pass as arguments the dataset and the three models."
   ]
  },
  {
   "cell_type": "code",
   "execution_count": 36,
   "metadata": {
    "colab": {
     "base_uri": "https://localhost:8080/",
     "height": 142
    },
    "executionInfo": {
     "elapsed": 11160,
     "status": "ok",
     "timestamp": 1684602738033,
     "user": {
      "displayName": "Joana Rafael",
      "userId": "05406048540139626792"
     },
     "user_tz": -60
    },
    "id": "yZdY8bvm7qAI",
    "outputId": "3ba2a4b2-17e3-415b-9435-d52312c447ec",
    "scrolled": true
   },
   "outputs": [
    {
     "data": {
      "text/html": [
       "<div>\n",
       "<style scoped>\n",
       "    .dataframe tbody tr th:only-of-type {\n",
       "        vertical-align: middle;\n",
       "    }\n",
       "\n",
       "    .dataframe tbody tr th {\n",
       "        vertical-align: top;\n",
       "    }\n",
       "\n",
       "    .dataframe thead th {\n",
       "        text-align: right;\n",
       "    }\n",
       "</style>\n",
       "<table border=\"1\" class=\"dataframe\">\n",
       "  <thead>\n",
       "    <tr style=\"text-align: right;\">\n",
       "      <th></th>\n",
       "      <th>Time</th>\n",
       "      <th>Train</th>\n",
       "      <th>Test</th>\n",
       "      <th>Iterations</th>\n",
       "    </tr>\n",
       "  </thead>\n",
       "  <tbody>\n",
       "    <tr>\n",
       "      <th>max iter 20</th>\n",
       "      <td>0.445+/-0.07</td>\n",
       "      <td>0.835+/-0.16</td>\n",
       "      <td>0.844+/-0.14</td>\n",
       "      <td>19.9+/-0.3</td>\n",
       "    </tr>\n",
       "    <tr>\n",
       "      <th>max iter 100</th>\n",
       "      <td>0.414+/-0.16</td>\n",
       "      <td>0.834+/-0.16</td>\n",
       "      <td>0.832+/-0.15</td>\n",
       "      <td>26.3+/-9.5</td>\n",
       "    </tr>\n",
       "    <tr>\n",
       "      <th>max iter 200</th>\n",
       "      <td>0.403+/-0.18</td>\n",
       "      <td>0.926+/-0.01</td>\n",
       "      <td>0.929+/-0.02</td>\n",
       "      <td>25.9+/-11.1</td>\n",
       "    </tr>\n",
       "  </tbody>\n",
       "</table>\n",
       "</div>"
      ],
      "text/plain": [
       "                      Time         Train          Test   Iterations\n",
       "max iter 20   0.445+/-0.07  0.835+/-0.16  0.844+/-0.14   19.9+/-0.3\n",
       "max iter 100  0.414+/-0.16  0.834+/-0.16  0.832+/-0.15   26.3+/-9.5\n",
       "max iter 200  0.403+/-0.18  0.926+/-0.01  0.929+/-0.02  25.9+/-11.1"
      ]
     },
     "execution_count": 36,
     "metadata": {},
     "output_type": "execute_result"
    }
   ],
   "source": [
    "df = pd.DataFrame(columns = ['Time','Train','Test', 'Iterations'], index = ['max iter 20','max iter 100','max iter 200'])\n",
    "show_results(df, model_maxiter_20, model_maxiter_100, model_maxiter_500,number_splits= 10)"
   ]
  },
  {
   "cell_type": "markdown",
   "metadata": {
    "id": "x_WcKM6i7qAI"
   },
   "source": [
    "## <font color='#BFD72F' id=\"other\"> 2.7. Other parameters</font>"
   ]
  },
  {
   "cell_type": "markdown",
   "metadata": {
    "id": "5vdAii087qAI"
   },
   "source": [
    "|Parameter| Definition | LBFGS | SGD | ADAM |\n",
    "|---|---|---|---|---|\n",
    "|alpha| L2 penalty (regularization term) parameter | yes | yes | yes |\n",
    "| power_t | The exponent for inverse scaling learning rate. It is used in updating effective learning rate when the learning_rate is set to ‘invscaling’. | no | yes | no |\n",
    "| shuffle | Whether to shuffle samples in each iteration. | no | yes | yes |\n",
    "| tol | Tolerance for the optimization. When the loss or score is not improving by at least tol for n_iter_no_change consecutive iterations, unless learning_rate is set to ‘adaptive’, convergence is considered to be reached and training stops. | yes | yes | yes |\n",
    "| warm_start | When set to True, reuse the solution of the previous call to fit as initialization, otherwise, just erase the previous solution. | yes | yes | yes |\n",
    "| momentum | Momentum for gradient descent update. Should be between 0 and 1. | no | yes | no |\n",
    "| nesterovs_momentum | Whether to use Nesterov’s momentum.| no | yes | no |\n",
    "| early stopping | Whether to use early stopping to terminate training when validation score is not improving. If set to true, it will automatically set aside 10% of training data as validation and terminate training when validation score is not improving by at least tol for n_iter_no_change consecutive epochs. The split is stratified, except in a multilabel setting.  | no | yes | yes |\n",
    "| validation_fraction | The proportion of training data to set aside as validation set for early stopping. Must be between 0 and 1. Only used if early_stopping is True | no | yes | yes|\n",
    "| beta1 | Exponential decay rate for estimates of first moment vector in adam, should be in [0, 1). | no | no | yes |\n",
    "| beta2 | Exponential decay rate for estimates of second moment vector in adam, should be in [0, 1).  | no | no | yes |\n",
    "| epsilon | Value for numerical stability in adam. | no | no | yes |\n",
    "| n_iter_no_change | Maximum number of epochs to not meet tol improvement. |  no | yes | yes |\n",
    "| max_fun | Only used when solver=’lbfgs’. Maximum number of loss function calls. The solver iterates until convergence (determined by ‘tol’), number of iterations reaches max_iter, or this number of loss function calls. | yes | no | no |"
   ]
  },
  {
   "cell_type": "markdown",
   "metadata": {
    "id": "l12XUfiw7qAJ"
   },
   "source": [
    "# <font color='#BFD72F'>3. RandomizedSearch</font> <a class=\"anchor\" id=\"randsearch\"></a>\n",
    "[Back to Contents](#toc)"
   ]
  },
  {
   "cell_type": "markdown",
   "metadata": {
    "id": "JlRvvfGP7qAJ"
   },
   "source": [
    "**Step 35** - Define a dictionary named as __parameter_space__ and define the following options to be considered during modelling:\n",
    "- 'hidden_layer_sizes': [(50,50,50), (100,)\n",
    "- 'activation': ['tanh', 'relu']\n",
    "- 'solver': ['sgd', 'adam']\n",
    "- 'learning_rate_init' : [0.0001, 0.001, 0.01, 0.1]"
   ]
  },
  {
   "cell_type": "code",
   "execution_count": 37,
   "metadata": {
    "executionInfo": {
     "elapsed": 126,
     "status": "ok",
     "timestamp": 1684602738034,
     "user": {
      "displayName": "Joana Rafael",
      "userId": "05406048540139626792"
     },
     "user_tz": -60
    },
    "id": "qEu30dif7qAJ"
   },
   "outputs": [],
   "source": [
    "parameter_space = {\n",
    "    'hidden_layer_sizes': [(50,50,50), (100,)],\n",
    "    'activation': ['tanh', 'relu'],\n",
    "    'solver': ['sgd', 'adam'],\n",
    "    'learning_rate_init': [0.0001, 0.001, 0.01, 0.1]\n",
    "}"
   ]
  },
  {
   "cell_type": "markdown",
   "metadata": {
    "id": "NWK94duR7qAK"
   },
   "source": [
    "**Step 36** - Create an instance of `RandomizedSearchCV` named as __clf__ and pass as parameters the __model__ and the __parameter_space__."
   ]
  },
  {
   "cell_type": "code",
   "execution_count": 38,
   "metadata": {
    "executionInfo": {
     "elapsed": 126,
     "status": "ok",
     "timestamp": 1684602738035,
     "user": {
      "displayName": "Joana Rafael",
      "userId": "05406048540139626792"
     },
     "user_tz": -60
    },
    "id": "nD_L7gKR7qAK"
   },
   "outputs": [],
   "source": [
    "clf = RandomizedSearchCV(model, parameter_space)"
   ]
  },
  {
   "cell_type": "markdown",
   "metadata": {
    "id": "x6I7FjmJ7qAK"
   },
   "source": [
    "**Step 37** - Fit your instance to X_train and y_train."
   ]
  },
  {
   "cell_type": "code",
   "execution_count": 39,
   "metadata": {
    "colab": {
     "base_uri": "https://localhost:8080/",
     "height": 115
    },
    "executionInfo": {
     "elapsed": 75984,
     "status": "ok",
     "timestamp": 1684602813894,
     "user": {
      "displayName": "Joana Rafael",
      "userId": "05406048540139626792"
     },
     "user_tz": -60
    },
    "id": "ec1pn47_7qAK",
    "outputId": "584730f3-fb44-4984-d09c-8631714f5f3d"
   },
   "outputs": [
    {
     "data": {
      "text/html": [
       "<style>#sk-container-id-1 {\n",
       "  /* Definition of color scheme common for light and dark mode */\n",
       "  --sklearn-color-text: black;\n",
       "  --sklearn-color-line: gray;\n",
       "  /* Definition of color scheme for unfitted estimators */\n",
       "  --sklearn-color-unfitted-level-0: #fff5e6;\n",
       "  --sklearn-color-unfitted-level-1: #f6e4d2;\n",
       "  --sklearn-color-unfitted-level-2: #ffe0b3;\n",
       "  --sklearn-color-unfitted-level-3: chocolate;\n",
       "  /* Definition of color scheme for fitted estimators */\n",
       "  --sklearn-color-fitted-level-0: #f0f8ff;\n",
       "  --sklearn-color-fitted-level-1: #d4ebff;\n",
       "  --sklearn-color-fitted-level-2: #b3dbfd;\n",
       "  --sklearn-color-fitted-level-3: cornflowerblue;\n",
       "\n",
       "  /* Specific color for light theme */\n",
       "  --sklearn-color-text-on-default-background: var(--sg-text-color, var(--theme-code-foreground, var(--jp-content-font-color1, black)));\n",
       "  --sklearn-color-background: var(--sg-background-color, var(--theme-background, var(--jp-layout-color0, white)));\n",
       "  --sklearn-color-border-box: var(--sg-text-color, var(--theme-code-foreground, var(--jp-content-font-color1, black)));\n",
       "  --sklearn-color-icon: #696969;\n",
       "\n",
       "  @media (prefers-color-scheme: dark) {\n",
       "    /* Redefinition of color scheme for dark theme */\n",
       "    --sklearn-color-text-on-default-background: var(--sg-text-color, var(--theme-code-foreground, var(--jp-content-font-color1, white)));\n",
       "    --sklearn-color-background: var(--sg-background-color, var(--theme-background, var(--jp-layout-color0, #111)));\n",
       "    --sklearn-color-border-box: var(--sg-text-color, var(--theme-code-foreground, var(--jp-content-font-color1, white)));\n",
       "    --sklearn-color-icon: #878787;\n",
       "  }\n",
       "}\n",
       "\n",
       "#sk-container-id-1 {\n",
       "  color: var(--sklearn-color-text);\n",
       "}\n",
       "\n",
       "#sk-container-id-1 pre {\n",
       "  padding: 0;\n",
       "}\n",
       "\n",
       "#sk-container-id-1 input.sk-hidden--visually {\n",
       "  border: 0;\n",
       "  clip: rect(1px 1px 1px 1px);\n",
       "  clip: rect(1px, 1px, 1px, 1px);\n",
       "  height: 1px;\n",
       "  margin: -1px;\n",
       "  overflow: hidden;\n",
       "  padding: 0;\n",
       "  position: absolute;\n",
       "  width: 1px;\n",
       "}\n",
       "\n",
       "#sk-container-id-1 div.sk-dashed-wrapped {\n",
       "  border: 1px dashed var(--sklearn-color-line);\n",
       "  margin: 0 0.4em 0.5em 0.4em;\n",
       "  box-sizing: border-box;\n",
       "  padding-bottom: 0.4em;\n",
       "  background-color: var(--sklearn-color-background);\n",
       "}\n",
       "\n",
       "#sk-container-id-1 div.sk-container {\n",
       "  /* jupyter's `normalize.less` sets `[hidden] { display: none; }`\n",
       "     but bootstrap.min.css set `[hidden] { display: none !important; }`\n",
       "     so we also need the `!important` here to be able to override the\n",
       "     default hidden behavior on the sphinx rendered scikit-learn.org.\n",
       "     See: https://github.com/scikit-learn/scikit-learn/issues/21755 */\n",
       "  display: inline-block !important;\n",
       "  position: relative;\n",
       "}\n",
       "\n",
       "#sk-container-id-1 div.sk-text-repr-fallback {\n",
       "  display: none;\n",
       "}\n",
       "\n",
       "div.sk-parallel-item,\n",
       "div.sk-serial,\n",
       "div.sk-item {\n",
       "  /* draw centered vertical line to link estimators */\n",
       "  background-image: linear-gradient(var(--sklearn-color-text-on-default-background), var(--sklearn-color-text-on-default-background));\n",
       "  background-size: 2px 100%;\n",
       "  background-repeat: no-repeat;\n",
       "  background-position: center center;\n",
       "}\n",
       "\n",
       "/* Parallel-specific style estimator block */\n",
       "\n",
       "#sk-container-id-1 div.sk-parallel-item::after {\n",
       "  content: \"\";\n",
       "  width: 100%;\n",
       "  border-bottom: 2px solid var(--sklearn-color-text-on-default-background);\n",
       "  flex-grow: 1;\n",
       "}\n",
       "\n",
       "#sk-container-id-1 div.sk-parallel {\n",
       "  display: flex;\n",
       "  align-items: stretch;\n",
       "  justify-content: center;\n",
       "  background-color: var(--sklearn-color-background);\n",
       "  position: relative;\n",
       "}\n",
       "\n",
       "#sk-container-id-1 div.sk-parallel-item {\n",
       "  display: flex;\n",
       "  flex-direction: column;\n",
       "}\n",
       "\n",
       "#sk-container-id-1 div.sk-parallel-item:first-child::after {\n",
       "  align-self: flex-end;\n",
       "  width: 50%;\n",
       "}\n",
       "\n",
       "#sk-container-id-1 div.sk-parallel-item:last-child::after {\n",
       "  align-self: flex-start;\n",
       "  width: 50%;\n",
       "}\n",
       "\n",
       "#sk-container-id-1 div.sk-parallel-item:only-child::after {\n",
       "  width: 0;\n",
       "}\n",
       "\n",
       "/* Serial-specific style estimator block */\n",
       "\n",
       "#sk-container-id-1 div.sk-serial {\n",
       "  display: flex;\n",
       "  flex-direction: column;\n",
       "  align-items: center;\n",
       "  background-color: var(--sklearn-color-background);\n",
       "  padding-right: 1em;\n",
       "  padding-left: 1em;\n",
       "}\n",
       "\n",
       "\n",
       "/* Toggleable style: style used for estimator/Pipeline/ColumnTransformer box that is\n",
       "clickable and can be expanded/collapsed.\n",
       "- Pipeline and ColumnTransformer use this feature and define the default style\n",
       "- Estimators will overwrite some part of the style using the `sk-estimator` class\n",
       "*/\n",
       "\n",
       "/* Pipeline and ColumnTransformer style (default) */\n",
       "\n",
       "#sk-container-id-1 div.sk-toggleable {\n",
       "  /* Default theme specific background. It is overwritten whether we have a\n",
       "  specific estimator or a Pipeline/ColumnTransformer */\n",
       "  background-color: var(--sklearn-color-background);\n",
       "}\n",
       "\n",
       "/* Toggleable label */\n",
       "#sk-container-id-1 label.sk-toggleable__label {\n",
       "  cursor: pointer;\n",
       "  display: block;\n",
       "  width: 100%;\n",
       "  margin-bottom: 0;\n",
       "  padding: 0.5em;\n",
       "  box-sizing: border-box;\n",
       "  text-align: center;\n",
       "}\n",
       "\n",
       "#sk-container-id-1 label.sk-toggleable__label-arrow:before {\n",
       "  /* Arrow on the left of the label */\n",
       "  content: \"▸\";\n",
       "  float: left;\n",
       "  margin-right: 0.25em;\n",
       "  color: var(--sklearn-color-icon);\n",
       "}\n",
       "\n",
       "#sk-container-id-1 label.sk-toggleable__label-arrow:hover:before {\n",
       "  color: var(--sklearn-color-text);\n",
       "}\n",
       "\n",
       "/* Toggleable content - dropdown */\n",
       "\n",
       "#sk-container-id-1 div.sk-toggleable__content {\n",
       "  max-height: 0;\n",
       "  max-width: 0;\n",
       "  overflow: hidden;\n",
       "  text-align: left;\n",
       "  /* unfitted */\n",
       "  background-color: var(--sklearn-color-unfitted-level-0);\n",
       "}\n",
       "\n",
       "#sk-container-id-1 div.sk-toggleable__content.fitted {\n",
       "  /* fitted */\n",
       "  background-color: var(--sklearn-color-fitted-level-0);\n",
       "}\n",
       "\n",
       "#sk-container-id-1 div.sk-toggleable__content pre {\n",
       "  margin: 0.2em;\n",
       "  border-radius: 0.25em;\n",
       "  color: var(--sklearn-color-text);\n",
       "  /* unfitted */\n",
       "  background-color: var(--sklearn-color-unfitted-level-0);\n",
       "}\n",
       "\n",
       "#sk-container-id-1 div.sk-toggleable__content.fitted pre {\n",
       "  /* unfitted */\n",
       "  background-color: var(--sklearn-color-fitted-level-0);\n",
       "}\n",
       "\n",
       "#sk-container-id-1 input.sk-toggleable__control:checked~div.sk-toggleable__content {\n",
       "  /* Expand drop-down */\n",
       "  max-height: 200px;\n",
       "  max-width: 100%;\n",
       "  overflow: auto;\n",
       "}\n",
       "\n",
       "#sk-container-id-1 input.sk-toggleable__control:checked~label.sk-toggleable__label-arrow:before {\n",
       "  content: \"▾\";\n",
       "}\n",
       "\n",
       "/* Pipeline/ColumnTransformer-specific style */\n",
       "\n",
       "#sk-container-id-1 div.sk-label input.sk-toggleable__control:checked~label.sk-toggleable__label {\n",
       "  color: var(--sklearn-color-text);\n",
       "  background-color: var(--sklearn-color-unfitted-level-2);\n",
       "}\n",
       "\n",
       "#sk-container-id-1 div.sk-label.fitted input.sk-toggleable__control:checked~label.sk-toggleable__label {\n",
       "  background-color: var(--sklearn-color-fitted-level-2);\n",
       "}\n",
       "\n",
       "/* Estimator-specific style */\n",
       "\n",
       "/* Colorize estimator box */\n",
       "#sk-container-id-1 div.sk-estimator input.sk-toggleable__control:checked~label.sk-toggleable__label {\n",
       "  /* unfitted */\n",
       "  background-color: var(--sklearn-color-unfitted-level-2);\n",
       "}\n",
       "\n",
       "#sk-container-id-1 div.sk-estimator.fitted input.sk-toggleable__control:checked~label.sk-toggleable__label {\n",
       "  /* fitted */\n",
       "  background-color: var(--sklearn-color-fitted-level-2);\n",
       "}\n",
       "\n",
       "#sk-container-id-1 div.sk-label label.sk-toggleable__label,\n",
       "#sk-container-id-1 div.sk-label label {\n",
       "  /* The background is the default theme color */\n",
       "  color: var(--sklearn-color-text-on-default-background);\n",
       "}\n",
       "\n",
       "/* On hover, darken the color of the background */\n",
       "#sk-container-id-1 div.sk-label:hover label.sk-toggleable__label {\n",
       "  color: var(--sklearn-color-text);\n",
       "  background-color: var(--sklearn-color-unfitted-level-2);\n",
       "}\n",
       "\n",
       "/* Label box, darken color on hover, fitted */\n",
       "#sk-container-id-1 div.sk-label.fitted:hover label.sk-toggleable__label.fitted {\n",
       "  color: var(--sklearn-color-text);\n",
       "  background-color: var(--sklearn-color-fitted-level-2);\n",
       "}\n",
       "\n",
       "/* Estimator label */\n",
       "\n",
       "#sk-container-id-1 div.sk-label label {\n",
       "  font-family: monospace;\n",
       "  font-weight: bold;\n",
       "  display: inline-block;\n",
       "  line-height: 1.2em;\n",
       "}\n",
       "\n",
       "#sk-container-id-1 div.sk-label-container {\n",
       "  text-align: center;\n",
       "}\n",
       "\n",
       "/* Estimator-specific */\n",
       "#sk-container-id-1 div.sk-estimator {\n",
       "  font-family: monospace;\n",
       "  border: 1px dotted var(--sklearn-color-border-box);\n",
       "  border-radius: 0.25em;\n",
       "  box-sizing: border-box;\n",
       "  margin-bottom: 0.5em;\n",
       "  /* unfitted */\n",
       "  background-color: var(--sklearn-color-unfitted-level-0);\n",
       "}\n",
       "\n",
       "#sk-container-id-1 div.sk-estimator.fitted {\n",
       "  /* fitted */\n",
       "  background-color: var(--sklearn-color-fitted-level-0);\n",
       "}\n",
       "\n",
       "/* on hover */\n",
       "#sk-container-id-1 div.sk-estimator:hover {\n",
       "  /* unfitted */\n",
       "  background-color: var(--sklearn-color-unfitted-level-2);\n",
       "}\n",
       "\n",
       "#sk-container-id-1 div.sk-estimator.fitted:hover {\n",
       "  /* fitted */\n",
       "  background-color: var(--sklearn-color-fitted-level-2);\n",
       "}\n",
       "\n",
       "/* Specification for estimator info (e.g. \"i\" and \"?\") */\n",
       "\n",
       "/* Common style for \"i\" and \"?\" */\n",
       "\n",
       ".sk-estimator-doc-link,\n",
       "a:link.sk-estimator-doc-link,\n",
       "a:visited.sk-estimator-doc-link {\n",
       "  float: right;\n",
       "  font-size: smaller;\n",
       "  line-height: 1em;\n",
       "  font-family: monospace;\n",
       "  background-color: var(--sklearn-color-background);\n",
       "  border-radius: 1em;\n",
       "  height: 1em;\n",
       "  width: 1em;\n",
       "  text-decoration: none !important;\n",
       "  margin-left: 1ex;\n",
       "  /* unfitted */\n",
       "  border: var(--sklearn-color-unfitted-level-1) 1pt solid;\n",
       "  color: var(--sklearn-color-unfitted-level-1);\n",
       "}\n",
       "\n",
       ".sk-estimator-doc-link.fitted,\n",
       "a:link.sk-estimator-doc-link.fitted,\n",
       "a:visited.sk-estimator-doc-link.fitted {\n",
       "  /* fitted */\n",
       "  border: var(--sklearn-color-fitted-level-1) 1pt solid;\n",
       "  color: var(--sklearn-color-fitted-level-1);\n",
       "}\n",
       "\n",
       "/* On hover */\n",
       "div.sk-estimator:hover .sk-estimator-doc-link:hover,\n",
       ".sk-estimator-doc-link:hover,\n",
       "div.sk-label-container:hover .sk-estimator-doc-link:hover,\n",
       ".sk-estimator-doc-link:hover {\n",
       "  /* unfitted */\n",
       "  background-color: var(--sklearn-color-unfitted-level-3);\n",
       "  color: var(--sklearn-color-background);\n",
       "  text-decoration: none;\n",
       "}\n",
       "\n",
       "div.sk-estimator.fitted:hover .sk-estimator-doc-link.fitted:hover,\n",
       ".sk-estimator-doc-link.fitted:hover,\n",
       "div.sk-label-container:hover .sk-estimator-doc-link.fitted:hover,\n",
       ".sk-estimator-doc-link.fitted:hover {\n",
       "  /* fitted */\n",
       "  background-color: var(--sklearn-color-fitted-level-3);\n",
       "  color: var(--sklearn-color-background);\n",
       "  text-decoration: none;\n",
       "}\n",
       "\n",
       "/* Span, style for the box shown on hovering the info icon */\n",
       ".sk-estimator-doc-link span {\n",
       "  display: none;\n",
       "  z-index: 9999;\n",
       "  position: relative;\n",
       "  font-weight: normal;\n",
       "  right: .2ex;\n",
       "  padding: .5ex;\n",
       "  margin: .5ex;\n",
       "  width: min-content;\n",
       "  min-width: 20ex;\n",
       "  max-width: 50ex;\n",
       "  color: var(--sklearn-color-text);\n",
       "  box-shadow: 2pt 2pt 4pt #999;\n",
       "  /* unfitted */\n",
       "  background: var(--sklearn-color-unfitted-level-0);\n",
       "  border: .5pt solid var(--sklearn-color-unfitted-level-3);\n",
       "}\n",
       "\n",
       ".sk-estimator-doc-link.fitted span {\n",
       "  /* fitted */\n",
       "  background: var(--sklearn-color-fitted-level-0);\n",
       "  border: var(--sklearn-color-fitted-level-3);\n",
       "}\n",
       "\n",
       ".sk-estimator-doc-link:hover span {\n",
       "  display: block;\n",
       "}\n",
       "\n",
       "/* \"?\"-specific style due to the `<a>` HTML tag */\n",
       "\n",
       "#sk-container-id-1 a.estimator_doc_link {\n",
       "  float: right;\n",
       "  font-size: 1rem;\n",
       "  line-height: 1em;\n",
       "  font-family: monospace;\n",
       "  background-color: var(--sklearn-color-background);\n",
       "  border-radius: 1rem;\n",
       "  height: 1rem;\n",
       "  width: 1rem;\n",
       "  text-decoration: none;\n",
       "  /* unfitted */\n",
       "  color: var(--sklearn-color-unfitted-level-1);\n",
       "  border: var(--sklearn-color-unfitted-level-1) 1pt solid;\n",
       "}\n",
       "\n",
       "#sk-container-id-1 a.estimator_doc_link.fitted {\n",
       "  /* fitted */\n",
       "  border: var(--sklearn-color-fitted-level-1) 1pt solid;\n",
       "  color: var(--sklearn-color-fitted-level-1);\n",
       "}\n",
       "\n",
       "/* On hover */\n",
       "#sk-container-id-1 a.estimator_doc_link:hover {\n",
       "  /* unfitted */\n",
       "  background-color: var(--sklearn-color-unfitted-level-3);\n",
       "  color: var(--sklearn-color-background);\n",
       "  text-decoration: none;\n",
       "}\n",
       "\n",
       "#sk-container-id-1 a.estimator_doc_link.fitted:hover {\n",
       "  /* fitted */\n",
       "  background-color: var(--sklearn-color-fitted-level-3);\n",
       "}\n",
       "</style><div id=\"sk-container-id-1\" class=\"sk-top-container\"><div class=\"sk-text-repr-fallback\"><pre>RandomizedSearchCV(estimator=MLPClassifier(),\n",
       "                   param_distributions={&#x27;activation&#x27;: [&#x27;tanh&#x27;, &#x27;relu&#x27;],\n",
       "                                        &#x27;hidden_layer_sizes&#x27;: [(50, 50, 50),\n",
       "                                                               (100,)],\n",
       "                                        &#x27;learning_rate_init&#x27;: [0.0001, 0.001,\n",
       "                                                               0.01, 0.1],\n",
       "                                        &#x27;solver&#x27;: [&#x27;sgd&#x27;, &#x27;adam&#x27;]})</pre><b>In a Jupyter environment, please rerun this cell to show the HTML representation or trust the notebook. <br />On GitHub, the HTML representation is unable to render, please try loading this page with nbviewer.org.</b></div><div class=\"sk-container\" hidden><div class=\"sk-item sk-dashed-wrapped\"><div class=\"sk-label-container\"><div class=\"sk-label fitted sk-toggleable\"><input class=\"sk-toggleable__control sk-hidden--visually\" id=\"sk-estimator-id-1\" type=\"checkbox\" ><label for=\"sk-estimator-id-1\" class=\"sk-toggleable__label fitted sk-toggleable__label-arrow fitted\">&nbsp;&nbsp;RandomizedSearchCV<a class=\"sk-estimator-doc-link fitted\" rel=\"noreferrer\" target=\"_blank\" href=\"https://scikit-learn.org/1.5/modules/generated/sklearn.model_selection.RandomizedSearchCV.html\">?<span>Documentation for RandomizedSearchCV</span></a><span class=\"sk-estimator-doc-link fitted\">i<span>Fitted</span></span></label><div class=\"sk-toggleable__content fitted\"><pre>RandomizedSearchCV(estimator=MLPClassifier(),\n",
       "                   param_distributions={&#x27;activation&#x27;: [&#x27;tanh&#x27;, &#x27;relu&#x27;],\n",
       "                                        &#x27;hidden_layer_sizes&#x27;: [(50, 50, 50),\n",
       "                                                               (100,)],\n",
       "                                        &#x27;learning_rate_init&#x27;: [0.0001, 0.001,\n",
       "                                                               0.01, 0.1],\n",
       "                                        &#x27;solver&#x27;: [&#x27;sgd&#x27;, &#x27;adam&#x27;]})</pre></div> </div></div><div class=\"sk-parallel\"><div class=\"sk-parallel-item\"><div class=\"sk-item\"><div class=\"sk-label-container\"><div class=\"sk-label fitted sk-toggleable\"><input class=\"sk-toggleable__control sk-hidden--visually\" id=\"sk-estimator-id-2\" type=\"checkbox\" ><label for=\"sk-estimator-id-2\" class=\"sk-toggleable__label fitted sk-toggleable__label-arrow fitted\">best_estimator_: MLPClassifier</label><div class=\"sk-toggleable__content fitted\"><pre>MLPClassifier(hidden_layer_sizes=(50, 50, 50), learning_rate_init=0.1,\n",
       "              solver=&#x27;sgd&#x27;)</pre></div> </div></div><div class=\"sk-serial\"><div class=\"sk-item\"><div class=\"sk-estimator fitted sk-toggleable\"><input class=\"sk-toggleable__control sk-hidden--visually\" id=\"sk-estimator-id-3\" type=\"checkbox\" ><label for=\"sk-estimator-id-3\" class=\"sk-toggleable__label fitted sk-toggleable__label-arrow fitted\">&nbsp;MLPClassifier<a class=\"sk-estimator-doc-link fitted\" rel=\"noreferrer\" target=\"_blank\" href=\"https://scikit-learn.org/1.5/modules/generated/sklearn.neural_network.MLPClassifier.html\">?<span>Documentation for MLPClassifier</span></a></label><div class=\"sk-toggleable__content fitted\"><pre>MLPClassifier(hidden_layer_sizes=(50, 50, 50), learning_rate_init=0.1,\n",
       "              solver=&#x27;sgd&#x27;)</pre></div> </div></div></div></div></div></div></div></div></div>"
      ],
      "text/plain": [
       "RandomizedSearchCV(estimator=MLPClassifier(),\n",
       "                   param_distributions={'activation': ['tanh', 'relu'],\n",
       "                                        'hidden_layer_sizes': [(50, 50, 50),\n",
       "                                                               (100,)],\n",
       "                                        'learning_rate_init': [0.0001, 0.001,\n",
       "                                                               0.01, 0.1],\n",
       "                                        'solver': ['sgd', 'adam']})"
      ]
     },
     "execution_count": 39,
     "metadata": {},
     "output_type": "execute_result"
    }
   ],
   "source": [
    "clf.fit(X_train, y_train)"
   ]
  },
  {
   "cell_type": "markdown",
   "metadata": {
    "id": "P2MXnrq07qAL"
   },
   "source": [
    "**Step 38** - Call the attribute _.best_params__ to check which is the best combination of parameters."
   ]
  },
  {
   "cell_type": "code",
   "execution_count": 40,
   "metadata": {},
   "outputs": [
    {
     "data": {
      "text/plain": [
       "{'solver': 'sgd',\n",
       " 'learning_rate_init': 0.1,\n",
       " 'hidden_layer_sizes': (50, 50, 50),\n",
       " 'activation': 'relu'}"
      ]
     },
     "execution_count": 40,
     "metadata": {},
     "output_type": "execute_result"
    }
   ],
   "source": [
    "clf.best_params_"
   ]
  },
  {
   "cell_type": "markdown",
   "metadata": {},
   "source": [
    "**Step 39** - Create a __final_model__ with the best parameters, as checked in previous step, calling the attribute _.best_estimator__."
   ]
  },
  {
   "cell_type": "code",
   "execution_count": 41,
   "metadata": {
    "colab": {
     "base_uri": "https://localhost:8080/"
    },
    "executionInfo": {
     "elapsed": 1509,
     "status": "ok",
     "timestamp": 1684602815286,
     "user": {
      "displayName": "Joana Rafael",
      "userId": "05406048540139626792"
     },
     "user_tz": -60
    },
    "id": "pgZ8j4U87qAL",
    "outputId": "94122540-e551-42e7-9a0b-bb2bd9701453"
   },
   "outputs": [
    {
     "name": "stdout",
     "output_type": "stream",
     "text": [
      "Train: 0.9297142857142857\n",
      "Test: 0.9306666666666666\n"
     ]
    }
   ],
   "source": [
    "final_model = clf.best_estimator_.fit(X_train, y_train)\n",
    "print('Train:', final_model.score(X_train, y_train))\n",
    "print('Test:', final_model.score(X_test, y_test))"
   ]
  },
  {
   "cell_type": "markdown",
   "metadata": {
    "id": "7VLcMYGA7qAM"
   },
   "source": [
    "**Step 40** - Create a loop to check the mean and the standard deviation of the different models created using the different combinations using `RandomizedSearchCV`."
   ]
  },
  {
   "cell_type": "code",
   "execution_count": 42,
   "metadata": {
    "colab": {
     "base_uri": "https://localhost:8080/"
    },
    "executionInfo": {
     "elapsed": 18,
     "status": "ok",
     "timestamp": 1684602815287,
     "user": {
      "displayName": "Joana Rafael",
      "userId": "05406048540139626792"
     },
     "user_tz": -60
    },
    "id": "q6Ncoij67qAM",
    "outputId": "be93e7dc-08f9-421a-a007-b7b1287bc1ae"
   },
   "outputs": [
    {
     "name": "stdout",
     "output_type": "stream",
     "text": [
      "------------------------------------------------------------------------------------------------------------------------\n",
      "Best parameters found:\n",
      " {'solver': 'sgd', 'learning_rate_init': 0.1, 'hidden_layer_sizes': (50, 50, 50), 'activation': 'relu'}\n",
      "------------------------------------------------------------------------------------------------------------------------\n",
      "0.930 (+/-0.001) for {'solver': 'sgd', 'learning_rate_init': 0.1, 'hidden_layer_sizes': (50, 50, 50), 'activation': 'relu'}\n",
      "0.827 (+/-0.093) for {'solver': 'adam', 'learning_rate_init': 0.0001, 'hidden_layer_sizes': (50, 50, 50), 'activation': 'relu'}\n",
      "0.930 (+/-0.001) for {'solver': 'adam', 'learning_rate_init': 0.1, 'hidden_layer_sizes': (50, 50, 50), 'activation': 'relu'}\n",
      "0.930 (+/-0.001) for {'solver': 'adam', 'learning_rate_init': 0.01, 'hidden_layer_sizes': (100,), 'activation': 'tanh'}\n",
      "0.930 (+/-0.001) for {'solver': 'adam', 'learning_rate_init': 0.1, 'hidden_layer_sizes': (50, 50, 50), 'activation': 'tanh'}\n",
      "0.930 (+/-0.001) for {'solver': 'sgd', 'learning_rate_init': 0.1, 'hidden_layer_sizes': (100,), 'activation': 'tanh'}\n",
      "0.930 (+/-0.001) for {'solver': 'sgd', 'learning_rate_init': 0.001, 'hidden_layer_sizes': (100,), 'activation': 'tanh'}\n",
      "0.430 (+/-0.407) for {'solver': 'sgd', 'learning_rate_init': 0.0001, 'hidden_layer_sizes': (100,), 'activation': 'relu'}\n",
      "0.915 (+/-0.032) for {'solver': 'adam', 'learning_rate_init': 0.001, 'hidden_layer_sizes': (50, 50, 50), 'activation': 'relu'}\n",
      "0.873 (+/-0.112) for {'solver': 'adam', 'learning_rate_init': 0.0001, 'hidden_layer_sizes': (100,), 'activation': 'relu'}\n"
     ]
    }
   ],
   "source": [
    "# Best parameter set\n",
    "print('------------------------------------------------------------------------------------------------------------------------')\n",
    "print('Best parameters found:\\n', clf.best_params_)\n",
    "print('------------------------------------------------------------------------------------------------------------------------')\n",
    "\n",
    "# All results\n",
    "means = clf.cv_results_['mean_test_score']\n",
    "stds = clf.cv_results_['std_test_score']\n",
    "params = clf.cv_results_['params']\n",
    "\n",
    "for mean, std, param in zip(means, stds, params):\n",
    "    print(\"%0.3f (+/-%0.03f) for %r\" % (mean, std , param))"
   ]
  },
  {
   "cell_type": "markdown",
   "metadata": {},
   "source": [
    "# <font color='#BFD72F'>4. Extra: Pipeline</font> <a class=\"anchor\" id=\"pipe\"></a>\n",
    "[Back to Contents](#toc)\n",
    "\n",
    "\n",
    "\n",
    "A pipeline is a sequence of interconnected __transformers__ and an __estimator__ that encompasses the entire workflow, from data preparation and preprocessing to model training, evaluation, and deployment, as represented as follows:\n",
    "\n",
    "<img src=\"images/pipeline.png\" width=\"800px\"> <img name=\"pipeline.png\">\n",
    "\n",
    "As defined in the <a href=\"https://scikit-learn.org/stable/modules/generated/sklearn.pipeline.Pipeline.html\">documentation</a>, the __transformers__ must implement `.fit()` and `.transform()` methods while the __estimator__ only needs to implement `.fit()`.\n",
    "\n",
    "The purpose of the pipeline is to assemble several steps that can be cross-validated together while setting different parameters. \n"
   ]
  },
  {
   "cell_type": "markdown",
   "metadata": {},
   "source": [
    "**Step 41** - Create a pipeline to perform scaling (with `MinMaxScaler`), feature selection (with `SelectKBest`) and hyperparameter tuning (with `GridSearchCV`) for a `RandomForestClassifier`."
   ]
  },
  {
   "cell_type": "code",
   "execution_count": 43,
   "metadata": {},
   "outputs": [
    {
     "name": "stdout",
     "output_type": "stream",
     "text": [
      "{'classifier__max_depth': 20, 'feature_selection__k': 3}\n",
      "0.3482055301020819\n"
     ]
    }
   ],
   "source": [
    "from sklearn.pipeline import Pipeline\n",
    "from sklearn.preprocessing import MinMaxScaler\n",
    "from sklearn.feature_selection import SelectKBest, f_classif\n",
    "from sklearn.ensemble import RandomForestClassifier\n",
    "from sklearn.model_selection import GridSearchCV\n",
    "\n",
    "\n",
    "pipe = Pipeline([\n",
    "    ('scaler', MinMaxScaler()),\n",
    "    ('feature_selection', SelectKBest(f_classif)),\n",
    "    ('classifier', RandomForestClassifier(random_state=5))\n",
    "    ])\n",
    "\n",
    "params = dict(\n",
    "    feature_selection__k=[2, 3, 4],\n",
    "    classifier__max_depth=[10, 20, 30]\n",
    "    ) \n",
    "\n",
    "grid_search = GridSearchCV(pipe, param_grid=params, scoring='f1', cv=6)\n",
    "gs = grid_search.fit(X_train, y_train)\n",
    "print(gs.best_params_)\n",
    "print(gs.best_score_)"
   ]
  },
  {
   "cell_type": "markdown",
   "metadata": {},
   "source": [
    "**Step 41.1** - Can call the `.best_estimator_` attribute to check the full features of the model."
   ]
  },
  {
   "cell_type": "code",
   "execution_count": 44,
   "metadata": {},
   "outputs": [
    {
     "name": "stdout",
     "output_type": "stream",
     "text": [
      "Pipeline(steps=[('scaler', MinMaxScaler()),\n",
      "                ('feature_selection', SelectKBest(k=3)),\n",
      "                ('classifier',\n",
      "                 RandomForestClassifier(max_depth=20, random_state=5))])\n"
     ]
    }
   ],
   "source": [
    "print(gs.best_estimator_)"
   ]
  },
  {
   "cell_type": "markdown",
   "metadata": {},
   "source": [
    "**Step 42** - Use pipeline result to classify `X_test` and measure the F1 score."
   ]
  },
  {
   "cell_type": "code",
   "execution_count": 45,
   "metadata": {},
   "outputs": [
    {
     "data": {
      "text/plain": [
       "0.2962962962962963"
      ]
     },
     "execution_count": 45,
     "metadata": {},
     "output_type": "execute_result"
    }
   ],
   "source": [
    "from sklearn.metrics import f1_score\n",
    "\n",
    "Y_pred = gs.predict(X_test)\n",
    "f1_score(y_test, Y_pred)"
   ]
  },
  {
   "cell_type": "markdown",
   "metadata": {},
   "source": [
    "In the example above there were no preprocessing because the dataset had it already, but you can use pipeline for the full CRISP-DM process.\n",
    "Lets now see an example how to test different scalers.\n",
    "\n",
    "**Step 43** - Adapt the previous pipeline to test wich is the most suitable scaler, `MinMaxScaler` or `StandardScaler`."
   ]
  },
  {
   "cell_type": "code",
   "execution_count": 46,
   "metadata": {},
   "outputs": [
    {
     "name": "stdout",
     "output_type": "stream",
     "text": [
      "[{'classifier__max_depth': 20, 'feature_selection__k': 3}, {'classifier__max_depth': 10, 'feature_selection__k': 3}]\n",
      "[0.3482055301020819, 0.35396936503258347]\n"
     ]
    }
   ],
   "source": [
    "from sklearn.preprocessing import StandardScaler\n",
    "\n",
    "scalers = {\"minmax\": MinMaxScaler(),\n",
    "           \"standard\": StandardScaler()\n",
    "          }\n",
    "\n",
    "args = []\n",
    "results = []\n",
    "clf =[]\n",
    "\n",
    "for scl in scalers.values():\n",
    "    pipe = Pipeline([\n",
    "    ('scaler', scl),\n",
    "    ('feature_selection', SelectKBest(f_classif)),\n",
    "    ('classifier', RandomForestClassifier(random_state=5))\n",
    "    ])\n",
    "\n",
    "    params = dict(\n",
    "        feature_selection__k=[2, 3, 4],\n",
    "        classifier__max_depth=[10, 20, 30]\n",
    "        ) \n",
    "\n",
    "    grid_search = GridSearchCV(pipe, param_grid=params, scoring='f1', cv=6)\n",
    "    gs = grid_search.fit(X_train, y_train)\n",
    "    args.append(gs.best_params_)\n",
    "    results.append(gs.best_score_)\n",
    "    clf.append(gs.best_estimator_)\n",
    "\n",
    "print(args)\n",
    "print(results)"
   ]
  },
  {
   "cell_type": "markdown",
   "metadata": {},
   "source": [
    "**Step 42** - Use the best classifier to classify `X_test` and measure the F1 score."
   ]
  },
  {
   "cell_type": "code",
   "execution_count": 47,
   "metadata": {},
   "outputs": [
    {
     "data": {
      "text/plain": [
       "0.2962962962962963"
      ]
     },
     "execution_count": 47,
     "metadata": {},
     "output_type": "execute_result"
    }
   ],
   "source": [
    "y_pred = clf[1].predict(X_test)\n",
    "f1_score(y_test, Y_pred)"
   ]
  },
  {
   "cell_type": "markdown",
   "metadata": {},
   "source": [
    "<b><font size=\"6\"> Don't forget to practice at home  &#128521;\n",
    "\n",
    "... Questions about the project? </font></b>\n",
    "You may always look for more information on the internet, here's an [example](https://michael-fuchs-python.netlify.app/2020/08/21/the-data-science-process-crisp-dm/). "
   ]
  }
 ],
 "metadata": {
  "colab": {
   "provenance": [
    {
     "file_id": "1uWAbivDT47KQIxW9I1iuZgg9nBwW2qqg",
     "timestamp": 1684603081545
    },
    {
     "file_id": "1RnQ3o1DRD0LhaXyl050C5BDFmWfSygS3",
     "timestamp": 1684601446754
    }
   ]
  },
  "kernelspec": {
   "display_name": "Python 3 (ipykernel)",
   "language": "python",
   "name": "python3"
  },
  "language_info": {
   "codemirror_mode": {
    "name": "ipython",
    "version": 3
   },
   "file_extension": ".py",
   "mimetype": "text/x-python",
   "name": "python",
   "nbconvert_exporter": "python",
   "pygments_lexer": "ipython3",
   "version": "3.11.7"
  },
  "varInspector": {
   "cols": {
    "lenName": 16,
    "lenType": 16,
    "lenVar": 40
   },
   "kernels_config": {
    "python": {
     "delete_cmd_postfix": "",
     "delete_cmd_prefix": "del ",
     "library": "var_list.py",
     "varRefreshCmd": "print(var_dic_list())"
    },
    "r": {
     "delete_cmd_postfix": ") ",
     "delete_cmd_prefix": "rm(",
     "library": "var_list.r",
     "varRefreshCmd": "cat(var_dic_list()) "
    }
   },
   "types_to_exclude": [
    "module",
    "function",
    "builtin_function_or_method",
    "instance",
    "_Feature"
   ],
   "window_display": false
  }
 },
 "nbformat": 4,
 "nbformat_minor": 1
}
